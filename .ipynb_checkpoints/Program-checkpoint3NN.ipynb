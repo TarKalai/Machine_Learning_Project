{
 "cells": [
  {
   "cell_type": "markdown",
   "metadata": {
    "id": "A7iUf-ffkyup"
   },
   "source": [
    "# INFO-F-422 -  Statistical Foundations of Machine Learning \n",
    "\n",
    "### De Vos Sebastien - __[Sebastien.De.Vos@ulb.be](mailto:sebastien.de.vos@ulb.be) - Student ID 459907__\n",
    "### Kalai Tarik - __[Tarik.Kalai@ulb.be](mailto:Tarik.Kalai@ulb.be) - Student ID 459631__\n",
    "### Rubas Diego - __[Diego.Rubas@ulb.be](mailto:diego.rubas@ulb.be) - Student ID 459733__\n",
    "\n",
    "### Video presentation: www.youtube.com/abcd1234\n",
    "\n",
    "## Flu Shot Learning: Predict H1N1 and Seasonal Flu Vaccines\n"
   ]
  },
  {
   "cell_type": "markdown",
   "metadata": {},
   "source": [
    "# Table of Contents\n",
    "\n",
    "* [Introduction](#Introduction)\n",
    "* [Exploratory Data Analysis](#Exploratory_Data_Analysis)\n",
    "    * [Data Loading](#Data_Loading)\n",
    "    * [Data Dimension](#Data_Dimension)\n",
    "    * [Data Preview](#Data_Preview)\n",
    "* [Data Preprocessing](#Data_Preprocessing)\n",
    "    * [Missing Value Imputation](#Missing_Value_Imputation)\n",
    "    * [Feature Engineering](#Feature_Engineering)\n",
    "    * [Feature Selection](#Feature_Selection)\n",
    "* [Model Selection](#Model_Selection)\n",
    "    * [Model 1: Linear Model](#Model_1_Linear_Model)\n",
    "    * [Model 2: Decision Tree](#Model_2_Decision_Tree)\n",
    "        [Model 2.1: Bossted Decision Tree](#Model_2_1_Boosted_Decision_Tree)\n",
    "    * [Model 3: Random Forest](#Model_3_Random_Forest)"
   ]
  },
  {
   "cell_type": "markdown",
   "metadata": {
    "id": "BknMGYOJkyu0"
   },
   "source": [
    "# Introduction <a class=\"anchor\" id=\"Introduction\"></a>\n",
    "\n",
    "4 different models will be used to predic if either a person received the h1n1 vaccine or/and the seasonnal flu vaccine.\n",
    "The four different models are: \n",
    "\n",
    "  * Linear Regression Model. \n",
    "  * Decision Tree Model.\n",
    "    * Boosted version.\n",
    "  * Random Forest.\n",
    "  * Neural Network.\n"
   ]
  },
  {
   "cell_type": "markdown",
   "metadata": {},
   "source": [
    "### Seed for the project"
   ]
  },
  {
   "cell_type": "code",
   "execution_count": 93,
   "metadata": {
    "vscode": {
     "languageId": "r"
    }
   },
   "outputs": [],
   "source": [
    "set.seed(12345)"
   ]
  },
  {
   "cell_type": "markdown",
   "metadata": {
    "id": "6gsGzIq1kyu2"
   },
   "source": [
    "# Exploratory Data Anaylsis <a class=\"anchor\" id=\"Exploratory_Data_Analysis\"></a>"
   ]
  },
  {
   "cell_type": "markdown",
   "metadata": {
    "id": "nQ2WjfsUkyu3"
   },
   "source": [
    "In this section we will be viewing and understanding the data. "
   ]
  },
  {
   "cell_type": "markdown",
   "metadata": {
    "id": "6KMnF3pisasz"
   },
   "source": [
    "## Data loading <a class=\"anchor\" id=\"Data_Loading\"></a>"
   ]
  },
  {
   "cell_type": "code",
   "execution_count": 113,
   "metadata": {
    "id": "EbjGzSlXsVQQ",
    "vscode": {
     "languageId": "r"
    }
   },
   "outputs": [],
   "source": [
    "training_set_features <- read.csv(\"sample_data/training_set_features.csv\", stringsAsFactors  = T)\n",
    "training_set_labels <- read.csv(\"sample_data/training_set_labels.csv\", stringsAsFactors  = T)\n",
    "test_set_features <- read.csv(\"sample_data/test_set_features.csv\", stringsAsFactors  = T)\n",
    "submission_format <- read.csv(\"sample_data/submission_format.csv\", stringsAsFactors  = T)\n"
   ]
  },
  {
   "cell_type": "markdown",
   "metadata": {
    "id": "Vgh9rPpcsITS"
   },
   "source": [
    "## Dimensions of the data samples. <a class=\"anchor\" id=\"Data_Dimension\"></a>\n",
    "\n",
    "We realised that the *training_set_labels* is the known prediction that will be used to train our models with the *training_set_features*.\n",
    "What will have to be uploaded on the DrivenData website is the prediction of the *test_set_features* which has to correspond to the format of *submission_format*. "
   ]
  },
  {
   "cell_type": "code",
   "execution_count": 114,
   "metadata": {
    "colab": {
     "base_uri": "https://localhost:8080/"
    },
    "id": "iJC79QYWnku5",
    "outputId": "d8bd1909-6c12-4098-801e-3bcf01a8332a",
    "vscode": {
     "languageId": "r"
    }
   },
   "outputs": [
    {
     "name": "stdout",
     "output_type": "stream",
     "text": [
      "dimension of training_set_features :  26707 36 \n",
      "dimension of training_set_labels:  26707 3 \n",
      "dimension of test_set_features:  26708 36 \n",
      "dimension of submission_format :  26708 3 \n"
     ]
    }
   ],
   "source": [
    "cat(\"dimension of training_set_features : \", dim(training_set_features), \"\\n\")\n",
    "cat(\"dimension of training_set_labels: \", dim(training_set_labels), \"\\n\")\n",
    "cat(\"dimension of test_set_features: \",  dim(test_set_features), \"\\n\")\n",
    "cat(\"dimension of submission_format : \", dim(submission_format), \"\\n\")"
   ]
  },
  {
   "cell_type": "markdown",
   "metadata": {
    "id": "DSUJ01Ltv3ct"
   },
   "source": [
    "## Data Preview <a class=\"anchor\" id=\"Data_Preview\"></a>"
   ]
  },
  {
   "cell_type": "code",
   "execution_count": 115,
   "metadata": {
    "vscode": {
     "languageId": "r"
    }
   },
   "outputs": [
    {
     "data": {
      "text/html": [
       "<table class=\"dataframe\">\n",
       "<caption>A data.frame: 6 × 36</caption>\n",
       "<thead>\n",
       "\t<tr><th></th><th scope=col>respondent_id</th><th scope=col>h1n1_concern</th><th scope=col>h1n1_knowledge</th><th scope=col>behavioral_antiviral_meds</th><th scope=col>behavioral_avoidance</th><th scope=col>behavioral_face_mask</th><th scope=col>behavioral_wash_hands</th><th scope=col>behavioral_large_gatherings</th><th scope=col>behavioral_outside_home</th><th scope=col>behavioral_touch_face</th><th scope=col>⋯</th><th scope=col>income_poverty</th><th scope=col>marital_status</th><th scope=col>rent_or_own</th><th scope=col>employment_status</th><th scope=col>hhs_geo_region</th><th scope=col>census_msa</th><th scope=col>household_adults</th><th scope=col>household_children</th><th scope=col>employment_industry</th><th scope=col>employment_occupation</th></tr>\n",
       "\t<tr><th></th><th scope=col>&lt;int&gt;</th><th scope=col>&lt;int&gt;</th><th scope=col>&lt;int&gt;</th><th scope=col>&lt;int&gt;</th><th scope=col>&lt;int&gt;</th><th scope=col>&lt;int&gt;</th><th scope=col>&lt;int&gt;</th><th scope=col>&lt;int&gt;</th><th scope=col>&lt;int&gt;</th><th scope=col>&lt;int&gt;</th><th scope=col>⋯</th><th scope=col>&lt;fct&gt;</th><th scope=col>&lt;fct&gt;</th><th scope=col>&lt;fct&gt;</th><th scope=col>&lt;fct&gt;</th><th scope=col>&lt;fct&gt;</th><th scope=col>&lt;fct&gt;</th><th scope=col>&lt;int&gt;</th><th scope=col>&lt;int&gt;</th><th scope=col>&lt;fct&gt;</th><th scope=col>&lt;fct&gt;</th></tr>\n",
       "</thead>\n",
       "<tbody>\n",
       "\t<tr><th scope=row>1</th><td>0</td><td>1</td><td>0</td><td>0</td><td>0</td><td>0</td><td>0</td><td>0</td><td>1</td><td>1</td><td>⋯</td><td>Below Poverty            </td><td>Not Married</td><td>Own </td><td>Not in Labor Force</td><td>oxchjgsf</td><td>Non-MSA                 </td><td>0</td><td>0</td><td>        </td><td>        </td></tr>\n",
       "\t<tr><th scope=row>2</th><td>1</td><td>3</td><td>2</td><td>0</td><td>1</td><td>0</td><td>1</td><td>0</td><td>1</td><td>1</td><td>⋯</td><td>Below Poverty            </td><td>Not Married</td><td>Rent</td><td>Employed          </td><td>bhuqouqj</td><td>MSA, Not Principle  City</td><td>0</td><td>0</td><td>pxcmvdjn</td><td>xgwztkwe</td></tr>\n",
       "\t<tr><th scope=row>3</th><td>2</td><td>1</td><td>1</td><td>0</td><td>1</td><td>0</td><td>0</td><td>0</td><td>0</td><td>0</td><td>⋯</td><td>&lt;= $75,000, Above Poverty</td><td>Not Married</td><td>Own </td><td><span style=white-space:pre-wrap>Employed          </span></td><td>qufhixun</td><td><span style=white-space:pre-wrap>MSA, Not Principle  City</span></td><td>2</td><td>0</td><td>rucpziij</td><td>xtkaffoo</td></tr>\n",
       "\t<tr><th scope=row>4</th><td>3</td><td>1</td><td>1</td><td>0</td><td>1</td><td>0</td><td>1</td><td>1</td><td>0</td><td>0</td><td>⋯</td><td>Below Poverty            </td><td>Not Married</td><td>Rent</td><td>Not in Labor Force</td><td>lrircsnp</td><td>MSA, Principle City     </td><td>0</td><td>0</td><td>        </td><td>        </td></tr>\n",
       "\t<tr><th scope=row>5</th><td>4</td><td>2</td><td>1</td><td>0</td><td>1</td><td>0</td><td>1</td><td>1</td><td>0</td><td>1</td><td>⋯</td><td>&lt;= $75,000, Above Poverty</td><td><span style=white-space:pre-wrap>Married    </span></td><td>Own </td><td><span style=white-space:pre-wrap>Employed          </span></td><td>qufhixun</td><td><span style=white-space:pre-wrap>MSA, Not Principle  City</span></td><td>1</td><td>0</td><td>wxleyezf</td><td>emcorrxb</td></tr>\n",
       "\t<tr><th scope=row>6</th><td>5</td><td>3</td><td>1</td><td>0</td><td>1</td><td>0</td><td>1</td><td>0</td><td>0</td><td>1</td><td>⋯</td><td>&lt;= $75,000, Above Poverty</td><td><span style=white-space:pre-wrap>Married    </span></td><td>Own </td><td><span style=white-space:pre-wrap>Employed          </span></td><td>atmpeygn</td><td><span style=white-space:pre-wrap>MSA, Principle City     </span></td><td>2</td><td>3</td><td>saaquncn</td><td>vlluhbov</td></tr>\n",
       "</tbody>\n",
       "</table>\n"
      ],
      "text/latex": [
       "A data.frame: 6 × 36\n",
       "\\begin{tabular}{r|lllllllllllllllllllll}\n",
       "  & respondent\\_id & h1n1\\_concern & h1n1\\_knowledge & behavioral\\_antiviral\\_meds & behavioral\\_avoidance & behavioral\\_face\\_mask & behavioral\\_wash\\_hands & behavioral\\_large\\_gatherings & behavioral\\_outside\\_home & behavioral\\_touch\\_face & ⋯ & income\\_poverty & marital\\_status & rent\\_or\\_own & employment\\_status & hhs\\_geo\\_region & census\\_msa & household\\_adults & household\\_children & employment\\_industry & employment\\_occupation\\\\\n",
       "  & <int> & <int> & <int> & <int> & <int> & <int> & <int> & <int> & <int> & <int> & ⋯ & <fct> & <fct> & <fct> & <fct> & <fct> & <fct> & <int> & <int> & <fct> & <fct>\\\\\n",
       "\\hline\n",
       "\t1 & 0 & 1 & 0 & 0 & 0 & 0 & 0 & 0 & 1 & 1 & ⋯ & Below Poverty             & Not Married & Own  & Not in Labor Force & oxchjgsf & Non-MSA                  & 0 & 0 &          &         \\\\\n",
       "\t2 & 1 & 3 & 2 & 0 & 1 & 0 & 1 & 0 & 1 & 1 & ⋯ & Below Poverty             & Not Married & Rent & Employed           & bhuqouqj & MSA, Not Principle  City & 0 & 0 & pxcmvdjn & xgwztkwe\\\\\n",
       "\t3 & 2 & 1 & 1 & 0 & 1 & 0 & 0 & 0 & 0 & 0 & ⋯ & <= \\$75,000, Above Poverty & Not Married & Own  & Employed           & qufhixun & MSA, Not Principle  City & 2 & 0 & rucpziij & xtkaffoo\\\\\n",
       "\t4 & 3 & 1 & 1 & 0 & 1 & 0 & 1 & 1 & 0 & 0 & ⋯ & Below Poverty             & Not Married & Rent & Not in Labor Force & lrircsnp & MSA, Principle City      & 0 & 0 &          &         \\\\\n",
       "\t5 & 4 & 2 & 1 & 0 & 1 & 0 & 1 & 1 & 0 & 1 & ⋯ & <= \\$75,000, Above Poverty & Married     & Own  & Employed           & qufhixun & MSA, Not Principle  City & 1 & 0 & wxleyezf & emcorrxb\\\\\n",
       "\t6 & 5 & 3 & 1 & 0 & 1 & 0 & 1 & 0 & 0 & 1 & ⋯ & <= \\$75,000, Above Poverty & Married     & Own  & Employed           & atmpeygn & MSA, Principle City      & 2 & 3 & saaquncn & vlluhbov\\\\\n",
       "\\end{tabular}\n"
      ],
      "text/markdown": [
       "\n",
       "A data.frame: 6 × 36\n",
       "\n",
       "| <!--/--> | respondent_id &lt;int&gt; | h1n1_concern &lt;int&gt; | h1n1_knowledge &lt;int&gt; | behavioral_antiviral_meds &lt;int&gt; | behavioral_avoidance &lt;int&gt; | behavioral_face_mask &lt;int&gt; | behavioral_wash_hands &lt;int&gt; | behavioral_large_gatherings &lt;int&gt; | behavioral_outside_home &lt;int&gt; | behavioral_touch_face &lt;int&gt; | ⋯ ⋯ | income_poverty &lt;fct&gt; | marital_status &lt;fct&gt; | rent_or_own &lt;fct&gt; | employment_status &lt;fct&gt; | hhs_geo_region &lt;fct&gt; | census_msa &lt;fct&gt; | household_adults &lt;int&gt; | household_children &lt;int&gt; | employment_industry &lt;fct&gt; | employment_occupation &lt;fct&gt; |\n",
       "|---|---|---|---|---|---|---|---|---|---|---|---|---|---|---|---|---|---|---|---|---|---|\n",
       "| 1 | 0 | 1 | 0 | 0 | 0 | 0 | 0 | 0 | 1 | 1 | ⋯ | Below Poverty             | Not Married | Own  | Not in Labor Force | oxchjgsf | Non-MSA                  | 0 | 0 | <!----> | <!----> |\n",
       "| 2 | 1 | 3 | 2 | 0 | 1 | 0 | 1 | 0 | 1 | 1 | ⋯ | Below Poverty             | Not Married | Rent | Employed           | bhuqouqj | MSA, Not Principle  City | 0 | 0 | pxcmvdjn | xgwztkwe |\n",
       "| 3 | 2 | 1 | 1 | 0 | 1 | 0 | 0 | 0 | 0 | 0 | ⋯ | &lt;= $75,000, Above Poverty | Not Married | Own  | Employed           | qufhixun | MSA, Not Principle  City | 2 | 0 | rucpziij | xtkaffoo |\n",
       "| 4 | 3 | 1 | 1 | 0 | 1 | 0 | 1 | 1 | 0 | 0 | ⋯ | Below Poverty             | Not Married | Rent | Not in Labor Force | lrircsnp | MSA, Principle City      | 0 | 0 | <!----> | <!----> |\n",
       "| 5 | 4 | 2 | 1 | 0 | 1 | 0 | 1 | 1 | 0 | 1 | ⋯ | &lt;= $75,000, Above Poverty | Married     | Own  | Employed           | qufhixun | MSA, Not Principle  City | 1 | 0 | wxleyezf | emcorrxb |\n",
       "| 6 | 5 | 3 | 1 | 0 | 1 | 0 | 1 | 0 | 0 | 1 | ⋯ | &lt;= $75,000, Above Poverty | Married     | Own  | Employed           | atmpeygn | MSA, Principle City      | 2 | 3 | saaquncn | vlluhbov |\n",
       "\n"
      ],
      "text/plain": [
       "  respondent_id h1n1_concern h1n1_knowledge behavioral_antiviral_meds\n",
       "1 0             1            0              0                        \n",
       "2 1             3            2              0                        \n",
       "3 2             1            1              0                        \n",
       "4 3             1            1              0                        \n",
       "5 4             2            1              0                        \n",
       "6 5             3            1              0                        \n",
       "  behavioral_avoidance behavioral_face_mask behavioral_wash_hands\n",
       "1 0                    0                    0                    \n",
       "2 1                    0                    1                    \n",
       "3 1                    0                    0                    \n",
       "4 1                    0                    1                    \n",
       "5 1                    0                    1                    \n",
       "6 1                    0                    1                    \n",
       "  behavioral_large_gatherings behavioral_outside_home behavioral_touch_face ⋯\n",
       "1 0                           1                       1                     ⋯\n",
       "2 0                           1                       1                     ⋯\n",
       "3 0                           0                       0                     ⋯\n",
       "4 1                           0                       0                     ⋯\n",
       "5 1                           0                       1                     ⋯\n",
       "6 0                           0                       1                     ⋯\n",
       "  income_poverty            marital_status rent_or_own employment_status \n",
       "1 Below Poverty             Not Married    Own         Not in Labor Force\n",
       "2 Below Poverty             Not Married    Rent        Employed          \n",
       "3 <= $75,000, Above Poverty Not Married    Own         Employed          \n",
       "4 Below Poverty             Not Married    Rent        Not in Labor Force\n",
       "5 <= $75,000, Above Poverty Married        Own         Employed          \n",
       "6 <= $75,000, Above Poverty Married        Own         Employed          \n",
       "  hhs_geo_region census_msa               household_adults household_children\n",
       "1 oxchjgsf       Non-MSA                  0                0                 \n",
       "2 bhuqouqj       MSA, Not Principle  City 0                0                 \n",
       "3 qufhixun       MSA, Not Principle  City 2                0                 \n",
       "4 lrircsnp       MSA, Principle City      0                0                 \n",
       "5 qufhixun       MSA, Not Principle  City 1                0                 \n",
       "6 atmpeygn       MSA, Principle City      2                3                 \n",
       "  employment_industry employment_occupation\n",
       "1                                          \n",
       "2 pxcmvdjn            xgwztkwe             \n",
       "3 rucpziij            xtkaffoo             \n",
       "4                                          \n",
       "5 wxleyezf            emcorrxb             \n",
       "6 saaquncn            vlluhbov             "
      ]
     },
     "metadata": {},
     "output_type": "display_data"
    },
    {
     "data": {
      "text/html": [
       "<table class=\"dataframe\">\n",
       "<caption>A data.frame: 6 × 3</caption>\n",
       "<thead>\n",
       "\t<tr><th></th><th scope=col>respondent_id</th><th scope=col>h1n1_vaccine</th><th scope=col>seasonal_vaccine</th></tr>\n",
       "\t<tr><th></th><th scope=col>&lt;int&gt;</th><th scope=col>&lt;int&gt;</th><th scope=col>&lt;int&gt;</th></tr>\n",
       "</thead>\n",
       "<tbody>\n",
       "\t<tr><th scope=row>1</th><td>0</td><td>0</td><td>0</td></tr>\n",
       "\t<tr><th scope=row>2</th><td>1</td><td>0</td><td>1</td></tr>\n",
       "\t<tr><th scope=row>3</th><td>2</td><td>0</td><td>0</td></tr>\n",
       "\t<tr><th scope=row>4</th><td>3</td><td>0</td><td>1</td></tr>\n",
       "\t<tr><th scope=row>5</th><td>4</td><td>0</td><td>0</td></tr>\n",
       "\t<tr><th scope=row>6</th><td>5</td><td>0</td><td>0</td></tr>\n",
       "</tbody>\n",
       "</table>\n"
      ],
      "text/latex": [
       "A data.frame: 6 × 3\n",
       "\\begin{tabular}{r|lll}\n",
       "  & respondent\\_id & h1n1\\_vaccine & seasonal\\_vaccine\\\\\n",
       "  & <int> & <int> & <int>\\\\\n",
       "\\hline\n",
       "\t1 & 0 & 0 & 0\\\\\n",
       "\t2 & 1 & 0 & 1\\\\\n",
       "\t3 & 2 & 0 & 0\\\\\n",
       "\t4 & 3 & 0 & 1\\\\\n",
       "\t5 & 4 & 0 & 0\\\\\n",
       "\t6 & 5 & 0 & 0\\\\\n",
       "\\end{tabular}\n"
      ],
      "text/markdown": [
       "\n",
       "A data.frame: 6 × 3\n",
       "\n",
       "| <!--/--> | respondent_id &lt;int&gt; | h1n1_vaccine &lt;int&gt; | seasonal_vaccine &lt;int&gt; |\n",
       "|---|---|---|---|\n",
       "| 1 | 0 | 0 | 0 |\n",
       "| 2 | 1 | 0 | 1 |\n",
       "| 3 | 2 | 0 | 0 |\n",
       "| 4 | 3 | 0 | 1 |\n",
       "| 5 | 4 | 0 | 0 |\n",
       "| 6 | 5 | 0 | 0 |\n",
       "\n"
      ],
      "text/plain": [
       "  respondent_id h1n1_vaccine seasonal_vaccine\n",
       "1 0             0            0               \n",
       "2 1             0            1               \n",
       "3 2             0            0               \n",
       "4 3             0            1               \n",
       "5 4             0            0               \n",
       "6 5             0            0               "
      ]
     },
     "metadata": {},
     "output_type": "display_data"
    },
    {
     "data": {
      "text/html": [
       "<table class=\"dataframe\">\n",
       "<caption>A data.frame: 6 × 36</caption>\n",
       "<thead>\n",
       "\t<tr><th></th><th scope=col>respondent_id</th><th scope=col>h1n1_concern</th><th scope=col>h1n1_knowledge</th><th scope=col>behavioral_antiviral_meds</th><th scope=col>behavioral_avoidance</th><th scope=col>behavioral_face_mask</th><th scope=col>behavioral_wash_hands</th><th scope=col>behavioral_large_gatherings</th><th scope=col>behavioral_outside_home</th><th scope=col>behavioral_touch_face</th><th scope=col>⋯</th><th scope=col>income_poverty</th><th scope=col>marital_status</th><th scope=col>rent_or_own</th><th scope=col>employment_status</th><th scope=col>hhs_geo_region</th><th scope=col>census_msa</th><th scope=col>household_adults</th><th scope=col>household_children</th><th scope=col>employment_industry</th><th scope=col>employment_occupation</th></tr>\n",
       "\t<tr><th></th><th scope=col>&lt;int&gt;</th><th scope=col>&lt;int&gt;</th><th scope=col>&lt;int&gt;</th><th scope=col>&lt;int&gt;</th><th scope=col>&lt;int&gt;</th><th scope=col>&lt;int&gt;</th><th scope=col>&lt;int&gt;</th><th scope=col>&lt;int&gt;</th><th scope=col>&lt;int&gt;</th><th scope=col>&lt;int&gt;</th><th scope=col>⋯</th><th scope=col>&lt;fct&gt;</th><th scope=col>&lt;fct&gt;</th><th scope=col>&lt;fct&gt;</th><th scope=col>&lt;fct&gt;</th><th scope=col>&lt;fct&gt;</th><th scope=col>&lt;fct&gt;</th><th scope=col>&lt;int&gt;</th><th scope=col>&lt;int&gt;</th><th scope=col>&lt;fct&gt;</th><th scope=col>&lt;fct&gt;</th></tr>\n",
       "</thead>\n",
       "<tbody>\n",
       "\t<tr><th scope=row>1</th><td>26707</td><td>2</td><td>2</td><td>0</td><td>1</td><td>0</td><td>1</td><td>1</td><td>0</td><td>1</td><td>⋯</td><td><span style=white-space:pre-wrap>&gt; $75,000                </span></td><td>Not Married</td><td>Rent</td><td><span style=white-space:pre-wrap>Employed          </span></td><td>mlyzmhmf</td><td><span style=white-space:pre-wrap>MSA, Not Principle  City</span></td><td>1</td><td>0</td><td>atmlpfrs</td><td>hfxkjkmi</td></tr>\n",
       "\t<tr><th scope=row>2</th><td>26708</td><td>1</td><td>1</td><td>0</td><td>0</td><td>0</td><td>0</td><td>0</td><td>0</td><td>0</td><td>⋯</td><td>Below Poverty            </td><td>Not Married</td><td>Rent</td><td>Employed          </td><td>bhuqouqj</td><td>Non-MSA                 </td><td>3</td><td>0</td><td>atmlpfrs</td><td>xqwwgdyp</td></tr>\n",
       "\t<tr><th scope=row>3</th><td>26709</td><td>2</td><td>2</td><td>0</td><td>0</td><td>1</td><td>1</td><td>1</td><td>1</td><td>1</td><td>⋯</td><td><span style=white-space:pre-wrap>&gt; $75,000                </span></td><td><span style=white-space:pre-wrap>Married    </span></td><td>Own </td><td><span style=white-space:pre-wrap>Employed          </span></td><td>lrircsnp</td><td><span style=white-space:pre-wrap>Non-MSA                 </span></td><td>1</td><td>0</td><td>nduyfdeo</td><td>pvmttkik</td></tr>\n",
       "\t<tr><th scope=row>4</th><td>26710</td><td>1</td><td>1</td><td>0</td><td>0</td><td>0</td><td>0</td><td>0</td><td>0</td><td>0</td><td>⋯</td><td>&lt;= $75,000, Above Poverty</td><td><span style=white-space:pre-wrap>Married    </span></td><td>Own </td><td>Not in Labor Force</td><td>lrircsnp</td><td><span style=white-space:pre-wrap>MSA, Not Principle  City</span></td><td>1</td><td>0</td><td><span style=white-space:pre-wrap>        </span></td><td><span style=white-space:pre-wrap>        </span></td></tr>\n",
       "\t<tr><th scope=row>5</th><td>26711</td><td>3</td><td>1</td><td>1</td><td>1</td><td>0</td><td>1</td><td>1</td><td>1</td><td>1</td><td>⋯</td><td>&lt;= $75,000, Above Poverty</td><td>Not Married</td><td>Own </td><td><span style=white-space:pre-wrap>Employed          </span></td><td>lzgpxyit</td><td><span style=white-space:pre-wrap>Non-MSA                 </span></td><td>0</td><td>1</td><td>fcxhlnwr</td><td>mxkfnird</td></tr>\n",
       "\t<tr><th scope=row>6</th><td>26712</td><td>2</td><td>2</td><td>0</td><td>1</td><td>0</td><td>1</td><td>1</td><td>0</td><td>1</td><td>⋯</td><td><span style=white-space:pre-wrap>&gt; $75,000                </span></td><td>Not Married</td><td>Own </td><td><span style=white-space:pre-wrap>Employed          </span></td><td>mlyzmhmf</td><td><span style=white-space:pre-wrap>MSA, Principle City     </span></td><td>0</td><td>2</td><td>fcxhlnwr</td><td>cmhcxjea</td></tr>\n",
       "</tbody>\n",
       "</table>\n"
      ],
      "text/latex": [
       "A data.frame: 6 × 36\n",
       "\\begin{tabular}{r|lllllllllllllllllllll}\n",
       "  & respondent\\_id & h1n1\\_concern & h1n1\\_knowledge & behavioral\\_antiviral\\_meds & behavioral\\_avoidance & behavioral\\_face\\_mask & behavioral\\_wash\\_hands & behavioral\\_large\\_gatherings & behavioral\\_outside\\_home & behavioral\\_touch\\_face & ⋯ & income\\_poverty & marital\\_status & rent\\_or\\_own & employment\\_status & hhs\\_geo\\_region & census\\_msa & household\\_adults & household\\_children & employment\\_industry & employment\\_occupation\\\\\n",
       "  & <int> & <int> & <int> & <int> & <int> & <int> & <int> & <int> & <int> & <int> & ⋯ & <fct> & <fct> & <fct> & <fct> & <fct> & <fct> & <int> & <int> & <fct> & <fct>\\\\\n",
       "\\hline\n",
       "\t1 & 26707 & 2 & 2 & 0 & 1 & 0 & 1 & 1 & 0 & 1 & ⋯ & > \\$75,000                 & Not Married & Rent & Employed           & mlyzmhmf & MSA, Not Principle  City & 1 & 0 & atmlpfrs & hfxkjkmi\\\\\n",
       "\t2 & 26708 & 1 & 1 & 0 & 0 & 0 & 0 & 0 & 0 & 0 & ⋯ & Below Poverty             & Not Married & Rent & Employed           & bhuqouqj & Non-MSA                  & 3 & 0 & atmlpfrs & xqwwgdyp\\\\\n",
       "\t3 & 26709 & 2 & 2 & 0 & 0 & 1 & 1 & 1 & 1 & 1 & ⋯ & > \\$75,000                 & Married     & Own  & Employed           & lrircsnp & Non-MSA                  & 1 & 0 & nduyfdeo & pvmttkik\\\\\n",
       "\t4 & 26710 & 1 & 1 & 0 & 0 & 0 & 0 & 0 & 0 & 0 & ⋯ & <= \\$75,000, Above Poverty & Married     & Own  & Not in Labor Force & lrircsnp & MSA, Not Principle  City & 1 & 0 &          &         \\\\\n",
       "\t5 & 26711 & 3 & 1 & 1 & 1 & 0 & 1 & 1 & 1 & 1 & ⋯ & <= \\$75,000, Above Poverty & Not Married & Own  & Employed           & lzgpxyit & Non-MSA                  & 0 & 1 & fcxhlnwr & mxkfnird\\\\\n",
       "\t6 & 26712 & 2 & 2 & 0 & 1 & 0 & 1 & 1 & 0 & 1 & ⋯ & > \\$75,000                 & Not Married & Own  & Employed           & mlyzmhmf & MSA, Principle City      & 0 & 2 & fcxhlnwr & cmhcxjea\\\\\n",
       "\\end{tabular}\n"
      ],
      "text/markdown": [
       "\n",
       "A data.frame: 6 × 36\n",
       "\n",
       "| <!--/--> | respondent_id &lt;int&gt; | h1n1_concern &lt;int&gt; | h1n1_knowledge &lt;int&gt; | behavioral_antiviral_meds &lt;int&gt; | behavioral_avoidance &lt;int&gt; | behavioral_face_mask &lt;int&gt; | behavioral_wash_hands &lt;int&gt; | behavioral_large_gatherings &lt;int&gt; | behavioral_outside_home &lt;int&gt; | behavioral_touch_face &lt;int&gt; | ⋯ ⋯ | income_poverty &lt;fct&gt; | marital_status &lt;fct&gt; | rent_or_own &lt;fct&gt; | employment_status &lt;fct&gt; | hhs_geo_region &lt;fct&gt; | census_msa &lt;fct&gt; | household_adults &lt;int&gt; | household_children &lt;int&gt; | employment_industry &lt;fct&gt; | employment_occupation &lt;fct&gt; |\n",
       "|---|---|---|---|---|---|---|---|---|---|---|---|---|---|---|---|---|---|---|---|---|---|\n",
       "| 1 | 26707 | 2 | 2 | 0 | 1 | 0 | 1 | 1 | 0 | 1 | ⋯ | &gt; $75,000                 | Not Married | Rent | Employed           | mlyzmhmf | MSA, Not Principle  City | 1 | 0 | atmlpfrs | hfxkjkmi |\n",
       "| 2 | 26708 | 1 | 1 | 0 | 0 | 0 | 0 | 0 | 0 | 0 | ⋯ | Below Poverty             | Not Married | Rent | Employed           | bhuqouqj | Non-MSA                  | 3 | 0 | atmlpfrs | xqwwgdyp |\n",
       "| 3 | 26709 | 2 | 2 | 0 | 0 | 1 | 1 | 1 | 1 | 1 | ⋯ | &gt; $75,000                 | Married     | Own  | Employed           | lrircsnp | Non-MSA                  | 1 | 0 | nduyfdeo | pvmttkik |\n",
       "| 4 | 26710 | 1 | 1 | 0 | 0 | 0 | 0 | 0 | 0 | 0 | ⋯ | &lt;= $75,000, Above Poverty | Married     | Own  | Not in Labor Force | lrircsnp | MSA, Not Principle  City | 1 | 0 | <!----> | <!----> |\n",
       "| 5 | 26711 | 3 | 1 | 1 | 1 | 0 | 1 | 1 | 1 | 1 | ⋯ | &lt;= $75,000, Above Poverty | Not Married | Own  | Employed           | lzgpxyit | Non-MSA                  | 0 | 1 | fcxhlnwr | mxkfnird |\n",
       "| 6 | 26712 | 2 | 2 | 0 | 1 | 0 | 1 | 1 | 0 | 1 | ⋯ | &gt; $75,000                 | Not Married | Own  | Employed           | mlyzmhmf | MSA, Principle City      | 0 | 2 | fcxhlnwr | cmhcxjea |\n",
       "\n"
      ],
      "text/plain": [
       "  respondent_id h1n1_concern h1n1_knowledge behavioral_antiviral_meds\n",
       "1 26707         2            2              0                        \n",
       "2 26708         1            1              0                        \n",
       "3 26709         2            2              0                        \n",
       "4 26710         1            1              0                        \n",
       "5 26711         3            1              1                        \n",
       "6 26712         2            2              0                        \n",
       "  behavioral_avoidance behavioral_face_mask behavioral_wash_hands\n",
       "1 1                    0                    1                    \n",
       "2 0                    0                    0                    \n",
       "3 0                    1                    1                    \n",
       "4 0                    0                    0                    \n",
       "5 1                    0                    1                    \n",
       "6 1                    0                    1                    \n",
       "  behavioral_large_gatherings behavioral_outside_home behavioral_touch_face ⋯\n",
       "1 1                           0                       1                     ⋯\n",
       "2 0                           0                       0                     ⋯\n",
       "3 1                           1                       1                     ⋯\n",
       "4 0                           0                       0                     ⋯\n",
       "5 1                           1                       1                     ⋯\n",
       "6 1                           0                       1                     ⋯\n",
       "  income_poverty            marital_status rent_or_own employment_status \n",
       "1 > $75,000                 Not Married    Rent        Employed          \n",
       "2 Below Poverty             Not Married    Rent        Employed          \n",
       "3 > $75,000                 Married        Own         Employed          \n",
       "4 <= $75,000, Above Poverty Married        Own         Not in Labor Force\n",
       "5 <= $75,000, Above Poverty Not Married    Own         Employed          \n",
       "6 > $75,000                 Not Married    Own         Employed          \n",
       "  hhs_geo_region census_msa               household_adults household_children\n",
       "1 mlyzmhmf       MSA, Not Principle  City 1                0                 \n",
       "2 bhuqouqj       Non-MSA                  3                0                 \n",
       "3 lrircsnp       Non-MSA                  1                0                 \n",
       "4 lrircsnp       MSA, Not Principle  City 1                0                 \n",
       "5 lzgpxyit       Non-MSA                  0                1                 \n",
       "6 mlyzmhmf       MSA, Principle City      0                2                 \n",
       "  employment_industry employment_occupation\n",
       "1 atmlpfrs            hfxkjkmi             \n",
       "2 atmlpfrs            xqwwgdyp             \n",
       "3 nduyfdeo            pvmttkik             \n",
       "4                                          \n",
       "5 fcxhlnwr            mxkfnird             \n",
       "6 fcxhlnwr            cmhcxjea             "
      ]
     },
     "metadata": {},
     "output_type": "display_data"
    }
   ],
   "source": [
    "head(training_set_features)\n",
    "head(training_set_labels)\n",
    "head(test_set_features)"
   ]
  },
  {
   "cell_type": "code",
   "execution_count": 117,
   "metadata": {
    "scrolled": true
   },
   "outputs": [
    {
     "data": {
      "image/png": "[encoded data removed]",
      "text/plain": [
       "Plot with title \"Proportion of seasonal vaccine\""
      ]
     },
     "metadata": {
      "image/png": {
       "height": 600,
       "width": 1200
      }
     },
     "output_type": "display_data"
    }
   ],
   "source": [
    "par(mfrow=c(2,2))\n",
    "h1n1 <- data.frame(training_set_features[2:length(training_set_features)], training_set_labels[2]) \n",
    "barplot(table(h1n1[,\"h1n1_vaccine\"]),col = \"black\", main = \"Proportion of h1n1 vaccine\", names.arg = c(\"non-vaccinated\", \"vaccinated\"), beside=TRUE)\n",
    "\n",
    "seasonal <- data.frame(training_set_features[2:length(training_set_features)], training_set_labels[3]) \n",
    "barplot(table(seasonnal_flu[,\"seasonal_vaccine\"]),col = \"black\", main = \"Proportion of seasonal vaccine\", names.arg = c(\"non-vaccinated\", \"vaccinated\"), beside=TRUE)\n",
    "\n",
    "#We see that we have Unbalanced data. \n"
   ]
  },
  {
   "cell_type": "code",
   "execution_count": 98,
   "metadata": {
    "id": "uKeHb6pcnOlW",
    "vscode": {
     "languageId": "r"
    }
   },
   "outputs": [],
   "source": [
    "cleanData <- function(x) {\n",
    "    for (i in 2:22) {\n",
    "        x <- transform_na(x, i)\n",
    "    }\n",
    "    return(x)\n",
    "}\n",
    "\n",
    "transform_na <- function(x, index){\n",
    "    if (length(which(is.na(x[,index]))) > 0){ #Check if there is any NA in the column\n",
    "            mean_ts <- mean(x[,index], na.rm = T) #compute old_mean\n",
    "            sd_ts <- sqrt(var(x[,index], na.rm = T)) #compute old_sd\n",
    "            x[is.na(x[,index]), index] <- round(mean_ts + sd_ts/2) #modify the data\n",
    "        }\n",
    "    return(x)\n",
    "}\n",
    "\n",
    "norm<-function(x){\n",
    "    return( (x-min(x)) / (max(x)-min(x)) )\n",
    "}\n",
    "\n",
    "one_hot_encoding <- function(x, index) {\n",
    "    names <- levels(x[,index]) # get the names of all the possible different values\n",
    "    new_col <- model.matrix(~0+x[,index]) # transforms the column in a matrix with a '1' in the correct column and '0' otherwise\n",
    "    attr(new_col, \"dimnames\")[[2]] <- names\n",
    "    new_col <- as.data.frame(new_col)\n",
    "    x <- data.frame(x[1:index-1],new_col,x[(index+1):ncol(x)])\n",
    "    return(x)\n",
    "}\n",
    "\n",
    "cast_into_double <- function(x){\n",
    "    for (i in 2:length(x)){\n",
    "        x[,i] <- as.numeric(x[,i])\n",
    "    }\n",
    "    return(x)\n",
    "}"
   ]
  },
  {
   "cell_type": "markdown",
   "metadata": {},
   "source": [
    "\n",
    "## Data Processing for each feature<a class=\"anchor\" id=\"Data_Processing_For_Each_Feature\"></a>\n",
    "\n",
    "The data was handled as follows: \n",
    "\n",
    "* feature 1: This feature is used as id and does not need any cleaning. \n",
    "* feature 2 -> 22, 33, 34: These features are integers,the only subtlety was that \"NA\" values needed to be replaced. \n",
    "* features 23, 24, 27 : As there was ordering in this data, integer encoding was applied to it.\n",
    "* features 25, 26, 28, 29, 30, 32 : For these categorical features, one hot encoding was applied.\n",
    "* features 31, 35, 36: These features were considered useless (too many missing values). \n",
    "\n",
    "The data sorting function is general so it can be applied to the *test_set_features*. "
   ]
  },
  {
   "cell_type": "code",
   "execution_count": 118,
   "metadata": {
    "vscode": {
     "languageId": "r"
    }
   },
   "outputs": [
    {
     "name": "stdout",
     "output_type": "stream",
     "text": [
      "Preview of the training_set_feature: \n"
     ]
    },
    {
     "data": {
      "text/html": [
       "<table class=\"dataframe\">\n",
       "<caption>A data.frame: 6 × 11</caption>\n",
       "<thead>\n",
       "\t<tr><th></th><th scope=col>opinion_seas_vacc_effective</th><th scope=col>opinion_seas_risk</th><th scope=col>opinion_seas_sick_from_vacc</th><th scope=col>age_group</th><th scope=col>education</th><th scope=col>Black</th><th scope=col>Hispanic</th><th scope=col>Other.or.Multiple</th><th scope=col>White</th><th scope=col>Female</th><th scope=col>Male</th></tr>\n",
       "\t<tr><th></th><th scope=col>&lt;dbl&gt;</th><th scope=col>&lt;dbl&gt;</th><th scope=col>&lt;dbl&gt;</th><th scope=col>&lt;dbl&gt;</th><th scope=col>&lt;dbl&gt;</th><th scope=col>&lt;dbl&gt;</th><th scope=col>&lt;dbl&gt;</th><th scope=col>&lt;dbl&gt;</th><th scope=col>&lt;dbl&gt;</th><th scope=col>&lt;dbl&gt;</th><th scope=col>&lt;dbl&gt;</th></tr>\n",
       "</thead>\n",
       "<tbody>\n",
       "\t<tr><th scope=row>1</th><td>0.25</td><td>0.00</td><td>0.25</td><td>0.75</td><td>0.25</td><td>0</td><td>0</td><td>0</td><td>1</td><td>1</td><td>0</td></tr>\n",
       "\t<tr><th scope=row>2</th><td>0.75</td><td>0.25</td><td>0.75</td><td>0.25</td><td>0.50</td><td>0</td><td>0</td><td>0</td><td>1</td><td>0</td><td>1</td></tr>\n",
       "\t<tr><th scope=row>3</th><td>0.75</td><td>0.00</td><td>0.25</td><td>0.00</td><td>0.75</td><td>0</td><td>0</td><td>0</td><td>1</td><td>0</td><td>1</td></tr>\n",
       "\t<tr><th scope=row>4</th><td>1.00</td><td>0.75</td><td>0.00</td><td>1.00</td><td>0.50</td><td>0</td><td>0</td><td>0</td><td>1</td><td>1</td><td>0</td></tr>\n",
       "\t<tr><th scope=row>5</th><td>0.50</td><td>0.00</td><td>0.75</td><td>0.50</td><td>1.00</td><td>0</td><td>0</td><td>0</td><td>1</td><td>1</td><td>0</td></tr>\n",
       "\t<tr><th scope=row>6</th><td>1.00</td><td>0.75</td><td>0.75</td><td>1.00</td><td>0.50</td><td>0</td><td>0</td><td>0</td><td>1</td><td>0</td><td>1</td></tr>\n",
       "</tbody>\n",
       "</table>\n"
      ],
      "text/latex": [
       "A data.frame: 6 × 11\n",
       "\\begin{tabular}{r|lllllllllll}\n",
       "  & opinion\\_seas\\_vacc\\_effective & opinion\\_seas\\_risk & opinion\\_seas\\_sick\\_from\\_vacc & age\\_group & education & Black & Hispanic & Other.or.Multiple & White & Female & Male\\\\\n",
       "  & <dbl> & <dbl> & <dbl> & <dbl> & <dbl> & <dbl> & <dbl> & <dbl> & <dbl> & <dbl> & <dbl>\\\\\n",
       "\\hline\n",
       "\t1 & 0.25 & 0.00 & 0.25 & 0.75 & 0.25 & 0 & 0 & 0 & 1 & 1 & 0\\\\\n",
       "\t2 & 0.75 & 0.25 & 0.75 & 0.25 & 0.50 & 0 & 0 & 0 & 1 & 0 & 1\\\\\n",
       "\t3 & 0.75 & 0.00 & 0.25 & 0.00 & 0.75 & 0 & 0 & 0 & 1 & 0 & 1\\\\\n",
       "\t4 & 1.00 & 0.75 & 0.00 & 1.00 & 0.50 & 0 & 0 & 0 & 1 & 1 & 0\\\\\n",
       "\t5 & 0.50 & 0.00 & 0.75 & 0.50 & 1.00 & 0 & 0 & 0 & 1 & 1 & 0\\\\\n",
       "\t6 & 1.00 & 0.75 & 0.75 & 1.00 & 0.50 & 0 & 0 & 0 & 1 & 0 & 1\\\\\n",
       "\\end{tabular}\n"
      ],
      "text/markdown": [
       "\n",
       "A data.frame: 6 × 11\n",
       "\n",
       "| <!--/--> | opinion_seas_vacc_effective &lt;dbl&gt; | opinion_seas_risk &lt;dbl&gt; | opinion_seas_sick_from_vacc &lt;dbl&gt; | age_group &lt;dbl&gt; | education &lt;dbl&gt; | Black &lt;dbl&gt; | Hispanic &lt;dbl&gt; | Other.or.Multiple &lt;dbl&gt; | White &lt;dbl&gt; | Female &lt;dbl&gt; | Male &lt;dbl&gt; |\n",
       "|---|---|---|---|---|---|---|---|---|---|---|---|\n",
       "| 1 | 0.25 | 0.00 | 0.25 | 0.75 | 0.25 | 0 | 0 | 0 | 1 | 1 | 0 |\n",
       "| 2 | 0.75 | 0.25 | 0.75 | 0.25 | 0.50 | 0 | 0 | 0 | 1 | 0 | 1 |\n",
       "| 3 | 0.75 | 0.00 | 0.25 | 0.00 | 0.75 | 0 | 0 | 0 | 1 | 0 | 1 |\n",
       "| 4 | 1.00 | 0.75 | 0.00 | 1.00 | 0.50 | 0 | 0 | 0 | 1 | 1 | 0 |\n",
       "| 5 | 0.50 | 0.00 | 0.75 | 0.50 | 1.00 | 0 | 0 | 0 | 1 | 1 | 0 |\n",
       "| 6 | 1.00 | 0.75 | 0.75 | 1.00 | 0.50 | 0 | 0 | 0 | 1 | 0 | 1 |\n",
       "\n"
      ],
      "text/plain": [
       "  opinion_seas_vacc_effective opinion_seas_risk opinion_seas_sick_from_vacc\n",
       "1 0.25                        0.00              0.25                       \n",
       "2 0.75                        0.25              0.75                       \n",
       "3 0.75                        0.00              0.25                       \n",
       "4 1.00                        0.75              0.00                       \n",
       "5 0.50                        0.00              0.75                       \n",
       "6 1.00                        0.75              0.75                       \n",
       "  age_group education Black Hispanic Other.or.Multiple White Female Male\n",
       "1 0.75      0.25      0     0        0                 1     1      0   \n",
       "2 0.25      0.50      0     0        0                 1     0      1   \n",
       "3 0.00      0.75      0     0        0                 1     0      1   \n",
       "4 1.00      0.50      0     0        0                 1     1      0   \n",
       "5 0.50      1.00      0     0        0                 1     1      0   \n",
       "6 1.00      0.50      0     0        0                 1     0      1   "
      ]
     },
     "metadata": {},
     "output_type": "display_data"
    },
    {
     "name": "stdout",
     "output_type": "stream",
     "text": [
      "Dimension of training_set_feature: \n"
     ]
    },
    {
     "data": {
      "text/html": [
       "<style>\n",
       ".list-inline {list-style: none; margin:0; padding: 0}\n",
       ".list-inline>li {display: inline-block}\n",
       ".list-inline>li:not(:last-child)::after {content: \"\\00b7\"; padding: 0 .5ex}\n",
       "</style>\n",
       "<ol class=list-inline><li>26707</li><li>46</li></ol>\n"
      ],
      "text/latex": [
       "\\begin{enumerate*}\n",
       "\\item 26707\n",
       "\\item 46\n",
       "\\end{enumerate*}\n"
      ],
      "text/markdown": [
       "1. 26707\n",
       "2. 46\n",
       "\n",
       "\n"
      ],
      "text/plain": [
       "[1] 26707    46"
      ]
     },
     "metadata": {},
     "output_type": "display_data"
    }
   ],
   "source": [
    "\n",
    "data_sorting <- function(x){\n",
    "\n",
    "    # for feature 2 -> 22\n",
    "    x <- cleanData(x)\n",
    "\n",
    "    # for feature 23\n",
    "    levels(x[,23]) <- c(1, 2, 3, 4, 5)\n",
    "\n",
    "    # for feature 24\n",
    "    levels(x[,24]) <- c(0, 1, 2, 4, 3)\n",
    "\n",
    "    # for feature 25\n",
    "    x <- one_hot_encoding(x, 25)\n",
    "\n",
    "    # for feature 26 -> number 29\n",
    "    x <- one_hot_encoding(x, 29)\n",
    "\n",
    "    # for feature 27 -> number 31 !!! it need to be changed, it is not a good way to sort this data.\n",
    "    levels(x[,31]) <- c(0, 2, 1, 3) \n",
    "\n",
    "    # for feature 28 -> number 32\n",
    "    levels(x[,32])[1] <- 'marital_status_not_specified'\n",
    "    x <- one_hot_encoding(x, 32)\n",
    "\n",
    "    # for feature 29 -> number 35\n",
    "    levels(x[,35])[1] <- 'rental_not_specified'\n",
    "    x <- one_hot_encoding(x, 35)\n",
    "\n",
    "    #for features 30 -> number 38\n",
    "    levels(x[,38])[1] <- 'employment_not_specified'\n",
    "    x <- one_hot_encoding(x, 38)\n",
    "    \n",
    "    # for feature 31 -> 42, we judged its contribution was negligeable against its cost of implementation\n",
    "    x <- subset(x, select = -42)\n",
    "\n",
    "    # for feature 32 -> 42 (since we dropped last column\n",
    "    x <- one_hot_encoding(x, 42)\n",
    "\n",
    "    # for feature 33 -> 45\n",
    "    x <- transform_na(x, 45)\n",
    "\n",
    "    # for feature 34 -> 46\n",
    "    x <- transform_na(x, 46)\n",
    "\n",
    "    # for feature 35 -> 47, we judged its contribution was negligeable against its cost of implementation\n",
    "    x <- subset(x, select = -47)\n",
    "\n",
    "    # for feature 36 -> 47, we judged its contribution was negligeable against its cost of implementation\n",
    "    x <- subset(x, select = -47)\n",
    "\n",
    "    x <- cast_into_double(x)\n",
    "    name <- names(x)[-1]\n",
    "    temp <- apply(x[2:length(x)], 2 , norm)\n",
    "    attr(temp, \"dimnames\")[[2]] <- name\n",
    "    x <- data.frame(x[1],as.data.frame(temp))\n",
    "    return (x)\n",
    "}\n",
    "\n",
    "training_sf <- data_sorting(training_set_features)\n",
    "test_sf <- data_sorting(test_set_features)\n",
    "\n",
    "cat(\"Preview of the training_set_feature: \\n\")\n",
    "head(training_sf[20:30])\n",
    "cat(\"Dimension of training_set_feature: \\n\")\n",
    "dim(training_sf)"
   ]
  },
  {
   "cell_type": "markdown",
   "metadata": {},
   "source": [
    "\n",
    "## Feature Engineering<a class=\"anchor\" id=\"Feature_Engineering\"></a>\n",
    "\n",
    "TODO\n"
   ]
  },
  {
   "cell_type": "markdown",
   "metadata": {},
   "source": [
    "\n",
    "## Feature Selection<a class=\"anchor\" id=\"Feature_Selection\"></a>\n",
    "\n",
    "TODO"
   ]
  },
  {
   "cell_type": "markdown",
   "metadata": {
    "id": "MrH_wChrkyu6"
   },
   "source": [
    "# Model selection <a class=\"anchor\" id=\"Model_Selection\"></a>\n"
   ]
  },
  {
   "cell_type": "markdown",
   "metadata": {},
   "source": [
    "\n",
    "## Model 1 <a class=\"anchor\" id=\"Model_1_Linear_Model\"></a>\n"
   ]
  },
  {
   "cell_type": "code",
   "execution_count": 23,
   "metadata": {
    "vscode": {
     "languageId": "r"
    }
   },
   "outputs": [
    {
     "data": {
      "text/html": [
       "0.350801994736891"
      ],
      "text/latex": [
       "0.350801994736891"
      ],
      "text/markdown": [
       "0.350801994736891"
      ],
      "text/plain": [
       "[1] 0.350802"
      ]
     },
     "metadata": {},
     "output_type": "display_data"
    },
    {
     "data": {
      "text/html": [
       "0.40963010445879"
      ],
      "text/latex": [
       "0.40963010445879"
      ],
      "text/markdown": [
       "0.40963010445879"
      ],
      "text/plain": [
       "[1] 0.4096301"
      ]
     },
     "metadata": {},
     "output_type": "display_data"
    },
    {
     "data": {
      "text/html": [
       "<table>\n",
       "<thead><tr><th scope=col>respondent_id</th><th scope=col>X1</th><th scope=col>X2</th></tr></thead>\n",
       "<tbody>\n",
       "\t<tr><td>26707     </td><td>0.06282598</td><td>0.2397931 </td></tr>\n",
       "\t<tr><td>26708     </td><td>0.01169483</td><td>0.0100000 </td></tr>\n",
       "\t<tr><td>26709     </td><td>0.38061953</td><td>0.6088012 </td></tr>\n",
       "\t<tr><td>26710     </td><td>0.50194488</td><td>0.8584078 </td></tr>\n",
       "\t<tr><td>26711     </td><td>0.25134780</td><td>0.4908154 </td></tr>\n",
       "\t<tr><td>26712     </td><td>0.42346578</td><td>0.9004768 </td></tr>\n",
       "</tbody>\n",
       "</table>\n"
      ],
      "text/latex": [
       "\\begin{tabular}{r|lll}\n",
       " respondent\\_id & X1 & X2\\\\\n",
       "\\hline\n",
       "\t 26707      & 0.06282598 & 0.2397931 \\\\\n",
       "\t 26708      & 0.01169483 & 0.0100000 \\\\\n",
       "\t 26709      & 0.38061953 & 0.6088012 \\\\\n",
       "\t 26710      & 0.50194488 & 0.8584078 \\\\\n",
       "\t 26711      & 0.25134780 & 0.4908154 \\\\\n",
       "\t 26712      & 0.42346578 & 0.9004768 \\\\\n",
       "\\end{tabular}\n"
      ],
      "text/markdown": [
       "\n",
       "| respondent_id | X1 | X2 |\n",
       "|---|---|---|\n",
       "| 26707      | 0.06282598 | 0.2397931  |\n",
       "| 26708      | 0.01169483 | 0.0100000  |\n",
       "| 26709      | 0.38061953 | 0.6088012  |\n",
       "| 26710      | 0.50194488 | 0.8584078  |\n",
       "| 26711      | 0.25134780 | 0.4908154  |\n",
       "| 26712      | 0.42346578 | 0.9004768  |\n",
       "\n"
      ],
      "text/plain": [
       "  respondent_id X1         X2       \n",
       "1 26707         0.06282598 0.2397931\n",
       "2 26708         0.01169483 0.0100000\n",
       "3 26709         0.38061953 0.6088012\n",
       "4 26710         0.50194488 0.8584078\n",
       "5 26711         0.25134780 0.4908154\n",
       "6 26712         0.42346578 0.9004768"
      ]
     },
     "metadata": {},
     "output_type": "display_data"
    }
   ],
   "source": [
    "temp <- training_sf[-c(28, 30, 33, 37, 41, 44)] # i just looked at which one made the computation impossible in a greedy manner.\n",
    "\n",
    "\n",
    "n <- length(temp)-1 #length(training_set_features[2:t]) # number of features\n",
    "p <- n+1\n",
    "N <- length(temp[,1]) # number of samples\n",
    "N2 <- length(test_sf[,1])\n",
    "Y <- as.matrix(training_set_labels[2:3])\n",
    "X <- as.matrix(cbind(array(1,c(N,1)),temp[2:p]))\n",
    "\n",
    "beta_hat <- array(0, c(p,2))\n",
    "sigma_hat_w <- numeric(2)\n",
    "Y_hat <- array(0, c(N,2))\n",
    "\n",
    "temp_2  <- test_sf[-c(28, 30, 33, 37, 41, 44)]\n",
    "X_final <-  as.matrix(cbind(array(1,c(N2,1)),temp_2[2:p]))\n",
    "Y_final <- array(0, c(N2,2))\n",
    "\n",
    "tables <- []\n",
    "\n",
    "for (i in 1:2){\n",
    "    beta_hat[,i] <- solve((t(X)%*%X))%*%t(X)%*%Y[,i] #doesn't work, we need to identify the features that are highly correlated and keep only one. \n",
    "    Y_hat[,i] <- X %*% beta_hat[,i]\n",
    "    Y_final[,i] <- X_final %*% beta_hat[,i]\n",
    "    e <- Y[,i] - Y_hat[,i]\n",
    "    sigma_hat_w[i] <- sqrt((t(e)%*%e)/(N-p))\n",
    "}\n",
    "sigma_hat_w[1]\n",
    "sigma_hat_w[2]\n",
    "\n",
    "Y_final<-ifelse(Y_final<=0,0.01,Y_final)\n",
    "Y_final<-ifelse(Y_final>=1,0.99,Y_final)\n",
    "submission <- data.frame(submission_format[1],Y_final)\n",
    "\n",
    "head(submission)\n",
    "write.csv(submission, \"sample_data/answers.csv\", row.names = FALSE, quote=FALSE)\n",
    "\n"
   ]
  },
  {
   "cell_type": "markdown",
   "metadata": {},
   "source": [
    "## Model 2 <a class=\"anchor\" id=\"Model_2_Decision_Tree\"></a>"
   ]
  },
  {
   "cell_type": "code",
   "execution_count": 38,
   "metadata": {
    "vscode": {
     "languageId": "r"
    }
   },
   "outputs": [
    {
     "data": {
      "text/html": [
       "<table class=\"dataframe\">\n",
       "<caption>A data.frame: 6 × 46</caption>\n",
       "<thead>\n",
       "\t<tr><th></th><th scope=col>h1n1_concern</th><th scope=col>h1n1_knowledge</th><th scope=col>behavioral_antiviral_meds</th><th scope=col>behavioral_avoidance</th><th scope=col>behavioral_face_mask</th><th scope=col>behavioral_wash_hands</th><th scope=col>behavioral_large_gatherings</th><th scope=col>behavioral_outside_home</th><th scope=col>behavioral_touch_face</th><th scope=col>doctor_recc_h1n1</th><th scope=col>⋯</th><th scope=col>employment_not_specified</th><th scope=col>Employed</th><th scope=col>Not.in.Labor.Force</th><th scope=col>Unemployed</th><th scope=col>MSA..Not.Principle..City</th><th scope=col>MSA..Principle.City</th><th scope=col>Non.MSA</th><th scope=col>household_adults</th><th scope=col>household_children</th><th scope=col>h1n1_vaccine</th></tr>\n",
       "\t<tr><th></th><th scope=col>&lt;dbl&gt;</th><th scope=col>&lt;dbl&gt;</th><th scope=col>&lt;dbl&gt;</th><th scope=col>&lt;dbl&gt;</th><th scope=col>&lt;dbl&gt;</th><th scope=col>&lt;dbl&gt;</th><th scope=col>&lt;dbl&gt;</th><th scope=col>&lt;dbl&gt;</th><th scope=col>&lt;dbl&gt;</th><th scope=col>&lt;dbl&gt;</th><th scope=col>⋯</th><th scope=col>&lt;dbl&gt;</th><th scope=col>&lt;dbl&gt;</th><th scope=col>&lt;dbl&gt;</th><th scope=col>&lt;dbl&gt;</th><th scope=col>&lt;dbl&gt;</th><th scope=col>&lt;dbl&gt;</th><th scope=col>&lt;dbl&gt;</th><th scope=col>&lt;dbl&gt;</th><th scope=col>&lt;dbl&gt;</th><th scope=col>&lt;int&gt;</th></tr>\n",
       "</thead>\n",
       "<tbody>\n",
       "\t<tr><th scope=row>1</th><td>0.3333333</td><td>0.0</td><td>0</td><td>0</td><td>0</td><td>0</td><td>0</td><td>1</td><td>1</td><td>0</td><td>⋯</td><td>0</td><td>0</td><td>1</td><td>0</td><td>0</td><td>0</td><td>1</td><td>0.0000000</td><td>0</td><td>0</td></tr>\n",
       "\t<tr><th scope=row>2</th><td>1.0000000</td><td>1.0</td><td>0</td><td>1</td><td>0</td><td>1</td><td>0</td><td>1</td><td>1</td><td>0</td><td>⋯</td><td>0</td><td>1</td><td>0</td><td>0</td><td>1</td><td>0</td><td>0</td><td>0.0000000</td><td>0</td><td>0</td></tr>\n",
       "\t<tr><th scope=row>3</th><td>0.3333333</td><td>0.5</td><td>0</td><td>1</td><td>0</td><td>0</td><td>0</td><td>0</td><td>0</td><td>0</td><td>⋯</td><td>0</td><td>1</td><td>0</td><td>0</td><td>1</td><td>0</td><td>0</td><td>0.6666667</td><td>0</td><td>0</td></tr>\n",
       "\t<tr><th scope=row>4</th><td>0.3333333</td><td>0.5</td><td>0</td><td>1</td><td>0</td><td>1</td><td>1</td><td>0</td><td>0</td><td>0</td><td>⋯</td><td>0</td><td>0</td><td>1</td><td>0</td><td>0</td><td>1</td><td>0</td><td>0.0000000</td><td>0</td><td>0</td></tr>\n",
       "\t<tr><th scope=row>5</th><td>0.6666667</td><td>0.5</td><td>0</td><td>1</td><td>0</td><td>1</td><td>1</td><td>0</td><td>1</td><td>0</td><td>⋯</td><td>0</td><td>1</td><td>0</td><td>0</td><td>1</td><td>0</td><td>0</td><td>0.3333333</td><td>0</td><td>0</td></tr>\n",
       "\t<tr><th scope=row>6</th><td>1.0000000</td><td>0.5</td><td>0</td><td>1</td><td>0</td><td>1</td><td>0</td><td>0</td><td>1</td><td>0</td><td>⋯</td><td>0</td><td>1</td><td>0</td><td>0</td><td>0</td><td>1</td><td>0</td><td>0.6666667</td><td>1</td><td>0</td></tr>\n",
       "</tbody>\n",
       "</table>\n"
      ],
      "text/latex": [
       "A data.frame: 6 × 46\n",
       "\\begin{tabular}{r|lllllllllllllllllllll}\n",
       "  & h1n1\\_concern & h1n1\\_knowledge & behavioral\\_antiviral\\_meds & behavioral\\_avoidance & behavioral\\_face\\_mask & behavioral\\_wash\\_hands & behavioral\\_large\\_gatherings & behavioral\\_outside\\_home & behavioral\\_touch\\_face & doctor\\_recc\\_h1n1 & ⋯ & employment\\_not\\_specified & Employed & Not.in.Labor.Force & Unemployed & MSA..Not.Principle..City & MSA..Principle.City & Non.MSA & household\\_adults & household\\_children & h1n1\\_vaccine\\\\\n",
       "  & <dbl> & <dbl> & <dbl> & <dbl> & <dbl> & <dbl> & <dbl> & <dbl> & <dbl> & <dbl> & ⋯ & <dbl> & <dbl> & <dbl> & <dbl> & <dbl> & <dbl> & <dbl> & <dbl> & <dbl> & <int>\\\\\n",
       "\\hline\n",
       "\t1 & 0.3333333 & 0.0 & 0 & 0 & 0 & 0 & 0 & 1 & 1 & 0 & ⋯ & 0 & 0 & 1 & 0 & 0 & 0 & 1 & 0.0000000 & 0 & 0\\\\\n",
       "\t2 & 1.0000000 & 1.0 & 0 & 1 & 0 & 1 & 0 & 1 & 1 & 0 & ⋯ & 0 & 1 & 0 & 0 & 1 & 0 & 0 & 0.0000000 & 0 & 0\\\\\n",
       "\t3 & 0.3333333 & 0.5 & 0 & 1 & 0 & 0 & 0 & 0 & 0 & 0 & ⋯ & 0 & 1 & 0 & 0 & 1 & 0 & 0 & 0.6666667 & 0 & 0\\\\\n",
       "\t4 & 0.3333333 & 0.5 & 0 & 1 & 0 & 1 & 1 & 0 & 0 & 0 & ⋯ & 0 & 0 & 1 & 0 & 0 & 1 & 0 & 0.0000000 & 0 & 0\\\\\n",
       "\t5 & 0.6666667 & 0.5 & 0 & 1 & 0 & 1 & 1 & 0 & 1 & 0 & ⋯ & 0 & 1 & 0 & 0 & 1 & 0 & 0 & 0.3333333 & 0 & 0\\\\\n",
       "\t6 & 1.0000000 & 0.5 & 0 & 1 & 0 & 1 & 0 & 0 & 1 & 0 & ⋯ & 0 & 1 & 0 & 0 & 0 & 1 & 0 & 0.6666667 & 1 & 0\\\\\n",
       "\\end{tabular}\n"
      ],
      "text/markdown": [
       "\n",
       "A data.frame: 6 × 46\n",
       "\n",
       "| <!--/--> | h1n1_concern &lt;dbl&gt; | h1n1_knowledge &lt;dbl&gt; | behavioral_antiviral_meds &lt;dbl&gt; | behavioral_avoidance &lt;dbl&gt; | behavioral_face_mask &lt;dbl&gt; | behavioral_wash_hands &lt;dbl&gt; | behavioral_large_gatherings &lt;dbl&gt; | behavioral_outside_home &lt;dbl&gt; | behavioral_touch_face &lt;dbl&gt; | doctor_recc_h1n1 &lt;dbl&gt; | ⋯ ⋯ | employment_not_specified &lt;dbl&gt; | Employed &lt;dbl&gt; | Not.in.Labor.Force &lt;dbl&gt; | Unemployed &lt;dbl&gt; | MSA..Not.Principle..City &lt;dbl&gt; | MSA..Principle.City &lt;dbl&gt; | Non.MSA &lt;dbl&gt; | household_adults &lt;dbl&gt; | household_children &lt;dbl&gt; | h1n1_vaccine &lt;int&gt; |\n",
       "|---|---|---|---|---|---|---|---|---|---|---|---|---|---|---|---|---|---|---|---|---|---|\n",
       "| 1 | 0.3333333 | 0.0 | 0 | 0 | 0 | 0 | 0 | 1 | 1 | 0 | ⋯ | 0 | 0 | 1 | 0 | 0 | 0 | 1 | 0.0000000 | 0 | 0 |\n",
       "| 2 | 1.0000000 | 1.0 | 0 | 1 | 0 | 1 | 0 | 1 | 1 | 0 | ⋯ | 0 | 1 | 0 | 0 | 1 | 0 | 0 | 0.0000000 | 0 | 0 |\n",
       "| 3 | 0.3333333 | 0.5 | 0 | 1 | 0 | 0 | 0 | 0 | 0 | 0 | ⋯ | 0 | 1 | 0 | 0 | 1 | 0 | 0 | 0.6666667 | 0 | 0 |\n",
       "| 4 | 0.3333333 | 0.5 | 0 | 1 | 0 | 1 | 1 | 0 | 0 | 0 | ⋯ | 0 | 0 | 1 | 0 | 0 | 1 | 0 | 0.0000000 | 0 | 0 |\n",
       "| 5 | 0.6666667 | 0.5 | 0 | 1 | 0 | 1 | 1 | 0 | 1 | 0 | ⋯ | 0 | 1 | 0 | 0 | 1 | 0 | 0 | 0.3333333 | 0 | 0 |\n",
       "| 6 | 1.0000000 | 0.5 | 0 | 1 | 0 | 1 | 0 | 0 | 1 | 0 | ⋯ | 0 | 1 | 0 | 0 | 0 | 1 | 0 | 0.6666667 | 1 | 0 |\n",
       "\n"
      ],
      "text/plain": [
       "  h1n1_concern h1n1_knowledge behavioral_antiviral_meds behavioral_avoidance\n",
       "1 0.3333333    0.0            0                         0                   \n",
       "2 1.0000000    1.0            0                         1                   \n",
       "3 0.3333333    0.5            0                         1                   \n",
       "4 0.3333333    0.5            0                         1                   \n",
       "5 0.6666667    0.5            0                         1                   \n",
       "6 1.0000000    0.5            0                         1                   \n",
       "  behavioral_face_mask behavioral_wash_hands behavioral_large_gatherings\n",
       "1 0                    0                     0                          \n",
       "2 0                    1                     0                          \n",
       "3 0                    0                     0                          \n",
       "4 0                    1                     1                          \n",
       "5 0                    1                     1                          \n",
       "6 0                    1                     0                          \n",
       "  behavioral_outside_home behavioral_touch_face doctor_recc_h1n1 ⋯\n",
       "1 1                       1                     0                ⋯\n",
       "2 1                       1                     0                ⋯\n",
       "3 0                       0                     0                ⋯\n",
       "4 0                       0                     0                ⋯\n",
       "5 0                       1                     0                ⋯\n",
       "6 0                       1                     0                ⋯\n",
       "  employment_not_specified Employed Not.in.Labor.Force Unemployed\n",
       "1 0                        0        1                  0         \n",
       "2 0                        1        0                  0         \n",
       "3 0                        1        0                  0         \n",
       "4 0                        0        1                  0         \n",
       "5 0                        1        0                  0         \n",
       "6 0                        1        0                  0         \n",
       "  MSA..Not.Principle..City MSA..Principle.City Non.MSA household_adults\n",
       "1 0                        0                   1       0.0000000       \n",
       "2 1                        0                   0       0.0000000       \n",
       "3 1                        0                   0       0.6666667       \n",
       "4 0                        1                   0       0.0000000       \n",
       "5 1                        0                   0       0.3333333       \n",
       "6 0                        1                   0       0.6666667       \n",
       "  household_children h1n1_vaccine\n",
       "1 0                  0           \n",
       "2 0                  0           \n",
       "3 0                  0           \n",
       "4 0                  0           \n",
       "5 0                  0           \n",
       "6 1                  0           "
      ]
     },
     "metadata": {},
     "output_type": "display_data"
    }
   ],
   "source": [
    "spam <- data.frame(training_set_features[2:length(training_set_features)], training_set_labels[2]) \n",
    "head(spam)"
   ]
  },
  {
   "cell_type": "code",
   "execution_count": 39,
   "metadata": {
    "scrolled": true,
    "vscode": {
     "languageId": "r"
    }
   },
   "outputs": [
    {
     "data": {
      "text/html": [
       "'h1n1_vaccine'"
      ],
      "text/latex": [
       "'h1n1\\_vaccine'"
      ],
      "text/markdown": [
       "'h1n1_vaccine'"
      ],
      "text/plain": [
       "[1] \"h1n1_vaccine\""
      ]
     },
     "metadata": {},
     "output_type": "display_data"
    },
    {
     "data": {
      "text/html": [
       "'seasonal_vaccine'"
      ],
      "text/latex": [
       "'seasonal\\_vaccine'"
      ],
      "text/markdown": [
       "'seasonal_vaccine'"
      ],
      "text/plain": [
       "[1] \"seasonal_vaccine\""
      ]
     },
     "metadata": {},
     "output_type": "display_data"
    },
    {
     "data": {
      "text/html": [
       "<table class=\"dataframe\">\n",
       "<caption>A data.frame: 6 × 3</caption>\n",
       "<thead>\n",
       "\t<tr><th></th><th scope=col>respondent_id</th><th scope=col>h1n1_vaccine</th><th scope=col>seasonal_vaccine</th></tr>\n",
       "\t<tr><th></th><th scope=col>&lt;int&gt;</th><th scope=col>&lt;dbl&gt;</th><th scope=col>&lt;dbl&gt;</th></tr>\n",
       "</thead>\n",
       "<tbody>\n",
       "\t<tr><th scope=row>1</th><td>26707</td><td>0.1304593</td><td>0.2355578</td></tr>\n",
       "\t<tr><th scope=row>2</th><td>26708</td><td>0.1304593</td><td>0.2355578</td></tr>\n",
       "\t<tr><th scope=row>3</th><td>26709</td><td>0.1304593</td><td>0.7907054</td></tr>\n",
       "\t<tr><th scope=row>4</th><td>26710</td><td>0.3323171</td><td>0.6912955</td></tr>\n",
       "\t<tr><th scope=row>5</th><td>26711</td><td>0.1304593</td><td>0.2925170</td></tr>\n",
       "\t<tr><th scope=row>6</th><td>26712</td><td>0.1304593</td><td>0.7907054</td></tr>\n",
       "</tbody>\n",
       "</table>\n"
      ],
      "text/latex": [
       "A data.frame: 6 × 3\n",
       "\\begin{tabular}{r|lll}\n",
       "  & respondent\\_id & h1n1\\_vaccine & seasonal\\_vaccine\\\\\n",
       "  & <int> & <dbl> & <dbl>\\\\\n",
       "\\hline\n",
       "\t1 & 26707 & 0.1304593 & 0.2355578\\\\\n",
       "\t2 & 26708 & 0.1304593 & 0.2355578\\\\\n",
       "\t3 & 26709 & 0.1304593 & 0.7907054\\\\\n",
       "\t4 & 26710 & 0.3323171 & 0.6912955\\\\\n",
       "\t5 & 26711 & 0.1304593 & 0.2925170\\\\\n",
       "\t6 & 26712 & 0.1304593 & 0.7907054\\\\\n",
       "\\end{tabular}\n"
      ],
      "text/markdown": [
       "\n",
       "A data.frame: 6 × 3\n",
       "\n",
       "| <!--/--> | respondent_id &lt;int&gt; | h1n1_vaccine &lt;dbl&gt; | seasonal_vaccine &lt;dbl&gt; |\n",
       "|---|---|---|---|\n",
       "| 1 | 26707 | 0.1304593 | 0.2355578 |\n",
       "| 2 | 26708 | 0.1304593 | 0.2355578 |\n",
       "| 3 | 26709 | 0.1304593 | 0.7907054 |\n",
       "| 4 | 26710 | 0.3323171 | 0.6912955 |\n",
       "| 5 | 26711 | 0.1304593 | 0.2925170 |\n",
       "| 6 | 26712 | 0.1304593 | 0.7907054 |\n",
       "\n"
      ],
      "text/plain": [
       "  respondent_id h1n1_vaccine seasonal_vaccine\n",
       "1 26707         0.1304593    0.2355578       \n",
       "2 26708         0.1304593    0.2355578       \n",
       "3 26709         0.1304593    0.7907054       \n",
       "4 26710         0.3323171    0.6912955       \n",
       "5 26711         0.1304593    0.2925170       \n",
       "6 26712         0.1304593    0.7907054       "
      ]
     },
     "metadata": {},
     "output_type": "display_data"
    }
   ],
   "source": [
    "library(rpart)\n",
    "spam <- data.frame(training_set_features[2:length(training_set_features)], training_set_labels[2])\n",
    "spam_idx <- sample(1:nrow(spam))\n",
    "half_split <- floor(nrow(spam)/2)\n",
    "target_variable <- ncol(spam)\n",
    "type <- names(spam)[length(spam)]\n",
    "type\n",
    "\n",
    "train_data <- spam[spam_idx[1:half_split],]\n",
    "test_data <- spam[spam_idx[(half_split+1):nrow(spam)],]\n",
    "\n",
    "model <- rpart(form=h1n1_vaccine ~ ., method=\"class\", data=train_data)\n",
    "\n",
    "Y_pred <- predict(model,test_set_features)\n",
    "submission_format[2] <- Y_pred[,2]\n",
    "\n",
    "spam <- data.frame(training_set_features[2:length(training_set_features)], training_set_labels[3])\n",
    "spam_idx <- sample(1:nrow(spam))\n",
    "half_split <- floor(nrow(spam)/2)\n",
    "target_variable <- ncol(spam)\n",
    "type <- names(spam)[length(spam)]\n",
    "type\n",
    "\n",
    "train_data <- spam[spam_idx[1:half_split],]\n",
    "test_data <- spam[spam_idx[(half_split+1):nrow(spam)],]\n",
    "\n",
    "model <- rpart(form=seasonal_vaccine ~ ., method=\"class\", data=train_data)\n",
    "Y_pred <- predict(model,test_set_features)\n",
    "submission_format[3] <- Y_pred[,2]\n",
    "head(submission_format)\n",
    "\n",
    "write.csv(submission_format,\"sample_data/answers.csv\", row.names = FALSE, quote=FALSE)\n"
   ]
  },
  {
   "cell_type": "markdown",
   "metadata": {},
   "source": [
    "## Model 2.bis <a class=\"anchor\" id=\"Model_2_1_Boosted_Decision_Tree\"></a>"
   ]
  },
  {
   "cell_type": "code",
   "execution_count": 40,
   "metadata": {
    "vscode": {
     "languageId": "r"
    }
   },
   "outputs": [],
   "source": [
    "training_set_labels <- read.csv(\"sample_data/training_set_labels.csv\", stringsAsFactors  = T)\n",
    "spam_bis <- data.frame(training_set_features[2:length(training_set_features)], training_set_labels[3])\n",
    "# spam_bis$h1n1_vaccine\n"
   ]
  },
  {
   "cell_type": "code",
   "execution_count": 57,
   "metadata": {
    "vscode": {
     "languageId": "r"
    }
   },
   "outputs": [
    {
     "name": "stdout",
     "output_type": "stream",
     "text": [
      "[1] \"[INFO] - Training set size: 13353 - Testing set size 13354\"\n"
     ]
    },
    {
     "name": "stderr",
     "output_type": "stream",
     "text": [
      "Warning message in Y_pred_boosting + alpha_vec[j] * predict(tree_model, test_data):\n",
      "“longer object length is not a multiple of shorter object length”\n"
     ]
    },
    {
     "name": "stdout",
     "output_type": "stream",
     "text": [
      "[1] \"[INFO] - Training set size: 13353 - Testing set size 13354\"\n",
      "[1] \"[INFO] - Training set size: 13353 - Testing set size 13354\"\n",
      "[1] \"[INFO] - Training set size: 13353 - Testing set size 13354\"\n",
      "[1] \"[INFO] - Training set size: 13353 - Testing set size 13354\"\n",
      "[1] \"[INFO] - Training set size: 13353 - Testing set size 13354\"\n",
      "[1] \"[INFO] - Training set size: 13353 - Testing set size 13354\"\n",
      "[1] \"[INFO] - Training set size: 13353 - Testing set size 13354\"\n",
      "[1] \"[INFO] - Training set size: 13353 - Testing set size 13354\"\n",
      "[1] \"[INFO] - Training set size: 13353 - Testing set size 13354\"\n",
      "[1] \"[INFO] - Training set size: 13353 - Testing set size 13354\"\n",
      "[1] \"[INFO] - Training set size: 13353 - Testing set size 13354\"\n",
      "[1] \"[INFO] - Training set size: 13353 - Testing set size 13354\"\n",
      "[1] \"[INFO] - Training set size: 13353 - Testing set size 13354\"\n",
      "[1] \"[INFO] - Training set size: 13353 - Testing set size 13354\"\n",
      "[1] \"[INFO] - Misclassification rate - Single tree: 0.204882432230043\"\n",
      "[1] \"[INFO] - Misclassification rate - Boosted tree: 0.211996405571364\"\n"
     ]
    }
   ],
   "source": [
    "training_set_labels <- read.csv(\"sample_data/training_set_labels.csv\", stringsAsFactors  = T)\n",
    "\n",
    "training_set_features <- read.csv(\"sample_data/training_set_features.csv\", stringsAsFactors  = T)\n",
    "test_set_features <- read.csv(\"sample_data/test_set_features.csv\", stringsAsFactors  = T)\n",
    "# training_set_features <- data_sorting(training_set_features)\n",
    "training_set_features <- cleanData(training_set_features)\n",
    "training_set_features <- transform_na(training_set_features, 33)\n",
    "training_set_features <- transform_na(training_set_features, 34)\n",
    "test_set_features <- cleanData(test_set_features)\n",
    "test_set_features <- transform_na(test_set_features, 33)\n",
    "test_set_features <- transform_na(test_set_features, 34)\n",
    "# training_set_features <- subset(training_set_features, select = -35)\n",
    "# training_set_features <- subset(training_set_features, select = -35)\n",
    "\n",
    "spam_bis <- data.frame(training_set_features[2:length(training_set_features)], training_set_labels[2])\n",
    "library(tree)\n",
    "# library(rpart)\n",
    "\n",
    "\n",
    "\n",
    "# Parameters of the algorithm\n",
    "n_trees <- 15\n",
    "N <- nrow(spam_bis)\n",
    "\n",
    "\n",
    "alpha_vec <- array(NA,n_trees)\n",
    "misclassification_vec <- array(NA,n_trees)\n",
    "\n",
    "\n",
    "# Rescaling target variable\n",
    "# data(spam_bis)\n",
    "spam_bis$h1n1_vaccine <- ifelse(spam_bis$h1n1_vaccine == 1,-1,1) # Data in {-1,+1}\n",
    "# spam_bis$h1n1_vaccine\n",
    "target_variable <- ncol(spam_bis)\n",
    "\n",
    "\n",
    "# 50/50 data split\n",
    "spam_idx <- sample(1:N)\n",
    "half_split <- floor(N/2)\n",
    "train_data <- spam_bis[spam_idx[1:half_split],]\n",
    "test_data <- spam_bis[spam_idx[(half_split+1):nrow(spam_bis)],]\n",
    "\n",
    "\n",
    "# Prediction - Single tree\n",
    "tree_model <-tree(h1n1_vaccine ~ ., train_data,\n",
    "                  control=tree.control(half_split,mincut=20))\n",
    "\n",
    "# tree_model <-rpart(h1n1_vaccine ~ ., train_data,\n",
    "#                   control=rpart.control(half_split,mincut=10))\n",
    "\n",
    "Y_pred_tree <- sign(predict(tree_model,test_data))\n",
    "\n",
    "# Boosting\n",
    "Y_pred_boosting <- rep(0,length(test_data))\n",
    "w <- array(1/half_split,half_split)\n",
    "# set.seed(555)\n",
    "\n",
    "# For each boosting iteration\n",
    "for(j in 1:n_trees){\n",
    "    \n",
    "    #1. Sample from the training set\n",
    "    selected_samples <- sample(1:half_split,1,replace=TRUE,prob=w)\n",
    "    print(paste(\"[INFO] - Training set size:\",dim(train_data)[1],\"- Testing set size\",dim(test_data)[1]))\n",
    "    \n",
    "    #2. Fit a model on the training set and evaluate it on the training set\n",
    "     tree_model <-tree(h1n1_vaccine ~ ., train_data[selected_samples,],\n",
    "                  control=tree.control(half_split,mincut=20))\n",
    "#     tree_model <-rpart(h1n1_vaccine ~ ., train_data[selected_samples,],\n",
    "#                   control=rpart.control(half_split,mincut=10))\n",
    "    Y_pred_train <- sign(predict(tree_model,train_data))\n",
    "    #3. Compute misclassification on training set\n",
    "    misclassification_vec[j] <- sum(w*as.double(train_data$h1n1_vaccine != sign(Y_pred_train)))/sum(w)\n",
    "#     cat(\"Checking the missclassification value : \",misclassification_vec[j], \" At the run : \", j, \"\\n\")\n",
    "    \n",
    "    #4. Computation of alpha and updating of resampling weight\n",
    "    alpha_vec[j] <- log((1-misclassification_vec[j])/misclassification_vec[j])  \n",
    "    w <- w * exp(alpha_vec[j]*as.integer(train_data$h1n1_vaccine != sign(Y_pred_train)))\n",
    "#     cat(\"Checking if there is an NA in w : \", mean(w), \" At the run : \", j, \"\\n\")\n",
    "    \n",
    "    \n",
    "    #5. Normalize the weights in order to represent a true distribution\n",
    "    \n",
    "    w <- w/sum(w)\n",
    "\n",
    "    \n",
    "    #6. Compute the predictions on the testing set and weight them by alpha\n",
    "    Y_pred_boosting<-Y_pred_boosting+alpha_vec[j]*predict(tree_model,test_data)\n",
    "\n",
    "\n",
    "}\n",
    "\n",
    "# Misclassification error comparation\n",
    "misclassification_error_base <- sum(as.numeric(test_data$h1n1_vaccine != sign(Y_pred_tree)))/length(Y_pred_tree)\n",
    "misclassification_error_boosting <- sum(as.numeric(test_data$h1n1_vaccine != sign(Y_pred_boosting)))/length(Y_pred_boosting)\n",
    "\n",
    "print(paste(\"[INFO] - Misclassification rate - Single tree:\",misclassification_error_base))\n",
    "print(paste(\"[INFO] - Misclassification rate - Boosted tree:\",misclassification_error_boosting))\n"
   ]
  },
  {
   "cell_type": "markdown",
   "metadata": {},
   "source": [
    "\n",
    "## Model 3 <a class=\"anchor\" id=\"Model_3_Random_Forest\"></a>\n"
   ]
  },
  {
   "cell_type": "code",
   "execution_count": 42,
   "metadata": {
    "vscode": {
     "languageId": "r"
    }
   },
   "outputs": [
    {
     "name": "stderr",
     "output_type": "stream",
     "text": [
      "Installing package into ‘/home/seb/R/x86_64-pc-linux-gnu-library/4.2’\n",
      "(as ‘lib’ is unspecified)\n",
      "\n"
     ]
    }
   ],
   "source": [
    "install.packages(\"randomForest\")"
   ]
  },
  {
   "cell_type": "code",
   "execution_count": 45,
   "metadata": {
    "vscode": {
     "languageId": "r"
    }
   },
   "outputs": [
    {
     "data": {
      "image/png": "[encoded data removed]",
      "text/plain": [
       "Plot with title “Number of trees influence”"
      ]
     },
     "metadata": {
      "image/png": {
       "height": 600,
       "width": 1200
      }
     },
     "output_type": "display_data"
    }
   ],
   "source": [
    "library(\"randomForest\")\n",
    "spam <- data.frame(training_set_features[2:length(training_set_features)], training_set_labels[3]) \n",
    "n_trees <- 10\n",
    "accuracy_vec <- array(0,n_trees)\n",
    "\n",
    "spam_idx <- sample(1:nrow(spam))\n",
    "half_split <- floor(nrow(spam)/2)\n",
    "target_variable <- ncol(spam)\n",
    "\n",
    "for (i in 1:n_trees){ #print(i)\n",
    "    #3.1 Take the first half of the dataset as a training data set\n",
    "    train_data <- spam[spam_idx[1:half_split],]\n",
    "\n",
    "    #3.2 Take the second half of the dataset as a hold out or test data set\n",
    "    test_data <- spam[spam_idx[(half_split+1):nrow(spam)],]\n",
    "    \n",
    "    model <- randomForest(x=train_data[,-c(target_variable)],\n",
    "                          y=as.factor(train_data[,c(target_variable)]),\n",
    "                          xtest=test_data[,-c(target_variable)],\n",
    "                          ytest=as.factor(test_data[,c(target_variable)]),\n",
    "                          ntree=i*10)\n",
    "    \n",
    "    accuracy_vec[i] = (model$test$confusion[1,1]+model$test$confusion[2,2])/sum(model$test$confusion)\n",
    "    }\n",
    "plot(accuracy_vec,main = \"Number of trees influence\",xlab = \"Nbr of trees\",ylab = \"Classification rate\")"
   ]
  },
  {
   "cell_type": "code",
   "execution_count": null,
   "metadata": {
    "vscode": {
     "languageId": "r"
    }
   },
   "outputs": [],
   "source": [
    " ?numeric()"
   ]
  },
  {
   "cell_type": "code",
   "execution_count": null,
   "metadata": {
    "vscode": {
     "languageId": "r"
    }
   },
   "outputs": [
    {
     "name": "stderr",
     "output_type": "stream",
     "text": [
      "Installing package into ‘/home/seb/R/x86_64-pc-linux-gnu-library/4.2’\n",
      "(as ‘lib’ is unspecified)\n",
      "\n"
     ]
    }
   ],
   "source": [
    "install.packages(\"randomForest\")"
   ]
  },
  {
   "cell_type": "code",
   "execution_count": 59,
   "metadata": {
    "vscode": {
     "languageId": "r"
    }
   },
   "outputs": [
    {
     "data": {
      "text/html": [
       "<table class=\"dataframe\">\n",
       "<caption>A data.frame: 6 × 36</caption>\n",
       "<thead>\n",
       "\t<tr><th></th><th scope=col>h1n1_concern</th><th scope=col>h1n1_knowledge</th><th scope=col>behavioral_antiviral_meds</th><th scope=col>behavioral_avoidance</th><th scope=col>behavioral_face_mask</th><th scope=col>behavioral_wash_hands</th><th scope=col>behavioral_large_gatherings</th><th scope=col>behavioral_outside_home</th><th scope=col>behavioral_touch_face</th><th scope=col>doctor_recc_h1n1</th><th scope=col>⋯</th><th scope=col>marital_status</th><th scope=col>rent_or_own</th><th scope=col>employment_status</th><th scope=col>hhs_geo_region</th><th scope=col>census_msa</th><th scope=col>household_adults</th><th scope=col>household_children</th><th scope=col>employment_industry</th><th scope=col>employment_occupation</th><th scope=col>h1n1_vaccine</th></tr>\n",
       "\t<tr><th></th><th scope=col>&lt;dbl&gt;</th><th scope=col>&lt;dbl&gt;</th><th scope=col>&lt;dbl&gt;</th><th scope=col>&lt;dbl&gt;</th><th scope=col>&lt;dbl&gt;</th><th scope=col>&lt;dbl&gt;</th><th scope=col>&lt;dbl&gt;</th><th scope=col>&lt;dbl&gt;</th><th scope=col>&lt;dbl&gt;</th><th scope=col>&lt;dbl&gt;</th><th scope=col>⋯</th><th scope=col>&lt;fct&gt;</th><th scope=col>&lt;fct&gt;</th><th scope=col>&lt;fct&gt;</th><th scope=col>&lt;fct&gt;</th><th scope=col>&lt;fct&gt;</th><th scope=col>&lt;dbl&gt;</th><th scope=col>&lt;dbl&gt;</th><th scope=col>&lt;fct&gt;</th><th scope=col>&lt;fct&gt;</th><th scope=col>&lt;int&gt;</th></tr>\n",
       "</thead>\n",
       "<tbody>\n",
       "\t<tr><th scope=row>1</th><td>1</td><td>0</td><td>0</td><td>0</td><td>0</td><td>0</td><td>0</td><td>1</td><td>1</td><td>0</td><td>⋯</td><td>Not Married</td><td>Own </td><td>Not in Labor Force</td><td>oxchjgsf</td><td>Non-MSA                 </td><td>0</td><td>0</td><td>        </td><td>        </td><td>0</td></tr>\n",
       "\t<tr><th scope=row>2</th><td>3</td><td>2</td><td>0</td><td>1</td><td>0</td><td>1</td><td>0</td><td>1</td><td>1</td><td>0</td><td>⋯</td><td>Not Married</td><td>Rent</td><td>Employed          </td><td>bhuqouqj</td><td>MSA, Not Principle  City</td><td>0</td><td>0</td><td>pxcmvdjn</td><td>xgwztkwe</td><td>0</td></tr>\n",
       "\t<tr><th scope=row>3</th><td>1</td><td>1</td><td>0</td><td>1</td><td>0</td><td>0</td><td>0</td><td>0</td><td>0</td><td>0</td><td>⋯</td><td>Not Married</td><td>Own </td><td>Employed          </td><td>qufhixun</td><td>MSA, Not Principle  City</td><td>2</td><td>0</td><td>rucpziij</td><td>xtkaffoo</td><td>0</td></tr>\n",
       "\t<tr><th scope=row>4</th><td>1</td><td>1</td><td>0</td><td>1</td><td>0</td><td>1</td><td>1</td><td>0</td><td>0</td><td>0</td><td>⋯</td><td>Not Married</td><td>Rent</td><td>Not in Labor Force</td><td>lrircsnp</td><td>MSA, Principle City     </td><td>0</td><td>0</td><td>        </td><td>        </td><td>0</td></tr>\n",
       "\t<tr><th scope=row>5</th><td>2</td><td>1</td><td>0</td><td>1</td><td>0</td><td>1</td><td>1</td><td>0</td><td>1</td><td>0</td><td>⋯</td><td>Married    </td><td>Own </td><td>Employed          </td><td>qufhixun</td><td>MSA, Not Principle  City</td><td>1</td><td>0</td><td>wxleyezf</td><td>emcorrxb</td><td>0</td></tr>\n",
       "\t<tr><th scope=row>6</th><td>3</td><td>1</td><td>0</td><td>1</td><td>0</td><td>1</td><td>0</td><td>0</td><td>1</td><td>0</td><td>⋯</td><td>Married    </td><td>Own </td><td>Employed          </td><td>atmpeygn</td><td>MSA, Principle City     </td><td>2</td><td>3</td><td>saaquncn</td><td>vlluhbov</td><td>0</td></tr>\n",
       "</tbody>\n",
       "</table>\n"
      ],
      "text/latex": [
       "A data.frame: 6 × 36\n",
       "\\begin{tabular}{r|lllllllllllllllllllll}\n",
       "  & h1n1\\_concern & h1n1\\_knowledge & behavioral\\_antiviral\\_meds & behavioral\\_avoidance & behavioral\\_face\\_mask & behavioral\\_wash\\_hands & behavioral\\_large\\_gatherings & behavioral\\_outside\\_home & behavioral\\_touch\\_face & doctor\\_recc\\_h1n1 & ⋯ & marital\\_status & rent\\_or\\_own & employment\\_status & hhs\\_geo\\_region & census\\_msa & household\\_adults & household\\_children & employment\\_industry & employment\\_occupation & h1n1\\_vaccine\\\\\n",
       "  & <dbl> & <dbl> & <dbl> & <dbl> & <dbl> & <dbl> & <dbl> & <dbl> & <dbl> & <dbl> & ⋯ & <fct> & <fct> & <fct> & <fct> & <fct> & <dbl> & <dbl> & <fct> & <fct> & <int>\\\\\n",
       "\\hline\n",
       "\t1 & 1 & 0 & 0 & 0 & 0 & 0 & 0 & 1 & 1 & 0 & ⋯ & Not Married & Own  & Not in Labor Force & oxchjgsf & Non-MSA                  & 0 & 0 &          &          & 0\\\\\n",
       "\t2 & 3 & 2 & 0 & 1 & 0 & 1 & 0 & 1 & 1 & 0 & ⋯ & Not Married & Rent & Employed           & bhuqouqj & MSA, Not Principle  City & 0 & 0 & pxcmvdjn & xgwztkwe & 0\\\\\n",
       "\t3 & 1 & 1 & 0 & 1 & 0 & 0 & 0 & 0 & 0 & 0 & ⋯ & Not Married & Own  & Employed           & qufhixun & MSA, Not Principle  City & 2 & 0 & rucpziij & xtkaffoo & 0\\\\\n",
       "\t4 & 1 & 1 & 0 & 1 & 0 & 1 & 1 & 0 & 0 & 0 & ⋯ & Not Married & Rent & Not in Labor Force & lrircsnp & MSA, Principle City      & 0 & 0 &          &          & 0\\\\\n",
       "\t5 & 2 & 1 & 0 & 1 & 0 & 1 & 1 & 0 & 1 & 0 & ⋯ & Married     & Own  & Employed           & qufhixun & MSA, Not Principle  City & 1 & 0 & wxleyezf & emcorrxb & 0\\\\\n",
       "\t6 & 3 & 1 & 0 & 1 & 0 & 1 & 0 & 0 & 1 & 0 & ⋯ & Married     & Own  & Employed           & atmpeygn & MSA, Principle City      & 2 & 3 & saaquncn & vlluhbov & 0\\\\\n",
       "\\end{tabular}\n"
      ],
      "text/markdown": [
       "\n",
       "A data.frame: 6 × 36\n",
       "\n",
       "| <!--/--> | h1n1_concern &lt;dbl&gt; | h1n1_knowledge &lt;dbl&gt; | behavioral_antiviral_meds &lt;dbl&gt; | behavioral_avoidance &lt;dbl&gt; | behavioral_face_mask &lt;dbl&gt; | behavioral_wash_hands &lt;dbl&gt; | behavioral_large_gatherings &lt;dbl&gt; | behavioral_outside_home &lt;dbl&gt; | behavioral_touch_face &lt;dbl&gt; | doctor_recc_h1n1 &lt;dbl&gt; | ⋯ ⋯ | marital_status &lt;fct&gt; | rent_or_own &lt;fct&gt; | employment_status &lt;fct&gt; | hhs_geo_region &lt;fct&gt; | census_msa &lt;fct&gt; | household_adults &lt;dbl&gt; | household_children &lt;dbl&gt; | employment_industry &lt;fct&gt; | employment_occupation &lt;fct&gt; | h1n1_vaccine &lt;int&gt; |\n",
       "|---|---|---|---|---|---|---|---|---|---|---|---|---|---|---|---|---|---|---|---|---|---|\n",
       "| 1 | 1 | 0 | 0 | 0 | 0 | 0 | 0 | 1 | 1 | 0 | ⋯ | Not Married | Own  | Not in Labor Force | oxchjgsf | Non-MSA                  | 0 | 0 | <!----> | <!----> | 0 |\n",
       "| 2 | 3 | 2 | 0 | 1 | 0 | 1 | 0 | 1 | 1 | 0 | ⋯ | Not Married | Rent | Employed           | bhuqouqj | MSA, Not Principle  City | 0 | 0 | pxcmvdjn | xgwztkwe | 0 |\n",
       "| 3 | 1 | 1 | 0 | 1 | 0 | 0 | 0 | 0 | 0 | 0 | ⋯ | Not Married | Own  | Employed           | qufhixun | MSA, Not Principle  City | 2 | 0 | rucpziij | xtkaffoo | 0 |\n",
       "| 4 | 1 | 1 | 0 | 1 | 0 | 1 | 1 | 0 | 0 | 0 | ⋯ | Not Married | Rent | Not in Labor Force | lrircsnp | MSA, Principle City      | 0 | 0 | <!----> | <!----> | 0 |\n",
       "| 5 | 2 | 1 | 0 | 1 | 0 | 1 | 1 | 0 | 1 | 0 | ⋯ | Married     | Own  | Employed           | qufhixun | MSA, Not Principle  City | 1 | 0 | wxleyezf | emcorrxb | 0 |\n",
       "| 6 | 3 | 1 | 0 | 1 | 0 | 1 | 0 | 0 | 1 | 0 | ⋯ | Married     | Own  | Employed           | atmpeygn | MSA, Principle City      | 2 | 3 | saaquncn | vlluhbov | 0 |\n",
       "\n"
      ],
      "text/plain": [
       "  h1n1_concern h1n1_knowledge behavioral_antiviral_meds behavioral_avoidance\n",
       "1 1            0              0                         0                   \n",
       "2 3            2              0                         1                   \n",
       "3 1            1              0                         1                   \n",
       "4 1            1              0                         1                   \n",
       "5 2            1              0                         1                   \n",
       "6 3            1              0                         1                   \n",
       "  behavioral_face_mask behavioral_wash_hands behavioral_large_gatherings\n",
       "1 0                    0                     0                          \n",
       "2 0                    1                     0                          \n",
       "3 0                    0                     0                          \n",
       "4 0                    1                     1                          \n",
       "5 0                    1                     1                          \n",
       "6 0                    1                     0                          \n",
       "  behavioral_outside_home behavioral_touch_face doctor_recc_h1n1 ⋯\n",
       "1 1                       1                     0                ⋯\n",
       "2 1                       1                     0                ⋯\n",
       "3 0                       0                     0                ⋯\n",
       "4 0                       0                     0                ⋯\n",
       "5 0                       1                     0                ⋯\n",
       "6 0                       1                     0                ⋯\n",
       "  marital_status rent_or_own employment_status  hhs_geo_region\n",
       "1 Not Married    Own         Not in Labor Force oxchjgsf      \n",
       "2 Not Married    Rent        Employed           bhuqouqj      \n",
       "3 Not Married    Own         Employed           qufhixun      \n",
       "4 Not Married    Rent        Not in Labor Force lrircsnp      \n",
       "5 Married        Own         Employed           qufhixun      \n",
       "6 Married        Own         Employed           atmpeygn      \n",
       "  census_msa               household_adults household_children\n",
       "1 Non-MSA                  0                0                 \n",
       "2 MSA, Not Principle  City 0                0                 \n",
       "3 MSA, Not Principle  City 2                0                 \n",
       "4 MSA, Principle City      0                0                 \n",
       "5 MSA, Not Principle  City 1                0                 \n",
       "6 MSA, Principle City      2                3                 \n",
       "  employment_industry employment_occupation h1n1_vaccine\n",
       "1                                           0           \n",
       "2 pxcmvdjn            xgwztkwe              0           \n",
       "3 rucpziij            xtkaffoo              0           \n",
       "4                                           0           \n",
       "5 wxleyezf            emcorrxb              0           \n",
       "6 saaquncn            vlluhbov              0           "
      ]
     },
     "metadata": {},
     "output_type": "display_data"
    },
    {
     "data": {
      "text/html": [
       "<table class=\"dataframe\">\n",
       "<caption>A data.frame: 6 × 36</caption>\n",
       "<thead>\n",
       "\t<tr><th></th><th scope=col>respondent_id</th><th scope=col>h1n1_concern</th><th scope=col>h1n1_knowledge</th><th scope=col>behavioral_antiviral_meds</th><th scope=col>behavioral_avoidance</th><th scope=col>behavioral_face_mask</th><th scope=col>behavioral_wash_hands</th><th scope=col>behavioral_large_gatherings</th><th scope=col>behavioral_outside_home</th><th scope=col>behavioral_touch_face</th><th scope=col>⋯</th><th scope=col>income_poverty</th><th scope=col>marital_status</th><th scope=col>rent_or_own</th><th scope=col>employment_status</th><th scope=col>hhs_geo_region</th><th scope=col>census_msa</th><th scope=col>household_adults</th><th scope=col>household_children</th><th scope=col>employment_industry</th><th scope=col>employment_occupation</th></tr>\n",
       "\t<tr><th></th><th scope=col>&lt;int&gt;</th><th scope=col>&lt;dbl&gt;</th><th scope=col>&lt;dbl&gt;</th><th scope=col>&lt;dbl&gt;</th><th scope=col>&lt;dbl&gt;</th><th scope=col>&lt;dbl&gt;</th><th scope=col>&lt;dbl&gt;</th><th scope=col>&lt;dbl&gt;</th><th scope=col>&lt;dbl&gt;</th><th scope=col>&lt;dbl&gt;</th><th scope=col>⋯</th><th scope=col>&lt;fct&gt;</th><th scope=col>&lt;fct&gt;</th><th scope=col>&lt;fct&gt;</th><th scope=col>&lt;fct&gt;</th><th scope=col>&lt;fct&gt;</th><th scope=col>&lt;fct&gt;</th><th scope=col>&lt;dbl&gt;</th><th scope=col>&lt;dbl&gt;</th><th scope=col>&lt;fct&gt;</th><th scope=col>&lt;fct&gt;</th></tr>\n",
       "</thead>\n",
       "<tbody>\n",
       "\t<tr><th scope=row>1</th><td>26707</td><td>2</td><td>2</td><td>0</td><td>1</td><td>0</td><td>1</td><td>1</td><td>0</td><td>1</td><td>⋯</td><td><span style=white-space:pre-wrap>&gt; $75,000                </span></td><td>Not Married</td><td>Rent</td><td><span style=white-space:pre-wrap>Employed          </span></td><td>mlyzmhmf</td><td><span style=white-space:pre-wrap>MSA, Not Principle  City</span></td><td>1</td><td>0</td><td>atmlpfrs</td><td>hfxkjkmi</td></tr>\n",
       "\t<tr><th scope=row>2</th><td>26708</td><td>1</td><td>1</td><td>0</td><td>0</td><td>0</td><td>0</td><td>0</td><td>0</td><td>0</td><td>⋯</td><td>Below Poverty            </td><td>Not Married</td><td>Rent</td><td>Employed          </td><td>bhuqouqj</td><td>Non-MSA                 </td><td>3</td><td>0</td><td>atmlpfrs</td><td>xqwwgdyp</td></tr>\n",
       "\t<tr><th scope=row>3</th><td>26709</td><td>2</td><td>2</td><td>0</td><td>0</td><td>1</td><td>1</td><td>1</td><td>1</td><td>1</td><td>⋯</td><td><span style=white-space:pre-wrap>&gt; $75,000                </span></td><td><span style=white-space:pre-wrap>Married    </span></td><td>Own </td><td><span style=white-space:pre-wrap>Employed          </span></td><td>lrircsnp</td><td><span style=white-space:pre-wrap>Non-MSA                 </span></td><td>1</td><td>0</td><td>nduyfdeo</td><td>pvmttkik</td></tr>\n",
       "\t<tr><th scope=row>4</th><td>26710</td><td>1</td><td>1</td><td>0</td><td>0</td><td>0</td><td>0</td><td>0</td><td>0</td><td>0</td><td>⋯</td><td>&lt;= $75,000, Above Poverty</td><td><span style=white-space:pre-wrap>Married    </span></td><td>Own </td><td>Not in Labor Force</td><td>lrircsnp</td><td><span style=white-space:pre-wrap>MSA, Not Principle  City</span></td><td>1</td><td>0</td><td><span style=white-space:pre-wrap>        </span></td><td><span style=white-space:pre-wrap>        </span></td></tr>\n",
       "\t<tr><th scope=row>5</th><td>26711</td><td>3</td><td>1</td><td>1</td><td>1</td><td>0</td><td>1</td><td>1</td><td>1</td><td>1</td><td>⋯</td><td>&lt;= $75,000, Above Poverty</td><td>Not Married</td><td>Own </td><td><span style=white-space:pre-wrap>Employed          </span></td><td>lzgpxyit</td><td><span style=white-space:pre-wrap>Non-MSA                 </span></td><td>0</td><td>1</td><td>fcxhlnwr</td><td>mxkfnird</td></tr>\n",
       "\t<tr><th scope=row>6</th><td>26712</td><td>2</td><td>2</td><td>0</td><td>1</td><td>0</td><td>1</td><td>1</td><td>0</td><td>1</td><td>⋯</td><td><span style=white-space:pre-wrap>&gt; $75,000                </span></td><td>Not Married</td><td>Own </td><td><span style=white-space:pre-wrap>Employed          </span></td><td>mlyzmhmf</td><td><span style=white-space:pre-wrap>MSA, Principle City     </span></td><td>0</td><td>2</td><td>fcxhlnwr</td><td>cmhcxjea</td></tr>\n",
       "</tbody>\n",
       "</table>\n"
      ],
      "text/latex": [
       "A data.frame: 6 × 36\n",
       "\\begin{tabular}{r|lllllllllllllllllllll}\n",
       "  & respondent\\_id & h1n1\\_concern & h1n1\\_knowledge & behavioral\\_antiviral\\_meds & behavioral\\_avoidance & behavioral\\_face\\_mask & behavioral\\_wash\\_hands & behavioral\\_large\\_gatherings & behavioral\\_outside\\_home & behavioral\\_touch\\_face & ⋯ & income\\_poverty & marital\\_status & rent\\_or\\_own & employment\\_status & hhs\\_geo\\_region & census\\_msa & household\\_adults & household\\_children & employment\\_industry & employment\\_occupation\\\\\n",
       "  & <int> & <dbl> & <dbl> & <dbl> & <dbl> & <dbl> & <dbl> & <dbl> & <dbl> & <dbl> & ⋯ & <fct> & <fct> & <fct> & <fct> & <fct> & <fct> & <dbl> & <dbl> & <fct> & <fct>\\\\\n",
       "\\hline\n",
       "\t1 & 26707 & 2 & 2 & 0 & 1 & 0 & 1 & 1 & 0 & 1 & ⋯ & > \\$75,000                 & Not Married & Rent & Employed           & mlyzmhmf & MSA, Not Principle  City & 1 & 0 & atmlpfrs & hfxkjkmi\\\\\n",
       "\t2 & 26708 & 1 & 1 & 0 & 0 & 0 & 0 & 0 & 0 & 0 & ⋯ & Below Poverty             & Not Married & Rent & Employed           & bhuqouqj & Non-MSA                  & 3 & 0 & atmlpfrs & xqwwgdyp\\\\\n",
       "\t3 & 26709 & 2 & 2 & 0 & 0 & 1 & 1 & 1 & 1 & 1 & ⋯ & > \\$75,000                 & Married     & Own  & Employed           & lrircsnp & Non-MSA                  & 1 & 0 & nduyfdeo & pvmttkik\\\\\n",
       "\t4 & 26710 & 1 & 1 & 0 & 0 & 0 & 0 & 0 & 0 & 0 & ⋯ & <= \\$75,000, Above Poverty & Married     & Own  & Not in Labor Force & lrircsnp & MSA, Not Principle  City & 1 & 0 &          &         \\\\\n",
       "\t5 & 26711 & 3 & 1 & 1 & 1 & 0 & 1 & 1 & 1 & 1 & ⋯ & <= \\$75,000, Above Poverty & Not Married & Own  & Employed           & lzgpxyit & Non-MSA                  & 0 & 1 & fcxhlnwr & mxkfnird\\\\\n",
       "\t6 & 26712 & 2 & 2 & 0 & 1 & 0 & 1 & 1 & 0 & 1 & ⋯ & > \\$75,000                 & Not Married & Own  & Employed           & mlyzmhmf & MSA, Principle City      & 0 & 2 & fcxhlnwr & cmhcxjea\\\\\n",
       "\\end{tabular}\n"
      ],
      "text/markdown": [
       "\n",
       "A data.frame: 6 × 36\n",
       "\n",
       "| <!--/--> | respondent_id &lt;int&gt; | h1n1_concern &lt;dbl&gt; | h1n1_knowledge &lt;dbl&gt; | behavioral_antiviral_meds &lt;dbl&gt; | behavioral_avoidance &lt;dbl&gt; | behavioral_face_mask &lt;dbl&gt; | behavioral_wash_hands &lt;dbl&gt; | behavioral_large_gatherings &lt;dbl&gt; | behavioral_outside_home &lt;dbl&gt; | behavioral_touch_face &lt;dbl&gt; | ⋯ ⋯ | income_poverty &lt;fct&gt; | marital_status &lt;fct&gt; | rent_or_own &lt;fct&gt; | employment_status &lt;fct&gt; | hhs_geo_region &lt;fct&gt; | census_msa &lt;fct&gt; | household_adults &lt;dbl&gt; | household_children &lt;dbl&gt; | employment_industry &lt;fct&gt; | employment_occupation &lt;fct&gt; |\n",
       "|---|---|---|---|---|---|---|---|---|---|---|---|---|---|---|---|---|---|---|---|---|---|\n",
       "| 1 | 26707 | 2 | 2 | 0 | 1 | 0 | 1 | 1 | 0 | 1 | ⋯ | &gt; $75,000                 | Not Married | Rent | Employed           | mlyzmhmf | MSA, Not Principle  City | 1 | 0 | atmlpfrs | hfxkjkmi |\n",
       "| 2 | 26708 | 1 | 1 | 0 | 0 | 0 | 0 | 0 | 0 | 0 | ⋯ | Below Poverty             | Not Married | Rent | Employed           | bhuqouqj | Non-MSA                  | 3 | 0 | atmlpfrs | xqwwgdyp |\n",
       "| 3 | 26709 | 2 | 2 | 0 | 0 | 1 | 1 | 1 | 1 | 1 | ⋯ | &gt; $75,000                 | Married     | Own  | Employed           | lrircsnp | Non-MSA                  | 1 | 0 | nduyfdeo | pvmttkik |\n",
       "| 4 | 26710 | 1 | 1 | 0 | 0 | 0 | 0 | 0 | 0 | 0 | ⋯ | &lt;= $75,000, Above Poverty | Married     | Own  | Not in Labor Force | lrircsnp | MSA, Not Principle  City | 1 | 0 | <!----> | <!----> |\n",
       "| 5 | 26711 | 3 | 1 | 1 | 1 | 0 | 1 | 1 | 1 | 1 | ⋯ | &lt;= $75,000, Above Poverty | Not Married | Own  | Employed           | lzgpxyit | Non-MSA                  | 0 | 1 | fcxhlnwr | mxkfnird |\n",
       "| 6 | 26712 | 2 | 2 | 0 | 1 | 0 | 1 | 1 | 0 | 1 | ⋯ | &gt; $75,000                 | Not Married | Own  | Employed           | mlyzmhmf | MSA, Principle City      | 0 | 2 | fcxhlnwr | cmhcxjea |\n",
       "\n"
      ],
      "text/plain": [
       "  respondent_id h1n1_concern h1n1_knowledge behavioral_antiviral_meds\n",
       "1 26707         2            2              0                        \n",
       "2 26708         1            1              0                        \n",
       "3 26709         2            2              0                        \n",
       "4 26710         1            1              0                        \n",
       "5 26711         3            1              1                        \n",
       "6 26712         2            2              0                        \n",
       "  behavioral_avoidance behavioral_face_mask behavioral_wash_hands\n",
       "1 1                    0                    1                    \n",
       "2 0                    0                    0                    \n",
       "3 0                    1                    1                    \n",
       "4 0                    0                    0                    \n",
       "5 1                    0                    1                    \n",
       "6 1                    0                    1                    \n",
       "  behavioral_large_gatherings behavioral_outside_home behavioral_touch_face ⋯\n",
       "1 1                           0                       1                     ⋯\n",
       "2 0                           0                       0                     ⋯\n",
       "3 1                           1                       1                     ⋯\n",
       "4 0                           0                       0                     ⋯\n",
       "5 1                           1                       1                     ⋯\n",
       "6 1                           0                       1                     ⋯\n",
       "  income_poverty            marital_status rent_or_own employment_status \n",
       "1 > $75,000                 Not Married    Rent        Employed          \n",
       "2 Below Poverty             Not Married    Rent        Employed          \n",
       "3 > $75,000                 Married        Own         Employed          \n",
       "4 <= $75,000, Above Poverty Married        Own         Not in Labor Force\n",
       "5 <= $75,000, Above Poverty Not Married    Own         Employed          \n",
       "6 > $75,000                 Not Married    Own         Employed          \n",
       "  hhs_geo_region census_msa               household_adults household_children\n",
       "1 mlyzmhmf       MSA, Not Principle  City 1                0                 \n",
       "2 bhuqouqj       Non-MSA                  3                0                 \n",
       "3 lrircsnp       Non-MSA                  1                0                 \n",
       "4 lrircsnp       MSA, Not Principle  City 1                0                 \n",
       "5 lzgpxyit       Non-MSA                  0                1                 \n",
       "6 mlyzmhmf       MSA, Principle City      0                2                 \n",
       "  employment_industry employment_occupation\n",
       "1 atmlpfrs            hfxkjkmi             \n",
       "2 atmlpfrs            xqwwgdyp             \n",
       "3 nduyfdeo            pvmttkik             \n",
       "4                                          \n",
       "5 fcxhlnwr            mxkfnird             \n",
       "6 fcxhlnwr            cmhcxjea             "
      ]
     },
     "metadata": {},
     "output_type": "display_data"
    }
   ],
   "source": [
    "library(\"randomForest\")\n",
    "spam <- data.frame(training_set_features[2:length(training_set_features)], training_set_labels[2]) \n",
    "head(spam)\n",
    "head(test_set_features)\n",
    "# head(spam)\n",
    "n_trees <- 100 # 600 = 0.8385 precision\n",
    "threshold <- 0.5\n",
    "\n",
    "\n",
    "accuracy_vec <- array(0,n_trees)\n",
    "\n",
    "spam_idx <- sample(1:nrow(spam))\n",
    "half_split <- floor(nrow(spam)/2)\n",
    "target_variable <- ncol(spam)\n",
    "\n",
    "train_data <- spam[spam_idx[1:half_split],]\n",
    "\n",
    "test_data <- spam[spam_idx[(half_split+1):nrow(spam)],]\n",
    "    \n",
    "model <- randomForest(x=train_data[,-c(target_variable)],\n",
    "                          y=as.factor(train_data[,c(target_variable)]),\n",
    "                          xtest=test_data[,-c(target_variable)],\n",
    "                          ytest=as.factor(test_data[,c(target_variable)]),\n",
    "                          ntree=n_trees, \n",
    "                          keep.forest=TRUE)\n",
    "\n",
    "Y_pred <- data.frame(predict(model,test_set_features[2:length(test_set_features)]))\n",
    "submission <- data.frame(submission_format[1], Y_pred)\n",
    "\n",
    "\n",
    "\n",
    "spam <- data.frame(training_set_features[2:length(training_set_features)], training_set_labels[3]) \n",
    "n_trees <- 90 # 800 = 0.772 precision\n",
    "accuracy_vec <- array(0, n_trees)\n",
    "\n",
    "spam_idx <- sample(1:nrow(spam))\n",
    "half_split <- floor(nrow(spam)/2)\n",
    "target_variable <- ncol(spam)\n",
    "\n",
    "train_data <- spam[spam_idx[1:half_split],]\n",
    "\n",
    "test_data <- spam[spam_idx[(half_split+1):nrow(spam)],]\n",
    "    \n",
    "model <- randomForest(x=train_data[,-c(target_variable)],\n",
    "                          y=as.factor(train_data[,c(target_variable)]),\n",
    "                          xtest=test_data[,-c(target_variable)],\n",
    "                          ytest=as.factor(test_data[,c(target_variable)]),\n",
    "                          ntree=n_trees, \n",
    "                          keep.forest=TRUE)\n",
    "\n",
    "Y_pred <- data.frame(predict(model, test_set_features[2:length(test_set_features)]))\n",
    "submission <- data.frame(submission, Y_pred)\n",
    "x <- submission\n",
    "levels(x[,2]) <- c(\"0.0\", \"1.0\")\n",
    "levels(x[,3]) <- c(\"0.0\", \"1.0\")\n",
    "write.csv(x,\"sample_data/answers.csv\", row.names = FALSE, quote=FALSE)"
   ]
  },
  {
   "cell_type": "markdown",
   "metadata": {},
   "source": [
    "\n",
    "#### Example of simple equation\n",
    "\\begin{equation}\n",
    "e = mc^2\n",
    "\\end{equation}\n",
    "\n",
    "#### Example of matrix equation - Cross product formula:\n",
    "\n",
    "\\begin{equation*}\n",
    "\\mathbf{V}_1 \\times \\mathbf{V}_2 =  \n",
    "\\begin{vmatrix}\n",
    "\\mathbf{i} & \\mathbf{j} & \\mathbf{k} \\\\\n",
    "\\frac{\\partial X}{\\partial u} &  \\frac{\\partial Y}{\\partial u} & 0 \\\\\n",
    "\\frac{\\partial X}{\\partial v} &  \\frac{\\partial Y}{\\partial v} & 0\n",
    "\\end{vmatrix}\n",
    "\\end{equation*}\n",
    "\n",
    "#### Example of multiline equation - The Lorenz Equations:\n",
    "\n",
    "\\begin{align}\n",
    "\\dot{x} & = \\sigma(y-x) \\\\\n",
    "\\dot{y} & = \\rho x - y - xz \\\\\n",
    "\\dot{z} & = -\\beta z + xy\n",
    "\\end{align}\n",
    "\n",
    "#### Example of Markdown Table:\n",
    "\n",
    "| This | is   |\n",
    "|------|------|\n",
    "|   a  | table|\n"
   ]
  },
  {
   "cell_type": "markdown",
   "metadata": {
    "id": "9j5b3jTIkyu7"
   },
   "source": [
    "# Alternative models\n",
    "\n",
    "\n",
    "\n"
   ]
  },
  {
   "cell_type": "code",
   "execution_count": 157,
   "metadata": {},
   "outputs": [
    {
     "data": {
      "text/html": [
       "<table class=\"dataframe\">\n",
       "<caption>A data.frame: 6 × 46</caption>\n",
       "<thead>\n",
       "\t<tr><th></th><th scope=col>h1n1_concern</th><th scope=col>h1n1_knowledge</th><th scope=col>behavioral_antiviral_meds</th><th scope=col>behavioral_avoidance</th><th scope=col>behavioral_face_mask</th><th scope=col>behavioral_wash_hands</th><th scope=col>behavioral_large_gatherings</th><th scope=col>behavioral_outside_home</th><th scope=col>behavioral_touch_face</th><th scope=col>doctor_recc_h1n1</th><th scope=col>⋯</th><th scope=col>employment_not_specified</th><th scope=col>Employed</th><th scope=col>Not.in.Labor.Force</th><th scope=col>Unemployed</th><th scope=col>MSA..Not.Principle..City</th><th scope=col>MSA..Principle.City</th><th scope=col>Non.MSA</th><th scope=col>household_adults</th><th scope=col>household_children</th><th scope=col>h1n1_vaccine</th></tr>\n",
       "\t<tr><th></th><th scope=col>&lt;dbl&gt;</th><th scope=col>&lt;dbl&gt;</th><th scope=col>&lt;dbl&gt;</th><th scope=col>&lt;dbl&gt;</th><th scope=col>&lt;dbl&gt;</th><th scope=col>&lt;dbl&gt;</th><th scope=col>&lt;dbl&gt;</th><th scope=col>&lt;dbl&gt;</th><th scope=col>&lt;dbl&gt;</th><th scope=col>&lt;dbl&gt;</th><th scope=col>⋯</th><th scope=col>&lt;dbl&gt;</th><th scope=col>&lt;dbl&gt;</th><th scope=col>&lt;dbl&gt;</th><th scope=col>&lt;dbl&gt;</th><th scope=col>&lt;dbl&gt;</th><th scope=col>&lt;dbl&gt;</th><th scope=col>&lt;dbl&gt;</th><th scope=col>&lt;dbl&gt;</th><th scope=col>&lt;dbl&gt;</th><th scope=col>&lt;int&gt;</th></tr>\n",
       "</thead>\n",
       "<tbody>\n",
       "\t<tr><th scope=row>1</th><td>0.3333333</td><td>0.0</td><td>0</td><td>0</td><td>0</td><td>0</td><td>0</td><td>1</td><td>1</td><td>0</td><td>⋯</td><td>0</td><td>0</td><td>1</td><td>0</td><td>0</td><td>0</td><td>1</td><td>0.0000000</td><td>0</td><td>0</td></tr>\n",
       "\t<tr><th scope=row>2</th><td>1.0000000</td><td>1.0</td><td>0</td><td>1</td><td>0</td><td>1</td><td>0</td><td>1</td><td>1</td><td>0</td><td>⋯</td><td>0</td><td>1</td><td>0</td><td>0</td><td>1</td><td>0</td><td>0</td><td>0.0000000</td><td>0</td><td>0</td></tr>\n",
       "\t<tr><th scope=row>3</th><td>0.3333333</td><td>0.5</td><td>0</td><td>1</td><td>0</td><td>0</td><td>0</td><td>0</td><td>0</td><td>0</td><td>⋯</td><td>0</td><td>1</td><td>0</td><td>0</td><td>1</td><td>0</td><td>0</td><td>0.6666667</td><td>0</td><td>0</td></tr>\n",
       "\t<tr><th scope=row>4</th><td>0.3333333</td><td>0.5</td><td>0</td><td>1</td><td>0</td><td>1</td><td>1</td><td>0</td><td>0</td><td>0</td><td>⋯</td><td>0</td><td>0</td><td>1</td><td>0</td><td>0</td><td>1</td><td>0</td><td>0.0000000</td><td>0</td><td>0</td></tr>\n",
       "\t<tr><th scope=row>5</th><td>0.6666667</td><td>0.5</td><td>0</td><td>1</td><td>0</td><td>1</td><td>1</td><td>0</td><td>1</td><td>0</td><td>⋯</td><td>0</td><td>1</td><td>0</td><td>0</td><td>1</td><td>0</td><td>0</td><td>0.3333333</td><td>0</td><td>0</td></tr>\n",
       "\t<tr><th scope=row>6</th><td>1.0000000</td><td>0.5</td><td>0</td><td>1</td><td>0</td><td>1</td><td>0</td><td>0</td><td>1</td><td>0</td><td>⋯</td><td>0</td><td>1</td><td>0</td><td>0</td><td>0</td><td>1</td><td>0</td><td>0.6666667</td><td>1</td><td>0</td></tr>\n",
       "</tbody>\n",
       "</table>\n"
      ],
      "text/latex": [
       "A data.frame: 6 × 46\n",
       "\\begin{tabular}{r|lllllllllllllllllllll}\n",
       "  & h1n1\\_concern & h1n1\\_knowledge & behavioral\\_antiviral\\_meds & behavioral\\_avoidance & behavioral\\_face\\_mask & behavioral\\_wash\\_hands & behavioral\\_large\\_gatherings & behavioral\\_outside\\_home & behavioral\\_touch\\_face & doctor\\_recc\\_h1n1 & ⋯ & employment\\_not\\_specified & Employed & Not.in.Labor.Force & Unemployed & MSA..Not.Principle..City & MSA..Principle.City & Non.MSA & household\\_adults & household\\_children & h1n1\\_vaccine\\\\\n",
       "  & <dbl> & <dbl> & <dbl> & <dbl> & <dbl> & <dbl> & <dbl> & <dbl> & <dbl> & <dbl> & ⋯ & <dbl> & <dbl> & <dbl> & <dbl> & <dbl> & <dbl> & <dbl> & <dbl> & <dbl> & <int>\\\\\n",
       "\\hline\n",
       "\t1 & 0.3333333 & 0.0 & 0 & 0 & 0 & 0 & 0 & 1 & 1 & 0 & ⋯ & 0 & 0 & 1 & 0 & 0 & 0 & 1 & 0.0000000 & 0 & 0\\\\\n",
       "\t2 & 1.0000000 & 1.0 & 0 & 1 & 0 & 1 & 0 & 1 & 1 & 0 & ⋯ & 0 & 1 & 0 & 0 & 1 & 0 & 0 & 0.0000000 & 0 & 0\\\\\n",
       "\t3 & 0.3333333 & 0.5 & 0 & 1 & 0 & 0 & 0 & 0 & 0 & 0 & ⋯ & 0 & 1 & 0 & 0 & 1 & 0 & 0 & 0.6666667 & 0 & 0\\\\\n",
       "\t4 & 0.3333333 & 0.5 & 0 & 1 & 0 & 1 & 1 & 0 & 0 & 0 & ⋯ & 0 & 0 & 1 & 0 & 0 & 1 & 0 & 0.0000000 & 0 & 0\\\\\n",
       "\t5 & 0.6666667 & 0.5 & 0 & 1 & 0 & 1 & 1 & 0 & 1 & 0 & ⋯ & 0 & 1 & 0 & 0 & 1 & 0 & 0 & 0.3333333 & 0 & 0\\\\\n",
       "\t6 & 1.0000000 & 0.5 & 0 & 1 & 0 & 1 & 0 & 0 & 1 & 0 & ⋯ & 0 & 1 & 0 & 0 & 0 & 1 & 0 & 0.6666667 & 1 & 0\\\\\n",
       "\\end{tabular}\n"
      ],
      "text/markdown": [
       "\n",
       "A data.frame: 6 × 46\n",
       "\n",
       "| <!--/--> | h1n1_concern &lt;dbl&gt; | h1n1_knowledge &lt;dbl&gt; | behavioral_antiviral_meds &lt;dbl&gt; | behavioral_avoidance &lt;dbl&gt; | behavioral_face_mask &lt;dbl&gt; | behavioral_wash_hands &lt;dbl&gt; | behavioral_large_gatherings &lt;dbl&gt; | behavioral_outside_home &lt;dbl&gt; | behavioral_touch_face &lt;dbl&gt; | doctor_recc_h1n1 &lt;dbl&gt; | ⋯ ⋯ | employment_not_specified &lt;dbl&gt; | Employed &lt;dbl&gt; | Not.in.Labor.Force &lt;dbl&gt; | Unemployed &lt;dbl&gt; | MSA..Not.Principle..City &lt;dbl&gt; | MSA..Principle.City &lt;dbl&gt; | Non.MSA &lt;dbl&gt; | household_adults &lt;dbl&gt; | household_children &lt;dbl&gt; | h1n1_vaccine &lt;int&gt; |\n",
       "|---|---|---|---|---|---|---|---|---|---|---|---|---|---|---|---|---|---|---|---|---|---|\n",
       "| 1 | 0.3333333 | 0.0 | 0 | 0 | 0 | 0 | 0 | 1 | 1 | 0 | ⋯ | 0 | 0 | 1 | 0 | 0 | 0 | 1 | 0.0000000 | 0 | 0 |\n",
       "| 2 | 1.0000000 | 1.0 | 0 | 1 | 0 | 1 | 0 | 1 | 1 | 0 | ⋯ | 0 | 1 | 0 | 0 | 1 | 0 | 0 | 0.0000000 | 0 | 0 |\n",
       "| 3 | 0.3333333 | 0.5 | 0 | 1 | 0 | 0 | 0 | 0 | 0 | 0 | ⋯ | 0 | 1 | 0 | 0 | 1 | 0 | 0 | 0.6666667 | 0 | 0 |\n",
       "| 4 | 0.3333333 | 0.5 | 0 | 1 | 0 | 1 | 1 | 0 | 0 | 0 | ⋯ | 0 | 0 | 1 | 0 | 0 | 1 | 0 | 0.0000000 | 0 | 0 |\n",
       "| 5 | 0.6666667 | 0.5 | 0 | 1 | 0 | 1 | 1 | 0 | 1 | 0 | ⋯ | 0 | 1 | 0 | 0 | 1 | 0 | 0 | 0.3333333 | 0 | 0 |\n",
       "| 6 | 1.0000000 | 0.5 | 0 | 1 | 0 | 1 | 0 | 0 | 1 | 0 | ⋯ | 0 | 1 | 0 | 0 | 0 | 1 | 0 | 0.6666667 | 1 | 0 |\n",
       "\n"
      ],
      "text/plain": [
       "  h1n1_concern h1n1_knowledge behavioral_antiviral_meds behavioral_avoidance\n",
       "1 0.3333333    0.0            0                         0                   \n",
       "2 1.0000000    1.0            0                         1                   \n",
       "3 0.3333333    0.5            0                         1                   \n",
       "4 0.3333333    0.5            0                         1                   \n",
       "5 0.6666667    0.5            0                         1                   \n",
       "6 1.0000000    0.5            0                         1                   \n",
       "  behavioral_face_mask behavioral_wash_hands behavioral_large_gatherings\n",
       "1 0                    0                     0                          \n",
       "2 0                    1                     0                          \n",
       "3 0                    0                     0                          \n",
       "4 0                    1                     1                          \n",
       "5 0                    1                     1                          \n",
       "6 0                    1                     0                          \n",
       "  behavioral_outside_home behavioral_touch_face doctor_recc_h1n1 ⋯\n",
       "1 1                       1                     0                ⋯\n",
       "2 1                       1                     0                ⋯\n",
       "3 0                       0                     0                ⋯\n",
       "4 0                       0                     0                ⋯\n",
       "5 0                       1                     0                ⋯\n",
       "6 0                       1                     0                ⋯\n",
       "  employment_not_specified Employed Not.in.Labor.Force Unemployed\n",
       "1 0                        0        1                  0         \n",
       "2 0                        1        0                  0         \n",
       "3 0                        1        0                  0         \n",
       "4 0                        0        1                  0         \n",
       "5 0                        1        0                  0         \n",
       "6 0                        1        0                  0         \n",
       "  MSA..Not.Principle..City MSA..Principle.City Non.MSA household_adults\n",
       "1 0                        0                   1       0.0000000       \n",
       "2 1                        0                   0       0.0000000       \n",
       "3 1                        0                   0       0.6666667       \n",
       "4 0                        1                   0       0.0000000       \n",
       "5 1                        0                   0       0.3333333       \n",
       "6 0                        1                   0       0.6666667       \n",
       "  household_children h1n1_vaccine\n",
       "1 0                  0           \n",
       "2 0                  0           \n",
       "3 0                  0           \n",
       "4 0                  0           \n",
       "5 0                  0           \n",
       "6 1                  0           "
      ]
     },
     "metadata": {},
     "output_type": "display_data"
    },
    {
     "name": "stderr",
     "output_type": "stream",
     "text": [
      "\u001b[36mℹ\u001b[39m SHA-1 hash of file is bf3c7b8ac910823b729e3ce73bb6ab5e6955ad3d\n",
      "\n"
     ]
    }
   ],
   "source": [
    "training_sf_nn <- data.frame(training_sf[2:length(training_sf)], training_set_labels[2]) # target = h1n1\n",
    "head(training_sf_nn)\n",
    "\n",
    "options(repr.plot.width=20, repr.plot.height=10)\n",
    "library(nnet)\n",
    "library(devtools)\n",
    "library(RSNNS)\n",
    "library(kernlab)\n",
    "source_url('https://gist.githubusercontent.com/Peque/41a9e20d6687f2f3108d/raw/85e14f3a292e126f1454864427e3a189c2fe33f3/nnet_plot_update.r')\n"
   ]
  },
  {
   "cell_type": "code",
   "execution_count": 166,
   "metadata": {
    "scrolled": false
   },
   "outputs": [
    {
     "name": "stdout",
     "output_type": "stream",
     "text": [
      "# weights:  471\n",
      "initial  value 4540.768408 \n",
      "iter  10 value 2843.675678\n",
      "iter  20 value 2839.052757\n",
      "iter  30 value 1606.884095\n",
      "iter  40 value 1570.744419\n",
      "iter  50 value 1545.379214\n",
      "iter  60 value 1519.598795\n",
      "iter  70 value 1492.032990\n",
      "iter  80 value 1457.290221\n",
      "iter  90 value 1431.346031\n",
      "iter 100 value 1407.819762\n",
      "iter 110 value 1393.192574\n",
      "iter 120 value 1384.838810\n",
      "iter 130 value 1367.388516\n",
      "iter 140 value 1356.673878\n",
      "iter 150 value 1351.650315\n",
      "iter 160 value 1348.305315\n",
      "iter 170 value 1344.965484\n",
      "iter 180 value 1342.685418\n",
      "iter 190 value 1340.911516\n",
      "iter 200 value 1339.807639\n",
      "iter 210 value 1338.798361\n",
      "iter 220 value 1337.871296\n",
      "iter 230 value 1337.104807\n",
      "iter 240 value 1336.462225\n",
      "iter 250 value 1335.967567\n",
      "iter 260 value 1335.435950\n",
      "iter 270 value 1335.036547\n",
      "iter 280 value 1334.730346\n",
      "iter 290 value 1334.389092\n",
      "iter 300 value 1334.111267\n",
      "iter 310 value 1333.910726\n",
      "iter 320 value 1333.798049\n",
      "iter 330 value 1333.634797\n",
      "iter 340 value 1333.531225\n",
      "iter 350 value 1333.493423\n",
      "iter 360 value 1333.463260\n",
      "iter 370 value 1333.436815\n",
      "iter 380 value 1333.419452\n",
      "iter 390 value 1333.413874\n",
      "iter 400 value 1333.410723\n",
      "iter 410 value 1333.407182\n",
      "iter 420 value 1333.405680\n",
      "iter 430 value 1333.405041\n",
      "iter 440 value 1333.404348\n",
      "iter 450 value 1333.403743\n",
      "iter 460 value 1333.403336\n",
      "iter 470 value 1333.403107\n",
      "final  value 1333.402999 \n",
      "converged\n"
     ]
    },
    {
     "data": {
      "text/plain": [
       "a 45-10-1 network with 471 weights\n",
       "inputs: h1n1_concern h1n1_knowledge behavioral_antiviral_meds behavioral_avoidance behavioral_face_mask behavioral_wash_hands behavioral_large_gatherings behavioral_outside_home behavioral_touch_face doctor_recc_h1n1 doctor_recc_seasonal chronic_med_condition child_under_6_months health_worker health_insurance opinion_h1n1_vacc_effective opinion_h1n1_risk opinion_h1n1_sick_from_vacc opinion_seas_vacc_effective opinion_seas_risk opinion_seas_sick_from_vacc age_group education Black Hispanic Other.or.Multiple White Female Male income_poverty marital_status_not_specified Married Not.Married rental_not_specified Own Rent employment_not_specified Employed Not.in.Labor.Force Unemployed MSA..Not.Principle..City MSA..Principle.City Non.MSA household_adults household_children \n",
       "output(s): h1n1_vaccine \n",
       "options were - decay=5e-04"
      ]
     },
     "metadata": {},
     "output_type": "display_data"
    },
    {
     "name": "stdout",
     "output_type": "stream",
     "text": [
      "Y pred"
     ]
    },
    {
     "data": {
      "text/html": [
       "<table class=\"dataframe\">\n",
       "<caption>A matrix: 13354 × 1 of type dbl</caption>\n",
       "<tbody>\n",
       "\t<tr><th scope=row>8884</th><td>4.077753e-01</td></tr>\n",
       "\t<tr><th scope=row>1524</th><td>6.172848e-02</td></tr>\n",
       "\t<tr><th scope=row>16276</th><td>1.569356e-01</td></tr>\n",
       "\t<tr><th scope=row>7573</th><td>5.365700e-07</td></tr>\n",
       "\t<tr><th scope=row>10177</th><td>0.000000e+00</td></tr>\n",
       "\t<tr><th scope=row>9913</th><td>2.898905e-01</td></tr>\n",
       "\t<tr><th scope=row>25157</th><td>7.727633e-02</td></tr>\n",
       "\t<tr><th scope=row>12227</th><td>1.877466e-03</td></tr>\n",
       "\t<tr><th scope=row>18289</th><td>1.086610e-01</td></tr>\n",
       "\t<tr><th scope=row>17431</th><td>0.000000e+00</td></tr>\n",
       "\t<tr><th scope=row>25894</th><td>6.899406e-01</td></tr>\n",
       "\t<tr><th scope=row>23996</th><td>1.714334e-02</td></tr>\n",
       "\t<tr><th scope=row>23610</th><td>6.656041e-02</td></tr>\n",
       "\t<tr><th scope=row>25268</th><td>7.860994e-01</td></tr>\n",
       "\t<tr><th scope=row>1867</th><td>1.085378e-01</td></tr>\n",
       "\t<tr><th scope=row>15123</th><td>5.475136e-02</td></tr>\n",
       "\t<tr><th scope=row>19158</th><td>0.000000e+00</td></tr>\n",
       "\t<tr><th scope=row>21345</th><td>2.599045e-01</td></tr>\n",
       "\t<tr><th scope=row>19301</th><td>3.176637e-02</td></tr>\n",
       "\t<tr><th scope=row>25376</th><td>7.658409e-01</td></tr>\n",
       "\t<tr><th scope=row>4320</th><td>8.344873e-02</td></tr>\n",
       "\t<tr><th scope=row>18172</th><td>1.690657e-02</td></tr>\n",
       "\t<tr><th scope=row>8185</th><td>5.142170e-01</td></tr>\n",
       "\t<tr><th scope=row>23706</th><td>9.271697e-01</td></tr>\n",
       "\t<tr><th scope=row>26162</th><td>3.494492e-02</td></tr>\n",
       "\t<tr><th scope=row>17807</th><td>2.523823e-03</td></tr>\n",
       "\t<tr><th scope=row>1497</th><td>2.153053e-01</td></tr>\n",
       "\t<tr><th scope=row>11054</th><td>7.133033e-02</td></tr>\n",
       "\t<tr><th scope=row>24297</th><td>6.969881e-02</td></tr>\n",
       "\t<tr><th scope=row>330</th><td>7.454283e-01</td></tr>\n",
       "\t<tr><th scope=row>⋮</th><td>⋮</td></tr>\n",
       "\t<tr><th scope=row>13</th><td>0.0134691860</td></tr>\n",
       "\t<tr><th scope=row>21980</th><td>0.0991512637</td></tr>\n",
       "\t<tr><th scope=row>16651</th><td>0.0072169495</td></tr>\n",
       "\t<tr><th scope=row>23989</th><td>0.0011081044</td></tr>\n",
       "\t<tr><th scope=row>2488</th><td>0.1162252896</td></tr>\n",
       "\t<tr><th scope=row>25118</th><td>0.0634860301</td></tr>\n",
       "\t<tr><th scope=row>19409</th><td>0.0314080767</td></tr>\n",
       "\t<tr><th scope=row>2534</th><td>0.0441842168</td></tr>\n",
       "\t<tr><th scope=row>19348</th><td>0.5416416252</td></tr>\n",
       "\t<tr><th scope=row>20164</th><td>0.0124030885</td></tr>\n",
       "\t<tr><th scope=row>12373</th><td>0.0000000000</td></tr>\n",
       "\t<tr><th scope=row>24891</th><td>0.0627534360</td></tr>\n",
       "\t<tr><th scope=row>23462</th><td>0.0001502007</td></tr>\n",
       "\t<tr><th scope=row>5537</th><td>0.1726442335</td></tr>\n",
       "\t<tr><th scope=row>558</th><td>0.0018869238</td></tr>\n",
       "\t<tr><th scope=row>14972</th><td>0.0729776359</td></tr>\n",
       "\t<tr><th scope=row>11981</th><td>0.0310038502</td></tr>\n",
       "\t<tr><th scope=row>13375</th><td>0.0127785809</td></tr>\n",
       "\t<tr><th scope=row>12997</th><td>0.0032953251</td></tr>\n",
       "\t<tr><th scope=row>16948</th><td>0.2224430244</td></tr>\n",
       "\t<tr><th scope=row>17715</th><td>0.0138830942</td></tr>\n",
       "\t<tr><th scope=row>10930</th><td>0.0043326015</td></tr>\n",
       "\t<tr><th scope=row>7517</th><td>0.9626807232</td></tr>\n",
       "\t<tr><th scope=row>15558</th><td>0.5043398435</td></tr>\n",
       "\t<tr><th scope=row>11264</th><td>0.0000000000</td></tr>\n",
       "\t<tr><th scope=row>9621</th><td>0.5211904729</td></tr>\n",
       "\t<tr><th scope=row>1218</th><td>0.0000000000</td></tr>\n",
       "\t<tr><th scope=row>9138</th><td>0.2278515921</td></tr>\n",
       "\t<tr><th scope=row>12366</th><td>0.1120207572</td></tr>\n",
       "\t<tr><th scope=row>16192</th><td>0.9111916297</td></tr>\n",
       "</tbody>\n",
       "</table>\n"
      ],
      "text/latex": [
       "A matrix: 13354 × 1 of type dbl\n",
       "\\begin{tabular}{r|l}\n",
       "\t8884 & 4.077753e-01\\\\\n",
       "\t1524 & 6.172848e-02\\\\\n",
       "\t16276 & 1.569356e-01\\\\\n",
       "\t7573 & 5.365700e-07\\\\\n",
       "\t10177 & 0.000000e+00\\\\\n",
       "\t9913 & 2.898905e-01\\\\\n",
       "\t25157 & 7.727633e-02\\\\\n",
       "\t12227 & 1.877466e-03\\\\\n",
       "\t18289 & 1.086610e-01\\\\\n",
       "\t17431 & 0.000000e+00\\\\\n",
       "\t25894 & 6.899406e-01\\\\\n",
       "\t23996 & 1.714334e-02\\\\\n",
       "\t23610 & 6.656041e-02\\\\\n",
       "\t25268 & 7.860994e-01\\\\\n",
       "\t1867 & 1.085378e-01\\\\\n",
       "\t15123 & 5.475136e-02\\\\\n",
       "\t19158 & 0.000000e+00\\\\\n",
       "\t21345 & 2.599045e-01\\\\\n",
       "\t19301 & 3.176637e-02\\\\\n",
       "\t25376 & 7.658409e-01\\\\\n",
       "\t4320 & 8.344873e-02\\\\\n",
       "\t18172 & 1.690657e-02\\\\\n",
       "\t8185 & 5.142170e-01\\\\\n",
       "\t23706 & 9.271697e-01\\\\\n",
       "\t26162 & 3.494492e-02\\\\\n",
       "\t17807 & 2.523823e-03\\\\\n",
       "\t1497 & 2.153053e-01\\\\\n",
       "\t11054 & 7.133033e-02\\\\\n",
       "\t24297 & 6.969881e-02\\\\\n",
       "\t330 & 7.454283e-01\\\\\n",
       "\t⋮ & ⋮\\\\\n",
       "\t13 & 0.0134691860\\\\\n",
       "\t21980 & 0.0991512637\\\\\n",
       "\t16651 & 0.0072169495\\\\\n",
       "\t23989 & 0.0011081044\\\\\n",
       "\t2488 & 0.1162252896\\\\\n",
       "\t25118 & 0.0634860301\\\\\n",
       "\t19409 & 0.0314080767\\\\\n",
       "\t2534 & 0.0441842168\\\\\n",
       "\t19348 & 0.5416416252\\\\\n",
       "\t20164 & 0.0124030885\\\\\n",
       "\t12373 & 0.0000000000\\\\\n",
       "\t24891 & 0.0627534360\\\\\n",
       "\t23462 & 0.0001502007\\\\\n",
       "\t5537 & 0.1726442335\\\\\n",
       "\t558 & 0.0018869238\\\\\n",
       "\t14972 & 0.0729776359\\\\\n",
       "\t11981 & 0.0310038502\\\\\n",
       "\t13375 & 0.0127785809\\\\\n",
       "\t12997 & 0.0032953251\\\\\n",
       "\t16948 & 0.2224430244\\\\\n",
       "\t17715 & 0.0138830942\\\\\n",
       "\t10930 & 0.0043326015\\\\\n",
       "\t7517 & 0.9626807232\\\\\n",
       "\t15558 & 0.5043398435\\\\\n",
       "\t11264 & 0.0000000000\\\\\n",
       "\t9621 & 0.5211904729\\\\\n",
       "\t1218 & 0.0000000000\\\\\n",
       "\t9138 & 0.2278515921\\\\\n",
       "\t12366 & 0.1120207572\\\\\n",
       "\t16192 & 0.9111916297\\\\\n",
       "\\end{tabular}\n"
      ],
      "text/markdown": [
       "\n",
       "A matrix: 13354 × 1 of type dbl\n",
       "\n",
       "| 8884 | 4.077753e-01 |\n",
       "| 1524 | 6.172848e-02 |\n",
       "| 16276 | 1.569356e-01 |\n",
       "| 7573 | 5.365700e-07 |\n",
       "| 10177 | 0.000000e+00 |\n",
       "| 9913 | 2.898905e-01 |\n",
       "| 25157 | 7.727633e-02 |\n",
       "| 12227 | 1.877466e-03 |\n",
       "| 18289 | 1.086610e-01 |\n",
       "| 17431 | 0.000000e+00 |\n",
       "| 25894 | 6.899406e-01 |\n",
       "| 23996 | 1.714334e-02 |\n",
       "| 23610 | 6.656041e-02 |\n",
       "| 25268 | 7.860994e-01 |\n",
       "| 1867 | 1.085378e-01 |\n",
       "| 15123 | 5.475136e-02 |\n",
       "| 19158 | 0.000000e+00 |\n",
       "| 21345 | 2.599045e-01 |\n",
       "| 19301 | 3.176637e-02 |\n",
       "| 25376 | 7.658409e-01 |\n",
       "| 4320 | 8.344873e-02 |\n",
       "| 18172 | 1.690657e-02 |\n",
       "| 8185 | 5.142170e-01 |\n",
       "| 23706 | 9.271697e-01 |\n",
       "| 26162 | 3.494492e-02 |\n",
       "| 17807 | 2.523823e-03 |\n",
       "| 1497 | 2.153053e-01 |\n",
       "| 11054 | 7.133033e-02 |\n",
       "| 24297 | 6.969881e-02 |\n",
       "| 330 | 7.454283e-01 |\n",
       "| ⋮ | ⋮ |\n",
       "| 13 | 0.0134691860 |\n",
       "| 21980 | 0.0991512637 |\n",
       "| 16651 | 0.0072169495 |\n",
       "| 23989 | 0.0011081044 |\n",
       "| 2488 | 0.1162252896 |\n",
       "| 25118 | 0.0634860301 |\n",
       "| 19409 | 0.0314080767 |\n",
       "| 2534 | 0.0441842168 |\n",
       "| 19348 | 0.5416416252 |\n",
       "| 20164 | 0.0124030885 |\n",
       "| 12373 | 0.0000000000 |\n",
       "| 24891 | 0.0627534360 |\n",
       "| 23462 | 0.0001502007 |\n",
       "| 5537 | 0.1726442335 |\n",
       "| 558 | 0.0018869238 |\n",
       "| 14972 | 0.0729776359 |\n",
       "| 11981 | 0.0310038502 |\n",
       "| 13375 | 0.0127785809 |\n",
       "| 12997 | 0.0032953251 |\n",
       "| 16948 | 0.2224430244 |\n",
       "| 17715 | 0.0138830942 |\n",
       "| 10930 | 0.0043326015 |\n",
       "| 7517 | 0.9626807232 |\n",
       "| 15558 | 0.5043398435 |\n",
       "| 11264 | 0.0000000000 |\n",
       "| 9621 | 0.5211904729 |\n",
       "| 1218 | 0.0000000000 |\n",
       "| 9138 | 0.2278515921 |\n",
       "| 12366 | 0.1120207572 |\n",
       "| 16192 | 0.9111916297 |\n",
       "\n"
      ],
      "text/plain": [
       "      [,1]        \n",
       "8884  4.077753e-01\n",
       "1524  6.172848e-02\n",
       "16276 1.569356e-01\n",
       "7573  5.365700e-07\n",
       "10177 0.000000e+00\n",
       "9913  2.898905e-01\n",
       "25157 7.727633e-02\n",
       "12227 1.877466e-03\n",
       "18289 1.086610e-01\n",
       "17431 0.000000e+00\n",
       "25894 6.899406e-01\n",
       "23996 1.714334e-02\n",
       "23610 6.656041e-02\n",
       "25268 7.860994e-01\n",
       "1867  1.085378e-01\n",
       "15123 5.475136e-02\n",
       "19158 0.000000e+00\n",
       "21345 2.599045e-01\n",
       "19301 3.176637e-02\n",
       "25376 7.658409e-01\n",
       "4320  8.344873e-02\n",
       "18172 1.690657e-02\n",
       "8185  5.142170e-01\n",
       "23706 9.271697e-01\n",
       "26162 3.494492e-02\n",
       "17807 2.523823e-03\n",
       "1497  2.153053e-01\n",
       "11054 7.133033e-02\n",
       "24297 6.969881e-02\n",
       "330   7.454283e-01\n",
       "⋮     ⋮           \n",
       "13    0.0134691860\n",
       "21980 0.0991512637\n",
       "16651 0.0072169495\n",
       "23989 0.0011081044\n",
       "2488  0.1162252896\n",
       "25118 0.0634860301\n",
       "19409 0.0314080767\n",
       "2534  0.0441842168\n",
       "19348 0.5416416252\n",
       "20164 0.0124030885\n",
       "12373 0.0000000000\n",
       "24891 0.0627534360\n",
       "23462 0.0001502007\n",
       "5537  0.1726442335\n",
       "558   0.0018869238\n",
       "14972 0.0729776359\n",
       "11981 0.0310038502\n",
       "13375 0.0127785809\n",
       "12997 0.0032953251\n",
       "16948 0.2224430244\n",
       "17715 0.0138830942\n",
       "10930 0.0043326015\n",
       "7517  0.9626807232\n",
       "15558 0.5043398435\n",
       "11264 0.0000000000\n",
       "9621  0.5211904729\n",
       "1218  0.0000000000\n",
       "9138  0.2278515921\n",
       "12366 0.1120207572\n",
       "16192 0.9111916297"
      ]
     },
     "metadata": {},
     "output_type": "display_data"
    }
   ],
   "source": [
    "\n",
    "threshold <- 0.5\n",
    "idx <- sample(1:nrow(training_sf_nn))\n",
    "\n",
    "type <- \"h1n1_vaccine\"\n",
    "\n",
    "half_split <- floor(nrow(training_sf_nn)/2)\n",
    "target_variable <- ncol(training_sf_nn)\n",
    "train_data <- training_sf_nn[idx[1:half_split],]\n",
    "\n",
    "test_data <- training_sf_nn[idx[(half_split+1):nrow(training_sf_nn)],]\n",
    "\n",
    "hidden_nodes <- 10\n",
    "\n",
    "model_single_out <- nnet(h1n1_vaccine ~ ., data=train_data, size=hidden_nodes, skip=FALSE,trace=T, maxit=3000, decay = 5e-4, rang=0.2) #rang = 0.2\n",
    "model_single_out\n",
    "\n",
    "\n",
    "Y_pred<-predict(model_single_out,test_data[,-target_variable])\n",
    "\n",
    "Y_hat_single_out <- ifelse(Y_pred >= threshold,\"1\",\"0\") \n",
    "\n",
    "# cat(\"Y pred\")\n",
    "# Y_pred\n",
    "# cat(\"Y single out\")\n",
    "# Y_hat_single_out"
   ]
  },
  {
   "cell_type": "code",
   "execution_count": 173,
   "metadata": {},
   "outputs": [
    {
     "name": "stdout",
     "output_type": "stream",
     "text": [
      "# weights:  471\n",
      "initial  value 3676.025510 \n",
      "iter  10 value 3324.448976\n",
      "iter  20 value 3323.654657\n",
      "iter  30 value 2489.992326\n",
      "iter  40 value 2214.700762\n",
      "iter  50 value 2189.694025\n",
      "iter  60 value 2146.569758\n",
      "iter  70 value 2131.183180\n",
      "iter  80 value 2116.967975\n",
      "iter  90 value 2108.175871\n",
      "iter 100 value 2104.175041\n",
      "iter 110 value 2100.814978\n",
      "iter 120 value 2088.008685\n",
      "iter 130 value 2081.869386\n",
      "iter 140 value 2077.833980\n",
      "iter 150 value 2074.776801\n",
      "iter 160 value 2072.423286\n",
      "iter 170 value 2061.892832\n",
      "iter 180 value 2043.032565\n",
      "iter 190 value 2028.643309\n",
      "iter 200 value 2010.694379\n",
      "iter 210 value 1992.138534\n",
      "iter 220 value 1973.104527\n",
      "iter 230 value 1963.885456\n",
      "iter 240 value 1953.280336\n",
      "iter 250 value 1944.151704\n",
      "iter 260 value 1940.183728\n",
      "iter 270 value 1930.332789\n",
      "iter 280 value 1916.201548\n",
      "iter 290 value 1911.249714\n",
      "iter 300 value 1908.369719\n",
      "iter 310 value 1906.794163\n",
      "iter 320 value 1905.305051\n",
      "iter 330 value 1904.490454\n",
      "iter 340 value 1904.184550\n",
      "iter 350 value 1904.011469\n",
      "iter 360 value 1903.846633\n",
      "iter 370 value 1903.741811\n",
      "iter 380 value 1903.596407\n",
      "iter 390 value 1903.457492\n",
      "iter 400 value 1903.409411\n",
      "iter 410 value 1903.373818\n",
      "iter 420 value 1903.356071\n",
      "iter 430 value 1903.350530\n",
      "iter 440 value 1903.343393\n",
      "iter 450 value 1903.338212\n",
      "iter 460 value 1903.336318\n",
      "iter 470 value 1903.335118\n",
      "iter 480 value 1903.334555\n",
      "iter 490 value 1903.334289\n",
      "final  value 1903.334104 \n",
      "converged\n"
     ]
    },
    {
     "data": {
      "text/plain": [
       "a 45-10-1 network with 471 weights\n",
       "inputs: h1n1_concern h1n1_knowledge behavioral_antiviral_meds behavioral_avoidance behavioral_face_mask behavioral_wash_hands behavioral_large_gatherings behavioral_outside_home behavioral_touch_face doctor_recc_h1n1 doctor_recc_seasonal chronic_med_condition child_under_6_months health_worker health_insurance opinion_h1n1_vacc_effective opinion_h1n1_risk opinion_h1n1_sick_from_vacc opinion_seas_vacc_effective opinion_seas_risk opinion_seas_sick_from_vacc age_group education Black Hispanic Other.or.Multiple White Female Male income_poverty marital_status_not_specified Married Not.Married rental_not_specified Own Rent employment_not_specified Employed Not.in.Labor.Force Unemployed MSA..Not.Principle..City MSA..Principle.City Non.MSA household_adults household_children \n",
       "output(s): seasonal_vaccine \n",
       "options were - decay=5e-04"
      ]
     },
     "metadata": {},
     "output_type": "display_data"
    },
    {
     "data": {
      "text/html": [
       "<table class=\"dataframe\">\n",
       "<caption>A data.frame: 26708 × 3</caption>\n",
       "<thead>\n",
       "\t<tr><th></th><th scope=col>respondent_id</th><th scope=col>h1n1_vaccine</th><th scope=col>seasonal_vaccine</th></tr>\n",
       "\t<tr><th></th><th scope=col>&lt;int&gt;</th><th scope=col>&lt;dbl&gt;</th><th scope=col>&lt;dbl&gt;</th></tr>\n",
       "</thead>\n",
       "<tbody>\n",
       "\t<tr><th scope=row>1</th><td>26707</td><td>1.557066e-02</td><td>0.037886057</td></tr>\n",
       "\t<tr><th scope=row>2</th><td>26708</td><td>0.000000e+00</td><td>0.463049985</td></tr>\n",
       "\t<tr><th scope=row>3</th><td>26709</td><td>5.818287e-01</td><td>0.926790326</td></tr>\n",
       "\t<tr><th scope=row>4</th><td>26710</td><td>7.148772e-01</td><td>0.138429472</td></tr>\n",
       "\t<tr><th scope=row>5</th><td>26711</td><td>5.062966e-01</td><td>0.128997660</td></tr>\n",
       "\t<tr><th scope=row>6</th><td>26712</td><td>5.569479e-01</td><td>0.900624515</td></tr>\n",
       "\t<tr><th scope=row>7</th><td>26713</td><td>1.852126e-01</td><td>0.233122204</td></tr>\n",
       "\t<tr><th scope=row>8</th><td>26714</td><td>2.508006e-03</td><td>0.209007819</td></tr>\n",
       "\t<tr><th scope=row>9</th><td>26715</td><td>1.344783e-02</td><td>0.689869244</td></tr>\n",
       "\t<tr><th scope=row>10</th><td>26716</td><td>3.990172e-07</td><td>0.228299298</td></tr>\n",
       "\t<tr><th scope=row>11</th><td>26717</td><td>0.000000e+00</td><td>0.087351298</td></tr>\n",
       "\t<tr><th scope=row>12</th><td>26718</td><td>3.091726e-01</td><td>0.188838063</td></tr>\n",
       "\t<tr><th scope=row>13</th><td>26719</td><td>0.000000e+00</td><td>0.487673844</td></tr>\n",
       "\t<tr><th scope=row>14</th><td>26720</td><td>7.835459e-03</td><td>0.002036243</td></tr>\n",
       "\t<tr><th scope=row>15</th><td>26721</td><td>1.821706e-01</td><td>0.790557991</td></tr>\n",
       "\t<tr><th scope=row>16</th><td>26722</td><td>6.535411e-02</td><td>0.210966041</td></tr>\n",
       "\t<tr><th scope=row>17</th><td>26723</td><td>6.435238e-01</td><td>0.066220553</td></tr>\n",
       "\t<tr><th scope=row>18</th><td>26724</td><td>2.160621e-02</td><td>0.327338179</td></tr>\n",
       "\t<tr><th scope=row>19</th><td>26725</td><td>1.252991e-02</td><td>0.840730058</td></tr>\n",
       "\t<tr><th scope=row>20</th><td>26726</td><td>6.339092e-03</td><td>0.795175556</td></tr>\n",
       "\t<tr><th scope=row>21</th><td>26727</td><td>3.198059e-01</td><td>0.836210652</td></tr>\n",
       "\t<tr><th scope=row>22</th><td>26728</td><td>2.404483e-01</td><td>0.029078129</td></tr>\n",
       "\t<tr><th scope=row>23</th><td>26729</td><td>1.137015e-01</td><td>0.086586074</td></tr>\n",
       "\t<tr><th scope=row>24</th><td>26730</td><td>1.092141e-01</td><td>0.841256474</td></tr>\n",
       "\t<tr><th scope=row>25</th><td>26731</td><td>2.321759e-03</td><td>0.073677718</td></tr>\n",
       "\t<tr><th scope=row>26</th><td>26732</td><td>4.779324e-03</td><td>0.422306303</td></tr>\n",
       "\t<tr><th scope=row>27</th><td>26733</td><td>9.128790e-01</td><td>0.553968833</td></tr>\n",
       "\t<tr><th scope=row>28</th><td>26734</td><td>9.999991e-01</td><td>0.862569638</td></tr>\n",
       "\t<tr><th scope=row>29</th><td>26735</td><td>0.000000e+00</td><td>0.008625090</td></tr>\n",
       "\t<tr><th scope=row>30</th><td>26736</td><td>1.539669e-03</td><td>0.047081575</td></tr>\n",
       "\t<tr><th scope=row>⋮</th><td>⋮</td><td>⋮</td><td>⋮</td></tr>\n",
       "\t<tr><th scope=row>26679</th><td>53385</td><td>0.5052833890</td><td>0.497379374</td></tr>\n",
       "\t<tr><th scope=row>26680</th><td>53386</td><td>0.6070430038</td><td>0.806190155</td></tr>\n",
       "\t<tr><th scope=row>26681</th><td>53387</td><td>0.0597118178</td><td>0.000000000</td></tr>\n",
       "\t<tr><th scope=row>26682</th><td>53388</td><td>0.0150701976</td><td>0.907942779</td></tr>\n",
       "\t<tr><th scope=row>26683</th><td>53389</td><td>0.9668781124</td><td>0.166633972</td></tr>\n",
       "\t<tr><th scope=row>26684</th><td>53390</td><td>0.0074450529</td><td>0.645202090</td></tr>\n",
       "\t<tr><th scope=row>26685</th><td>53391</td><td>0.8970425230</td><td>0.894350566</td></tr>\n",
       "\t<tr><th scope=row>26686</th><td>53392</td><td>0.0058082588</td><td>0.726818394</td></tr>\n",
       "\t<tr><th scope=row>26687</th><td>53393</td><td>0.1133287697</td><td>0.028383566</td></tr>\n",
       "\t<tr><th scope=row>26688</th><td>53394</td><td>0.6546416663</td><td>0.381691204</td></tr>\n",
       "\t<tr><th scope=row>26689</th><td>53395</td><td>0.0045859824</td><td>0.696941991</td></tr>\n",
       "\t<tr><th scope=row>26690</th><td>53396</td><td>0.1385606682</td><td>0.001881725</td></tr>\n",
       "\t<tr><th scope=row>26691</th><td>53397</td><td>0.2386626025</td><td>0.595524765</td></tr>\n",
       "\t<tr><th scope=row>26692</th><td>53398</td><td>0.1334209421</td><td>0.021356200</td></tr>\n",
       "\t<tr><th scope=row>26693</th><td>53399</td><td>0.0171116243</td><td>0.972687280</td></tr>\n",
       "\t<tr><th scope=row>26694</th><td>53400</td><td>0.7722523489</td><td>0.597691015</td></tr>\n",
       "\t<tr><th scope=row>26695</th><td>53401</td><td>0.0173290609</td><td>0.985800535</td></tr>\n",
       "\t<tr><th scope=row>26696</th><td>53402</td><td>0.5719206029</td><td>0.274142164</td></tr>\n",
       "\t<tr><th scope=row>26697</th><td>53403</td><td>0.7831861724</td><td>0.081090322</td></tr>\n",
       "\t<tr><th scope=row>26698</th><td>53404</td><td>0.1349243831</td><td>0.897866468</td></tr>\n",
       "\t<tr><th scope=row>26699</th><td>53405</td><td>0.0195133729</td><td>0.856469656</td></tr>\n",
       "\t<tr><th scope=row>26700</th><td>53406</td><td>0.1664320382</td><td>0.517458107</td></tr>\n",
       "\t<tr><th scope=row>26701</th><td>53407</td><td>0.0001744594</td><td>0.306837027</td></tr>\n",
       "\t<tr><th scope=row>26702</th><td>53408</td><td>0.2008704932</td><td>0.065486373</td></tr>\n",
       "\t<tr><th scope=row>26703</th><td>53409</td><td>0.0310827879</td><td>0.126950833</td></tr>\n",
       "\t<tr><th scope=row>26704</th><td>53410</td><td>0.7272052454</td><td>0.956580620</td></tr>\n",
       "\t<tr><th scope=row>26705</th><td>53411</td><td>0.0018783514</td><td>0.047654286</td></tr>\n",
       "\t<tr><th scope=row>26706</th><td>53412</td><td>0.1914515390</td><td>0.419490606</td></tr>\n",
       "\t<tr><th scope=row>26707</th><td>53413</td><td>0.0000000000</td><td>0.841540671</td></tr>\n",
       "\t<tr><th scope=row>26708</th><td>53414</td><td>0.1021785824</td><td>0.012768424</td></tr>\n",
       "</tbody>\n",
       "</table>\n"
      ],
      "text/latex": [
       "A data.frame: 26708 × 3\n",
       "\\begin{tabular}{r|lll}\n",
       "  & respondent\\_id & h1n1\\_vaccine & seasonal\\_vaccine\\\\\n",
       "  & <int> & <dbl> & <dbl>\\\\\n",
       "\\hline\n",
       "\t1 & 26707 & 1.557066e-02 & 0.037886057\\\\\n",
       "\t2 & 26708 & 0.000000e+00 & 0.463049985\\\\\n",
       "\t3 & 26709 & 5.818287e-01 & 0.926790326\\\\\n",
       "\t4 & 26710 & 7.148772e-01 & 0.138429472\\\\\n",
       "\t5 & 26711 & 5.062966e-01 & 0.128997660\\\\\n",
       "\t6 & 26712 & 5.569479e-01 & 0.900624515\\\\\n",
       "\t7 & 26713 & 1.852126e-01 & 0.233122204\\\\\n",
       "\t8 & 26714 & 2.508006e-03 & 0.209007819\\\\\n",
       "\t9 & 26715 & 1.344783e-02 & 0.689869244\\\\\n",
       "\t10 & 26716 & 3.990172e-07 & 0.228299298\\\\\n",
       "\t11 & 26717 & 0.000000e+00 & 0.087351298\\\\\n",
       "\t12 & 26718 & 3.091726e-01 & 0.188838063\\\\\n",
       "\t13 & 26719 & 0.000000e+00 & 0.487673844\\\\\n",
       "\t14 & 26720 & 7.835459e-03 & 0.002036243\\\\\n",
       "\t15 & 26721 & 1.821706e-01 & 0.790557991\\\\\n",
       "\t16 & 26722 & 6.535411e-02 & 0.210966041\\\\\n",
       "\t17 & 26723 & 6.435238e-01 & 0.066220553\\\\\n",
       "\t18 & 26724 & 2.160621e-02 & 0.327338179\\\\\n",
       "\t19 & 26725 & 1.252991e-02 & 0.840730058\\\\\n",
       "\t20 & 26726 & 6.339092e-03 & 0.795175556\\\\\n",
       "\t21 & 26727 & 3.198059e-01 & 0.836210652\\\\\n",
       "\t22 & 26728 & 2.404483e-01 & 0.029078129\\\\\n",
       "\t23 & 26729 & 1.137015e-01 & 0.086586074\\\\\n",
       "\t24 & 26730 & 1.092141e-01 & 0.841256474\\\\\n",
       "\t25 & 26731 & 2.321759e-03 & 0.073677718\\\\\n",
       "\t26 & 26732 & 4.779324e-03 & 0.422306303\\\\\n",
       "\t27 & 26733 & 9.128790e-01 & 0.553968833\\\\\n",
       "\t28 & 26734 & 9.999991e-01 & 0.862569638\\\\\n",
       "\t29 & 26735 & 0.000000e+00 & 0.008625090\\\\\n",
       "\t30 & 26736 & 1.539669e-03 & 0.047081575\\\\\n",
       "\t⋮ & ⋮ & ⋮ & ⋮\\\\\n",
       "\t26679 & 53385 & 0.5052833890 & 0.497379374\\\\\n",
       "\t26680 & 53386 & 0.6070430038 & 0.806190155\\\\\n",
       "\t26681 & 53387 & 0.0597118178 & 0.000000000\\\\\n",
       "\t26682 & 53388 & 0.0150701976 & 0.907942779\\\\\n",
       "\t26683 & 53389 & 0.9668781124 & 0.166633972\\\\\n",
       "\t26684 & 53390 & 0.0074450529 & 0.645202090\\\\\n",
       "\t26685 & 53391 & 0.8970425230 & 0.894350566\\\\\n",
       "\t26686 & 53392 & 0.0058082588 & 0.726818394\\\\\n",
       "\t26687 & 53393 & 0.1133287697 & 0.028383566\\\\\n",
       "\t26688 & 53394 & 0.6546416663 & 0.381691204\\\\\n",
       "\t26689 & 53395 & 0.0045859824 & 0.696941991\\\\\n",
       "\t26690 & 53396 & 0.1385606682 & 0.001881725\\\\\n",
       "\t26691 & 53397 & 0.2386626025 & 0.595524765\\\\\n",
       "\t26692 & 53398 & 0.1334209421 & 0.021356200\\\\\n",
       "\t26693 & 53399 & 0.0171116243 & 0.972687280\\\\\n",
       "\t26694 & 53400 & 0.7722523489 & 0.597691015\\\\\n",
       "\t26695 & 53401 & 0.0173290609 & 0.985800535\\\\\n",
       "\t26696 & 53402 & 0.5719206029 & 0.274142164\\\\\n",
       "\t26697 & 53403 & 0.7831861724 & 0.081090322\\\\\n",
       "\t26698 & 53404 & 0.1349243831 & 0.897866468\\\\\n",
       "\t26699 & 53405 & 0.0195133729 & 0.856469656\\\\\n",
       "\t26700 & 53406 & 0.1664320382 & 0.517458107\\\\\n",
       "\t26701 & 53407 & 0.0001744594 & 0.306837027\\\\\n",
       "\t26702 & 53408 & 0.2008704932 & 0.065486373\\\\\n",
       "\t26703 & 53409 & 0.0310827879 & 0.126950833\\\\\n",
       "\t26704 & 53410 & 0.7272052454 & 0.956580620\\\\\n",
       "\t26705 & 53411 & 0.0018783514 & 0.047654286\\\\\n",
       "\t26706 & 53412 & 0.1914515390 & 0.419490606\\\\\n",
       "\t26707 & 53413 & 0.0000000000 & 0.841540671\\\\\n",
       "\t26708 & 53414 & 0.1021785824 & 0.012768424\\\\\n",
       "\\end{tabular}\n"
      ],
      "text/markdown": [
       "\n",
       "A data.frame: 26708 × 3\n",
       "\n",
       "| <!--/--> | respondent_id &lt;int&gt; | h1n1_vaccine &lt;dbl&gt; | seasonal_vaccine &lt;dbl&gt; |\n",
       "|---|---|---|---|\n",
       "| 1 | 26707 | 1.557066e-02 | 0.037886057 |\n",
       "| 2 | 26708 | 0.000000e+00 | 0.463049985 |\n",
       "| 3 | 26709 | 5.818287e-01 | 0.926790326 |\n",
       "| 4 | 26710 | 7.148772e-01 | 0.138429472 |\n",
       "| 5 | 26711 | 5.062966e-01 | 0.128997660 |\n",
       "| 6 | 26712 | 5.569479e-01 | 0.900624515 |\n",
       "| 7 | 26713 | 1.852126e-01 | 0.233122204 |\n",
       "| 8 | 26714 | 2.508006e-03 | 0.209007819 |\n",
       "| 9 | 26715 | 1.344783e-02 | 0.689869244 |\n",
       "| 10 | 26716 | 3.990172e-07 | 0.228299298 |\n",
       "| 11 | 26717 | 0.000000e+00 | 0.087351298 |\n",
       "| 12 | 26718 | 3.091726e-01 | 0.188838063 |\n",
       "| 13 | 26719 | 0.000000e+00 | 0.487673844 |\n",
       "| 14 | 26720 | 7.835459e-03 | 0.002036243 |\n",
       "| 15 | 26721 | 1.821706e-01 | 0.790557991 |\n",
       "| 16 | 26722 | 6.535411e-02 | 0.210966041 |\n",
       "| 17 | 26723 | 6.435238e-01 | 0.066220553 |\n",
       "| 18 | 26724 | 2.160621e-02 | 0.327338179 |\n",
       "| 19 | 26725 | 1.252991e-02 | 0.840730058 |\n",
       "| 20 | 26726 | 6.339092e-03 | 0.795175556 |\n",
       "| 21 | 26727 | 3.198059e-01 | 0.836210652 |\n",
       "| 22 | 26728 | 2.404483e-01 | 0.029078129 |\n",
       "| 23 | 26729 | 1.137015e-01 | 0.086586074 |\n",
       "| 24 | 26730 | 1.092141e-01 | 0.841256474 |\n",
       "| 25 | 26731 | 2.321759e-03 | 0.073677718 |\n",
       "| 26 | 26732 | 4.779324e-03 | 0.422306303 |\n",
       "| 27 | 26733 | 9.128790e-01 | 0.553968833 |\n",
       "| 28 | 26734 | 9.999991e-01 | 0.862569638 |\n",
       "| 29 | 26735 | 0.000000e+00 | 0.008625090 |\n",
       "| 30 | 26736 | 1.539669e-03 | 0.047081575 |\n",
       "| ⋮ | ⋮ | ⋮ | ⋮ |\n",
       "| 26679 | 53385 | 0.5052833890 | 0.497379374 |\n",
       "| 26680 | 53386 | 0.6070430038 | 0.806190155 |\n",
       "| 26681 | 53387 | 0.0597118178 | 0.000000000 |\n",
       "| 26682 | 53388 | 0.0150701976 | 0.907942779 |\n",
       "| 26683 | 53389 | 0.9668781124 | 0.166633972 |\n",
       "| 26684 | 53390 | 0.0074450529 | 0.645202090 |\n",
       "| 26685 | 53391 | 0.8970425230 | 0.894350566 |\n",
       "| 26686 | 53392 | 0.0058082588 | 0.726818394 |\n",
       "| 26687 | 53393 | 0.1133287697 | 0.028383566 |\n",
       "| 26688 | 53394 | 0.6546416663 | 0.381691204 |\n",
       "| 26689 | 53395 | 0.0045859824 | 0.696941991 |\n",
       "| 26690 | 53396 | 0.1385606682 | 0.001881725 |\n",
       "| 26691 | 53397 | 0.2386626025 | 0.595524765 |\n",
       "| 26692 | 53398 | 0.1334209421 | 0.021356200 |\n",
       "| 26693 | 53399 | 0.0171116243 | 0.972687280 |\n",
       "| 26694 | 53400 | 0.7722523489 | 0.597691015 |\n",
       "| 26695 | 53401 | 0.0173290609 | 0.985800535 |\n",
       "| 26696 | 53402 | 0.5719206029 | 0.274142164 |\n",
       "| 26697 | 53403 | 0.7831861724 | 0.081090322 |\n",
       "| 26698 | 53404 | 0.1349243831 | 0.897866468 |\n",
       "| 26699 | 53405 | 0.0195133729 | 0.856469656 |\n",
       "| 26700 | 53406 | 0.1664320382 | 0.517458107 |\n",
       "| 26701 | 53407 | 0.0001744594 | 0.306837027 |\n",
       "| 26702 | 53408 | 0.2008704932 | 0.065486373 |\n",
       "| 26703 | 53409 | 0.0310827879 | 0.126950833 |\n",
       "| 26704 | 53410 | 0.7272052454 | 0.956580620 |\n",
       "| 26705 | 53411 | 0.0018783514 | 0.047654286 |\n",
       "| 26706 | 53412 | 0.1914515390 | 0.419490606 |\n",
       "| 26707 | 53413 | 0.0000000000 | 0.841540671 |\n",
       "| 26708 | 53414 | 0.1021785824 | 0.012768424 |\n",
       "\n"
      ],
      "text/plain": [
       "      respondent_id h1n1_vaccine seasonal_vaccine\n",
       "1     26707         1.557066e-02 0.037886057     \n",
       "2     26708         0.000000e+00 0.463049985     \n",
       "3     26709         5.818287e-01 0.926790326     \n",
       "4     26710         7.148772e-01 0.138429472     \n",
       "5     26711         5.062966e-01 0.128997660     \n",
       "6     26712         5.569479e-01 0.900624515     \n",
       "7     26713         1.852126e-01 0.233122204     \n",
       "8     26714         2.508006e-03 0.209007819     \n",
       "9     26715         1.344783e-02 0.689869244     \n",
       "10    26716         3.990172e-07 0.228299298     \n",
       "11    26717         0.000000e+00 0.087351298     \n",
       "12    26718         3.091726e-01 0.188838063     \n",
       "13    26719         0.000000e+00 0.487673844     \n",
       "14    26720         7.835459e-03 0.002036243     \n",
       "15    26721         1.821706e-01 0.790557991     \n",
       "16    26722         6.535411e-02 0.210966041     \n",
       "17    26723         6.435238e-01 0.066220553     \n",
       "18    26724         2.160621e-02 0.327338179     \n",
       "19    26725         1.252991e-02 0.840730058     \n",
       "20    26726         6.339092e-03 0.795175556     \n",
       "21    26727         3.198059e-01 0.836210652     \n",
       "22    26728         2.404483e-01 0.029078129     \n",
       "23    26729         1.137015e-01 0.086586074     \n",
       "24    26730         1.092141e-01 0.841256474     \n",
       "25    26731         2.321759e-03 0.073677718     \n",
       "26    26732         4.779324e-03 0.422306303     \n",
       "27    26733         9.128790e-01 0.553968833     \n",
       "28    26734         9.999991e-01 0.862569638     \n",
       "29    26735         0.000000e+00 0.008625090     \n",
       "30    26736         1.539669e-03 0.047081575     \n",
       "⋮     ⋮             ⋮            ⋮               \n",
       "26679 53385         0.5052833890 0.497379374     \n",
       "26680 53386         0.6070430038 0.806190155     \n",
       "26681 53387         0.0597118178 0.000000000     \n",
       "26682 53388         0.0150701976 0.907942779     \n",
       "26683 53389         0.9668781124 0.166633972     \n",
       "26684 53390         0.0074450529 0.645202090     \n",
       "26685 53391         0.8970425230 0.894350566     \n",
       "26686 53392         0.0058082588 0.726818394     \n",
       "26687 53393         0.1133287697 0.028383566     \n",
       "26688 53394         0.6546416663 0.381691204     \n",
       "26689 53395         0.0045859824 0.696941991     \n",
       "26690 53396         0.1385606682 0.001881725     \n",
       "26691 53397         0.2386626025 0.595524765     \n",
       "26692 53398         0.1334209421 0.021356200     \n",
       "26693 53399         0.0171116243 0.972687280     \n",
       "26694 53400         0.7722523489 0.597691015     \n",
       "26695 53401         0.0173290609 0.985800535     \n",
       "26696 53402         0.5719206029 0.274142164     \n",
       "26697 53403         0.7831861724 0.081090322     \n",
       "26698 53404         0.1349243831 0.897866468     \n",
       "26699 53405         0.0195133729 0.856469656     \n",
       "26700 53406         0.1664320382 0.517458107     \n",
       "26701 53407         0.0001744594 0.306837027     \n",
       "26702 53408         0.2008704932 0.065486373     \n",
       "26703 53409         0.0310827879 0.126950833     \n",
       "26704 53410         0.7272052454 0.956580620     \n",
       "26705 53411         0.0018783514 0.047654286     \n",
       "26706 53412         0.1914515390 0.419490606     \n",
       "26707 53413         0.0000000000 0.841540671     \n",
       "26708 53414         0.1021785824 0.012768424     "
      ]
     },
     "metadata": {},
     "output_type": "display_data"
    }
   ],
   "source": [
    "Y_pred<-predict(model_single_out,test_sf)\n",
    "submission <- data.frame(submission_format[1], Y_pred)\n",
    "\n",
    "\n",
    "training_sf_nn <- data.frame(training_sf[2:length(training_sf)], training_set_labels[3])\n",
    "threshold <- 0.5\n",
    "idx <- sample(1:nrow(training_sf_nn))\n",
    "\n",
    "type <- \"seasonal_vaccine\"\n",
    "\n",
    "half_split <- floor(nrow(training_sf_nn)/2)\n",
    "target_variable <- ncol(training_sf_nn)\n",
    "train_data <- training_sf_nn[idx[1:half_split],]\n",
    "\n",
    "test_data <- training_sf_nn[idx[(half_split+1):nrow(training_sf_nn)],]\n",
    "\n",
    "hidden_nodes <- 10\n",
    "\n",
    "model_single_out <- nnet(seasonal_vaccine ~ ., data=train_data, size=hidden_nodes, skip=FALSE,trace=T, maxit=3000, decay = 5e-4, rang=0.2) #rang = 0.2\n",
    "model_single_out\n",
    "\n",
    "\n",
    "Y_pred<-predict(model_single_out,test_data[,-target_variable])\n",
    "\n",
    "Y_hat_single_out <- ifelse(Y_pred >= threshold,\"1\",\"0\") \n",
    "\n",
    "\n",
    "\n",
    "submission <- data.frame(submission, Y_pred)\n",
    "colnames(submission)[2:3] <- c(names(submission_format[2:3]))\n",
    "submission\n"
   ]
  },
  {
   "cell_type": "code",
   "execution_count": 174,
   "metadata": {},
   "outputs": [],
   "source": [
    "write.csv(submission, \"sample_data/answers.csv\", row.names = FALSE, quote=FALSE)"
   ]
  },
  {
   "cell_type": "code",
   "execution_count": 140,
   "metadata": {
    "scrolled": true
   },
   "outputs": [
    {
     "data": {
      "image/png": "[encoded data removed]",
      "text/plain": [
       "plot without title"
      ]
     },
     "metadata": {
      "image/png": {
       "height": 600,
       "width": 1200
      }
     },
     "output_type": "display_data"
    }
   ],
   "source": [
    "plot.nnet(model_single_out, alpha.val = 0.5, circle.col = list('lightgray', 'white'), bord.col = 'black', cex=0.5)"
   ]
  },
  {
   "cell_type": "code",
   "execution_count": 144,
   "metadata": {},
   "outputs": [],
   "source": [
    "accuracyFromConfusionMatrix <- function(confusion_matrix){\n",
    "    if(dim(confusion_matrix)[1] < 2){ \n",
    "       if(rownames(confusion_matrix) == \"0\"){\n",
    "           confusion_matrix <- rbind(confusion_matrix,c(0,0))\n",
    "           rownames(confusion_matrix)[2] <- \"vaccinated\"\n",
    "       }\n",
    "       if(rownames(confusion_matrix) == \"vaccinated\"){\n",
    "           confusion_matrix <- rbind(c(0,0),confusion_matrix)\n",
    "           rownames(confusion_matrix)[1] <- \"non-vaccinated\"\n",
    "       }\n",
    "    }\n",
    "    return((confusion_matrix[1,1]+confusion_matrix[2,2])/sum(confusion_matrix))\n",
    "}\n",
    "\n",
    "\n",
    "computeResults <- function(Y,Y_hat,explanatory_string=\"\",verbose=TRUE){\n",
    "    \n",
    "    confusion_matrix <- table(Y_hat,Y)\n",
    "    accuracy <- accuracyFromConfusionMatrix(confusion_matrix)\n",
    "    misclassification_rate <- 1 - accuracy\n",
    "    \n",
    "    if(verbose){\n",
    "        print(paste(\"[INFO] - Confusion matrix\",explanatory_string,\":\"))\n",
    "        print(confusion_matrix)\n",
    "        print(paste(\"[INFO] - Accuracy\",explanatory_string,\":\",accuracy))\n",
    "        print(paste(\"[INFO] - Misclassification rate\",explanatory_string,\":\",misclassification_rate))\n",
    "    }\n",
    "    \n",
    "    return(accuracy)\n",
    "}"
   ]
  },
  {
   "cell_type": "markdown",
   "metadata": {
    "id": "sz3LmTKkkyu8"
   },
   "source": [
    "# Conclusions"
   ]
  }
 ],
 "metadata": {
  "colab": {
   "collapsed_sections": [],
   "name": "Program.ipynb",
   "provenance": []
  },
  "kernelspec": {
   "display_name": "R",
   "language": "R",
   "name": "ir"
  },
  "language_info": {
   "codemirror_mode": "r",
   "file_extension": ".r",
   "mimetype": "text/x-r-source",
   "name": "R",
   "pygments_lexer": "r",
   "version": "4.2.0"
  }
 },
 "nbformat": 4,
 "nbformat_minor": 1
}
