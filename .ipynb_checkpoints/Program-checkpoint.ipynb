{
 "cells": [
  {
   "cell_type": "markdown",
   "metadata": {
    "id": "A7iUf-ffkyup"
   },
   "source": [
    "# INFO-F-422 -  Statistical Foundations of Machine Learning \n",
    "\n",
    "### De Vos Sebastien - __[Sebastien.De.Vos@ulb.be](mailto:student1@ulb.ac.be) - Student ID 459907__\n",
    "### Kalai Tarik - __[Tarik.Kalai@ulb.be](mailto:student2@ulb.ac.be) - Student ID 459631__\n",
    "### Rubas Diego - __[Diego.Rubas@ulb.be](mailto:student3@ulb.ac.be) - Student ID 459733__\n",
    "\n",
    "### Video presentation: www.youtube.com/abcd1234\n",
    "\n",
    "## Project Title\n"
   ]
  },
  {
   "cell_type": "markdown",
   "metadata": {
    "id": "BknMGYOJkyu0"
   },
   "source": [
    "# Introduction\n"
   ]
  },
  {
   "cell_type": "markdown",
   "metadata": {
    "id": "6gsGzIq1kyu2"
   },
   "source": [
    "# Exploratory Data Anaylsis"
   ]
  },
  {
   "cell_type": "markdown",
   "metadata": {
    "id": "nQ2WjfsUkyu3"
   },
   "source": [
    "In this section we will be viewing and understanding the data that we have."
   ]
  },
  {
   "cell_type": "markdown",
   "metadata": {
    "id": "L_AfUCaNsZJW"
   },
   "source": []
  },
  {
   "cell_type": "markdown",
   "metadata": {
    "id": "6KMnF3pisasz"
   },
   "source": [
    "### Data loading"
   ]
  },
  {
   "cell_type": "code",
   "execution_count": 2,
   "metadata": {
    "id": "EbjGzSlXsVQQ",
    "vscode": {
     "languageId": "r"
    }
   },
   "outputs": [
    {
     "data": {
      "text/html": [
       "<table>\n",
       "<thead><tr><th scope=col>respondent_id</th><th scope=col>h1n1_vaccine</th><th scope=col>seasonal_vaccine</th></tr></thead>\n",
       "<tbody>\n",
       "\t<tr><td>26707</td><td>0.5  </td><td>0.7  </td></tr>\n",
       "\t<tr><td>26708</td><td>0.5  </td><td>0.7  </td></tr>\n",
       "\t<tr><td>26709</td><td>0.5  </td><td>0.7  </td></tr>\n",
       "\t<tr><td>26710</td><td>0.5  </td><td>0.7  </td></tr>\n",
       "\t<tr><td>26711</td><td>0.5  </td><td>0.7  </td></tr>\n",
       "\t<tr><td>26712</td><td>0.5  </td><td>0.7  </td></tr>\n",
       "</tbody>\n",
       "</table>\n"
      ],
      "text/latex": [
       "\\begin{tabular}{r|lll}\n",
       " respondent\\_id & h1n1\\_vaccine & seasonal\\_vaccine\\\\\n",
       "\\hline\n",
       "\t 26707 & 0.5   & 0.7  \\\\\n",
       "\t 26708 & 0.5   & 0.7  \\\\\n",
       "\t 26709 & 0.5   & 0.7  \\\\\n",
       "\t 26710 & 0.5   & 0.7  \\\\\n",
       "\t 26711 & 0.5   & 0.7  \\\\\n",
       "\t 26712 & 0.5   & 0.7  \\\\\n",
       "\\end{tabular}\n"
      ],
      "text/markdown": [
       "\n",
       "| respondent_id | h1n1_vaccine | seasonal_vaccine |\n",
       "|---|---|---|\n",
       "| 26707 | 0.5   | 0.7   |\n",
       "| 26708 | 0.5   | 0.7   |\n",
       "| 26709 | 0.5   | 0.7   |\n",
       "| 26710 | 0.5   | 0.7   |\n",
       "| 26711 | 0.5   | 0.7   |\n",
       "| 26712 | 0.5   | 0.7   |\n",
       "\n"
      ],
      "text/plain": [
       "  respondent_id h1n1_vaccine seasonal_vaccine\n",
       "1 26707         0.5          0.7             \n",
       "2 26708         0.5          0.7             \n",
       "3 26709         0.5          0.7             \n",
       "4 26710         0.5          0.7             \n",
       "5 26711         0.5          0.7             \n",
       "6 26712         0.5          0.7             "
      ]
     },
     "metadata": {},
     "output_type": "display_data"
    }
   ],
   "source": [
    "training_set_features <- read.csv(\"sample_data/training_set_features.csv\", stringsAsFactors  = T)\n",
    "training_set_labels <- read.csv(\"sample_data/training_set_labels.csv\", stringsAsFactors  = T)\n",
    "test_set_features <- read.csv(\"sample_data/test_set_features.csv\", stringsAsFactors  = T)\n",
    "submission_format <- read.csv(\"sample_data/submission_format.csv\", stringsAsFactors  = T)\n",
    "write.csv(submission_format,\"sample_data/answers.csv\", row.names = FALSE, quote=FALSE)\n",
    "set.seed(12345)\n",
    "head(submission_format)"
   ]
  },
  {
   "cell_type": "markdown",
   "metadata": {
    "id": "Vgh9rPpcsITS"
   },
   "source": [
    "### Dimensions of the data samples. "
   ]
  },
  {
   "cell_type": "code",
   "execution_count": 3,
   "metadata": {
    "colab": {
     "base_uri": "https://localhost:8080/"
    },
    "id": "iJC79QYWnku5",
    "outputId": "d8bd1909-6c12-4098-801e-3bcf01a8332a",
    "vscode": {
     "languageId": "r"
    }
   },
   "outputs": [
    {
     "name": "stdout",
     "output_type": "stream",
     "text": [
      "dimension of test_set_features:  26708 36 \n",
      "dimension of training_set_labels:  26707 3 \n",
      "dimension of training_set_features :  26707 36 \n"
     ]
    }
   ],
   "source": [
    "cat(\"dimension of test_set_features: \",  dim(test_set_features), \"\\n\")# This will be the input to the model (after it had been trained), the answer the model\n",
    "#will be providing will then be sent to DrivenData. \n",
    "\n",
    "cat(\"dimension of training_set_labels: \", dim(training_set_labels), \"\\n\") # Answers to training_set_features. \n",
    "\n",
    "cat(\"dimension of training_set_features : \", dim(training_set_features), \"\\n\") # Corresponding to a sample of data: will be used for training set and test set. \n",
    "#The result will then be \"validated\" with a comparison with training_set_labels"
   ]
  },
  {
   "cell_type": "markdown",
   "metadata": {
    "id": "DSUJ01Ltv3ct"
   },
   "source": [
    "### Data preview"
   ]
  },
  {
   "cell_type": "code",
   "execution_count": 4,
   "metadata": {
    "id": "uKeHb6pcnOlW",
    "vscode": {
     "languageId": "r"
    }
   },
   "outputs": [],
   "source": [
    "# To generalise the function, we need to take into account the empty answers and not only NA. \n",
    "cleanData <- function(x) {\n",
    "    res <- list()\n",
    "    for (i in 2:22) {\n",
    "        x <- transform_na(x, i)\n",
    "    }\n",
    "    return(x) #return\n",
    "}\n",
    "\n",
    "transform_na <- function(x, index){\n",
    "    if (length(which(is.na(x[,index]))) > 0) { #Check if there is any NA in the column\n",
    "            mean_ts <- mean(x[,index], na.rm = T) #compute old_mean\n",
    "            sd_ts <- sqrt(var(x[,index], na.rm = T)) #compute old_sd\n",
    "            feature_name <- names(x[index]) #remember the name of the feature we are dealing with\n",
    "            x[is.na(x[,index]), index] <- round(mean_ts + sd_ts/2) #modify the data\n",
    "        }\n",
    "    return(x)\n",
    "}\n",
    "\n",
    "norm<-function(x){\n",
    "    return( (x-min(x)) / (max(x)-min(x)) )\n",
    "}\n",
    "\n",
    "one_hot_encoding <- function(x, index) {\n",
    "    names <- levels(x[,index]) # get the names of all the possible different values\n",
    "    new_col <- model.matrix(~0+x[,index]) # transforms the column in a matrix with a '1' in the correct column and '0' otherwise\n",
    "    attr(new_col, \"dimnames\")[[2]] <- names\n",
    "    new_col <- as.data.frame(new_col)\n",
    "    x <- data.frame(x[1:index-1],new_col,x[(index+1):ncol(x)])\n",
    "    return(x)\n",
    "}\n",
    "\n",
    "cast_into_double <- function(x){\n",
    "    for (i in 2:length(x)){\n",
    "        x[,i] <- as.numeric(x[,i])\n",
    "    }\n",
    "    return(x)\n",
    "}"
   ]
  },
  {
   "cell_type": "code",
   "execution_count": 5,
   "metadata": {
    "vscode": {
     "languageId": "r"
    }
   },
   "outputs": [
    {
     "data": {
      "text/html": [
       "<table>\n",
       "<thead><tr><th scope=col>opinion_seas_vacc_effective</th><th scope=col>opinion_seas_risk</th><th scope=col>opinion_seas_sick_from_vacc</th><th scope=col>age_group</th><th scope=col>education</th><th scope=col>Black</th><th scope=col>Hispanic</th><th scope=col>Other.or.Multiple</th><th scope=col>White</th><th scope=col>Female</th><th scope=col>Male</th></tr></thead>\n",
       "<tbody>\n",
       "\t<tr><td>0.25</td><td>0.00</td><td>0.25</td><td>0.75</td><td>0.25</td><td>0   </td><td>0   </td><td>0   </td><td>1   </td><td>1   </td><td>0   </td></tr>\n",
       "\t<tr><td>0.75</td><td>0.25</td><td>0.75</td><td>0.25</td><td>0.50</td><td>0   </td><td>0   </td><td>0   </td><td>1   </td><td>0   </td><td>1   </td></tr>\n",
       "\t<tr><td>0.75</td><td>0.00</td><td>0.25</td><td>0.00</td><td>0.75</td><td>0   </td><td>0   </td><td>0   </td><td>1   </td><td>0   </td><td>1   </td></tr>\n",
       "\t<tr><td>1.00</td><td>0.75</td><td>0.00</td><td>1.00</td><td>0.50</td><td>0   </td><td>0   </td><td>0   </td><td>1   </td><td>1   </td><td>0   </td></tr>\n",
       "\t<tr><td>0.50</td><td>0.00</td><td>0.75</td><td>0.50</td><td>1.00</td><td>0   </td><td>0   </td><td>0   </td><td>1   </td><td>1   </td><td>0   </td></tr>\n",
       "\t<tr><td>1.00</td><td>0.75</td><td>0.75</td><td>1.00</td><td>0.50</td><td>0   </td><td>0   </td><td>0   </td><td>1   </td><td>0   </td><td>1   </td></tr>\n",
       "</tbody>\n",
       "</table>\n"
      ],
      "text/latex": [
       "\\begin{tabular}{r|lllllllllll}\n",
       " opinion\\_seas\\_vacc\\_effective & opinion\\_seas\\_risk & opinion\\_seas\\_sick\\_from\\_vacc & age\\_group & education & Black & Hispanic & Other.or.Multiple & White & Female & Male\\\\\n",
       "\\hline\n",
       "\t 0.25 & 0.00 & 0.25 & 0.75 & 0.25 & 0    & 0    & 0    & 1    & 1    & 0   \\\\\n",
       "\t 0.75 & 0.25 & 0.75 & 0.25 & 0.50 & 0    & 0    & 0    & 1    & 0    & 1   \\\\\n",
       "\t 0.75 & 0.00 & 0.25 & 0.00 & 0.75 & 0    & 0    & 0    & 1    & 0    & 1   \\\\\n",
       "\t 1.00 & 0.75 & 0.00 & 1.00 & 0.50 & 0    & 0    & 0    & 1    & 1    & 0   \\\\\n",
       "\t 0.50 & 0.00 & 0.75 & 0.50 & 1.00 & 0    & 0    & 0    & 1    & 1    & 0   \\\\\n",
       "\t 1.00 & 0.75 & 0.75 & 1.00 & 0.50 & 0    & 0    & 0    & 1    & 0    & 1   \\\\\n",
       "\\end{tabular}\n"
      ],
      "text/markdown": [
       "\n",
       "| opinion_seas_vacc_effective | opinion_seas_risk | opinion_seas_sick_from_vacc | age_group | education | Black | Hispanic | Other.or.Multiple | White | Female | Male |\n",
       "|---|---|---|---|---|---|---|---|---|---|---|\n",
       "| 0.25 | 0.00 | 0.25 | 0.75 | 0.25 | 0    | 0    | 0    | 1    | 1    | 0    |\n",
       "| 0.75 | 0.25 | 0.75 | 0.25 | 0.50 | 0    | 0    | 0    | 1    | 0    | 1    |\n",
       "| 0.75 | 0.00 | 0.25 | 0.00 | 0.75 | 0    | 0    | 0    | 1    | 0    | 1    |\n",
       "| 1.00 | 0.75 | 0.00 | 1.00 | 0.50 | 0    | 0    | 0    | 1    | 1    | 0    |\n",
       "| 0.50 | 0.00 | 0.75 | 0.50 | 1.00 | 0    | 0    | 0    | 1    | 1    | 0    |\n",
       "| 1.00 | 0.75 | 0.75 | 1.00 | 0.50 | 0    | 0    | 0    | 1    | 0    | 1    |\n",
       "\n"
      ],
      "text/plain": [
       "  opinion_seas_vacc_effective opinion_seas_risk opinion_seas_sick_from_vacc\n",
       "1 0.25                        0.00              0.25                       \n",
       "2 0.75                        0.25              0.75                       \n",
       "3 0.75                        0.00              0.25                       \n",
       "4 1.00                        0.75              0.00                       \n",
       "5 0.50                        0.00              0.75                       \n",
       "6 1.00                        0.75              0.75                       \n",
       "  age_group education Black Hispanic Other.or.Multiple White Female Male\n",
       "1 0.75      0.25      0     0        0                 1     1      0   \n",
       "2 0.25      0.50      0     0        0                 1     0      1   \n",
       "3 0.00      0.75      0     0        0                 1     0      1   \n",
       "4 1.00      0.50      0     0        0                 1     1      0   \n",
       "5 0.50      1.00      0     0        0                 1     1      0   \n",
       "6 1.00      0.50      0     0        0                 1     0      1   "
      ]
     },
     "metadata": {},
     "output_type": "display_data"
    },
    {
     "data": {
      "text/html": [
       "<ol class=list-inline>\n",
       "\t<li>26707</li>\n",
       "\t<li>46</li>\n",
       "</ol>\n"
      ],
      "text/latex": [
       "\\begin{enumerate*}\n",
       "\\item 26707\n",
       "\\item 46\n",
       "\\end{enumerate*}\n"
      ],
      "text/markdown": [
       "1. 26707\n",
       "2. 46\n",
       "\n",
       "\n"
      ],
      "text/plain": [
       "[1] 26707    46"
      ]
     },
     "metadata": {},
     "output_type": "display_data"
    }
   ],
   "source": [
    "training_set_features <- read.csv(\"sample_data/training_set_features.csv\", stringsAsFactors  = T)\n",
    "test_set_features <- read.csv(\"sample_data/test_set_features.csv\", stringsAsFactors  = T)\n",
    "data_sorting <- function(x){\n",
    "    # for feature 2 -> 22\n",
    "    x <- cleanData(x)\n",
    "    # for feature 23\n",
    "    levels(x[,23]) <- c(1, 2, 3, 4, 5)\n",
    "\n",
    "    # for feature 24\n",
    "    levels(x[,24]) <- c(0, 1, 2, 4, 3)\n",
    "\n",
    "    # for feature 25\n",
    "    x <- one_hot_encoding(x, 25)\n",
    "\n",
    "    # for feature 26 -> number 29\n",
    "    x <- one_hot_encoding(x, 29)\n",
    "\n",
    "    # for feature 27 -> number 31 !!! it need to be changed, it is not a good way to sort this data.\n",
    "    levels(x[,31]) <- c(0, 2, 1, 3) \n",
    "\n",
    "    # for feature 28 -> number 32\n",
    "    levels(x[,32])[1] <- 'marital_status_not_specified'\n",
    "    x <- one_hot_encoding(x, 32)\n",
    "\n",
    "    # for feature 29 -> number 35\n",
    "    levels(x[,35])[1] <- 'rental_not_specified'\n",
    "    x <- one_hot_encoding(x, 35)\n",
    "\n",
    "    #for features 30 -> number 38\n",
    "    levels(x[,38])[1] <- 'employment_not_specified'\n",
    "    x <- one_hot_encoding(x, 38)\n",
    "    \n",
    "    # for feature 31 -> 42, we judged its contribution was negligeable against its cost of implementation\n",
    "    x <- subset(x, select = -42)\n",
    "\n",
    "    # for feature 32 -> 42 (since we dropped last column\n",
    "    x <- one_hot_encoding(x, 42)\n",
    "\n",
    "    # for feature 33 -> 45\n",
    "    x <- transform_na(x, 45)\n",
    "\n",
    "    # for feature 34 -> 46\n",
    "    x <- transform_na(x, 46)\n",
    "\n",
    "    # for feature 35 -> 47, we judged its contribution was negligeable against its cost of implementation\n",
    "    x <- subset(x, select = -47)\n",
    "\n",
    "    # for feature 36 -> 47, we judged its contribution was negligeable against its cost of implementation\n",
    "    x <- subset(x, select = -47)\n",
    "\n",
    "\n",
    "\n",
    "    x <- cast_into_double(x)\n",
    "    name <- names(x)[-1]\n",
    "    temp <- apply(x[2:length(x)], 2 , norm)\n",
    "    attr(temp, \"dimnames\")[[2]] <- name\n",
    "    x <- data.frame(x[1],as.data.frame(temp))\n",
    "    return (x)\n",
    "}\n",
    "\n",
    "training_set_features <- data_sorting(training_set_features)\n",
    "test_set_features <- data_sorting(test_set_features)\n",
    "\n",
    "head(training_set_features[20:30])\n",
    "dim(training_set_features)"
   ]
  },
  {
   "cell_type": "code",
   "execution_count": 100,
   "metadata": {
    "vscode": {
     "languageId": "r"
    }
   },
   "outputs": [],
   "source": [
    "# par(mfrow=c(1,3))\n",
    "\n",
    "# # data_to_plot <- table(training_set_features[\"h1n1_concern\"])\n",
    "# # data_to_plot <- table(t(training_set_features[\"h1n1_knowledge\"]))\n",
    "\n",
    "# names<-names(training_set_features)\n",
    "# for(i in 2:length(names)){\n",
    "#     barplot(table(training_set_features[names[i]]), col=\"blue\", main=names[i],beside=T) \n",
    "# }"
   ]
  },
  {
   "cell_type": "code",
   "execution_count": 101,
   "metadata": {
    "vscode": {
     "languageId": "r"
    }
   },
   "outputs": [],
   "source": [
    "# # head(training_set_labels)\n",
    "# # plot(training_set_labels$h1n1_vaccine, training_set_labels$seasonal_vaccine)\n",
    "\n",
    "# training_set_features[1] <- training_set_labels[2]\n",
    "# plot(training_set_features[1:3]) #Why is the plot so strange ?? \n",
    "# X1 <- as.matrix(training_set_features[1])\n",
    "# X2 <- as.matrix(training_set_features[2])\n",
    "# X3 <- as.matrix(training_set_features[3])\n",
    "# regression <- lm( X1~ X2 + X3)\n",
    "\n",
    "# summary(regression)"
   ]
  },
  {
   "cell_type": "markdown",
   "metadata": {
    "id": "5iQ6kpO6kyu5"
   },
   "source": [
    "# Data preprocessing\n",
    "\n",
    "## Missing value imputation\n",
    "\n",
    "## Feature engineering\n",
    "\n",
    "## Feature selection\n",
    "\n"
   ]
  },
  {
   "cell_type": "markdown",
   "metadata": {
    "id": "MrH_wChrkyu6"
   },
   "source": [
    "# Model selection\n"
   ]
  },
  {
   "cell_type": "markdown",
   "metadata": {},
   "source": [
    "\n",
    "## Model 1\n"
   ]
  },
  {
   "cell_type": "markdown",
   "metadata": {},
   "source": [
    "## Model 2"
   ]
  },
  {
   "cell_type": "code",
   "execution_count": 6,
   "metadata": {
    "vscode": {
     "languageId": "r"
    }
   },
   "outputs": [
    {
     "data": {
      "text/html": [
       "<table>\n",
       "<thead><tr><th scope=col>h1n1_concern</th><th scope=col>h1n1_knowledge</th><th scope=col>behavioral_antiviral_meds</th><th scope=col>behavioral_avoidance</th><th scope=col>behavioral_face_mask</th><th scope=col>behavioral_wash_hands</th><th scope=col>behavioral_large_gatherings</th><th scope=col>behavioral_outside_home</th><th scope=col>behavioral_touch_face</th><th scope=col>doctor_recc_h1n1</th><th scope=col>...</th><th scope=col>employment_not_specified</th><th scope=col>Employed</th><th scope=col>Not.in.Labor.Force</th><th scope=col>Unemployed</th><th scope=col>MSA..Not.Principle..City</th><th scope=col>MSA..Principle.City</th><th scope=col>Non.MSA</th><th scope=col>household_adults</th><th scope=col>household_children</th><th scope=col>h1n1_vaccine</th></tr></thead>\n",
       "<tbody>\n",
       "\t<tr><td>0.3333333</td><td>0.0      </td><td>0        </td><td>0        </td><td>0        </td><td>0        </td><td>0        </td><td>1        </td><td>1        </td><td>0        </td><td>...      </td><td>0        </td><td>0        </td><td>1        </td><td>0        </td><td>0        </td><td>0        </td><td>1        </td><td>0.0000000</td><td>0        </td><td>0        </td></tr>\n",
       "\t<tr><td>1.0000000</td><td>1.0      </td><td>0        </td><td>1        </td><td>0        </td><td>1        </td><td>0        </td><td>1        </td><td>1        </td><td>0        </td><td>...      </td><td>0        </td><td>1        </td><td>0        </td><td>0        </td><td>1        </td><td>0        </td><td>0        </td><td>0.0000000</td><td>0        </td><td>0        </td></tr>\n",
       "\t<tr><td>0.3333333</td><td>0.5      </td><td>0        </td><td>1        </td><td>0        </td><td>0        </td><td>0        </td><td>0        </td><td>0        </td><td>0        </td><td>...      </td><td>0        </td><td>1        </td><td>0        </td><td>0        </td><td>1        </td><td>0        </td><td>0        </td><td>0.6666667</td><td>0        </td><td>0        </td></tr>\n",
       "\t<tr><td>0.3333333</td><td>0.5      </td><td>0        </td><td>1        </td><td>0        </td><td>1        </td><td>1        </td><td>0        </td><td>0        </td><td>0        </td><td>...      </td><td>0        </td><td>0        </td><td>1        </td><td>0        </td><td>0        </td><td>1        </td><td>0        </td><td>0.0000000</td><td>0        </td><td>0        </td></tr>\n",
       "\t<tr><td>0.6666667</td><td>0.5      </td><td>0        </td><td>1        </td><td>0        </td><td>1        </td><td>1        </td><td>0        </td><td>1        </td><td>0        </td><td>...      </td><td>0        </td><td>1        </td><td>0        </td><td>0        </td><td>1        </td><td>0        </td><td>0        </td><td>0.3333333</td><td>0        </td><td>0        </td></tr>\n",
       "\t<tr><td>1.0000000</td><td>0.5      </td><td>0        </td><td>1        </td><td>0        </td><td>1        </td><td>0        </td><td>0        </td><td>1        </td><td>0        </td><td>...      </td><td>0        </td><td>1        </td><td>0        </td><td>0        </td><td>0        </td><td>1        </td><td>0        </td><td>0.6666667</td><td>1        </td><td>0        </td></tr>\n",
       "</tbody>\n",
       "</table>\n"
      ],
      "text/latex": [
       "\\begin{tabular}{r|llllllllllllllllllllllllllllllllllllllllllllll}\n",
       " h1n1\\_concern & h1n1\\_knowledge & behavioral\\_antiviral\\_meds & behavioral\\_avoidance & behavioral\\_face\\_mask & behavioral\\_wash\\_hands & behavioral\\_large\\_gatherings & behavioral\\_outside\\_home & behavioral\\_touch\\_face & doctor\\_recc\\_h1n1 & ... & employment\\_not\\_specified & Employed & Not.in.Labor.Force & Unemployed & MSA..Not.Principle..City & MSA..Principle.City & Non.MSA & household\\_adults & household\\_children & h1n1\\_vaccine\\\\\n",
       "\\hline\n",
       "\t 0.3333333 & 0.0       & 0         & 0         & 0         & 0         & 0         & 1         & 1         & 0         & ...       & 0         & 0         & 1         & 0         & 0         & 0         & 1         & 0.0000000 & 0         & 0        \\\\\n",
       "\t 1.0000000 & 1.0       & 0         & 1         & 0         & 1         & 0         & 1         & 1         & 0         & ...       & 0         & 1         & 0         & 0         & 1         & 0         & 0         & 0.0000000 & 0         & 0        \\\\\n",
       "\t 0.3333333 & 0.5       & 0         & 1         & 0         & 0         & 0         & 0         & 0         & 0         & ...       & 0         & 1         & 0         & 0         & 1         & 0         & 0         & 0.6666667 & 0         & 0        \\\\\n",
       "\t 0.3333333 & 0.5       & 0         & 1         & 0         & 1         & 1         & 0         & 0         & 0         & ...       & 0         & 0         & 1         & 0         & 0         & 1         & 0         & 0.0000000 & 0         & 0        \\\\\n",
       "\t 0.6666667 & 0.5       & 0         & 1         & 0         & 1         & 1         & 0         & 1         & 0         & ...       & 0         & 1         & 0         & 0         & 1         & 0         & 0         & 0.3333333 & 0         & 0        \\\\\n",
       "\t 1.0000000 & 0.5       & 0         & 1         & 0         & 1         & 0         & 0         & 1         & 0         & ...       & 0         & 1         & 0         & 0         & 0         & 1         & 0         & 0.6666667 & 1         & 0        \\\\\n",
       "\\end{tabular}\n"
      ],
      "text/markdown": [
       "\n",
       "| h1n1_concern | h1n1_knowledge | behavioral_antiviral_meds | behavioral_avoidance | behavioral_face_mask | behavioral_wash_hands | behavioral_large_gatherings | behavioral_outside_home | behavioral_touch_face | doctor_recc_h1n1 | ... | employment_not_specified | Employed | Not.in.Labor.Force | Unemployed | MSA..Not.Principle..City | MSA..Principle.City | Non.MSA | household_adults | household_children | h1n1_vaccine |\n",
       "|---|---|---|---|---|---|---|---|---|---|---|---|---|---|---|---|---|---|---|---|---|\n",
       "| 0.3333333 | 0.0       | 0         | 0         | 0         | 0         | 0         | 1         | 1         | 0         | ...       | 0         | 0         | 1         | 0         | 0         | 0         | 1         | 0.0000000 | 0         | 0         |\n",
       "| 1.0000000 | 1.0       | 0         | 1         | 0         | 1         | 0         | 1         | 1         | 0         | ...       | 0         | 1         | 0         | 0         | 1         | 0         | 0         | 0.0000000 | 0         | 0         |\n",
       "| 0.3333333 | 0.5       | 0         | 1         | 0         | 0         | 0         | 0         | 0         | 0         | ...       | 0         | 1         | 0         | 0         | 1         | 0         | 0         | 0.6666667 | 0         | 0         |\n",
       "| 0.3333333 | 0.5       | 0         | 1         | 0         | 1         | 1         | 0         | 0         | 0         | ...       | 0         | 0         | 1         | 0         | 0         | 1         | 0         | 0.0000000 | 0         | 0         |\n",
       "| 0.6666667 | 0.5       | 0         | 1         | 0         | 1         | 1         | 0         | 1         | 0         | ...       | 0         | 1         | 0         | 0         | 1         | 0         | 0         | 0.3333333 | 0         | 0         |\n",
       "| 1.0000000 | 0.5       | 0         | 1         | 0         | 1         | 0         | 0         | 1         | 0         | ...       | 0         | 1         | 0         | 0         | 0         | 1         | 0         | 0.6666667 | 1         | 0         |\n",
       "\n"
      ],
      "text/plain": [
       "  h1n1_concern h1n1_knowledge behavioral_antiviral_meds behavioral_avoidance\n",
       "1 0.3333333    0.0            0                         0                   \n",
       "2 1.0000000    1.0            0                         1                   \n",
       "3 0.3333333    0.5            0                         1                   \n",
       "4 0.3333333    0.5            0                         1                   \n",
       "5 0.6666667    0.5            0                         1                   \n",
       "6 1.0000000    0.5            0                         1                   \n",
       "  behavioral_face_mask behavioral_wash_hands behavioral_large_gatherings\n",
       "1 0                    0                     0                          \n",
       "2 0                    1                     0                          \n",
       "3 0                    0                     0                          \n",
       "4 0                    1                     1                          \n",
       "5 0                    1                     1                          \n",
       "6 0                    1                     0                          \n",
       "  behavioral_outside_home behavioral_touch_face doctor_recc_h1n1 ...\n",
       "1 1                       1                     0                ...\n",
       "2 1                       1                     0                ...\n",
       "3 0                       0                     0                ...\n",
       "4 0                       0                     0                ...\n",
       "5 0                       1                     0                ...\n",
       "6 0                       1                     0                ...\n",
       "  employment_not_specified Employed Not.in.Labor.Force Unemployed\n",
       "1 0                        0        1                  0         \n",
       "2 0                        1        0                  0         \n",
       "3 0                        1        0                  0         \n",
       "4 0                        0        1                  0         \n",
       "5 0                        1        0                  0         \n",
       "6 0                        1        0                  0         \n",
       "  MSA..Not.Principle..City MSA..Principle.City Non.MSA household_adults\n",
       "1 0                        0                   1       0.0000000       \n",
       "2 1                        0                   0       0.0000000       \n",
       "3 1                        0                   0       0.6666667       \n",
       "4 0                        1                   0       0.0000000       \n",
       "5 1                        0                   0       0.3333333       \n",
       "6 0                        1                   0       0.6666667       \n",
       "  household_children h1n1_vaccine\n",
       "1 0                  0           \n",
       "2 0                  0           \n",
       "3 0                  0           \n",
       "4 0                  0           \n",
       "5 0                  0           \n",
       "6 1                  0           "
      ]
     },
     "metadata": {},
     "output_type": "display_data"
    }
   ],
   "source": [
    "spam <- data.frame(training_set_features[2:length(training_set_features)], training_set_labels[2]) \n",
    "head(spam)"
   ]
  },
  {
   "cell_type": "code",
   "execution_count": 10,
   "metadata": {
    "vscode": {
     "languageId": "r"
    }
   },
   "outputs": [
    {
     "data": {
      "text/html": [
       "'h1n1_vaccine'"
      ],
      "text/latex": [
       "'h1n1\\_vaccine'"
      ],
      "text/markdown": [
       "'h1n1_vaccine'"
      ],
      "text/plain": [
       "[1] \"h1n1_vaccine\""
      ]
     },
     "metadata": {},
     "output_type": "display_data"
    },
    {
     "data": {
      "text/html": [
       "'seasonal_vaccine'"
      ],
      "text/latex": [
       "'seasonal\\_vaccine'"
      ],
      "text/markdown": [
       "'seasonal_vaccine'"
      ],
      "text/plain": [
       "[1] \"seasonal_vaccine\""
      ]
     },
     "metadata": {},
     "output_type": "display_data"
    },
    {
     "data": {
      "text/html": [
       "<table>\n",
       "<thead><tr><th scope=col>respondent_id</th><th scope=col>h1n1_vaccine</th><th scope=col>seasonal_vaccine</th></tr></thead>\n",
       "<tbody>\n",
       "\t<tr><td>26707    </td><td>0.1304593</td><td>0.3640040</td></tr>\n",
       "\t<tr><td>26708    </td><td>0.1304593</td><td>0.2281545</td></tr>\n",
       "\t<tr><td>26709    </td><td>0.1304593</td><td>0.7941276</td></tr>\n",
       "\t<tr><td>26710    </td><td>0.3323171</td><td>0.7052314</td></tr>\n",
       "\t<tr><td>26711    </td><td>0.1304593</td><td>0.4523449</td></tr>\n",
       "\t<tr><td>26712    </td><td>0.1304593</td><td>0.7941276</td></tr>\n",
       "</tbody>\n",
       "</table>\n"
      ],
      "text/latex": [
       "\\begin{tabular}{r|lll}\n",
       " respondent\\_id & h1n1\\_vaccine & seasonal\\_vaccine\\\\\n",
       "\\hline\n",
       "\t 26707     & 0.1304593 & 0.3640040\\\\\n",
       "\t 26708     & 0.1304593 & 0.2281545\\\\\n",
       "\t 26709     & 0.1304593 & 0.7941276\\\\\n",
       "\t 26710     & 0.3323171 & 0.7052314\\\\\n",
       "\t 26711     & 0.1304593 & 0.4523449\\\\\n",
       "\t 26712     & 0.1304593 & 0.7941276\\\\\n",
       "\\end{tabular}\n"
      ],
      "text/markdown": [
       "\n",
       "| respondent_id | h1n1_vaccine | seasonal_vaccine |\n",
       "|---|---|---|\n",
       "| 26707     | 0.1304593 | 0.3640040 |\n",
       "| 26708     | 0.1304593 | 0.2281545 |\n",
       "| 26709     | 0.1304593 | 0.7941276 |\n",
       "| 26710     | 0.3323171 | 0.7052314 |\n",
       "| 26711     | 0.1304593 | 0.4523449 |\n",
       "| 26712     | 0.1304593 | 0.7941276 |\n",
       "\n"
      ],
      "text/plain": [
       "  respondent_id h1n1_vaccine seasonal_vaccine\n",
       "1 26707         0.1304593    0.3640040       \n",
       "2 26708         0.1304593    0.2281545       \n",
       "3 26709         0.1304593    0.7941276       \n",
       "4 26710         0.3323171    0.7052314       \n",
       "5 26711         0.1304593    0.4523449       \n",
       "6 26712         0.1304593    0.7941276       "
      ]
     },
     "metadata": {},
     "output_type": "display_data"
    }
   ],
   "source": [
    "library(rpart)\n",
    "spam <- data.frame(training_set_features[2:length(training_set_features)], training_set_labels[2])\n",
    "spam_idx <- sample(1:nrow(spam))\n",
    "half_split <- floor(nrow(spam)/2)\n",
    "target_variable <- ncol(spam)\n",
    "type <- names(spam)[length(spam)]\n",
    "type\n",
    "\n",
    "train_data <- spam[spam_idx[1:half_split],]\n",
    "test_data <- spam[spam_idx[(half_split+1):nrow(spam)],]\n",
    "\n",
    "model <- rpart(form=h1n1_vaccine ~ ., method=\"class\", data=train_data)\n",
    "\n",
    "Y_pred <- predict(model,test_set_features)\n",
    "# submission_format[2] <- Y_pred[,2]\n",
    "Y <- training_set_features\n",
    "spam <- data.frame(training_set_features[2:length(training_set_features)], training_set_labels[3])\n",
    "spam_idx <- sample(1:nrow(spam))\n",
    "half_split <- floor(nrow(spam)/2)\n",
    "target_variable <- ncol(spam)\n",
    "type <- names(spam)[length(spam)]\n",
    "type\n",
    "\n",
    "train_data <- spam[spam_idx[1:half_split],]\n",
    "test_data <- spam[spam_idx[(half_split+1):nrow(spam)],]\n",
    "\n",
    "model <- rpart(form=seasonal_vaccine ~ ., method=\"class\", data=train_data)\n",
    "Y_pred <- predict(model,test_set_features)\n",
    "submission_format[3] <- Y_pred[,2]\n",
    "head(submission_format)\n",
    "\n",
    "write.csv(submission_format,\"sample_data/answers.csv\", row.names = FALSE, quote=FALSE)\n"
   ]
  },
  {
   "cell_type": "code",
   "execution_count": 11,
   "metadata": {},
   "outputs": [
    {
     "ename": "ERROR",
     "evalue": "Error in table(Y_hat, submission_format[2]): all arguments must have the same length\n",
     "output_type": "error",
     "traceback": [
      "Error in table(Y_hat, submission_format[2]): all arguments must have the same length\nTraceback:\n",
      "1. table(Y_hat, submission_format[2])",
      "2. stop(\"all arguments must have the same length\")"
     ]
    }
   ],
   "source": [
    "thresholds <- seq(0,0.99,0.05)\n",
    "FPR <- c()\n",
    "TPR <- c()\n",
    "\n",
    "for(threshold in thresholds){\n",
    "   Y_hat <- ifelse(Y_pred[,2] > threshold,\"spam\",\"nonspam\")  #Depending on the threshold, the way of how a value \n",
    "    #is affected to a class will be different\n",
    "   confusion_matrix <- table(Y_hat,submission_format[2])\n",
    "    \n",
    "   if(dim(confusion_matrix)[1] < 2){ \n",
    "       if(rownames(confusion_matrix) == \"nonspam\"){\n",
    "           confusion_matrix <- rbind(confusion_matrix,c(0,0))\n",
    "           rownames(confusion_matrix)[2] <- \"spam\"\n",
    "       }\n",
    "       if(rownames(confusion_matrix) == \"spam\"){ \n",
    "#            Verify if the confusion matrix is 2x2, because depending on the chosen \n",
    "#            thresohol the classifier could output only one class which will cause a problem for the computation of TPR\n",
    "#            and FPR. We add an additionnal row to be sure everything is correct. \n",
    "           confusion_matrix <- rbind(c(0,0),confusion_matrix)\n",
    "           rownames(confusion_matrix)[1] <- \"nonspam\"\n",
    "       }\n",
    "   }\n",
    "    \n",
    "   FP <- confusion_matrix[2,1]\n",
    "   TP <- confusion_matrix[2,2]\n",
    "   N_N <- sum(confusion_matrix[,1]) # Total number of nonspam\n",
    "   N_P <- sum(confusion_matrix[,2]) # Total number of spam\n",
    "\n",
    "   FPR <- c(FPR,FP/N_N)\n",
    "   TPR <- c(TPR,TP/N_P)\n",
    "}\n",
    "    "
   ]
  },
  {
   "cell_type": "code",
   "execution_count": null,
   "metadata": {},
   "outputs": [],
   "source": [
    "plot(FPR,TPR)\n",
    "lines(FPR,TPR,col=\"blue\")\n",
    "lines(thresholds,thresholds,lty=2)\n",
    "title(\"ROC Curve\")"
   ]
  },
  {
   "cell_type": "markdown",
   "metadata": {},
   "source": [
    "\n",
    "## Model 3\n"
   ]
  },
  {
   "cell_type": "code",
   "execution_count": null,
   "metadata": {},
   "outputs": [],
   "source": [
    "install.packages(\"randomForest\")"
   ]
  },
  {
   "cell_type": "code",
   "execution_count": 12,
   "metadata": {
    "vscode": {
     "languageId": "r"
    }
   },
   "outputs": [
    {
     "ename": "ERROR",
     "evalue": "Error in library(\"randomForest\"): there is no package called 'randomForest'\n",
     "output_type": "error",
     "traceback": [
      "Error in library(\"randomForest\"): there is no package called 'randomForest'\nTraceback:\n",
      "1. library(\"randomForest\")"
     ]
    }
   ],
   "source": [
    "library(\"randomForest\")\n",
    "spam <- data.frame(training_set_features[2:length(training_set_features)], training_set_labels[2]) \n",
    "n_trees <- 10\n",
    "accuracy_vec <- array(0,n_trees)\n",
    "\n",
    "spam_idx <- sample(1:nrow(spam))\n",
    "half_split <- floor(nrow(spam)/2)\n",
    "target_variable <- ncol(spam)\n",
    "\n",
    "for (i in 1:n_trees){ #print(i)\n",
    "    #3.1 Take the first half of the dataset as a training data set\n",
    "    train_data <- spam[spam_idx[1:half_split],]\n",
    "\n",
    "    #3.2 Take the second half of the dataset as a hold out or test data set\n",
    "    test_data <- spam[spam_idx[(half_split+1):nrow(spam)],]\n",
    "    \n",
    "    model <- randomForest(x=train_data[,-c(target_variable)],\n",
    "                          y=as.factor(train_data[,c(target_variable)]),\n",
    "                          xtest=test_data[,-c(target_variable)],\n",
    "                          ytest=as.factor(test_data[,c(target_variable)]),\n",
    "                          ntree=i*10)\n",
    "    \n",
    "    accuracy_vec[i] = (model$test$confusion[1,1]+model$test$confusion[2,2])/sum(model$test$confusion)\n",
    "    }\n",
    "plot(accuracy_vec,main = \"Number of trees influence\",xlab = \"Nbr of trees\",ylab = \"Classification rate\")"
   ]
  },
  {
   "cell_type": "code",
   "execution_count": null,
   "metadata": {
    "vscode": {
     "languageId": "r"
    }
   },
   "outputs": [
    {
     "data": {
      "text/html": [
       "<table class=\"dataframe\">\n",
       "<caption>A data.frame: 6 × 3</caption>\n",
       "<thead>\n",
       "\t<tr><th></th><th scope=col>respondent_id</th><th scope=col>h1n1_vaccine</th><th scope=col>seasonal_vaccine</th></tr>\n",
       "\t<tr><th></th><th scope=col>&lt;int&gt;</th><th scope=col>&lt;fct&gt;</th><th scope=col>&lt;fct&gt;</th></tr>\n",
       "</thead>\n",
       "<tbody>\n",
       "\t<tr><th scope=row>1</th><td>26707</td><td>0</td><td>0</td></tr>\n",
       "\t<tr><th scope=row>2</th><td>26708</td><td>0</td><td>0</td></tr>\n",
       "\t<tr><th scope=row>3</th><td>26709</td><td>1</td><td>1</td></tr>\n",
       "\t<tr><th scope=row>4</th><td>26710</td><td>1</td><td>1</td></tr>\n",
       "\t<tr><th scope=row>5</th><td>26711</td><td>0</td><td>0</td></tr>\n",
       "\t<tr><th scope=row>6</th><td>26712</td><td>1</td><td>1</td></tr>\n",
       "</tbody>\n",
       "</table>\n"
      ],
      "text/latex": [
       "A data.frame: 6 × 3\n",
       "\\begin{tabular}{r|lll}\n",
       "  & respondent\\_id & h1n1\\_vaccine & seasonal\\_vaccine\\\\\n",
       "  & <int> & <fct> & <fct>\\\\\n",
       "\\hline\n",
       "\t1 & 26707 & 0 & 0\\\\\n",
       "\t2 & 26708 & 0 & 0\\\\\n",
       "\t3 & 26709 & 1 & 1\\\\\n",
       "\t4 & 26710 & 1 & 1\\\\\n",
       "\t5 & 26711 & 0 & 0\\\\\n",
       "\t6 & 26712 & 1 & 1\\\\\n",
       "\\end{tabular}\n"
      ],
      "text/markdown": [
       "\n",
       "A data.frame: 6 × 3\n",
       "\n",
       "| <!--/--> | respondent_id &lt;int&gt; | h1n1_vaccine &lt;fct&gt; | seasonal_vaccine &lt;fct&gt; |\n",
       "|---|---|---|---|\n",
       "| 1 | 26707 | 0 | 0 |\n",
       "| 2 | 26708 | 0 | 0 |\n",
       "| 3 | 26709 | 1 | 1 |\n",
       "| 4 | 26710 | 1 | 1 |\n",
       "| 5 | 26711 | 0 | 0 |\n",
       "| 6 | 26712 | 1 | 1 |\n",
       "\n"
      ],
      "text/plain": [
       "  respondent_id h1n1_vaccine seasonal_vaccine\n",
       "1 26707         0            0               \n",
       "2 26708         0            0               \n",
       "3 26709         1            1               \n",
       "4 26710         1            1               \n",
       "5 26711         0            0               \n",
       "6 26712         1            1               "
      ]
     },
     "metadata": {},
     "output_type": "display_data"
    }
   ],
   "source": [
    "spam <- data.frame(training_set_features[2:length(training_set_features)], training_set_labels[2]) \n",
    "n_trees <- 600 # 0.8385 precision\n",
    "accuracy_vec <- array(0,n_trees)\n",
    "\n",
    "spam_idx <- sample(1:nrow(spam))\n",
    "half_split <- floor(nrow(spam)/2)\n",
    "target_variable <- ncol(spam)\n",
    "\n",
    "train_data <- spam[spam_idx[1:half_split],]\n",
    "\n",
    "test_data <- spam[spam_idx[(half_split+1):nrow(spam)],]\n",
    "    \n",
    "model <- randomForest(x=train_data[,-c(target_variable)],\n",
    "                          y=as.factor(train_data[,c(target_variable)]),\n",
    "                          xtest=test_data[,-c(target_variable)],\n",
    "                          ytest=as.factor(test_data[,c(target_variable)]),\n",
    "                          ntree=n_trees, \n",
    "                          keep.forest=TRUE)\n",
    "\n",
    "Y_pred <- data.frame(predict(model,test_set_features))\n",
    "submission_format[2] <- Y_pred\n",
    "\n",
    "\n",
    "\n",
    "spam <- data.frame(training_set_features[2:length(training_set_features)], training_set_labels[3]) \n",
    "n_trees <- 800 # 0.772 precision\n",
    "accuracy_vec <- array(0,n_trees)\n",
    "\n",
    "spam_idx <- sample(1:nrow(spam))\n",
    "half_split <- floor(nrow(spam)/2)\n",
    "target_variable <- ncol(spam)\n",
    "\n",
    "train_data <- spam[spam_idx[1:half_split],]\n",
    "\n",
    "test_data <- spam[spam_idx[(half_split+1):nrow(spam)],]\n",
    "    \n",
    "model <- randomForest(x=train_data[,-c(target_variable)],\n",
    "                          y=as.factor(train_data[,c(target_variable)]),\n",
    "                          xtest=test_data[,-c(target_variable)],\n",
    "                          ytest=as.factor(test_data[,c(target_variable)]),\n",
    "                          ntree=n_trees, \n",
    "                          keep.forest=TRUE)\n",
    "\n",
    "Y_pred <- data.frame(predict(model,test_set_features))\n",
    "submission_format[3] <- Y_pred\n",
    "x <- submission_format\n",
    "levels(x[,2]) <- c(\"0.0\", \"1.0\")\n",
    "write.csv(x,\"sample_data/answers.csv\", row.names = FALSE, quote=FALSE)"
   ]
  },
  {
   "cell_type": "markdown",
   "metadata": {},
   "source": [
    "### Model 4"
   ]
  },
  {
   "cell_type": "code",
   "execution_count": null,
   "metadata": {
    "vscode": {
     "languageId": "r"
    }
   },
   "outputs": [],
   "source": [
    "### Model 4\n",
    "data <- training_set_features\n",
    "\n",
    "part <- sample(2, nrow(data), replace = TRUE, prob = c(0.7, 0.3))\n",
    "\n",
    "train<- data[part == 1,]\n",
    "\n",
    "test<- data[part == 2,]\n",
    "\n",
    "ED<-function(data1,data2){ #Compute euclidian distance. \n",
    "    distance=0\n",
    "    for (i in (1:(length(data1)-1))){\n",
    "        distance=distance+(data1[i]-data2[i])^2\n",
    "    }\n",
    "    return(sqrt(distance))\n",
    "}\n",
    "\n",
    "\n",
    "\n",
    "#Writing the function to predict kNN\n",
    "knn_predict <- function(test, train, k_value){\n",
    "  pred <- c()\n",
    "  #LOOP-1\n",
    "  for(i in c(1:nrow(test))){   \n",
    "    dist = c()          \n",
    "    char = c()\n",
    "    h1n1_vaccine = 0\n",
    "    seasonal_vaccine = 0\n",
    "  }\n",
    "    #LOOP-2-looping over train data \n",
    "    for(j in c(1:nrow(train))){\n",
    "      dist <- c(dist, ED(test[i,], train[j,]))\n",
    "      char <- c(char, as.character(train[j,][[5]]))\n",
    "    }\n",
    "    df <- data.frame(char, dist$SepalLength) \n",
    "    df <- df[order(df$dist.SepalLength),]       #sorting dataframe\n",
    "    df <- df[1:k_value,]\n",
    "    \n",
    "    \n",
    "    #Loop 3: loops over df and counts classes of neibhors.\n",
    "    for(k in c(1:nrow(df))){\n",
    "      if(as.character(df[k,\"char\"]) == \"setosa\"){\n",
    "        setosa = setosa + 1\n",
    "      }else if(as.character(df[k,\"char\"]) == \"versicolor\"){\n",
    "        versicolor = versicolor + 1\n",
    "      }else\n",
    "        virginica = virginica + 1\n",
    "    }\n",
    "    \n",
    "    \n",
    "    n<-table(df$char)\n",
    "    pred=names(n)[which(n==max(n))]\n",
    "    \n",
    "  return(pred) #return prediction vector\n",
    "}\n",
    "\n",
    "#Predicting the value for K=1\n",
    "K=1\n",
    "predictions <- knn_predict(test, train, K)"
   ]
  },
  {
   "cell_type": "markdown",
   "metadata": {},
   "source": [
    "\n",
    "#### Example of simple equation\n",
    "\\begin{equation}\n",
    "e = mc^2\n",
    "\\end{equation}\n",
    "\n",
    "#### Example of matrix equation - Cross product formula:\n",
    "\n",
    "\\begin{equation*}\n",
    "\\mathbf{V}_1 \\times \\mathbf{V}_2 =  \n",
    "\\begin{vmatrix}\n",
    "\\mathbf{i} & \\mathbf{j} & \\mathbf{k} \\\\\n",
    "\\frac{\\partial X}{\\partial u} &  \\frac{\\partial Y}{\\partial u} & 0 \\\\\n",
    "\\frac{\\partial X}{\\partial v} &  \\frac{\\partial Y}{\\partial v} & 0\n",
    "\\end{vmatrix}\n",
    "\\end{equation*}\n",
    "\n",
    "#### Example of multiline equation - The Lorenz Equations:\n",
    "\n",
    "\\begin{align}\n",
    "\\dot{x} & = \\sigma(y-x) \\\\\n",
    "\\dot{y} & = \\rho x - y - xz \\\\\n",
    "\\dot{z} & = -\\beta z + xy\n",
    "\\end{align}\n",
    "\n",
    "#### Example of Markdown Table:\n",
    "\n",
    "| This | is   |\n",
    "|------|------|\n",
    "|   a  | table|\n"
   ]
  },
  {
   "cell_type": "markdown",
   "metadata": {
    "id": "9j5b3jTIkyu7"
   },
   "source": [
    "# Alternative models\n",
    "\n",
    "\n",
    "\n"
   ]
  },
  {
   "cell_type": "markdown",
   "metadata": {
    "id": "sz3LmTKkkyu8"
   },
   "source": [
    "# Conclusions"
   ]
  }
 ],
 "metadata": {
  "colab": {
   "collapsed_sections": [],
   "name": "Program.ipynb",
   "provenance": []
  },
  "kernelspec": {
   "display_name": "R",
   "language": "R",
   "name": "ir"
  },
  "language_info": {
   "codemirror_mode": "r",
   "file_extension": ".r",
   "mimetype": "text/x-r-source",
   "name": "R",
   "pygments_lexer": "r",
   "version": "3.6.1"
  }
 },
 "nbformat": 4,
 "nbformat_minor": 1
}
