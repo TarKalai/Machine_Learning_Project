{
 "cells": [
  {
   "cell_type": "markdown",
   "metadata": {
    "id": "A7iUf-ffkyup"
   },
   "source": [
    "# INFO-F-422 -  Statistical Foundations of Machine Learning \n",
    "\n",
    "### De Vos Sebastien - __[sebastien.de.vos@ulb.be](mailto:student1@ulb.ac.be) - Student ID 459907__\n",
    "### Kalai Tarik - __[Tarik.Kalai@ulb.be](mailto:student2@ulb.ac.be) - Student ID 459631__\n",
    "### Rubas Diego - __[Diego.Rubas@ulb.be](mailto:student3@ulb.ac.be) - Student ID 459733__\n",
    "\n",
    "### Video presentation: www.youtube.com/abcd1234\n",
    "\n",
    "## Project Title\n"
   ]
  },
  {
   "cell_type": "markdown",
   "metadata": {
    "id": "BknMGYOJkyu0"
   },
   "source": [
    "# Introduction\n"
   ]
  },
  {
   "cell_type": "markdown",
   "metadata": {
    "id": "6gsGzIq1kyu2"
   },
   "source": [
    "# Exploratory Data Anaylsis"
   ]
  },
  {
   "cell_type": "markdown",
   "metadata": {
    "id": "nQ2WjfsUkyu3"
   },
   "source": [
    "In this section we will be viewing and understanding the data that we have."
   ]
  },
  {
   "cell_type": "markdown",
   "metadata": {
    "id": "L_AfUCaNsZJW"
   },
   "source": []
  },
  {
   "cell_type": "markdown",
   "metadata": {
    "id": "6KMnF3pisasz"
   },
   "source": [
    "### Data recuperation"
   ]
  },
  {
   "cell_type": "code",
   "execution_count": 2,
   "metadata": {
    "id": "EbjGzSlXsVQQ",
    "vscode": {
     "languageId": "r"
    }
   },
   "outputs": [],
   "source": [
    "training_set_features <- read.csv(\"sample_data/training_set_features.csv\", stringsAsFactors  = T)\n",
    "training_set_labels <- read.csv(\"sample_data/training_set_labels.csv\", stringsAsFactors  = T)\n",
    "test_set_features <- read.csv(\"sample_data/test_set_features.csv\", stringsAsFactors  = T)\n",
    "submission_format<- read.csv(\"sample_data/submission_format.csv\", stringsAsFactors  = T)\n"
   ]
  },
  {
   "cell_type": "markdown",
   "metadata": {
    "id": "Vgh9rPpcsITS"
   },
   "source": [
    "### Dimensions of the data samples. "
   ]
  },
  {
   "cell_type": "code",
   "execution_count": 3,
   "metadata": {
    "colab": {
     "base_uri": "https://localhost:8080/"
    },
    "id": "iJC79QYWnku5",
    "outputId": "d8bd1909-6c12-4098-801e-3bcf01a8332a",
    "vscode": {
     "languageId": "r"
    }
   },
   "outputs": [
    {
     "name": "stdout",
     "output_type": "stream",
     "text": [
      "dimension of test_set_features:  26708 36 \n",
      "dimension of training_set_labels:  26707 3 \n",
      "dimension of training_set_features :  26707 36 \n"
     ]
    }
   ],
   "source": [
    "\n",
    "\n",
    "cat(\"dimension of test_set_features: \",  dim(test_set_features), \"\\n\")# This will be the input to the model (after it had been trained), the answer the model\n",
    "#will be providing will then be sent to DrivenData. \n",
    "\n",
    "cat(\"dimension of training_set_labels: \", dim(training_set_labels), \"\\n\") # Answers to training_set_features. \n",
    "\n",
    "cat(\"dimension of training_set_features : \", dim(training_set_features), \"\\n\") # Corresponding to a sample of data: will be used for training set and test set. \n",
    "#The result will then be \"validated\" with a comparison with training_set_labels\n",
    "\n",
    "\n"
   ]
  },
  {
   "cell_type": "markdown",
   "metadata": {
    "id": "DSUJ01Ltv3ct"
   },
   "source": [
    "### Data preview"
   ]
  },
  {
   "cell_type": "code",
   "execution_count": 4,
   "metadata": {
    "colab": {
     "base_uri": "https://localhost:8080/",
     "height": 309
    },
    "id": "2poWrvqyvxR3",
    "outputId": "2ab63a6f-9784-49a3-bb3e-cd855c08ba8d",
    "vscode": {
     "languageId": "r"
    }
   },
   "outputs": [
    {
     "data": {
      "text/html": [
       "1.61848581626902"
      ],
      "text/latex": [
       "1.61848581626902"
      ],
      "text/markdown": [
       "1.61848581626902"
      ],
      "text/plain": [
       "[1] 1.618486"
      ]
     },
     "metadata": {},
     "output_type": "display_data"
    },
    {
     "data": {
      "text/html": [
       "0.910310689354665"
      ],
      "text/latex": [
       "0.910310689354665"
      ],
      "text/markdown": [
       "0.910310689354665"
      ],
      "text/plain": [
       "[1] 0.9103107"
      ]
     },
     "metadata": {},
     "output_type": "display_data"
    },
    {
     "name": "stdout",
     "output_type": "stream",
     "text": [
      "Mean for NA values : 1.618486 \n",
      "Ratio of missing values:  0.344479 \n",
      "Number of missing values:  92 \n",
      "here:  92 \n"
     ]
    },
    {
     "data": {
      "text/html": [
       "1.61980005242071"
      ],
      "text/latex": [
       "1.61980005242071"
      ],
      "text/markdown": [
       "1.61980005242071"
      ],
      "text/plain": [
       "[1] 1.6198"
      ]
     },
     "metadata": {},
     "output_type": "display_data"
    },
    {
     "data": {
      "text/html": [
       "0.909016257769401"
      ],
      "text/latex": [
       "0.909016257769401"
      ],
      "text/markdown": [
       "0.909016257769401"
      ],
      "text/plain": [
       "[1] 0.9090163"
      ]
     },
     "metadata": {},
     "output_type": "display_data"
    },
    {
     "name": "stdout",
     "output_type": "stream",
     "text": [
      "[1] 0\n"
     ]
    },
    {
     "data": {
      "text/html": [
       "<table>\n",
       "<thead><tr><th></th><th scope=col>behavioral_antiviral_meds</th></tr></thead>\n",
       "<tbody>\n",
       "\t<tr><th scope=row>1</th><td> 0</td></tr>\n",
       "\t<tr><th scope=row>24</th><td> 1</td></tr>\n",
       "\t<tr><th scope=row>137</th><td>NA</td></tr>\n",
       "</tbody>\n",
       "</table>\n"
      ],
      "text/latex": [
       "\\begin{tabular}{r|l}\n",
       "  & behavioral\\_antiviral\\_meds\\\\\n",
       "\\hline\n",
       "\t1 &  0\\\\\n",
       "\t24 &  1\\\\\n",
       "\t137 & NA\\\\\n",
       "\\end{tabular}\n"
      ],
      "text/markdown": [
       "\n",
       "| <!--/--> | behavioral_antiviral_meds |\n",
       "|---|---|\n",
       "| 1 |  0 |\n",
       "| 24 |  1 |\n",
       "| 137 | NA |\n",
       "\n"
      ],
      "text/plain": [
       "    behavioral_antiviral_meds\n",
       "1    0                       \n",
       "24   1                       \n",
       "137 NA                       "
      ]
     },
     "metadata": {},
     "output_type": "display_data"
    }
   ],
   "source": [
    "# head(training_set_features)\n",
    "\n",
    "# summary(training_set_features)\n",
    "\n",
    "# dim(na.omit(training_set_features))\n",
    "\n",
    "# apply(is.na(training_set_features),2, any)\n",
    "\n",
    "# for the feature: h1n1_concern it has been decided that a mean (sum of all values different of NA and then divide by the total number of variables) \n",
    "# will be computed for the Null values knowing that there is 0.34 % of missing values. \n",
    "\n",
    "length <- dim(training_set_features)[1]\n",
    "count_NA <- 0\n",
    "non_NA_var <- 0\n",
    "c0 <- 0\n",
    "c1 <- 0\n",
    "c2 <- 0\n",
    "c3 <- 0\n",
    "\n",
    "for(i in 1:length){\n",
    "  id <- training_set_features[i, 1]\n",
    "  var <- training_set_features[i,2]\n",
    "  if(is.na(var)){\n",
    "    count_NA <- count_NA + 1\n",
    "  }\n",
    "  else if(var == 0){\n",
    "    c0 <- c0 +1\n",
    "    non_NA_var <- non_NA_var + var\n",
    "  }\n",
    "  else if(var == 1){\n",
    "    c1 <- c1 +1\n",
    "    non_NA_var <- non_NA_var + var\n",
    "\n",
    "  }\n",
    "  else if(var == 2){\n",
    "    c2 <- c2 +1\n",
    "    non_NA_var <- non_NA_var + var\n",
    "  }\n",
    "  else if(var == 3){\n",
    "    c3 <- c3 +1\n",
    "    non_NA_var <- non_NA_var + var\n",
    "  }\n",
    "}\n",
    "\n",
    "mean_TS <- mean(training_set_features[,2], na.rm = T) # Mean des val. NA\n",
    "sd_TS <- sqrt(var(training_set_features[,2], na.rm = T))  # Ecart type des valeurs NA\n",
    "mean_TS\n",
    "sd_TS\n",
    "empirical_mean <- (non_NA_var)/(length-count_NA)\n",
    "cat(\"Mean for NA values :\", empirical_mean, \"\\n\")\n",
    "cat(\"Ratio of missing values: \", (count_NA/length)*100, \"\\n\")\n",
    "cat(\"Number of missing values: \", count_NA, \"\\n\")\n",
    "\n",
    "cat(\"here: \", sum(is.na(training_set_features[,2])), \"\\n\")\n",
    "training_set_features[is.na(training_set_features[,2]), 2] <- round(mean_TS + sd_TS/2)\n",
    "mean(training_set_features[,2], na.rm = T) # Mean des val. NA\n",
    "sqrt(var(training_set_features[,2], na.rm = T)) \n",
    "\n",
    "print(sum(is.na(training_set_features[,2])))\n",
    "\n",
    "# pos_val <- (length-count_NA)\n",
    "# pz <- c(c0/pos_val, c1/pos_val, c2/pos_val, c3/pos_val)\n",
    "# ez <- 1*pz[2] + 2*pz[3] + 3*pz[4]\n",
    "# sd_w <- sqrt((0-ez)^2*pz[1] + (1 - ez)^2 * pz[2] + (2 - ez)^2 * pz[3] + (3 - ez)^2 * pz[4])\n",
    "# cat(\"c0: \", c0, \"c1: \", c1, \"c2: \", c2, \"c3: \", c3, \"\\n\")\n",
    "# cat(\"Variance :\", sd_w, \"\\n\")\n",
    "# N <-length\n",
    "# for( i in 2:24){\n",
    "#   cat(\"results:\", \"\\n\")\n",
    "#   unique(training_set_features[i]))\n",
    "# }\n",
    "unique(training_set_features[4])\n",
    "\n",
    "# test <- list(names(training_set_features)[1])"
   ]
  },
  {
   "cell_type": "code",
   "execution_count": 12,
   "metadata": {
    "vscode": {
     "languageId": "r"
    }
   },
   "outputs": [
    {
     "data": {
      "text/html": [
       "116"
      ],
      "text/latex": [
       "116"
      ],
      "text/markdown": [
       "116"
      ],
      "text/plain": [
       "[1] 116"
      ]
     },
     "metadata": {},
     "output_type": "display_data"
    }
   ],
   "source": [
    "# unique(training_set_features[36])\n",
    "# mean(training_set_features[,1], na.rm = T)\n",
    "length(which(is.na(training_set_features[,3])))"
   ]
  },
  {
   "cell_type": "code",
   "execution_count": 13,
   "metadata": {
    "id": "uKeHb6pcnOlW",
    "vscode": {
     "languageId": "r"
    }
   },
   "outputs": [
    {
     "name": "stdout",
     "output_type": "stream",
     "text": [
      "[[1]]\n",
      "NULL\n",
      "\n",
      "[[2]]\n",
      "NULL\n",
      "\n",
      "[[3]]\n",
      "[1] \"h1n1_knowledge\"    \"1.26253243578654\"  \"0.618149133686222\"\n",
      "[4] \"1.2657355749429\"   \"0.618708871311186\"\n",
      "\n",
      "[[4]]\n",
      "[1] \"behavioral_antiviral_meds\" \"0.0488436702207539\"       \n",
      "[3] \"0.215545146883756\"         \"0.0487138203467256\"       \n",
      "[5] \"0.215273127152241\"        \n",
      "\n",
      "[[5]]\n",
      "[1] \"behavioral_avoidance\" \"0.725612287256123\"    \"0.446213636702828\"   \n",
      "[4] \"0.727749279215187\"    \"0.445126594081944\"   \n",
      "\n",
      "[[6]]\n",
      "[1] \"behavioral_face_mask\" \"0.0689823141486811\"   \"0.253428808621214\"   \n",
      "[4] \"0.0689332384768038\"   \"0.253345318427957\"   \n",
      "\n",
      "[[7]]\n",
      "[1] \"behavioral_wash_hands\" \"0.825614100881305\"     \"0.379448095168325\"    \n",
      "[4] \"0.825888343879882\"     \"0.379212568041603\"    \n",
      "\n",
      "[[8]]\n",
      "[1] \"behavioral_large_gatherings\" \"0.358640120210368\"          \n",
      "[3] \"0.47961028500621\"            \"0.360729396787359\"          \n",
      "[5] \"0.480221130296265\"          \n",
      "\n",
      "[[9]]\n",
      "[1] \"behavioral_outside_home\" \"0.33731455399061\"       \n",
      "[3] \"0.472802116740649\"       \"0.339349234283147\"      \n",
      "[5] \"0.473497335015943\"      \n",
      "\n",
      "[[10]]\n",
      "[1] \"behavioral_touch_face\" \"0.677264005417811\"     \"0.467531492397302\"    \n",
      "[4] \"0.678810798667016\"     \"0.466942033061288\"    \n",
      "\n",
      "[[11]]\n",
      "[1] \"doctor_recc_h1n1\"  \"0.220312054426203\" \"0.414465500580934\"\n",
      "[4] \"0.202493728236043\" \"0.401865730334815\"\n",
      "\n",
      "[[12]]\n",
      "[1] \"doctor_recc_seasonal\" \"0.329734794475903\"    \"0.47012632737284\"    \n",
      "[4] \"0.383944284270042\"    \"0.486353706367812\"   \n",
      "\n",
      "[[13]]\n",
      "[1] \"chronic_med_condition\" \"0.283260801989431\"     \"0.450590733452356\"    \n",
      "[4] \"0.30931965402329\"      \"0.46222181406366\"     \n",
      "\n",
      "[[14]]\n",
      "[1] \"child_under_6_months\" \"0.0825897168462935\"   \"0.27526638467206\"    \n",
      "[4] \"0.0800539184483469\"   \"0.27138173523697\"    \n",
      "\n",
      "[[15]]\n",
      "[1] \"health_worker\"     \"0.111917538509053\" \"0.315271058481258\"\n",
      "[4] \"0.108548320664994\" \"0.311077492131291\"\n",
      "\n",
      "[[16]]\n",
      "[1] \"health_insurance\"  \"0.879720085914224\" \"0.325299843469871\"\n",
      "[4] \"0.934998315048489\" \"0.246533449385068\"\n",
      "\n",
      "[[17]]\n",
      "[1] \"opinion_h1n1_vacc_effective\" \"3.85062319501444\"           \n",
      "[3] \"1.00743577434497\"            \"3.85281012468641\"           \n",
      "[5] \"1.00019463020472\"           \n",
      "\n",
      "[[18]]\n",
      "[1] \"opinion_h1n1_risk\" \"2.34256620692276\"  \"1.28553928669371\" \n",
      "[4] \"2.35211742239862\"  \"1.2785888614067\"  \n",
      "\n",
      "[[19]]\n",
      "[1] \"opinion_h1n1_sick_from_vacc\" \"2.35766950440863\"           \n",
      "[3] \"1.36276591717154\"            \"2.36716965589546\"           \n",
      "[5] \"1.3548708122113\"            \n",
      "\n",
      "[[20]]\n",
      "[1] \"opinion_seas_vacc_effective\" \"4.02598590207659\"           \n",
      "[3] \"1.08656490358196\"            \"4.04283521174224\"           \n",
      "[5] \"1.08458622832324\"           \n",
      "\n",
      "[[21]]\n",
      "[1] \"opinion_seas_risk\" \"2.71916160806322\"  \"1.38505518135941\" \n",
      "[4] \"2.72456659302805\"  \"1.37220419463283\" \n",
      "\n",
      "[[22]]\n",
      "[1] \"opinion_seas_sick_from_vacc\" \"2.11811234237677\"           \n",
      "[3] \"1.3329499250471\"             \"2.1358445351406\"            \n",
      "[5] \"1.32527458691258\"           \n",
      "\n"
     ]
    }
   ],
   "source": [
    "res <- list()\n",
    "\n",
    "# To generalise the function we need to take into account the empty answers and not only NA. \n",
    "\n",
    "cleanData<-function(){\n",
    "    for(i in 1 : 23 ){\n",
    "        if(length(which(is.na(training_set_features[,i]))) > 0){ #Check if there is any NA in the column\n",
    "            old_mean_ts <- mean(training_set_features[,i], na.rm = T) #compute old_mean\n",
    "            old_sd_ts <- sqrt(var(training_set_features[,i], na.rm = T)) #compute old_sd\n",
    "            feature_name<- names(training_set_features[i]) #remember the name of the feature we are dealing with\n",
    "            training_set_features[is.na(training_set_features[,i]), i] <- round(old_mean_ts + old_sd_ts/2) #modify the data\n",
    "            new_mean_ts <- mean(training_set_features[,i], na.rm = T) #compute new mean\n",
    "            new_sd_ts <- sqrt(var(training_set_features[,i], na.rm = T)) #compute new sd\n",
    "            info <- c(old_mean_ts, old_sd_ts, new_mean_ts, new_sd_ts) #put all the info together\n",
    "            res[i] <- list(c(feature_name, info)) # add the name of the feature that goes with the info. \n",
    "        }\n",
    "    }\n",
    "    return(res) #return\n",
    "}\n",
    "results <-cleanData() #call the function\n",
    "print(results) #well I am not going to comment that, have some respect. \n",
    "\n"
   ]
  },
  {
   "cell_type": "markdown",
   "metadata": {
    "id": "9Bz3szlanjs5"
   },
   "source": []
  },
  {
   "cell_type": "markdown",
   "metadata": {
    "id": "5iQ6kpO6kyu5"
   },
   "source": [
    "# Data preprocessing\n",
    "\n",
    "## Missing value imputation\n",
    "\n",
    "## Feature engineering\n",
    "\n",
    "## Feature selection\n",
    "\n"
   ]
  },
  {
   "cell_type": "markdown",
   "metadata": {
    "id": "MrH_wChrkyu6"
   },
   "source": [
    "# Model selection\n",
    "\n",
    "## Model 1\n",
    "\n",
    "## Model 2\n",
    "\n",
    "## Model 3\n",
    "\n",
    "#### Example of simple equation\n",
    "\\begin{equation}\n",
    "e = mc^2\n",
    "\\end{equation}\n",
    "\n",
    "#### Example of matrix equation - Cross product formula:\n",
    "\n",
    "\\begin{equation*}\n",
    "\\mathbf{V}_1 \\times \\mathbf{V}_2 =  \\begin{vmatrix}\n",
    "\\mathbf{i} & \\mathbf{j} & \\mathbf{k} \\\\\n",
    "\\frac{\\partial X}{\\partial u} &  \\frac{\\partial Y}{\\partial u} & 0 \\\\\n",
    "\\frac{\\partial X}{\\partial v} &  \\frac{\\partial Y}{\\partial v} & 0\n",
    "\\end{vmatrix}\n",
    "\\end{equation*}\n",
    "\n",
    "#### Example of multiline equation - The Lorenz Equations:\n",
    "\n",
    "\\begin{align}\n",
    "\\dot{x} & = \\sigma(y-x) \\\\\n",
    "\\dot{y} & = \\rho x - y - xz \\\\\n",
    "\\dot{z} & = -\\beta z + xy\n",
    "\\end{align}\n",
    "\n",
    "#### Example of Markdown Table:\n",
    "\n",
    "| This | is   |\n",
    "|------|------|\n",
    "|   a  | table|\n"
   ]
  },
  {
   "cell_type": "markdown",
   "metadata": {
    "id": "9j5b3jTIkyu7"
   },
   "source": [
    "# Alternative models\n",
    "\n",
    "\n",
    "\n"
   ]
  },
  {
   "cell_type": "markdown",
   "metadata": {
    "id": "sz3LmTKkkyu8"
   },
   "source": [
    "# Conclusions"
   ]
  }
 ],
 "metadata": {
  "colab": {
   "collapsed_sections": [],
   "name": "Program.ipynb",
   "provenance": []
  },
  "kernelspec": {
   "display_name": "R",
   "language": "R",
   "name": "ir"
  },
  "language_info": {
   "codemirror_mode": "r",
   "file_extension": ".r",
   "mimetype": "text/x-r-source",
   "name": "R",
   "pygments_lexer": "r",
   "version": "3.6.1"
  }
 },
 "nbformat": 4,
 "nbformat_minor": 1
}
