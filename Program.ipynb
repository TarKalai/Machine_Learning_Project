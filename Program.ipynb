{
  "cells": [
    {
      "cell_type": "markdown",
      "metadata": {
        "id": "A7iUf-ffkyup"
      },
      "source": [
        "# INFO-F-422 -  Statistical Foundations of Machine Learning \n",
        "\n",
        "### De Vos Sebastien - __[sebastien.de.vos@ulb.be](mailto:student1@ulb.ac.be) - Student ID 459907__\n",
        "### Kalai Tarik - __[Tarik.Kalai@ulb.be](mailto:student2@ulb.ac.be) - Student ID 459631__\n",
        "### Rubas Diego - __[Diego.Rubas@ulb.be](mailto:student3@ulb.ac.be) - Student ID 459733__\n",
        "\n",
        "### Video presentation: www.youtube.com/abcd1234\n",
        "\n",
        "## Project Title\n"
      ]
    },
    {
      "cell_type": "markdown",
      "metadata": {
        "id": "BknMGYOJkyu0"
      },
      "source": [
        "# Introduction\n"
      ]
    },
    {
      "cell_type": "markdown",
      "metadata": {
        "id": "6gsGzIq1kyu2"
      },
      "source": [
        "# Exploratory Data Anaylsis"
      ]
    },
    {
      "cell_type": "markdown",
      "metadata": {
        "id": "nQ2WjfsUkyu3"
      },
      "source": [
        "In this section we will be viewing and understanding the data that we have."
      ]
    },
    {
      "cell_type": "markdown",
      "metadata": {
        "id": "L_AfUCaNsZJW"
      },
      "source": []
    },
    {
      "cell_type": "markdown",
      "metadata": {
        "id": "6KMnF3pisasz"
      },
      "source": [
        "### Data recuperation"
      ]
    },
    {
      "cell_type": "code",
      "execution_count": 5,
      "metadata": {
        "id": "EbjGzSlXsVQQ",
        "vscode": {
          "languageId": "r"
        }
      },
      "outputs": [],
      "source": [
        "training_set_features <- read.csv(\"sample_data/training_set_features.csv\", stringsAsFactors  = T)\n",
        "training_set_labels <- read.csv(\"sample_data/training_set_labels.csv\", stringsAsFactors  = T)\n",
        "test_set_features <- read.csv(\"sample_data/test_set_features.csv\", stringsAsFactors  = T)\n",
        "submission_format<- read.csv(\"sample_data/submission_format.csv\", stringsAsFactors  = T)\n"
      ]
    },
    {
      "cell_type": "markdown",
      "metadata": {
        "id": "Vgh9rPpcsITS"
      },
      "source": [
        "### Dimensions of the data samples. "
      ]
    },
    {
      "cell_type": "code",
      "execution_count": 6,
      "metadata": {
        "colab": {
          "base_uri": "https://localhost:8080/"
        },
        "id": "iJC79QYWnku5",
        "outputId": "d8bd1909-6c12-4098-801e-3bcf01a8332a",
        "vscode": {
          "languageId": "r"
        }
      },
      "outputs": [
        {
          "name": "stdout",
          "output_type": "stream",
          "text": [
            "dimension of test_set_features:  26708 36 \n",
            "dimension of training_set_labels:  26707 3 \n",
            "dimension of training_set_features :  26707 36 \n"
          ]
        }
      ],
      "source": [
        "\n",
        "\n",
        "cat(\"dimension of test_set_features: \",  dim(test_set_features), \"\\n\")# This will be the input to the model (after it had been trained), the answer the model\n",
        "#will be providing will then be sent to DrivenData. \n",
        "\n",
        "cat(\"dimension of training_set_labels: \", dim(training_set_labels), \"\\n\") # Answers to training_set_features. \n",
        "\n",
        "cat(\"dimension of training_set_features : \", dim(training_set_features), \"\\n\") # Corresponding to a sample of data: will be used for training set and test set. \n",
        "#The result will then be \"validated\" with a comparison with training_set_labels\n",
        "\n",
        "\n"
      ]
    },
    {
      "cell_type": "markdown",
      "metadata": {
        "id": "DSUJ01Ltv3ct"
      },
      "source": [
        "### Data preview"
      ]
    },
    {
      "cell_type": "code",
      "execution_count": 7,
      "metadata": {
        "colab": {
          "base_uri": "https://localhost:8080/",
          "height": 309
        },
        "id": "2poWrvqyvxR3",
        "outputId": "2ab63a6f-9784-49a3-bb3e-cd855c08ba8d",
        "vscode": {
          "languageId": "r"
        }
      },
      "outputs": [
        {
          "data": {
            "text/html": [
              "1.61848581626902"
            ],
            "text/latex": [
              "1.61848581626902"
            ],
            "text/markdown": [
              "1.61848581626902"
            ],
            "text/plain": [
              "[1] 1.618486"
            ]
          },
          "metadata": {},
          "output_type": "display_data"
        },
        {
          "data": {
            "text/html": [
              "0.910310689354665"
            ],
            "text/latex": [
              "0.910310689354665"
            ],
            "text/markdown": [
              "0.910310689354665"
            ],
            "text/plain": [
              "[1] 0.9103107"
            ]
          },
          "metadata": {},
          "output_type": "display_data"
        },
        {
          "name": "stdout",
          "output_type": "stream",
          "text": [
            "Mean for NA values : 1.618486 \n",
            "Ratio of missing values:  0.344479 \n",
            "Number of missing values:  92 \n",
            "here:  92 \n"
          ]
        },
        {
          "data": {
            "text/html": [
              "1.61980005242071"
            ],
            "text/latex": [
              "1.61980005242071"
            ],
            "text/markdown": [
              "1.61980005242071"
            ],
            "text/plain": [
              "[1] 1.6198"
            ]
          },
          "metadata": {},
          "output_type": "display_data"
        },
        {
          "data": {
            "text/html": [
              "0.909016257769401"
            ],
            "text/latex": [
              "0.909016257769401"
            ],
            "text/markdown": [
              "0.909016257769401"
            ],
            "text/plain": [
              "[1] 0.9090163"
            ]
          },
          "metadata": {},
          "output_type": "display_data"
        },
        {
          "name": "stdout",
          "output_type": "stream",
          "text": [
            "[1] 0\n"
          ]
        }
      ],
      "source": [
        "# head(training_set_features)\n",
        "\n",
        "# summary(training_set_features)\n",
        "\n",
        "# dim(na.omit(training_set_features))\n",
        "\n",
        "# apply(is.na(training_set_features),2, any)\n",
        "\n",
        "# for the feature: h1n1_concern it has been decided that a mean (sum of all values different of NA and then divide by the total number of variables) \n",
        "# will be computed for the Null values knowing that there is 0.34 % of missing values. \n",
        "\n",
        "length <- dim(training_set_features)[1]\n",
        "count_NA <- 0\n",
        "non_NA_var <- 0\n",
        "c0 <- 0\n",
        "c1 <- 0\n",
        "c2 <- 0\n",
        "c3 <- 0\n",
        "\n",
        "for(i in 1:length){\n",
        "  id <- training_set_features[i, 1]\n",
        "  var <- training_set_features[i,2]\n",
        "  if(is.na(var)){\n",
        "    count_NA <- count_NA + 1\n",
        "  }\n",
        "  else if(var == 0){\n",
        "    c0 <- c0 +1\n",
        "    non_NA_var <- non_NA_var + var\n",
        "  }\n",
        "  else if(var == 1){\n",
        "    c1 <- c1 +1\n",
        "    non_NA_var <- non_NA_var + var\n",
        "\n",
        "  }\n",
        "  else if(var == 2){\n",
        "    c2 <- c2 +1\n",
        "    non_NA_var <- non_NA_var + var\n",
        "  }\n",
        "  else if(var == 3){\n",
        "    c3 <- c3 +1\n",
        "    non_NA_var <- non_NA_var + var\n",
        "  }\n",
        "}\n",
        "\n",
        "mean_TS <- mean(training_set_features[,2], na.rm = T) # Mean des val. NA\n",
        "sd_TS <- sqrt(var(training_set_features[,2], na.rm = T))  # Ecart type des valeurs NA\n",
        "mean_TS\n",
        "sd_TS\n",
        "empirical_mean <- (non_NA_var)/(length-count_NA)\n",
        "cat(\"Mean for NA values :\", empirical_mean, \"\\n\")\n",
        "cat(\"Ratio of missing values: \", (count_NA/length)*100, \"\\n\")\n",
        "cat(\"Number of missing values: \", count_NA, \"\\n\")\n",
        "\n",
        "cat(\"here: \", sum(is.na(training_set_features[,2])), \"\\n\")\n",
        "training_set_features[is.na(training_set_features[,2]), 2] <- round(mean_TS + sd_TS/2)\n",
        "mean(training_set_features[,2], na.rm = T) # Mean des val. NA\n",
        "sqrt(var(training_set_features[,2], na.rm = T)) \n",
        "\n",
        "print(sum(is.na(training_set_features[,2])))\n",
        "# pos_val <- (length-count_NA)\n",
        "# pz <- c(c0/pos_val, c1/pos_val, c2/pos_val, c3/pos_val)\n",
        "# ez <- 1*pz[2] + 2*pz[3] + 3*pz[4]\n",
        "# sd_w <- sqrt((0-ez)^2*pz[1] + (1 - ez)^2 * pz[2] + (2 - ez)^2 * pz[3] + (3 - ez)^2 * pz[4])\n",
        "# cat(\"c0: \", c0, \"c1: \", c1, \"c2: \", c2, \"c3: \", c3, \"\\n\")\n",
        "# cat(\"Variance :\", sd_w, \"\\n\")\n",
        "# N <-length\n",
        "\n",
        "# test <- list(names(training_set_features)[1])\n"
      ]
    },
    {
      "cell_type": "code",
      "execution_count": 8,
      "metadata": {
        "id": "uKeHb6pcnOlW",
        "vscode": {
          "languageId": "r"
        }
      },
      "outputs": [
        {
          "ename": "ERROR",
          "evalue": "Error in parse(text = x, srcfile = src): <text>:11:5: unexpected symbol\n10:     old_mean_ts <- mean( mean(training_set_features[,i], na.rm = T) # Mean des val. NA)\n11:     old_sd_ts\n        ^\n",
          "output_type": "error",
          "traceback": [
            "Error in parse(text = x, srcfile = src): <text>:11:5: unexpected symbol\n10:     old_mean_ts <- mean( mean(training_set_features[,i], na.rm = T) # Mean des val. NA)\n11:     old_sd_ts\n        ^\nTraceback:\n"
          ]
        }
      ],
      "source": [
        "name_sec_col <- \"pourcentage of NA\"\n",
        "name_third_col <- \"old mean\"\n",
        "name_fourth_col <- \"old_sd\"\n",
        "name_fifth_col <- \"new_mean\"\n",
        "name_sixth_col <- \"new_sd\"\n",
        "cleanData<-function(){\n",
        "  num_col <- dim(training_set_features)[2]\n",
        "  num_lin <- dim(training_set_features)[1]\n",
        "  for(i in 1 : 12 ){\n",
        "    old_mean_ts <- mean( mean(training_set_features[,i], na.rm = T) # Mean des val. NA)\n",
        "    old_sd_ts <- sqrt(var(training_set_features[,i], na.rm = T))  # Ecart type des valeurs NA\n",
        "    name_first_col <- names(training_set_features[i]\n",
        "    training_set_features[is.na(training_set_features[,i]), i] <- round(old_mean_ts + old_sd_ts/2)\n",
        "    new_sd_ts <- sqrt(var(training_set_features[,i], na.rm = T))\n",
        "  }\n",
        "  }"
      ]
    },
    {
      "cell_type": "markdown",
      "metadata": {
        "id": "9Bz3szlanjs5"
      },
      "source": []
    },
    {
      "cell_type": "markdown",
      "metadata": {
        "id": "5iQ6kpO6kyu5"
      },
      "source": [
        "# Data preprocessing\n",
        "\n",
        "## Missing value imputation\n",
        "\n",
        "## Feature engineering\n",
        "\n",
        "## Feature selection\n",
        "\n"
      ]
    },
    {
      "cell_type": "markdown",
      "metadata": {
        "id": "MrH_wChrkyu6"
      },
      "source": [
        "# Model selection\n",
        "\n",
        "## Model 1\n",
        "\n",
        "## Model 2\n",
        "\n",
        "## Model 3\n",
        "\n",
        "#### Example of simple equation\n",
        "\\begin{equation}\n",
        "e = mc^2\n",
        "\\end{equation}\n",
        "\n",
        "#### Example of matrix equation - Cross product formula:\n",
        "\n",
        "\\begin{equation*}\n",
        "\\mathbf{V}_1 \\times \\mathbf{V}_2 =  \\begin{vmatrix}\n",
        "\\mathbf{i} & \\mathbf{j} & \\mathbf{k} \\\\\n",
        "\\frac{\\partial X}{\\partial u} &  \\frac{\\partial Y}{\\partial u} & 0 \\\\\n",
        "\\frac{\\partial X}{\\partial v} &  \\frac{\\partial Y}{\\partial v} & 0\n",
        "\\end{vmatrix}\n",
        "\\end{equation*}\n",
        "\n",
        "#### Example of multiline equation - The Lorenz Equations:\n",
        "\n",
        "\\begin{align}\n",
        "\\dot{x} & = \\sigma(y-x) \\\\\n",
        "\\dot{y} & = \\rho x - y - xz \\\\\n",
        "\\dot{z} & = -\\beta z + xy\n",
        "\\end{align}\n",
        "\n",
        "#### Example of Markdown Table:\n",
        "\n",
        "| This | is   |\n",
        "|------|------|\n",
        "|   a  | table|\n"
      ]
    },
    {
      "cell_type": "markdown",
      "metadata": {
        "id": "9j5b3jTIkyu7"
      },
      "source": [
        "# Alternative models\n",
        "\n",
        "\n",
        "\n"
      ]
    },
    {
      "cell_type": "markdown",
      "metadata": {
        "id": "sz3LmTKkkyu8"
      },
      "source": [
        "# Conclusions"
      ]
    }
  ],
  "metadata": {
    "colab": {
      "collapsed_sections": [],
      "name": "Program.ipynb",
      "provenance": []
    },
    "kernelspec": {
      "display_name": "R",
      "language": "R",
      "name": "ir"
    },
    "language_info": {
      "codemirror_mode": "r",
      "file_extension": ".r",
      "mimetype": "text/x-r-source",
      "name": "R",
      "pygments_lexer": "r",
      "version": "3.6.3"
    }
  },
  "nbformat": 4,
  "nbformat_minor": 0
}
