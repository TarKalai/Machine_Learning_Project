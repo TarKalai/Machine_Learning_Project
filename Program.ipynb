{
 "cells": [
  {
   "cell_type": "markdown",
   "metadata": {
    "id": "A7iUf-ffkyup"
   },
   "source": [
    "# INFO-F-422 -  Statistical Foundations of Machine Learning \n",
    "\n",
    "### De Vos Sebastien - __[Sebastien.De.Vos@ulb.be](mailto:sebastien.de.vos@ulb.be) - Student ID 459907__\n",
    "### Kalai Tarik - __[Tarik.Kalai@ulb.be](mailto:Tarik.Kalai@ulb.be) - Student ID 459631__\n",
    "### Rubas Diego - __[Diego.Rubas@ulb.be](mailto:diego.rubas@ulb.be) - Student ID 459733__\n",
    "\n",
    "### Video presentation: www.youtube.com/abcd1234\n",
    "good source : https://www.heatonresearch.com/2017/06/01/hidden-layers.html\n",
    "## Flu Shot Learning: Predict H1N1 and Seasonal Flu Vaccines\n",
    " \n"
   ]
  },
  {
   "cell_type": "markdown",
   "metadata": {},
   "source": [
    "# Table of Contents\n",
    "\n",
    "* [Introduction](#Introduction)\n",
    "* [Exploratory Data Analysis](#Exploratory_Data_Analysis)\n",
    "    * [Data Loading](#Data_Loading)\n",
    "    * [Data Dimension](#Data_Dimension)\n",
    "    * [Data Preview](#Data_Preview)\n",
    "* [Data Preprocessing](#Data_Preprocessing)\n",
    "    * [Missing Value Imputation](#Missing_Value_Imputation)\n",
    "    * [Feature Engineering](#Feature_Engineering)\n",
    "    * [Feature Selection](#Feature_Selection)\n",
    "* [Model Selection](#Model_Selection)\n",
    "    * [Model 1: Linear Model](#Model_1_Linear_Model)\n",
    "    * [Model 2: Decision Tree](#Model_2_Decision_Tree)\n",
    "        [Model 2.1: Bossted Decision Tree](#Model_2_1_Boosted_Decision_Tree)\n",
    "    * [Model 3: Random Forest](#Model_3_Random_Forest)"
   ]
  },
  {
   "cell_type": "markdown",
   "metadata": {
    "id": "BknMGYOJkyu0"
   },
   "source": [
    "# Introduction <a class=\"anchor\" id=\"Introduction\"></a>\n",
    "\n",
    "4 different models will be used to predic if either a person received the h1n1 vaccine or/and the seasonnal flu vaccine.\n",
    "The four different models are: \n",
    "\n",
    "  * Linear Regression Model. \n",
    "  * Decision Tree Model.\n",
    "    * Boosted version.\n",
    "  * Random Forest.\n",
    "  * Neural Network.\n"
   ]
  },
  {
   "cell_type": "markdown",
   "metadata": {},
   "source": [
    "### Seed for the project"
   ]
  },
  {
   "cell_type": "code",
   "execution_count": 1,
   "metadata": {
    "vscode": {
     "languageId": "r"
    }
   },
   "outputs": [],
   "source": [
    "set.seed(12345)"
   ]
  },
  {
   "cell_type": "markdown",
   "metadata": {
    "id": "6gsGzIq1kyu2"
   },
   "source": [
    "# Exploratory Data Anaylsis <a class=\"anchor\" id=\"Exploratory_Data_Analysis\"></a>"
   ]
  },
  {
   "cell_type": "markdown",
   "metadata": {
    "id": "nQ2WjfsUkyu3"
   },
   "source": [
    "In this section we will be viewing and understanding the data. "
   ]
  },
  {
   "cell_type": "markdown",
   "metadata": {
    "id": "6KMnF3pisasz"
   },
   "source": [
    "## Data loading <a class=\"anchor\" id=\"Data_Loading\"></a>"
   ]
  },
  {
   "cell_type": "code",
   "execution_count": 2,
   "metadata": {
    "id": "EbjGzSlXsVQQ",
    "vscode": {
     "languageId": "r"
    }
   },
   "outputs": [],
   "source": [
    "training_set_features <- read.csv(\"sample_data/training_set_features.csv\", stringsAsFactors  = T)\n",
    "training_set_labels <- read.csv(\"sample_data/training_set_labels.csv\", stringsAsFactors  = T)\n",
    "test_set_features <- read.csv(\"sample_data/test_set_features.csv\", stringsAsFactors  = T)\n",
    "submission_format <- read.csv(\"sample_data/submission_format.csv\", stringsAsFactors  = T)"
   ]
  },
  {
   "cell_type": "markdown",
   "metadata": {
    "id": "Vgh9rPpcsITS"
   },
   "source": [
    "## Dimensions of the data samples. <a class=\"anchor\" id=\"Data_Dimension\"></a>\n",
    "\n",
    "We realised that the *training_set_labels* is the known prediction that will be used to train our models with the *training_set_features*.\n",
    "What will have to be uploaded on the DrivenData website is the prediction of the *test_set_features* which has to correspond to the format of *submission_format*. "
   ]
  },
  {
   "cell_type": "code",
   "execution_count": 3,
   "metadata": {
    "colab": {
     "base_uri": "https://localhost:8080/"
    },
    "id": "iJC79QYWnku5",
    "outputId": "d8bd1909-6c12-4098-801e-3bcf01a8332a",
    "vscode": {
     "languageId": "r"
    }
   },
   "outputs": [
    {
     "name": "stdout",
     "output_type": "stream",
     "text": [
      "dimension of training_set_features :  26707 36 \n",
      "dimension of training_set_labels:  26707 3 \n",
      "dimension of test_set_features:  26708 36 \n",
      "dimension of submission_format :  26708 3 \n"
     ]
    }
   ],
   "source": [
    "cat(\"dimension of training_set_features : \", dim(training_set_features), \"\\n\")\n",
    "cat(\"dimension of training_set_labels: \", dim(training_set_labels), \"\\n\")\n",
    "cat(\"dimension of test_set_features: \",  dim(test_set_features), \"\\n\")\n",
    "cat(\"dimension of submission_format : \", dim(submission_format), \"\\n\")"
   ]
  },
  {
   "cell_type": "markdown",
   "metadata": {
    "id": "DSUJ01Ltv3ct"
   },
   "source": [
    "## Data Preview <a class=\"anchor\" id=\"Data_Preview\"></a>"
   ]
  },
  {
   "cell_type": "code",
   "execution_count": 4,
   "metadata": {
    "vscode": {
     "languageId": "r"
    }
   },
   "outputs": [
    {
     "data": {
      "text/html": [
       "<table>\n",
       "<thead><tr><th scope=col>respondent_id</th><th scope=col>h1n1_concern</th><th scope=col>h1n1_knowledge</th><th scope=col>behavioral_antiviral_meds</th><th scope=col>behavioral_avoidance</th><th scope=col>behavioral_face_mask</th><th scope=col>behavioral_wash_hands</th><th scope=col>behavioral_large_gatherings</th><th scope=col>behavioral_outside_home</th><th scope=col>behavioral_touch_face</th><th scope=col>...</th><th scope=col>income_poverty</th><th scope=col>marital_status</th><th scope=col>rent_or_own</th><th scope=col>employment_status</th><th scope=col>hhs_geo_region</th><th scope=col>census_msa</th><th scope=col>household_adults</th><th scope=col>household_children</th><th scope=col>employment_industry</th><th scope=col>employment_occupation</th></tr></thead>\n",
       "<tbody>\n",
       "\t<tr><td>0                        </td><td>1                        </td><td>0                        </td><td>0                        </td><td>0                        </td><td>0                        </td><td>0                        </td><td>0                        </td><td>1                        </td><td>1                        </td><td>...                      </td><td>Below Poverty            </td><td>Not Married              </td><td>Own                      </td><td>Not in Labor Force       </td><td>oxchjgsf                 </td><td>Non-MSA                  </td><td>0                        </td><td>0                        </td><td>                         </td><td>                         </td></tr>\n",
       "\t<tr><td>1                        </td><td>3                        </td><td>2                        </td><td>0                        </td><td>1                        </td><td>0                        </td><td>1                        </td><td>0                        </td><td>1                        </td><td>1                        </td><td>...                      </td><td>Below Poverty            </td><td>Not Married              </td><td>Rent                     </td><td>Employed                 </td><td>bhuqouqj                 </td><td>MSA, Not Principle  City </td><td>0                        </td><td>0                        </td><td>pxcmvdjn                 </td><td>xgwztkwe                 </td></tr>\n",
       "\t<tr><td>2                                                               </td><td>1                                                               </td><td>1                                                               </td><td>0                                                               </td><td>1                                                               </td><td>0                                                               </td><td>0                                                               </td><td>0                                                               </td><td>0                                                               </td><td>0                                                               </td><td>...                                                             </td><td>&lt;= $75,000, Above Poverty                                    </td><td>Not Married                                                     </td><td>Own                                                             </td><td><span style=white-space:pre-wrap>Employed          </span>      </td><td>qufhixun                                                        </td><td><span style=white-space:pre-wrap>MSA, Not Principle  City</span></td><td>2                                                               </td><td>0                                                               </td><td>rucpziij                                                        </td><td>xtkaffoo                                                        </td></tr>\n",
       "\t<tr><td>3                        </td><td>1                        </td><td>1                        </td><td>0                        </td><td>1                        </td><td>0                        </td><td>1                        </td><td>1                        </td><td>0                        </td><td>0                        </td><td>...                      </td><td>Below Poverty            </td><td>Not Married              </td><td>Rent                     </td><td>Not in Labor Force       </td><td>lrircsnp                 </td><td>MSA, Principle City      </td><td>0                        </td><td>0                        </td><td>                         </td><td>                         </td></tr>\n",
       "\t<tr><td>4                                                               </td><td>2                                                               </td><td>1                                                               </td><td>0                                                               </td><td>1                                                               </td><td>0                                                               </td><td>1                                                               </td><td>1                                                               </td><td>0                                                               </td><td>1                                                               </td><td>...                                                             </td><td>&lt;= $75,000, Above Poverty                                    </td><td><span style=white-space:pre-wrap>Married    </span>             </td><td>Own                                                             </td><td><span style=white-space:pre-wrap>Employed          </span>      </td><td>qufhixun                                                        </td><td><span style=white-space:pre-wrap>MSA, Not Principle  City</span></td><td>1                                                               </td><td>0                                                               </td><td>wxleyezf                                                        </td><td>emcorrxb                                                        </td></tr>\n",
       "\t<tr><td>5                                                               </td><td>3                                                               </td><td>1                                                               </td><td>0                                                               </td><td>1                                                               </td><td>0                                                               </td><td>1                                                               </td><td>0                                                               </td><td>0                                                               </td><td>1                                                               </td><td>...                                                             </td><td>&lt;= $75,000, Above Poverty                                    </td><td><span style=white-space:pre-wrap>Married    </span>             </td><td>Own                                                             </td><td><span style=white-space:pre-wrap>Employed          </span>      </td><td>atmpeygn                                                        </td><td><span style=white-space:pre-wrap>MSA, Principle City     </span></td><td>2                                                               </td><td>3                                                               </td><td>saaquncn                                                        </td><td>vlluhbov                                                        </td></tr>\n",
       "</tbody>\n",
       "</table>\n"
      ],
      "text/latex": [
       "\\begin{tabular}{r|llllllllllllllllllllllllllllllllllll}\n",
       " respondent\\_id & h1n1\\_concern & h1n1\\_knowledge & behavioral\\_antiviral\\_meds & behavioral\\_avoidance & behavioral\\_face\\_mask & behavioral\\_wash\\_hands & behavioral\\_large\\_gatherings & behavioral\\_outside\\_home & behavioral\\_touch\\_face & ... & income\\_poverty & marital\\_status & rent\\_or\\_own & employment\\_status & hhs\\_geo\\_region & census\\_msa & household\\_adults & household\\_children & employment\\_industry & employment\\_occupation\\\\\n",
       "\\hline\n",
       "\t 0                         & 1                         & 0                         & 0                         & 0                         & 0                         & 0                         & 0                         & 1                         & 1                         & ...                       & Below Poverty             & Not Married               & Own                       & Not in Labor Force        & oxchjgsf                  & Non-MSA                   & 0                         & 0                         &                           &                          \\\\\n",
       "\t 1                         & 3                         & 2                         & 0                         & 1                         & 0                         & 1                         & 0                         & 1                         & 1                         & ...                       & Below Poverty             & Not Married               & Rent                      & Employed                  & bhuqouqj                  & MSA, Not Principle  City  & 0                         & 0                         & pxcmvdjn                  & xgwztkwe                 \\\\\n",
       "\t 2                           & 1                           & 1                           & 0                           & 1                           & 0                           & 0                           & 0                           & 0                           & 0                           & ...                         & <= \\$75,000, Above Poverty & Not Married                 & Own                         & Employed                    & qufhixun                    & MSA, Not Principle  City    & 2                           & 0                           & rucpziij                    & xtkaffoo                   \\\\\n",
       "\t 3                         & 1                         & 1                         & 0                         & 1                         & 0                         & 1                         & 1                         & 0                         & 0                         & ...                       & Below Poverty             & Not Married               & Rent                      & Not in Labor Force        & lrircsnp                  & MSA, Principle City       & 0                         & 0                         &                           &                          \\\\\n",
       "\t 4                           & 2                           & 1                           & 0                           & 1                           & 0                           & 1                           & 1                           & 0                           & 1                           & ...                         & <= \\$75,000, Above Poverty & Married                     & Own                         & Employed                    & qufhixun                    & MSA, Not Principle  City    & 1                           & 0                           & wxleyezf                    & emcorrxb                   \\\\\n",
       "\t 5                           & 3                           & 1                           & 0                           & 1                           & 0                           & 1                           & 0                           & 0                           & 1                           & ...                         & <= \\$75,000, Above Poverty & Married                     & Own                         & Employed                    & atmpeygn                    & MSA, Principle City         & 2                           & 3                           & saaquncn                    & vlluhbov                   \\\\\n",
       "\\end{tabular}\n"
      ],
      "text/markdown": [
       "\n",
       "| respondent_id | h1n1_concern | h1n1_knowledge | behavioral_antiviral_meds | behavioral_avoidance | behavioral_face_mask | behavioral_wash_hands | behavioral_large_gatherings | behavioral_outside_home | behavioral_touch_face | ... | income_poverty | marital_status | rent_or_own | employment_status | hhs_geo_region | census_msa | household_adults | household_children | employment_industry | employment_occupation |\n",
       "|---|---|---|---|---|---|---|---|---|---|---|---|---|---|---|---|---|---|---|---|---|\n",
       "| 0                         | 1                         | 0                         | 0                         | 0                         | 0                         | 0                         | 0                         | 1                         | 1                         | ...                       | Below Poverty             | Not Married               | Own                       | Not in Labor Force        | oxchjgsf                  | Non-MSA                   | 0                         | 0                         |                           |                           |\n",
       "| 1                         | 3                         | 2                         | 0                         | 1                         | 0                         | 1                         | 0                         | 1                         | 1                         | ...                       | Below Poverty             | Not Married               | Rent                      | Employed                  | bhuqouqj                  | MSA, Not Principle  City  | 0                         | 0                         | pxcmvdjn                  | xgwztkwe                  |\n",
       "| 2                         | 1                         | 1                         | 0                         | 1                         | 0                         | 0                         | 0                         | 0                         | 0                         | ...                       | <= $75,000, Above Poverty | Not Married               | Own                       | Employed                  | qufhixun                  | MSA, Not Principle  City  | 2                         | 0                         | rucpziij                  | xtkaffoo                  |\n",
       "| 3                         | 1                         | 1                         | 0                         | 1                         | 0                         | 1                         | 1                         | 0                         | 0                         | ...                       | Below Poverty             | Not Married               | Rent                      | Not in Labor Force        | lrircsnp                  | MSA, Principle City       | 0                         | 0                         |                           |                           |\n",
       "| 4                         | 2                         | 1                         | 0                         | 1                         | 0                         | 1                         | 1                         | 0                         | 1                         | ...                       | <= $75,000, Above Poverty | Married                   | Own                       | Employed                  | qufhixun                  | MSA, Not Principle  City  | 1                         | 0                         | wxleyezf                  | emcorrxb                  |\n",
       "| 5                         | 3                         | 1                         | 0                         | 1                         | 0                         | 1                         | 0                         | 0                         | 1                         | ...                       | <= $75,000, Above Poverty | Married                   | Own                       | Employed                  | atmpeygn                  | MSA, Principle City       | 2                         | 3                         | saaquncn                  | vlluhbov                  |\n",
       "\n"
      ],
      "text/plain": [
       "  respondent_id h1n1_concern h1n1_knowledge behavioral_antiviral_meds\n",
       "1 0             1            0              0                        \n",
       "2 1             3            2              0                        \n",
       "3 2             1            1              0                        \n",
       "4 3             1            1              0                        \n",
       "5 4             2            1              0                        \n",
       "6 5             3            1              0                        \n",
       "  behavioral_avoidance behavioral_face_mask behavioral_wash_hands\n",
       "1 0                    0                    0                    \n",
       "2 1                    0                    1                    \n",
       "3 1                    0                    0                    \n",
       "4 1                    0                    1                    \n",
       "5 1                    0                    1                    \n",
       "6 1                    0                    1                    \n",
       "  behavioral_large_gatherings behavioral_outside_home behavioral_touch_face ...\n",
       "1 0                           1                       1                     ...\n",
       "2 0                           1                       1                     ...\n",
       "3 0                           0                       0                     ...\n",
       "4 1                           0                       0                     ...\n",
       "5 1                           0                       1                     ...\n",
       "6 0                           0                       1                     ...\n",
       "  income_poverty            marital_status rent_or_own employment_status \n",
       "1 Below Poverty             Not Married    Own         Not in Labor Force\n",
       "2 Below Poverty             Not Married    Rent        Employed          \n",
       "3 <= $75,000, Above Poverty Not Married    Own         Employed          \n",
       "4 Below Poverty             Not Married    Rent        Not in Labor Force\n",
       "5 <= $75,000, Above Poverty Married        Own         Employed          \n",
       "6 <= $75,000, Above Poverty Married        Own         Employed          \n",
       "  hhs_geo_region census_msa               household_adults household_children\n",
       "1 oxchjgsf       Non-MSA                  0                0                 \n",
       "2 bhuqouqj       MSA, Not Principle  City 0                0                 \n",
       "3 qufhixun       MSA, Not Principle  City 2                0                 \n",
       "4 lrircsnp       MSA, Principle City      0                0                 \n",
       "5 qufhixun       MSA, Not Principle  City 1                0                 \n",
       "6 atmpeygn       MSA, Principle City      2                3                 \n",
       "  employment_industry employment_occupation\n",
       "1                                          \n",
       "2 pxcmvdjn            xgwztkwe             \n",
       "3 rucpziij            xtkaffoo             \n",
       "4                                          \n",
       "5 wxleyezf            emcorrxb             \n",
       "6 saaquncn            vlluhbov             "
      ]
     },
     "metadata": {},
     "output_type": "display_data"
    },
    {
     "data": {
      "text/html": [
       "<table>\n",
       "<thead><tr><th scope=col>respondent_id</th><th scope=col>h1n1_vaccine</th><th scope=col>seasonal_vaccine</th></tr></thead>\n",
       "<tbody>\n",
       "\t<tr><td>0</td><td>0</td><td>0</td></tr>\n",
       "\t<tr><td>1</td><td>0</td><td>1</td></tr>\n",
       "\t<tr><td>2</td><td>0</td><td>0</td></tr>\n",
       "\t<tr><td>3</td><td>0</td><td>1</td></tr>\n",
       "\t<tr><td>4</td><td>0</td><td>0</td></tr>\n",
       "\t<tr><td>5</td><td>0</td><td>0</td></tr>\n",
       "</tbody>\n",
       "</table>\n"
      ],
      "text/latex": [
       "\\begin{tabular}{r|lll}\n",
       " respondent\\_id & h1n1\\_vaccine & seasonal\\_vaccine\\\\\n",
       "\\hline\n",
       "\t 0 & 0 & 0\\\\\n",
       "\t 1 & 0 & 1\\\\\n",
       "\t 2 & 0 & 0\\\\\n",
       "\t 3 & 0 & 1\\\\\n",
       "\t 4 & 0 & 0\\\\\n",
       "\t 5 & 0 & 0\\\\\n",
       "\\end{tabular}\n"
      ],
      "text/markdown": [
       "\n",
       "| respondent_id | h1n1_vaccine | seasonal_vaccine |\n",
       "|---|---|---|\n",
       "| 0 | 0 | 0 |\n",
       "| 1 | 0 | 1 |\n",
       "| 2 | 0 | 0 |\n",
       "| 3 | 0 | 1 |\n",
       "| 4 | 0 | 0 |\n",
       "| 5 | 0 | 0 |\n",
       "\n"
      ],
      "text/plain": [
       "  respondent_id h1n1_vaccine seasonal_vaccine\n",
       "1 0             0            0               \n",
       "2 1             0            1               \n",
       "3 2             0            0               \n",
       "4 3             0            1               \n",
       "5 4             0            0               \n",
       "6 5             0            0               "
      ]
     },
     "metadata": {},
     "output_type": "display_data"
    }
   ],
   "source": [
    "head(training_set_features)\n",
    "head(training_set_labels)"
   ]
  },
  {
   "cell_type": "markdown",
   "metadata": {},
   "source": [
    "# Data preprocessing <a class=\"anchor\" id=\"Data_Preprocessing\"></a>\n",
    "\n",
    "In this part, all the different methods to pre-process the data are listed : \n",
    "\n",
    "* cleanData: clean the first 22 binary features, as they are integers if there are missing datas (\"NA\") then they will be replaced by the mean value while considering the standard deviation.  \n",
    "* transform_na: compute the mean and standard deviation and replace the \"NA\" by \n",
    "\\begin{equation*}\n",
    "x(NA) = \\bar{x} + \\sigma(x)/2\n",
    "\\end{equation*}\n",
    "\n",
    "* norm: Compute the norm for a given feature to normalize its values. \n",
    "* one_hot_encoding: Way to deal with the categorical features in order to make them usable for some models (Linear Regression modeling for example.)\n",
    "* cast_into_double: cast a given feature into double in order to respect the format of the submission format. "
   ]
  },
  {
   "cell_type": "code",
   "execution_count": 5,
   "metadata": {
    "id": "uKeHb6pcnOlW",
    "vscode": {
     "languageId": "r"
    }
   },
   "outputs": [],
   "source": [
    "cleanData <- function(x) {\n",
    "    for (i in 2:22) {\n",
    "        x <- transform_na(x, i)\n",
    "    }\n",
    "    return(x)\n",
    "}\n",
    "\n",
    "transform_na <- function(x, index){\n",
    "    if (length(which(is.na(x[,index]))) > 0){ #Check if there is any NA in the column\n",
    "            mean_ts <- mean(x[,index], na.rm = T) #compute old_mean\n",
    "            sd_ts <- sqrt(var(x[,index], na.rm = T)) #compute old_sd\n",
    "            x[is.na(x[,index]), index] <- round(mean_ts + sd_ts/2) #modify the data\n",
    "        }\n",
    "    return(x)\n",
    "}\n",
    "\n",
    "norm<-function(x){\n",
    "    return( (x-min(x)) / (max(x)-min(x)) )\n",
    "}\n",
    "\n",
    "one_hot_encoding <- function(x, index) {\n",
    "    names <- levels(x[,index]) # get the names of all the possible different values\n",
    "    new_col <- model.matrix(~0+x[,index]) # transforms the column in a matrix with a '1' in the correct column and '0' otherwise\n",
    "    attr(new_col, \"dimnames\")[[2]] <- names\n",
    "    new_col <- as.data.frame(new_col)\n",
    "    x <- data.frame(x[1:index-1],new_col,x[(index+1):ncol(x)])\n",
    "    return(x)\n",
    "}\n",
    "\n",
    "cast_into_double <- function(x){\n",
    "    for (i in 2:length(x)){\n",
    "        x[,i] <- as.numeric(x[,i])\n",
    "    }\n",
    "    return(x)\n",
    "}\n"
   ]
  },
  {
   "cell_type": "markdown",
   "metadata": {},
   "source": [
    "\n",
    "## Data Processing for each feature<a class=\"anchor\" id=\"Data_Processing_For_Each_Feature\"></a>\n",
    "\n",
    "The data was handled as follows: \n",
    "\n",
    "* feature 1: This feature is used as id and does not need any cleaning. \n",
    "* feature 2 -> 22, 33, 34: These features are integers,the only subtlety was that \"NA\" values needed to be replaced. \n",
    "* features 23, 24, 27 : As there was ordering in this data, integer encoding was applied to it.\n",
    "* features 25, 26, 28, 29, 30, 32 : For these categorical features, one hot encoding was applied.\n",
    "* features 31, 35, 36: These features were considered useless (too many missing values). \n",
    "\n",
    "The data sorting function is general so it can be applied to the *test_set_features*. "
   ]
  },
  {
   "cell_type": "code",
   "execution_count": 6,
   "metadata": {
    "vscode": {
     "languageId": "r"
    }
   },
   "outputs": [
    {
     "name": "stdout",
     "output_type": "stream",
     "text": [
      "Preview of the training_set_feature: \n"
     ]
    },
    {
     "data": {
      "text/html": [
       "<table>\n",
       "<thead><tr><th scope=col>respondent_id</th><th scope=col>h1n1_concern</th><th scope=col>h1n1_knowledge</th><th scope=col>behavioral_antiviral_meds</th><th scope=col>behavioral_avoidance</th><th scope=col>behavioral_face_mask</th><th scope=col>behavioral_wash_hands</th><th scope=col>behavioral_large_gatherings</th><th scope=col>behavioral_outside_home</th><th scope=col>behavioral_touch_face</th><th scope=col>...</th><th scope=col>Rent</th><th scope=col>employment_not_specified</th><th scope=col>Employed</th><th scope=col>Not.in.Labor.Force</th><th scope=col>Unemployed</th><th scope=col>MSA..Not.Principle..City</th><th scope=col>MSA..Principle.City</th><th scope=col>Non.MSA</th><th scope=col>household_adults</th><th scope=col>household_children</th></tr></thead>\n",
       "<tbody>\n",
       "\t<tr><td>0        </td><td>0.3333333</td><td>0.0      </td><td>0        </td><td>0        </td><td>0        </td><td>0        </td><td>0        </td><td>1        </td><td>1        </td><td>...      </td><td>0        </td><td>0        </td><td>0        </td><td>1        </td><td>0        </td><td>0        </td><td>0        </td><td>1        </td><td>0.0000000</td><td>0        </td></tr>\n",
       "\t<tr><td>1        </td><td>1.0000000</td><td>1.0      </td><td>0        </td><td>1        </td><td>0        </td><td>1        </td><td>0        </td><td>1        </td><td>1        </td><td>...      </td><td>1        </td><td>0        </td><td>1        </td><td>0        </td><td>0        </td><td>1        </td><td>0        </td><td>0        </td><td>0.0000000</td><td>0        </td></tr>\n",
       "\t<tr><td>2        </td><td>0.3333333</td><td>0.5      </td><td>0        </td><td>1        </td><td>0        </td><td>0        </td><td>0        </td><td>0        </td><td>0        </td><td>...      </td><td>0        </td><td>0        </td><td>1        </td><td>0        </td><td>0        </td><td>1        </td><td>0        </td><td>0        </td><td>0.6666667</td><td>0        </td></tr>\n",
       "\t<tr><td>3        </td><td>0.3333333</td><td>0.5      </td><td>0        </td><td>1        </td><td>0        </td><td>1        </td><td>1        </td><td>0        </td><td>0        </td><td>...      </td><td>1        </td><td>0        </td><td>0        </td><td>1        </td><td>0        </td><td>0        </td><td>1        </td><td>0        </td><td>0.0000000</td><td>0        </td></tr>\n",
       "\t<tr><td>4        </td><td>0.6666667</td><td>0.5      </td><td>0        </td><td>1        </td><td>0        </td><td>1        </td><td>1        </td><td>0        </td><td>1        </td><td>...      </td><td>0        </td><td>0        </td><td>1        </td><td>0        </td><td>0        </td><td>1        </td><td>0        </td><td>0        </td><td>0.3333333</td><td>0        </td></tr>\n",
       "\t<tr><td>5        </td><td>1.0000000</td><td>0.5      </td><td>0        </td><td>1        </td><td>0        </td><td>1        </td><td>0        </td><td>0        </td><td>1        </td><td>...      </td><td>0        </td><td>0        </td><td>1        </td><td>0        </td><td>0        </td><td>0        </td><td>1        </td><td>0        </td><td>0.6666667</td><td>1        </td></tr>\n",
       "</tbody>\n",
       "</table>\n"
      ],
      "text/latex": [
       "\\begin{tabular}{r|llllllllllllllllllllllllllllllllllllllllllllll}\n",
       " respondent\\_id & h1n1\\_concern & h1n1\\_knowledge & behavioral\\_antiviral\\_meds & behavioral\\_avoidance & behavioral\\_face\\_mask & behavioral\\_wash\\_hands & behavioral\\_large\\_gatherings & behavioral\\_outside\\_home & behavioral\\_touch\\_face & ... & Rent & employment\\_not\\_specified & Employed & Not.in.Labor.Force & Unemployed & MSA..Not.Principle..City & MSA..Principle.City & Non.MSA & household\\_adults & household\\_children\\\\\n",
       "\\hline\n",
       "\t 0         & 0.3333333 & 0.0       & 0         & 0         & 0         & 0         & 0         & 1         & 1         & ...       & 0         & 0         & 0         & 1         & 0         & 0         & 0         & 1         & 0.0000000 & 0        \\\\\n",
       "\t 1         & 1.0000000 & 1.0       & 0         & 1         & 0         & 1         & 0         & 1         & 1         & ...       & 1         & 0         & 1         & 0         & 0         & 1         & 0         & 0         & 0.0000000 & 0        \\\\\n",
       "\t 2         & 0.3333333 & 0.5       & 0         & 1         & 0         & 0         & 0         & 0         & 0         & ...       & 0         & 0         & 1         & 0         & 0         & 1         & 0         & 0         & 0.6666667 & 0        \\\\\n",
       "\t 3         & 0.3333333 & 0.5       & 0         & 1         & 0         & 1         & 1         & 0         & 0         & ...       & 1         & 0         & 0         & 1         & 0         & 0         & 1         & 0         & 0.0000000 & 0        \\\\\n",
       "\t 4         & 0.6666667 & 0.5       & 0         & 1         & 0         & 1         & 1         & 0         & 1         & ...       & 0         & 0         & 1         & 0         & 0         & 1         & 0         & 0         & 0.3333333 & 0        \\\\\n",
       "\t 5         & 1.0000000 & 0.5       & 0         & 1         & 0         & 1         & 0         & 0         & 1         & ...       & 0         & 0         & 1         & 0         & 0         & 0         & 1         & 0         & 0.6666667 & 1        \\\\\n",
       "\\end{tabular}\n"
      ],
      "text/markdown": [
       "\n",
       "| respondent_id | h1n1_concern | h1n1_knowledge | behavioral_antiviral_meds | behavioral_avoidance | behavioral_face_mask | behavioral_wash_hands | behavioral_large_gatherings | behavioral_outside_home | behavioral_touch_face | ... | Rent | employment_not_specified | Employed | Not.in.Labor.Force | Unemployed | MSA..Not.Principle..City | MSA..Principle.City | Non.MSA | household_adults | household_children |\n",
       "|---|---|---|---|---|---|---|---|---|---|---|---|---|---|---|---|---|---|---|---|---|\n",
       "| 0         | 0.3333333 | 0.0       | 0         | 0         | 0         | 0         | 0         | 1         | 1         | ...       | 0         | 0         | 0         | 1         | 0         | 0         | 0         | 1         | 0.0000000 | 0         |\n",
       "| 1         | 1.0000000 | 1.0       | 0         | 1         | 0         | 1         | 0         | 1         | 1         | ...       | 1         | 0         | 1         | 0         | 0         | 1         | 0         | 0         | 0.0000000 | 0         |\n",
       "| 2         | 0.3333333 | 0.5       | 0         | 1         | 0         | 0         | 0         | 0         | 0         | ...       | 0         | 0         | 1         | 0         | 0         | 1         | 0         | 0         | 0.6666667 | 0         |\n",
       "| 3         | 0.3333333 | 0.5       | 0         | 1         | 0         | 1         | 1         | 0         | 0         | ...       | 1         | 0         | 0         | 1         | 0         | 0         | 1         | 0         | 0.0000000 | 0         |\n",
       "| 4         | 0.6666667 | 0.5       | 0         | 1         | 0         | 1         | 1         | 0         | 1         | ...       | 0         | 0         | 1         | 0         | 0         | 1         | 0         | 0         | 0.3333333 | 0         |\n",
       "| 5         | 1.0000000 | 0.5       | 0         | 1         | 0         | 1         | 0         | 0         | 1         | ...       | 0         | 0         | 1         | 0         | 0         | 0         | 1         | 0         | 0.6666667 | 1         |\n",
       "\n"
      ],
      "text/plain": [
       "  respondent_id h1n1_concern h1n1_knowledge behavioral_antiviral_meds\n",
       "1 0             0.3333333    0.0            0                        \n",
       "2 1             1.0000000    1.0            0                        \n",
       "3 2             0.3333333    0.5            0                        \n",
       "4 3             0.3333333    0.5            0                        \n",
       "5 4             0.6666667    0.5            0                        \n",
       "6 5             1.0000000    0.5            0                        \n",
       "  behavioral_avoidance behavioral_face_mask behavioral_wash_hands\n",
       "1 0                    0                    0                    \n",
       "2 1                    0                    1                    \n",
       "3 1                    0                    0                    \n",
       "4 1                    0                    1                    \n",
       "5 1                    0                    1                    \n",
       "6 1                    0                    1                    \n",
       "  behavioral_large_gatherings behavioral_outside_home behavioral_touch_face ...\n",
       "1 0                           1                       1                     ...\n",
       "2 0                           1                       1                     ...\n",
       "3 0                           0                       0                     ...\n",
       "4 1                           0                       0                     ...\n",
       "5 1                           0                       1                     ...\n",
       "6 0                           0                       1                     ...\n",
       "  Rent employment_not_specified Employed Not.in.Labor.Force Unemployed\n",
       "1 0    0                        0        1                  0         \n",
       "2 1    0                        1        0                  0         \n",
       "3 0    0                        1        0                  0         \n",
       "4 1    0                        0        1                  0         \n",
       "5 0    0                        1        0                  0         \n",
       "6 0    0                        1        0                  0         \n",
       "  MSA..Not.Principle..City MSA..Principle.City Non.MSA household_adults\n",
       "1 0                        0                   1       0.0000000       \n",
       "2 1                        0                   0       0.0000000       \n",
       "3 1                        0                   0       0.6666667       \n",
       "4 0                        1                   0       0.0000000       \n",
       "5 1                        0                   0       0.3333333       \n",
       "6 0                        1                   0       0.6666667       \n",
       "  household_children\n",
       "1 0                 \n",
       "2 0                 \n",
       "3 0                 \n",
       "4 0                 \n",
       "5 0                 \n",
       "6 1                 "
      ]
     },
     "metadata": {},
     "output_type": "display_data"
    },
    {
     "name": "stdout",
     "output_type": "stream",
     "text": [
      "Dimension of training_set_feature: \n"
     ]
    },
    {
     "data": {
      "text/html": [
       "<ol class=list-inline>\n",
       "\t<li>26707</li>\n",
       "\t<li>46</li>\n",
       "</ol>\n"
      ],
      "text/latex": [
       "\\begin{enumerate*}\n",
       "\\item 26707\n",
       "\\item 46\n",
       "\\end{enumerate*}\n"
      ],
      "text/markdown": [
       "1. 26707\n",
       "2. 46\n",
       "\n",
       "\n"
      ],
      "text/plain": [
       "[1] 26707    46"
      ]
     },
     "metadata": {},
     "output_type": "display_data"
    }
   ],
   "source": [
    "\n",
    "data_sorting <- function(x){\n",
    "\n",
    "    # for feature 2 -> 22\n",
    "    x <- cleanData(x)\n",
    "\n",
    "    # for feature 23\n",
    "    levels(x[,23]) <- c(1, 2, 3, 4, 5)\n",
    "\n",
    "    # for feature 24\n",
    "    levels(x[,24]) <- c(0, 1, 2, 4, 3)\n",
    "\n",
    "    # for feature 25\n",
    "    x <- one_hot_encoding(x, 25)\n",
    "\n",
    "    # for feature 26 -> number 29\n",
    "    x <- one_hot_encoding(x, 29)\n",
    "\n",
    "    # for feature 27 -> number 31 !!! it need to be changed, it is not a good way to sort this data.\n",
    "    levels(x[,31]) <- c(0, 2, 1, 3) \n",
    "\n",
    "    # for feature 28 -> number 32\n",
    "    levels(x[,32])[1] <- 'marital_status_not_specified'\n",
    "    x <- one_hot_encoding(x, 32)\n",
    "\n",
    "    # for feature 29 -> number 35\n",
    "    levels(x[,35])[1] <- 'rental_not_specified'\n",
    "    x <- one_hot_encoding(x, 35)\n",
    "\n",
    "    #for features 30 -> number 38\n",
    "    levels(x[,38])[1] <- 'employment_not_specified'\n",
    "    x <- one_hot_encoding(x, 38)\n",
    "    \n",
    "    # for feature 31 -> 42, we judged its contribution was negligeable against its cost of implementation\n",
    "    x <- subset(x, select = -42)\n",
    "\n",
    "    # for feature 32 -> 42 (since we dropped last column\n",
    "    x <- one_hot_encoding(x, 42)\n",
    "\n",
    "    # for feature 33 -> 45\n",
    "    x <- transform_na(x, 45)\n",
    "\n",
    "    # for feature 34 -> 46\n",
    "    x <- transform_na(x, 46)\n",
    "\n",
    "    # for feature 35 -> 47, we judged its contribution was negligeable against its cost of implementation\n",
    "    x <- subset(x, select = -47)\n",
    "\n",
    "    # for feature 36 -> 47, we judged its contribution was negligeable against its cost of implementation\n",
    "    x <- subset(x, select = -47)\n",
    "\n",
    "    x <- cast_into_double(x)\n",
    "    name <- names(x)[-1]\n",
    "    temp <- apply(x[2:length(x)], 2 , norm)\n",
    "    attr(temp, \"dimnames\")[[2]] <- name\n",
    "    x <- data.frame(x[1],as.data.frame(temp))\n",
    "    return (x)\n",
    "}\n",
    "\n",
    "training_sf <- data_sorting(training_set_features)\n",
    "test_sf <- data_sorting(test_set_features)\n",
    "\n",
    "cat(\"Preview of the training_set_feature: \\n\")\n",
    "head(training_sf)\n",
    "cat(\"Dimension of training_set_feature: \\n\")\n",
    "dim(training_sf)"
   ]
  },
  {
   "cell_type": "markdown",
   "metadata": {},
   "source": [
    "\n",
    "## Feature Engineering<a class=\"anchor\" id=\"Feature_Engineering\"></a>\n",
    "\n",
    "TODO\n"
   ]
  },
  {
   "cell_type": "markdown",
   "metadata": {},
   "source": [
    "\n",
    "## Feature Selection<a class=\"anchor\" id=\"Feature_Selection\"></a>\n",
    "\n",
    "TODO"
   ]
  },
  {
   "cell_type": "code",
   "execution_count": 7,
   "metadata": {
    "vscode": {
     "languageId": "r"
    }
   },
   "outputs": [],
   "source": [
    "accuracyFromConfusionMatrix <- function(confusion_matrix){\n",
    "    if(dim(confusion_matrix)[1] != 2){\n",
    "        confusion_matrix <- rbind(confusion_matrix,c(0,0))\n",
    "    }\n",
    "    return((confusion_matrix[1,1]+confusion_matrix[2,2])/sum(confusion_matrix))\n",
    "}\n",
    "\n",
    "computeResults <- function(Y,Y_hat,explanatory_string=\"\",verbose=TRUE){\n",
    "    confusion_matrix <- table(Y_hat,Y)\n",
    "    accuracy <- accuracyFromConfusionMatrix(confusion_matrix)\n",
    "    misclassification_rate <- 1 - accuracy\n",
    "    if(verbose){\n",
    "        print(paste(\"[INFO] - Confusion matrix\",explanatory_string,\":\"))\n",
    "        print(confusion_matrix)\n",
    "        print(paste(\"[INFO] - Accuracy\",explanatory_string,\":\",accuracy))\n",
    "        print(paste(\"[INFO] - Misclassification rate\",explanatory_string,\":\",misclassification_rate))\n",
    "    }\n",
    "    return(accuracy)\n",
    "}"
   ]
  },
  {
   "cell_type": "markdown",
   "metadata": {
    "id": "MrH_wChrkyu6"
   },
   "source": [
    "# Model selection <a class=\"anchor\" id=\"Model_Selection\"></a>\n"
   ]
  },
  {
   "cell_type": "markdown",
   "metadata": {},
   "source": [
    "\n",
    "## Model 1 : Linear Regression <a class=\"anchor\" id=\"Model_1_Linear_Model\"></a>\n",
    "\n",
    "For the first model we decided to go with a linear regreassion. \n",
    "Thus there has been a selection on the features, some feature where to correlated (notably, all the one which were \"one hot encoded\"), and thus have been removed. This corresponds to the features : \n",
    "\n",
    "* 27 -> race = Other.or.Multiple \n",
    "* 30 -> sexe = male\n",
    "* 33 -> marital status = not specified\n",
    "* 35 -> rent or own = rental_not_specified\n",
    "* 38 -> employement  = employment_not_specified\n",
    "* 44 -> census_msa = Non.MSA\n",
    "\n",
    "The training_set_features cleaned has been put into a matrix appended with a first column of only ones. This colmumns will corresponds to the beta_0 coefficient.\n",
    "We have then computed the beta_hat, so the estimation of the the coefficient for each feature. The prediction could then be made and a confusion matrix has been build.\n",
    "With the same bata_hat, prediction for the test_set_features has been made and uploaded on the drivenData web site the values for the "
   ]
  },
  {
   "cell_type": "code",
   "execution_count": 8,
   "metadata": {
    "vscode": {
     "languageId": "r"
    }
   },
   "outputs": [],
   "source": [
    "temp <- training_sf[-c(1, 16, 27, 30, 32, 35, 38, 44)] # i just looked at which one made the computation impossible in a greedy manner.\n",
    "\n",
    "n <- length(temp) # number of features\n",
    "p <- n+1\n",
    "N <- length(temp[,1]) # number of samples\n",
    "N2 <- length(test_sf[,1])\n",
    "Y <- as.matrix(training_set_labels[2:3])\n",
    "Y_bar <- apply(Y, 2, mean)\n",
    "X <- as.matrix(cbind(array(1,c(N,1)),temp))\n",
    "\n",
    "beta_hat <- array(0, c(p,2))\n",
    "sigma_hat_w <- numeric(2)\n",
    "Y_hat <- array(0, c(N,2))\n",
    "\n",
    "\n",
    "temp_2  <- test_sf[-c(1, 16, 27, 30, 32, 35, 38, 44)]\n",
    "X_final <-  as.matrix(cbind(array(1,c(N2,1)),temp_2))\n",
    "Y_final <- array(0, c(N2,2))\n",
    "\n",
    "my_tables <- list(table(Y_hat[,1], Y[,1]), table(Y_hat[,2], Y[,2]))\n",
    "threshold <- 0.5\n",
    "\n",
    "for (i in 1:2){\n",
    "    beta_hat[,i] <- solve((t(X)%*%X))%*%t(X)%*%Y[,i] #doesn't work, we need to identify the features that are highly correlated and keep only one. \n",
    "    Y_hat[,i] <- X %*% beta_hat[,i]\n",
    "    Y_final[,i] <- X_final %*% beta_hat[,i]\n",
    "    e <- Y[,i] - Y_hat[,i]\n",
    "    sigma_hat_w[i] <- sqrt((t(e)%*%e)/(N-p))\n",
    "    Y_hat[,i] <- ifelse(Y_hat[,i] > threshold,1,0) \n",
    "    my_tables[[i]] <- table(Y_hat[,i], Y[,i])\n",
    "}"
   ]
  },
  {
   "cell_type": "code",
   "execution_count": 9,
   "metadata": {
    "vscode": {
     "languageId": "r"
    }
   },
   "outputs": [
    {
     "name": "stdout",
     "output_type": "stream",
     "text": [
      "[1] \"confusion matrix for h1n1_vaccine : \"\n"
     ]
    },
    {
     "data": {
      "text/plain": [
       "   \n",
       "        0     1\n",
       "  0 19947  3418\n",
       "  1  1086  2256"
      ]
     },
     "metadata": {},
     "output_type": "display_data"
    },
    {
     "name": "stdout",
     "output_type": "stream",
     "text": [
      "[1] \"misclassification rate for the h1n1_vaccine :  0.168644924551616\"\n",
      "\n",
      "[1] \"confusion matrix for seasonal_vaccine : \"\n"
     ]
    },
    {
     "data": {
      "text/plain": [
       "   \n",
       "        0     1\n",
       "  0 11358  3366\n",
       "  1  2914  9069"
      ]
     },
     "metadata": {},
     "output_type": "display_data"
    },
    {
     "name": "stdout",
     "output_type": "stream",
     "text": [
      "[1] \"misclassification rate for the seasona_vaccine :  0.235144344179429\"\n"
     ]
    }
   ],
   "source": [
    "print(paste(\"confusion matrix for h1n1_vaccine : \"))\n",
    "my_tables[[1]]\n",
    "#sigma_hat_w[1]\n",
    "confusion_matrix <- my_tables[[1]]\n",
    "accuracy = (confusion_matrix[1,1]+confusion_matrix[2,2])/sum(confusion_matrix)\n",
    "misclassification_rate = 1 - accuracy\n",
    "print(paste(\"misclassification rate for the h1n1_vaccine : \", misclassification_rate))\n",
    "cat(\"\\n\")\n",
    "\n",
    "print(paste(\"confusion matrix for seasonal_vaccine : \"))\n",
    "my_tables[[2]]\n",
    "#sigma_hat_w[2]\n",
    "confusion_matrix <- my_tables[[2]]\n",
    "accuracy = (confusion_matrix[1,1]+confusion_matrix[2,2])/sum(confusion_matrix)\n",
    "misclassification_rate = 1 - accuracy\n",
    "print(paste(\"misclassification rate for the seasona_vaccine : \", misclassification_rate))"
   ]
  },
  {
   "cell_type": "code",
   "execution_count": 10,
   "metadata": {
    "vscode": {
     "languageId": "r"
    }
   },
   "outputs": [
    {
     "name": "stdout",
     "output_type": "stream",
     "text": [
      "\n",
      "[1] \"prediction for the test_set_features :\"\n"
     ]
    },
    {
     "data": {
      "text/html": [
       "<table>\n",
       "<thead><tr><th scope=col>respondent_id</th><th scope=col>h1n1_vaccine</th><th scope=col>seasonal_vaccine</th></tr></thead>\n",
       "<tbody>\n",
       "\t<tr><td>26707     </td><td>0.05939051</td><td>0.2265298 </td></tr>\n",
       "\t<tr><td>26708     </td><td>0.02229845</td><td>0.0100000 </td></tr>\n",
       "\t<tr><td>26709     </td><td>0.37910535</td><td>0.6033765 </td></tr>\n",
       "\t<tr><td>26710     </td><td>0.50196139</td><td>0.8580803 </td></tr>\n",
       "\t<tr><td>26711     </td><td>0.24910558</td><td>0.4814923 </td></tr>\n",
       "\t<tr><td>26712     </td><td>0.42392390</td><td>0.9010986 </td></tr>\n",
       "</tbody>\n",
       "</table>\n"
      ],
      "text/latex": [
       "\\begin{tabular}{r|lll}\n",
       " respondent\\_id & h1n1\\_vaccine & seasonal\\_vaccine\\\\\n",
       "\\hline\n",
       "\t 26707      & 0.05939051 & 0.2265298 \\\\\n",
       "\t 26708      & 0.02229845 & 0.0100000 \\\\\n",
       "\t 26709      & 0.37910535 & 0.6033765 \\\\\n",
       "\t 26710      & 0.50196139 & 0.8580803 \\\\\n",
       "\t 26711      & 0.24910558 & 0.4814923 \\\\\n",
       "\t 26712      & 0.42392390 & 0.9010986 \\\\\n",
       "\\end{tabular}\n"
      ],
      "text/markdown": [
       "\n",
       "| respondent_id | h1n1_vaccine | seasonal_vaccine |\n",
       "|---|---|---|\n",
       "| 26707      | 0.05939051 | 0.2265298  |\n",
       "| 26708      | 0.02229845 | 0.0100000  |\n",
       "| 26709      | 0.37910535 | 0.6033765  |\n",
       "| 26710      | 0.50196139 | 0.8580803  |\n",
       "| 26711      | 0.24910558 | 0.4814923  |\n",
       "| 26712      | 0.42392390 | 0.9010986  |\n",
       "\n"
      ],
      "text/plain": [
       "  respondent_id h1n1_vaccine seasonal_vaccine\n",
       "1 26707         0.05939051   0.2265298       \n",
       "2 26708         0.02229845   0.0100000       \n",
       "3 26709         0.37910535   0.6033765       \n",
       "4 26710         0.50196139   0.8580803       \n",
       "5 26711         0.24910558   0.4814923       \n",
       "6 26712         0.42392390   0.9010986       "
      ]
     },
     "metadata": {},
     "output_type": "display_data"
    }
   ],
   "source": [
    "\n",
    "Y_final<-ifelse(Y_final<=0,0.01,Y_final)\n",
    "Y_final<-ifelse(Y_final>=1,0.99,Y_final)\n",
    "\n",
    "submission <- data.frame(submission_format[1],Y_final)\n",
    "colnames(submission)[2:3] <- c(names(submission_format[2:3]))\n",
    "cat(\"\\n\")\n",
    "print(paste(\"prediction for the test_set_features :\"))\n",
    "head(submission)\n",
    "write.csv(submission, \"sample_data/linear_submission.csv\", row.names = FALSE, quote=FALSE)\n"
   ]
  },
  {
   "cell_type": "markdown",
   "metadata": {},
   "source": [
    "### F - test\n",
    "\n",
    "- **Hypothesis**: $\\beta_i=0$ for i > 1\n",
    "- **Test statistic**: $\\frac{SS_{mod}}{SS_{res}/(N-2)} \\sim F_{1,N-2} $"
   ]
  },
  {
   "cell_type": "code",
   "execution_count": 11,
   "metadata": {
    "vscode": {
     "languageId": "r"
    }
   },
   "outputs": [
    {
     "name": "stdout",
     "output_type": "stream",
     "text": [
      "[1] \"F-test result: F.value=  18543.028231883\"\n",
      "[1] \"Pr[F >= F.value]=  0\"\n"
     ]
    },
    {
     "data": {
      "image/png": "[encoded data removed]",
      "text/plain": [
       "Plot with title “Probability distribution of the F-test statistic”"
      ]
     },
     "metadata": {
      "image/png": {
       "height": 420,
       "width": 420
      }
     },
     "output_type": "display_data"
    }
   ],
   "source": [
    "SS_mod <- sum((Y_hat[,1]-Y_bar[1])^2)\n",
    "SS_res <- sum((Y[,1]-Y_hat[,1])^2)\n",
    "F_stat <- SS_mod / (SS_res/(N-2))\n",
    "F_prob <- (1-pf(F_stat,df1=1,df2=N-2))\n",
    "I <- seq(0,5,0.05)\n",
    "plot(I,df(I,df1=1,df2=N-2),xlab=\"Statistic value\",ylab=\"Probability\",main=\"Probability distribution of the F-test statistic\")\n",
    "abline(v=F_stat,col=\"red\")\n",
    "print(paste(\"F-test result: F.value= \",F_stat))\n",
    "print(paste(\"Pr[F >= F.value]= \", F_prob))"
   ]
  },
  {
   "cell_type": "code",
   "execution_count": 12,
   "metadata": {
    "vscode": {
     "languageId": "r"
    }
   },
   "outputs": [
    {
     "name": "stdout",
     "output_type": "stream",
     "text": [
      "[1] \"F-test result: F.value=  18543.028231883\"\n",
      "[1] \"Pr[F >= F.value]=  0\"\n"
     ]
    }
   ],
   "source": [
    "print(paste(\"F-test result: F.value= \",F_stat))\n",
    "print(paste(\"Pr[F >= F.value]= \", F_prob))"
   ]
  },
  {
   "cell_type": "markdown",
   "metadata": {},
   "source": [
    "\n",
    "## Model 2 <a class=\"anchor\" id=\"Model_2_Random_Forest\"></a>\n",
    "\n",
    "For the second model, the model of choice was **Random Forests**. Random Forests is an ensemble learning method used for classification and regression that operates by building a multitude of decision trees.\n",
    "\n",
    "A decision tree is a model employing a tree-based structure in order to perform classification. The classification is performed by traversing the tree. At each branch of the tree, a decision according to the value associated to the corresponding feature is made, the outcome of which determines the path to be followed. Once a leaf is reached, the output of the classifier corresponds to the label associated to the terminal node.\n",
    "\n",
    "The learning procedure has two steps known as **tree growing** and **tree pruning**.\n",
    "\n",
    "The tree growing phase uses **Information Gain** in order to decide which feature to split on. For each branch of the tree, the information value measures *how much a feature tells us about the class*. The *split with the highest information gain will be taken as the first split*, and the process will continue until all leaves are pure (i.e. belong to a single class).\n",
    "\n",
    "The tree pruning phase aims to remove the branches that make use of the *features having low importance* (information gain), thereby reducing the complexity of the tree.\n",
    "\n",
    "Therefore, decision trees provide **automatic feature selection**, as only the most significant features (with regard to predicting the class) are kept. They also offer **improved interpretability** by virtue of its tree-based structure and the associated features at each branch, with *the most significant features at the top of the tree*.\n",
    "\n",
    "Additionally, decision trees have an improved predictive accuracy by **reduction of overfitting** during to the pruning phase."
   ]
  },
  {
   "cell_type": "markdown",
   "metadata": {},
   "source": [
    "Random Forests is an ensemble learning technique combining bagging and random feature selection. It achieves this by using a large number of **non-pruned** decision trees. As a result, every single tree is trained on a different subset of samples (due to **bagging**) as well as a different subset of features (due to random feature **selection**). The random feature selection for every tree allows to decorrelate the predictions of different trees.\n",
    "\n",
    "The aggregation of decorrelated classifiers allows to **reduce the variance** of the final prediction, with the number of classifiers is a compromise between training time and performance.\n",
    "\n",
    "In the case of classification, the aggregation is performed by majority vote (i.e. the class that is predicted by the largest number of individual classifiers is selected as the prediction). In the case of regression, the aggregation is performed by performing the average of the individual predictions."
   ]
  },
  {
   "cell_type": "markdown",
   "metadata": {},
   "source": [
    "In order to determine an optimal number of trees, random forests have been implemented (with the \"randomForest\" library) with differing numbers of trees. Each random forest has been assessed with a 10-fold cross-validation process.\n",
    "\n",
    "This process of determining the optimal number of trees has been done on the 2 target variables: **seasonal_vaccine** and **h1n1_vaccine**."
   ]
  },
  {
   "cell_type": "code",
   "execution_count": 13,
   "metadata": {
    "vscode": {
     "languageId": "r"
    }
   },
   "outputs": [
    {
     "name": "stderr",
     "output_type": "stream",
     "text": [
      "randomForest 4.6-14\n",
      "\n",
      "Type rfNews() to see new features/changes/bug fixes.\n",
      "\n"
     ]
    },
    {
     "ename": "ERROR",
     "evalue": "Error in `[.data.frame`(train_data, , -c(target_variable)): object 'target_variable' not found\n",
     "output_type": "error",
     "traceback": [
      "Error in `[.data.frame`(train_data, , -c(target_variable)): object 'target_variable' not found\nTraceback:\n",
      "1. randomForest(x = train_data[, -c(target_variable)], y = as.factor(train_data[, \n .     c(target_variable)]), xtest = test_data[, -c(target_variable)], \n .     ytest = as.factor(test_data[, c(target_variable)]), ntree = i)",
      "2. train_data[, -c(target_variable)]",
      "3. `[.data.frame`(train_data, , -c(target_variable))"
     ]
    }
   ],
   "source": [
    "library(\"randomForest\")\n",
    "\n",
    "data_rf <- data.frame(training_sf[-c(1,16, 27, 30, 32, 35, 38, 44)], training_set_labels[2]) \n",
    "\n",
    "n_trees <- 50\n",
    "k = 10\n",
    "\n",
    "# 1. Shuffle the dataset randomly.\n",
    "data_rf_idx <- sample(1:nrow(data_rf))\n",
    "\n",
    "# 2. Split the dataset into k groups\n",
    "max <- ceiling(nrow(data_rf)/k)\n",
    "splits <- split(data_rf_idx , ceiling(seq_along(data_rf_idx)/max))\n",
    "\n",
    "target_variable_rf <- ncol(data_rf)\n",
    "mean_accuracy_vec <- array(0,n_trees)\n",
    "accuracy_vec <- array(0,k)\n",
    "\n",
    "for (i in 1:n_trees){ #print(i)\n",
    "    for (j in 1:k){\n",
    "        #3.1 Take the first half of the dataset as a training data set\n",
    "        train_data <- data_rf[-splits[[j]],]\n",
    "\n",
    "        #3.2 Take the second half of the dataset as a hold out or test data set\n",
    "        test_data <- data_rf[splits[[j]],]\n",
    "        \n",
    "        model <- randomForest(x=train_data[,-c(target_variable)],\n",
    "                              y=as.factor(train_data[,c(target_variable)]),\n",
    "                              xtest=test_data[,-c(target_variable)],\n",
    "                              ytest=as.factor(test_data[,c(target_variable)]),\n",
    "                              ntree=i)\n",
    "        \n",
    "        accuracy_vec[j] <- (model$test$confusion[1,1]+model$test$confusion[2,2])/sum(model$test$confusion)\n",
    "    }\n",
    "    mean_accuracy_vec[i] <- mean(accuracy_vec)\n",
    "}\n",
    "plot(mean_accuracy_vec ,main = \"Number of trees influence with 10-fold cv\",xlab = \"Nbr of trees\",ylab = \"Mean Classification rate\")"
   ]
  },
  {
   "cell_type": "code",
   "execution_count": null,
   "metadata": {
    "vscode": {
     "languageId": "r"
    }
   },
   "outputs": [
    {
     "data": {
      "image/png": "[encoded data removed]",
      "text/plain": [
       "Plot with title “Number of trees influence in 10-fold cv”"
      ]
     },
     "metadata": {
      "image/png": {
       "height": 420,
       "width": 420
      }
     },
     "output_type": "display_data"
    }
   ],
   "source": [
    "library(\"randomForest\")\n",
    "\n",
    "data_rf <- data.frame(training_sf[-c(1,16, 27, 30, 32, 35, 38, 44)], training_set_labels[3]) \n",
    "\n",
    "n_trees <- 50\n",
    "k = 10\n",
    "\n",
    "# 1. Shuffle the dataset randomly.\n",
    "data_rf_idx <- sample(1:nrow(data_rf))\n",
    "\n",
    "# 2. Split the dataset into k groups\n",
    "max <- ceiling(nrow(data_rf)/k)\n",
    "splits <- split(data_rf_idx , ceiling(seq_along(data_rf_idx)/max))\n",
    "\n",
    "target_variable_rf <- ncol(data_rf)\n",
    "mean_accuracy_vec <- array(0,n_trees)\n",
    "accuracy_vec <- array(0,k)\n",
    "\n",
    "for (i in 1:n_trees){ #print(i)\n",
    "    for (j in 1:k){\n",
    "        #3.1 Take the first half of the dataset as a training data set\n",
    "        train_data <- data_rf[-splits[[j]],]\n",
    "\n",
    "        #3.2 Take the second half of the dataset as a hold out or test data set\n",
    "        test_data <- data_rf[splits[[j]],]\n",
    "        \n",
    "        model <- randomForest(x=train_data[,-c(target_variable)],\n",
    "                              y=as.factor(train_data[,c(target_variable)]),\n",
    "                              xtest=test_data[,-c(target_variable)],\n",
    "                              ytest=as.factor(test_data[,c(target_variable)]),\n",
    "                              ntree=i)\n",
    "        \n",
    "        accuracy_vec[j] <- (model$test$confusion[1,1]+model$test$confusion[2,2])/sum(model$test$confusion)\n",
    "    }\n",
    "    mean_accuracy_vec[i] <- mean(accuracy_vec)\n",
    "}\n",
    "plot(mean_accuracy_vec ,main = \"Number of trees influence in 10-fold cv\",xlab = \"Nbr of trees\",ylab = \"Mean Classification rate\")"
   ]
  },
  {
   "cell_type": "markdown",
   "metadata": {},
   "source": [
    "Unsurprisingly, the best results (with the lowest misclassification rate) for h1n1_vaccine and seasonal_vaccines were achieved with a large number of trees (44 trees and 45 trees respectively).\n",
    "\n",
    "This is consistent with what was previously mentioned. In our random forest, we end up with trees trained on different sets of data (bagging) and therefore use different features (feature randomness) to make decisions. This creates an ensemble  of uncorrelated trees that *buffer and protect each other* from their errors, resulting in an **increased accuracy**.\n",
    "\n",
    "Now that the optimal number of trees has been determined, the model will be implemented using this optimal number of trees and a 50-50 training-testing set split.\n"
   ]
  },
  {
   "cell_type": "code",
   "execution_count": null,
   "metadata": {
    "vscode": {
     "languageId": "r"
    }
   },
   "outputs": [],
   "source": [
    "library(\"randomForest\")\n",
    "\n",
    "submission <- data.frame(submission_format[1])\n",
    "n_trees <- c(44,45)\n",
    "\n",
    "for (i in 1:2) {\n",
    "    data_rf <- data.frame(training_sf[-c(1, 16, 27, 30, 32, 35, 38, 44)], training_set_labels[i+1]) \n",
    "    trees <- n_trees[i]\n",
    "\n",
    "    data_rf_idx <- sample(1:nrow(data_rf))\n",
    "    half_split <- floor(nrow(data_rf)/2)\n",
    "    target_variable <- ncol(data_rf)\n",
    "\n",
    "    train_data <- data_rf[data_rf_idx[1:half_split],]\n",
    "\n",
    "    test_data <- data_rf[data_rf_idx[(half_split+1):nrow(data_rf)],]\n",
    "        \n",
    "    model <- randomForest(x=train_data[,-c(target_variable)],\n",
    "                            y=train_data[,c(target_variable)],\n",
    "                            xtest=test_data[,-c(target_variable)],\n",
    "                            ytest=test_data[,c(target_variable)],\n",
    "                            ntree=trees, \n",
    "                            keep.forest=TRUE)\n",
    "\n",
    "    Y_pred <- predict(model,test_sf[-c(1, 16, 27, 30, 32, 35, 38, 44)])\n",
    "    Y_pred<-ifelse(Y_pred<=0,0.01,Y_pred)\n",
    "    Y_pred<-ifelse(Y_pred>=1,0.99,Y_pred)\n",
    "    submission <- data.frame(submission, Y_pred)\n",
    "}\n",
    "\n",
    "colnames(submission)[2:3] <- c(names(submission_format[2:3]))\n",
    "write.csv(submission,\"sample_data/random_forest_submission.csv\", row.names = FALSE, quote=FALSE)"
   ]
  },
  {
   "cell_type": "markdown",
   "metadata": {},
   "source": [
    "These predictions result in a 0.8233 score (82.33% accuracy) on the DrivenData \"Flu Shot Learning: Predict H1N1 and Seasonal Flu Vaccines\" Competition."
   ]
  },
  {
   "cell_type": "markdown",
   "metadata": {},
   "source": [
    "\n",
    "## Model 3 <a class=\"anchor\" id=\"Model_3_Neural_Network\"></a>\n",
    "\n"
   ]
  },
  {
   "cell_type": "code",
   "execution_count": 46,
   "metadata": {
    "vscode": {
     "languageId": "r"
    }
   },
   "outputs": [],
   "source": [
    "library(RSNNS)\n",
    "library(nnet)"
   ]
  },
  {
   "cell_type": "code",
   "execution_count": 48,
   "metadata": {
    "vscode": {
     "languageId": "r"
    }
   },
   "outputs": [],
   "source": [
    "training_sf_nn <- data.frame(training_sf[-c(1, 16, 27, 30, 32, 35, 38, 44)], training_set_labels[2]) # target = h1n1\n",
    "head(training_sf_nn)\n",
    "\n",
    "crossValidationInOutSample <- function(hidden_nodes=5,k=10,threshold=0.5, decays=0){\n",
    "    target_variable <- ncol(training_sf_nn)\n",
    "    accuracy_vec <- c()\n",
    "\n",
    "    # 1. Shuffle the dataset randomly.\n",
    "    training_idx <- sample(1:nrow(training_sf_nn))\n",
    "    half_split <- floor(nrow(training_sf_nn)/2)\n",
    "\n",
    "    # 2. Split the dataset into k groups\n",
    "    max <- ceiling(nrow(training_sf_nn)/k)\n",
    "    splits <- split(training_idx, ceiling(seq_along(training_idx)/max))\n",
    "\n",
    "    # 3. For each unique group:\n",
    "    for (i in 1:k){\n",
    "        #3.1 Take the group as a hold out or training data set\n",
    "        train_data <- training_sf_nn[-splits[[i]],]\n",
    "\n",
    "        #3.2 Take the remaining groups as a test data set\n",
    "        test_data <- training_sf_nn[splits[[i]],]\n",
    "        print(paste(\"[INFO] - Training set size:\",dim(train_data)[1],\"- Testing set size\",dim(test_data)[1]))\n",
    "\n",
    "        #3.3 Fit a model on the training set and evaluate it on the test set\n",
    "        model_single_out <- nnet(h1n1_vaccine ~ ., data=train_data,size=hidden_nodes, decay=decays, skip=FALSE, maxit=3000,rang=0.02,MaxNWts=10000,trace=FALSE, abstol=0.0001)\n",
    "        Y_pred<-predict(model_single_out,test_data[,-target_variable])\n",
    "\n",
    "        Y <- test_data[,target_variable]\n",
    "        Y_hat <- ifelse(Y_pred > threshold,\"1\",\"0\")\n",
    "        confusion_matrix <- table(Y_hat,Y)\n",
    "\n",
    "        #3.4 Retain the evaluation score and discard the model\n",
    "        accuracy_vec[i] = (confusion_matrix[1,1]+confusion_matrix[2,2])/sum(confusion_matrix)\n",
    "        misclassification_rate = 1 - accuracy_vec[i]\n",
    "        print(paste(\"[INFO] - Misclassification rate -\",i,\"fold:\",misclassification_rate))\n",
    "    }\n",
    "    \n",
    "    # 4.1 Summarize the skill of the model using the sample of model evaluation scores\n",
    "    print(paste(\"[INFO] - CV - Mean misclassification rate:\",1-mean(accuracy_vec)))\n",
    "\n",
    "    # 4.2 Split training-test for in/out of sample predictions\n",
    "    train_data <- training_sf_nn[training_idx[1:half_split],]\n",
    "    test_data <- training_sf_nn[training_idx[(half_split+1):nrow(training_sf_nn)],]\n",
    "    Y <- test_data[,target_variable]\n",
    "\n",
    "    model_single_out <- nnet(h1n1_vaccine ~ ., data=train_data,size=hidden_nodes,decay=decays,trace=F,skip=FALSE,maxit=3000,rang=0.02,MaxNWts=10000,abstol=0.0001)\n",
    "    model_single_out\n",
    "    # 4.2 - In sample evaluation error computation\n",
    "    Y_pred<-predict(model_single_out,train_data[,-target_variable])\n",
    "    Y_hat_single_out_in_sample <- ifelse(Y_pred > threshold,\"1\",\"0\")\n",
    "    # 4.2 - Out of sample evaluation error computation\n",
    "    Y_pred<-predict(model_single_out,test_data[,-target_variable])\n",
    "    Y_hat_single_out_out_sample <- ifelse(Y_pred > threshold,\"1\",\"0\")\n",
    "\n",
    "    accuracy_in_sample <- computeResults(train_data[,target_variable],Y_hat_single_out_in_sample,\"In sample\")\n",
    "    accuracy_out_sample <- computeResults(Y,Y_hat_single_out_out_sample,\"Out sample\")\n",
    "    return(list(in_sample=accuracy_in_sample,out_sample=accuracy_out_sample,cv=mean(accuracy_vec)))\n",
    "}"
   ]
  },
  {
   "cell_type": "code",
   "execution_count": 49,
   "metadata": {
    "vscode": {
     "languageId": "r"
    }
   },
   "outputs": [
    {
     "name": "stdout",
     "output_type": "stream",
     "text": [
      "[1] \"[INFO] - TESTING HIDDEN NODE= 2\"\n",
      "[1] \"[INFO] - TESTING DECAY= 0.001\"\n",
      "[1] \"[INFO] - Training set size: 13353 - Testing set size 13354\"\n",
      "[1] \"[INFO] - Misclassification rate - 1 fold: 0.167440467275723\"\n",
      "[1] \"[INFO] - Training set size: 13354 - Testing set size 13353\"\n",
      "[1] \"[INFO] - Misclassification rate - 2 fold: 0.161312064704561\"\n",
      "[1] \"[INFO] - CV - Mean misclassification rate: 0.164376265990142\"\n",
      "[1] \"[INFO] - Confusion matrix In sample :\"\n",
      "     Y\n",
      "Y_hat    0    1\n",
      "    0 9925 1517\n",
      "    1  598 1313\n",
      "[1] \"[INFO] - Accuracy In sample : 0.84160862727477\"\n",
      "[1] \"[INFO] - Misclassification rate In sample : 0.15839137272523\"\n",
      "[1] \"[INFO] - Confusion matrix Out sample :\"\n",
      "     Y\n",
      "Y_hat    0    1\n",
      "    0 9933 1563\n",
      "    1  577 1281\n",
      "[1] \"[INFO] - Accuracy Out sample : 0.839748389995507\"\n",
      "[1] \"[INFO] - Misclassification rate Out sample : 0.160251610004493\"\n"
     ]
    }
   ],
   "source": [
    "folds <- 2\n",
    "hidden_nodes_vec <- c(2)\n",
    "decay_vec <- c(0.001)\n",
    "error_in_sample_vec <- numeric()\n",
    "error_out_sample_vec <- numeric()\n",
    "error_cv_vec <- numeric()\n",
    "\n",
    "for(hidden_nodes in hidden_nodes_vec){\n",
    "    for (decay in decay_vec){\n",
    "        print(paste(\"[INFO] - TESTING HIDDEN NODE=\",hidden_nodes))\n",
    "        print(paste(\"[INFO] - TESTING DECAY=\",decay))\n",
    "        results <- crossValidationInOutSample(hidden_nodes=hidden_nodes,k=folds, decays=decay) #We change every time the number of hidden nodes.\n",
    "        error_in_sample_vec <- c(error_in_sample_vec,results$in_sample)\n",
    "        error_out_sample_vec <- c(error_out_sample_vec,results$out_sample)\n",
    "        error_cv_vec <- c(error_cv_vec,results$cv)\n",
    "    } \n",
    "}"
   ]
  },
  {
   "cell_type": "code",
   "execution_count": 33,
   "metadata": {
    "vscode": {
     "languageId": "r"
    }
   },
   "outputs": [],
   "source": [
    "submission <- data.frame(submission_format[1])\n",
    "\n",
    "training_sf_nn <- data.frame(training_sf[-c(1, 16, 27, 30, 32, 35, 38, 44)], training_set_labels[2]) # target = h1n1\n",
    "target_variable <- ncol(training_sf_nn)\n",
    "\n",
    "# 1. Shuffle the dataset randomly.\n",
    "training_idx <- sample(1:nrow(training_sf_nn))\n",
    "half_split <- floor(nrow(training_sf_nn)/2)\n",
    "\n",
    "train_data <- training_sf_nn[training_idx[1:half_split],]\n",
    "test_data <- training_sf_nn[training_idx[(half_split+1):nrow(training_sf_nn)],]\n",
    "\n",
    "model<- nnet(h1n1_vaccine ~ ., data=train_data,size=5,decay=0.4,trace=F,skip=FALSE,maxit=3000,rang=0.02,MaxNWts=10000,abstol=0.0001)\n",
    "\n",
    "Y_pred<-predict(model,test_sf[-c(1, 16, 27, 30, 32, 35, 38, 44)])\n",
    "Y_pred<-ifelse(Y_pred<=0,0.01,Y_pred)\n",
    "Y_pred<-ifelse(Y_pred>=1,0.99,Y_pred)\n",
    "submission <- data.frame(submission, Y_pred)    \n",
    "\n",
    "training_sf_nn <- data.frame(training_sf[-c(1, 16, 27, 30, 32, 35, 38, 44)], training_set_labels[3]) # target = h1n1\n",
    "target_variable <- ncol(training_sf_nn)\n",
    "\n",
    "# 1. Shuffle the dataset randomly.\n",
    "training_idx <- sample(1:nrow(training_sf_nn))\n",
    "half_split <- floor(nrow(training_sf_nn)/2)\n",
    "\n",
    "train_data <- training_sf_nn[training_idx[1:half_split],]\n",
    "test_data <- training_sf_nn[training_idx[(half_split+1):nrow(training_sf_nn)],]\n",
    "\n",
    "model<- nnet(seasonal_vaccine ~ ., data=train_data,size=5,decay=0.4,trace=F,skip=FALSE,maxit=3000,rang=0.02,MaxNWts=10000,abstol=0.0001)\n",
    "\n",
    "Y_pred<-predict(model,test_sf[-c(1, 16, 27, 30, 32, 35, 38, 44)])\n",
    "Y_pred<-ifelse(Y_pred<=0,0.01,Y_pred)\n",
    "Y_pred<-ifelse(Y_pred>=1,0.99,Y_pred)\n",
    "submission <- data.frame(submission, Y_pred)    \n",
    "\n",
    "colnames(submission)[2:3] <- c(names(submission_format[2:3]))\n",
    "write.csv(submission,\"sample_data/neural_network_submission.csv\", row.names = FALSE, quote=FALSE)\n"
   ]
  },
  {
   "cell_type": "markdown",
   "metadata": {},
   "source": [
    "\n",
    "#### Example of simple equation\n",
    "\\begin{equation}\n",
    "e = mc^2\n",
    "\\end{equation}\n",
    "\n",
    "#### Example of matrix equation - Cross product formula:\n",
    "\n",
    "\\begin{equation*}\n",
    "\\mathbf{V}_1 \\times \\mathbf{V}_2 =  \n",
    "\\begin{vmatrix}\n",
    "\\mathbf{i} & \\mathbf{j} & \\mathbf{k} \\\\\n",
    "\\frac{\\partial X}{\\partial u} &  \\frac{\\partial Y}{\\partial u} & 0 \\\\\n",
    "\\frac{\\partial X}{\\partial v} &  \\frac{\\partial Y}{\\partial v} & 0\n",
    "\\end{vmatrix}\n",
    "\\end{equation*}\n",
    "\n",
    "#### Example of multiline equation - The Lorenz Equations:\n",
    "\n",
    "\\begin{align}\n",
    "\\dot{x} & = \\sigma(y-x) \\\\\n",
    "\\dot{y} & = \\rho x - y - xz \\\\\n",
    "\\dot{z} & = -\\beta z + xy\n",
    "\\end{align}\n",
    "\n",
    "#### Example of Markdown Table:\n",
    "\n",
    "| This | is   |\n",
    "|------|------|\n",
    "|   a  | table|\n"
   ]
  },
  {
   "cell_type": "markdown",
   "metadata": {
    "id": "9j5b3jTIkyu7"
   },
   "source": [
    "# Alternative models\n",
    "\n",
    "\n",
    "\n"
   ]
  },
  {
   "cell_type": "code",
   "execution_count": 8,
   "metadata": {
    "vscode": {
     "languageId": "r"
    }
   },
   "outputs": [
    {
     "name": "stderr",
     "output_type": "stream",
     "text": [
      "\n",
      "Attaching package: ‘dplyr’\n",
      "\n",
      "\n",
      "The following objects are masked from ‘package:stats’:\n",
      "\n",
      "    filter, lag\n",
      "\n",
      "\n",
      "The following objects are masked from ‘package:base’:\n",
      "\n",
      "    intersect, setdiff, setequal, union\n",
      "\n",
      "\n",
      "\n",
      "Attaching package: ‘neuralnet’\n",
      "\n",
      "\n",
      "The following object is masked from ‘package:dplyr’:\n",
      "\n",
      "    compute\n",
      "\n",
      "\n",
      "Loading required package: usethis\n",
      "\n",
      "Loading required package: Rcpp\n",
      "\n",
      "\n",
      "Attaching package: ‘scales’\n",
      "\n",
      "\n",
      "The following object is masked from ‘package:kernlab’:\n",
      "\n",
      "    alpha\n",
      "\n",
      "\n",
      "\n",
      "Attaching package: ‘reshape’\n",
      "\n",
      "\n",
      "The following object is masked from ‘package:dplyr’:\n",
      "\n",
      "    rename\n",
      "\n",
      "\n",
      "\u001b[36mℹ\u001b[39m SHA-1 hash of file is bf3c7b8ac910823b729e3ce73bb6ab5e6955ad3d\n",
      "\n"
     ]
    }
   ],
   "source": [
    "library(keras)\n",
    "library(mlbench)\n",
    "library(dplyr)\n",
    "library(magrittr)\n",
    "library(neuralnet)\n",
    "library(nnet)\n",
    "library(devtools)\n",
    "library(RSNNS)\n",
    "library(kernlab)\n",
    "library(scales)\n",
    "library(reshape)\n",
    "source_url('https://gist.githubusercontent.com/Peque/41a9e20d6687f2f3108d/raw/85e14f3a292e126f1454864427e3a189c2fe33f3/nnet_plot_update.r')"
   ]
  },
  {
   "cell_type": "code",
   "execution_count": 9,
   "metadata": {
    "vscode": {
     "languageId": "r"
    }
   },
   "outputs": [
    {
     "name": "stderr",
     "output_type": "stream",
     "text": [
      "Loaded Tensorflow version 2.8.0\n",
      "\n"
     ]
    },
    {
     "name": "stdout",
     "output_type": "stream",
     "text": [
      "Model: \"sequential\"\n",
      "________________________________________________________________________________\n",
      " Layer (type)                       Output Shape                    Param #     \n",
      "================================================================================\n",
      " dense_2 (Dense)                    (None, 27)                      1053        \n",
      "                                                                                \n",
      " dropout_1 (Dropout)                (None, 27)                      0           \n",
      "                                                                                \n",
      " dense_1 (Dense)                    (None, 14)                      392         \n",
      "                                                                                \n",
      " dropout (Dropout)                  (None, 14)                      0           \n",
      "                                                                                \n",
      " dense (Dense)                      (None, 1)                       15          \n",
      "                                                                                \n",
      "================================================================================\n",
      "Total params: 1,460\n",
      "Trainable params: 1,460\n",
      "Non-trainable params: 0\n",
      "________________________________________________________________________________\n",
      "[1] \"[INFO] model  2  fold with accuracy : 0.836753032799161\"\n",
      "Model: \"sequential_1\"\n",
      "________________________________________________________________________________\n",
      " Layer (type)                       Output Shape                    Param #     \n",
      "================================================================================\n",
      " dense_5 (Dense)                    (None, 27)                      1053        \n",
      "                                                                                \n",
      " dropout_3 (Dropout)                (None, 27)                      0           \n",
      "                                                                                \n",
      " dense_4 (Dense)                    (None, 14)                      392         \n",
      "                                                                                \n",
      " dropout_2 (Dropout)                (None, 14)                      0           \n",
      "                                                                                \n",
      " dense_3 (Dense)                    (None, 1)                       15          \n",
      "                                                                                \n",
      "================================================================================\n",
      "Total params: 1,460\n",
      "Trainable params: 1,460\n",
      "Non-trainable params: 0\n",
      "________________________________________________________________________________\n",
      "[1] \"[INFO] model  2  fold with accuracy : 0.835243016550588\"\n",
      "[1] \"[INFO] mean accuracy  : 0.835998024674875\"\n"
     ]
    }
   ],
   "source": [
    "data_dpnn <- data.frame(training_sf[-c(1, 16, 27, 30, 32, 35, 38, 44)], training_set_labels[2])\n",
    "\n",
    "# 0. converting the data from a dta fram into a simple matrix (required by keras)\n",
    "data_dpnn <- as.matrix(data_dpnn)\n",
    "dimnames(data_dpnn) <- NULL\n",
    "target_variable <- ncol(data_dpnn)\n",
    "\n",
    "k = 10\n",
    "\n",
    "# 1. Shuffle the dataset randomly.\n",
    "data_dpnn_idx <- sample(1:nrow(data_dpnn))\n",
    "\n",
    "# 2. Split the dataset into k groups\n",
    "max <- ceiling(nrow(data_dpnn)/k)\n",
    "splits <- split(data_dpnn_idx , ceiling(seq_along(data_dpnn_idx)/max))\n",
    "\n",
    "target_variable_rf <- ncol(data_dpnn)\n",
    "accuracy_vec <- array(0,k)\n",
    "\n",
    "\n",
    "for (i in 1:k){\n",
    "    #3.1 Take the first half of the dataset as a training data set\n",
    "    train_data <- data_dpnn[-splits[[i]],]\n",
    "\n",
    "    #3.2 Take the second half of the dataset as a hold out or test data set\n",
    "    test_data <- data_dpnn[splits[[i]],]\n",
    "\n",
    "    model <- keras_model_sequential()\n",
    "    model %>%  \n",
    "        layer_dense(units=27, activation= 'relu', input_shape=c(ncol(data_dpnn)-1)) %>%\n",
    "        layer_dropout(rate=0.4) %>%\n",
    "        layer_dense(units=14, activation= 'softmax') %>%\n",
    "        layer_dropout(rate=0.2) %>%\n",
    "        layer_dense(units=1)\n",
    "\n",
    "    model %>% compile(loss= 'binary_crossentropy', \n",
    "                        optimizer='rmsprop',#optimizer_rmsprop(lr=0.004),\n",
    "                        metrics=metric_binary_accuracy)\n",
    "\n",
    "    mymodel <- model %>%\n",
    "                fit(train_data[, -c(target_variable)], \n",
    "                    train_data[, target_variable],\n",
    "                    epoch = 100, \n",
    "                    batch_size=32, \n",
    "                    validation_split=0.2)\n",
    "\n",
    "    summary(model)\n",
    "    \n",
    "    model %>% evaluate(test_data[, -c(target_variable)], test_data[, target_variable])\n",
    "    pred <- predict(model, test_data[, -c(target_variable)])\n",
    "    threshold <- 0.5\n",
    "    Y_hat <- ifelse(pred > threshold,\"1\",\"0\")\n",
    "    confusion_matrix <- table(Y_hat, test_data[, target_variable])\n",
    "    accuracy_vec[i] <- (confusion_matrix[1,1]+confusion_matrix[2,2])/sum(confusion_matrix)\n",
    "    print(paste(\"[INFO] model \", k , \" fold with accuracy :\", accuracy_vec[i]))\n",
    "}\n",
    "\n",
    "accuracy <- mean(accuracy_vec)\n",
    "print(paste(\"[INFO] mean accuracy  :\", accuracy))"
   ]
  },
  {
   "cell_type": "code",
   "execution_count": 10,
   "metadata": {
    "vscode": {
     "languageId": "r"
    }
   },
   "outputs": [
    {
     "data": {
      "text/html": [
       "<style>\n",
       ".dl-inline {width: auto; margin:0; padding: 0}\n",
       ".dl-inline>dt, .dl-inline>dd {float: none; width: auto; display: inline-block}\n",
       ".dl-inline>dt::after {content: \":\\0020\"; padding-right: .5ex}\n",
       ".dl-inline>dt:not(:first-of-type) {padding-left: .5ex}\n",
       "</style><dl class=dl-inline><dt>loss</dt><dd>0.405198514461517</dd><dt>binary_accuracy</dt><dd>0.83531790971756</dd></dl>\n"
      ],
      "text/latex": [
       "\\begin{description*}\n",
       "\\item[loss] 0.405198514461517\n",
       "\\item[binary\\textbackslash{}\\_accuracy] 0.83531790971756\n",
       "\\end{description*}\n"
      ],
      "text/markdown": [
       "loss\n",
       ":   0.405198514461517binary_accuracy\n",
       ":   0.83531790971756\n",
       "\n"
      ],
      "text/plain": [
       "           loss binary_accuracy \n",
       "      0.4051985       0.8353179 "
      ]
     },
     "metadata": {},
     "output_type": "display_data"
    },
    {
     "data": {
      "text/plain": [
       "     \n",
       "Y_hat    0    1\n",
       "    0 9883 1560\n",
       "    1  639 1271"
      ]
     },
     "metadata": {},
     "output_type": "display_data"
    },
    {
     "data": {
      "text/html": [
       "0.835317906088519"
      ],
      "text/latex": [
       "0.835317906088519"
      ],
      "text/markdown": [
       "0.835317906088519"
      ],
      "text/plain": [
       "[1] 0.8353179"
      ]
     },
     "metadata": {},
     "output_type": "display_data"
    }
   ],
   "source": [
    "model %>% evaluate(test_data[, -c(target_variable)], test_data[, target_variable])\n",
    "pred <- predict(model, test_data[, -c(target_variable)])\n",
    "# head(pred)\n",
    "# dim(pred)\n",
    "threshold <- 0.5\n",
    "Y_hat <- ifelse(pred > threshold,\"1\",\"0\")\n",
    "confusion_matrix <- table(Y_hat, test_data[, target_variable])\n",
    "confusion_matrix\n",
    "(confusion_matrix[1,1]+confusion_matrix[2,2])/sum(confusion_matrix)"
   ]
  },
  {
   "cell_type": "code",
   "execution_count": 11,
   "metadata": {
    "vscode": {
     "languageId": "r"
    }
   },
   "outputs": [
    {
     "name": "stdout",
     "output_type": "stream",
     "text": [
      "Model: \"sequential_2\"\n",
      "________________________________________________________________________________\n",
      " Layer (type)                       Output Shape                    Param #     \n",
      "================================================================================\n",
      " dense_8 (Dense)                    (None, 27)                      1053        \n",
      "                                                                                \n",
      " dropout_5 (Dropout)                (None, 27)                      0           \n",
      "                                                                                \n",
      " dense_7 (Dense)                    (None, 14)                      392         \n",
      "                                                                                \n",
      " dropout_4 (Dropout)                (None, 14)                      0           \n",
      "                                                                                \n",
      " dense_6 (Dense)                    (None, 1)                       15          \n",
      "                                                                                \n",
      "================================================================================\n",
      "Total params: 1,460\n",
      "Trainable params: 1,460\n",
      "Non-trainable params: 0\n",
      "________________________________________________________________________________\n",
      "Model: \"sequential_3\"\n",
      "________________________________________________________________________________\n",
      " Layer (type)                       Output Shape                    Param #     \n",
      "================================================================================\n",
      " dense_11 (Dense)                   (None, 27)                      1053        \n",
      "                                                                                \n",
      " dropout_7 (Dropout)                (None, 27)                      0           \n",
      "                                                                                \n",
      " dense_10 (Dense)                   (None, 14)                      392         \n",
      "                                                                                \n",
      " dropout_6 (Dropout)                (None, 14)                      0           \n",
      "                                                                                \n",
      " dense_9 (Dense)                    (None, 1)                       15          \n",
      "                                                                                \n",
      "================================================================================\n",
      "Total params: 1,460\n",
      "Trainable params: 1,460\n",
      "Non-trainable params: 0\n",
      "________________________________________________________________________________\n"
     ]
    }
   ],
   "source": [
    "test <- test_sf[,-c(1, 16, 27, 30, 32, 35, 38, 44)]\n",
    "test <- as.matrix(test)\n",
    "dimnames(test) <- NULL\n",
    "submission <- data.frame(submission_format[1])\n",
    "\n",
    "for (i in 1:2){\n",
    "    data_dpln <- data.frame(training_sf[-c(1, 16, 27, 30, 32, 35, 38, 44)], training_set_labels[i+1]) # h1n1\n",
    "    data_dpln <- as.matrix(data_dpln)\n",
    "    dimnames(data_dpln) <- NULL\n",
    "\n",
    "    target_variable <- ncol(data_dpln)\n",
    "    mix_idx <- sample(1:nrow(data_dpln))\n",
    "    train_data <- data_dpln[mix_idx,]\n",
    "\n",
    "    model <- keras_model_sequential()\n",
    "    model %>%  \n",
    "        layer_dense(units=27, activation= 'relu', input_shape=c(ncol(data_dpln)-1)) %>%\n",
    "        layer_dropout(rate=0.4) %>%\n",
    "        layer_dense(units=14, activation= 'softmax') %>%\n",
    "        layer_dropout(rate=0.2) %>%\n",
    "        layer_dense(units=1)\n",
    "    \n",
    "    model %>% compile(loss= 'binary_crossentropy', \n",
    "                        optimizer='rmsprop',#optimizer_rmsprop(lr=0.004),\n",
    "                        metrics=metric_binary_accuracy)\n",
    "    mymodel <- model %>%\n",
    "                fit(train_data[, -c(target_variable)], \n",
    "                    train_data[, target_variable],\n",
    "                    epoch = 100, \n",
    "                    batch_size=32, \n",
    "                    validation_split=0.2)\n",
    "\n",
    "    summary(model)\n",
    "    \n",
    "    Y_pred <- predict(model, test)\n",
    "    Y_pred<-ifelse(Y_pred<=0,0.01,Y_pred)\n",
    "    Y_pred<-ifelse(Y_pred>=1,0.99,Y_pred)\n",
    "\n",
    "    submission <- data.frame(submission, Y_pred)\n",
    "}\n",
    "colnames(submission)[2:3] <- c(names(submission_format[2:3]))\n",
    "\n",
    "write.csv(submission, \"sample_data/deep_neural_network_answers.csv\", row.names = FALSE, quote=FALSE)\n"
   ]
  },
  {
   "cell_type": "markdown",
   "metadata": {
    "id": "sz3LmTKkkyu8"
   },
   "source": [
    "# Conclusions"
   ]
  }
 ],
 "metadata": {
  "colab": {
   "collapsed_sections": [],
   "name": "Program.ipynb",
   "provenance": []
  },
  "kernelspec": {
   "display_name": "R",
   "language": "R",
   "name": "ir"
  },
  "language_info": {
   "codemirror_mode": "r",
   "file_extension": ".r",
   "mimetype": "text/x-r-source",
   "name": "R",
   "pygments_lexer": "r",
   "version": "3.6.1"
  }
 },
 "nbformat": 4,
 "nbformat_minor": 1
}
