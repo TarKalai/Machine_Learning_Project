{
 "cells": [
  {
   "cell_type": "markdown",
   "metadata": {
    "id": "A7iUf-ffkyup"
   },
   "source": [
    "# INFO-F-422 -  Statistical Foundations of Machine Learning \n",
    "\n",
    "### De Vos Sebastien - __[Sebastien.De.Vos@ulb.be](mailto:student1@ulb.ac.be) - Student ID 459907__\n",
    "### Kalai Tarik - __[Tarik.Kalai@ulb.be](mailto:student2@ulb.ac.be) - Student ID 459631__\n",
    "### Rubas Diego - __[Diego.Rubas@ulb.be](mailto:student3@ulb.ac.be) - Student ID 459733__\n",
    "\n",
    "### Video presentation: www.youtube.com/abcd1234\n",
    "\n",
    "## Project Title\n"
   ]
  },
  {
   "cell_type": "markdown",
   "metadata": {},
   "source": [
    "### Table of Contents\n",
    "\n",
    "* [Introduction](#Introduction)\n",
    "* [Exploratory Data Analysis](#Exploratory_Data_Analysis)\n",
    "    * [Data Loading](#Data_Loading)\n",
    "    * [Data Dimension](#Data_Dimension)\n",
    "    * [Data Preview](#Data_Preview)\n",
    "* [Data Preprocessing](#Data_Preprocessing)\n",
    "    * [Missing Value Imputation](#Missing_Value_Imputation)\n",
    "    * [Feature Engineering](#Feature_Engineering)\n",
    "    * [Feature Selection](#Feature_Selection)\n",
    "* [Model Selection](#Model_Selection)\n",
    "    * [Model 1: Linear Model](#Model_1_Linear_Model)\n",
    "    * [Model 2: Decision Tree](#Model_2_Decision_Tree)\n",
    "        [Model 2.1: Bossted Decision Tree](#Model_2_1_Boosted_Decision_Tree)\n",
    "    * [Model 3: Random Forest](#Model_3_Random_Forest)"
   ]
  },
  {
   "cell_type": "markdown",
   "metadata": {
    "id": "BknMGYOJkyu0"
   },
   "source": [
    "# Introduction <a class=\"anchor\" id=\"Introduction\"></a>\n"
   ]
  },
  {
   "cell_type": "markdown",
   "metadata": {
    "id": "6gsGzIq1kyu2"
   },
   "source": [
    "# Exploratory Data Anaylsis <a class=\"anchor\" id=\"Exploratory_Data_Analysis\"></a>"
   ]
  },
  {
   "cell_type": "markdown",
   "metadata": {
    "id": "nQ2WjfsUkyu3"
   },
   "source": [
    "In this section we will be viewing and understanding the data that we have."
   ]
  },
  {
   "cell_type": "markdown",
   "metadata": {
    "id": "L_AfUCaNsZJW"
   },
   "source": []
  },
  {
   "cell_type": "markdown",
   "metadata": {
    "id": "6KMnF3pisasz"
   },
   "source": [
    "## Data loading <a class=\"anchor\" id=\"Data_Loading\"></a>"
   ]
  },
  {
   "cell_type": "code",
   "execution_count": 56,
   "metadata": {
    "id": "EbjGzSlXsVQQ",
    "vscode": {
     "languageId": "r"
    }
   },
   "outputs": [
    {
     "data": {
      "text/html": [
       "<table class=\"dataframe\">\n",
       "<caption>A data.frame: 6 × 3</caption>\n",
       "<thead>\n",
       "\t<tr><th></th><th scope=col>respondent_id</th><th scope=col>h1n1_vaccine</th><th scope=col>seasonal_vaccine</th></tr>\n",
       "\t<tr><th></th><th scope=col>&lt;int&gt;</th><th scope=col>&lt;dbl&gt;</th><th scope=col>&lt;dbl&gt;</th></tr>\n",
       "</thead>\n",
       "<tbody>\n",
       "\t<tr><th scope=row>1</th><td>26707</td><td>0.5</td><td>0.7</td></tr>\n",
       "\t<tr><th scope=row>2</th><td>26708</td><td>0.5</td><td>0.7</td></tr>\n",
       "\t<tr><th scope=row>3</th><td>26709</td><td>0.5</td><td>0.7</td></tr>\n",
       "\t<tr><th scope=row>4</th><td>26710</td><td>0.5</td><td>0.7</td></tr>\n",
       "\t<tr><th scope=row>5</th><td>26711</td><td>0.5</td><td>0.7</td></tr>\n",
       "\t<tr><th scope=row>6</th><td>26712</td><td>0.5</td><td>0.7</td></tr>\n",
       "</tbody>\n",
       "</table>\n"
      ],
      "text/latex": [
       "A data.frame: 6 × 3\n",
       "\\begin{tabular}{r|lll}\n",
       "  & respondent\\_id & h1n1\\_vaccine & seasonal\\_vaccine\\\\\n",
       "  & <int> & <dbl> & <dbl>\\\\\n",
       "\\hline\n",
       "\t1 & 26707 & 0.5 & 0.7\\\\\n",
       "\t2 & 26708 & 0.5 & 0.7\\\\\n",
       "\t3 & 26709 & 0.5 & 0.7\\\\\n",
       "\t4 & 26710 & 0.5 & 0.7\\\\\n",
       "\t5 & 26711 & 0.5 & 0.7\\\\\n",
       "\t6 & 26712 & 0.5 & 0.7\\\\\n",
       "\\end{tabular}\n"
      ],
      "text/markdown": [
       "\n",
       "A data.frame: 6 × 3\n",
       "\n",
       "| <!--/--> | respondent_id &lt;int&gt; | h1n1_vaccine &lt;dbl&gt; | seasonal_vaccine &lt;dbl&gt; |\n",
       "|---|---|---|---|\n",
       "| 1 | 26707 | 0.5 | 0.7 |\n",
       "| 2 | 26708 | 0.5 | 0.7 |\n",
       "| 3 | 26709 | 0.5 | 0.7 |\n",
       "| 4 | 26710 | 0.5 | 0.7 |\n",
       "| 5 | 26711 | 0.5 | 0.7 |\n",
       "| 6 | 26712 | 0.5 | 0.7 |\n",
       "\n"
      ],
      "text/plain": [
       "  respondent_id h1n1_vaccine seasonal_vaccine\n",
       "1 26707         0.5          0.7             \n",
       "2 26708         0.5          0.7             \n",
       "3 26709         0.5          0.7             \n",
       "4 26710         0.5          0.7             \n",
       "5 26711         0.5          0.7             \n",
       "6 26712         0.5          0.7             "
      ]
     },
     "metadata": {},
     "output_type": "display_data"
    },
    {
     "data": {
      "text/plain": [
       "               _                                \n",
       "platform       x86_64-w64-mingw32               \n",
       "arch           x86_64                           \n",
       "os             mingw32                          \n",
       "crt            ucrt                             \n",
       "system         x86_64, mingw32                  \n",
       "status                                          \n",
       "major          4                                \n",
       "minor          2.0                              \n",
       "year           2022                             \n",
       "month          04                               \n",
       "day            22                               \n",
       "svn rev        82229                            \n",
       "language       R                                \n",
       "version.string R version 4.2.0 (2022-04-22 ucrt)\n",
       "nickname       Vigorous Calisthenics            "
      ]
     },
     "metadata": {},
     "output_type": "display_data"
    }
   ],
   "source": [
    "training_set_features <- read.csv(\"sample_data/training_set_features.csv\", stringsAsFactors  = T)\n",
    "training_set_labels <- read.csv(\"sample_data/training_set_labels.csv\", stringsAsFactors  = T)\n",
    "test_set_features <- read.csv(\"sample_data/test_set_features.csv\", stringsAsFactors  = T)\n",
    "submission_format <- read.csv(\"sample_data/submission_format.csv\", stringsAsFactors  = T)\n",
    "write.csv(submission_format,\"sample_data/answers.csv\", row.names = FALSE, quote=FALSE)\n",
    "set.seed(12345)\n",
    "head(submission_format)\n"
   ]
  },
  {
   "cell_type": "markdown",
   "metadata": {
    "id": "Vgh9rPpcsITS"
   },
   "source": [
    "## Dimensions of the data samples. <a class=\"anchor\" id=\"Data_Dimension\"></a>"
   ]
  },
  {
   "cell_type": "code",
   "execution_count": 32,
   "metadata": {
    "colab": {
     "base_uri": "https://localhost:8080/"
    },
    "id": "iJC79QYWnku5",
    "outputId": "d8bd1909-6c12-4098-801e-3bcf01a8332a",
    "vscode": {
     "languageId": "r"
    }
   },
   "outputs": [
    {
     "name": "stdout",
     "output_type": "stream",
     "text": [
      "dimension of test_set_features:  26708 36 \n",
      "dimension of training_set_labels:  26707 3 \n",
      "dimension of training_set_features :  26707 36 \n"
     ]
    }
   ],
   "source": [
    "cat(\"dimension of test_set_features: \",  dim(test_set_features), \"\\n\")# This will be the input to the model (after it had been trained), the answer the model\n",
    "#will be providing will then be sent to DrivenData. \n",
    "\n",
    "cat(\"dimension of training_set_labels: \", dim(training_set_labels), \"\\n\") # Answers to training_set_features. \n",
    "\n",
    "cat(\"dimension of training_set_features : \", dim(training_set_features), \"\\n\") # Corresponding to a sample of data: will be used for training set and test set. \n",
    "#The result will then be \"validated\" with a comparison with training_set_labels"
   ]
  },
  {
   "cell_type": "markdown",
   "metadata": {
    "id": "DSUJ01Ltv3ct"
   },
   "source": [
    "## Data Preview <a class=\"anchor\" id=\"Data_Preview\"></a>"
   ]
  },
  {
   "cell_type": "code",
   "execution_count": 33,
   "metadata": {
    "id": "uKeHb6pcnOlW",
    "vscode": {
     "languageId": "r"
    }
   },
   "outputs": [],
   "source": [
    "# To generalise the function, we need to take into account the empty answers and not only NA. \n",
    "cleanData <- function(x) {\n",
    "    res <- list() #From tarik : What is the use of res ???\n",
    "    for (i in 2:22) {\n",
    "        x <- transform_na(x, i)\n",
    "    }\n",
    "    return(x) #return\n",
    "}\n",
    "\n",
    "transform_na <- function(x, index){\n",
    "    if (length(which(is.na(x[,index]))) > 0) { #Check if there is any NA in the column\n",
    "            mean_ts <- mean(x[,index], na.rm = T) #compute old_mean\n",
    "            sd_ts <- sqrt(var(x[,index], na.rm = T)) #compute old_sd\n",
    "            feature_name <- names(x[index]) #remember the name of the feature we are dealing with\n",
    "            x[is.na(x[,index]), index] <- round(mean_ts + sd_ts/2) #modify the data\n",
    "        }\n",
    "    return(x)\n",
    "}\n",
    "\n",
    "norm<-function(x){\n",
    "    return( (x-min(x)) / (max(x)-min(x)) )\n",
    "}\n",
    "\n",
    "one_hot_encoding <- function(x, index) {\n",
    "    names <- levels(x[,index]) # get the names of all the possible different values\n",
    "    new_col <- model.matrix(~0+x[,index]) # transforms the column in a matrix with a '1' in the correct column and '0' otherwise\n",
    "    attr(new_col, \"dimnames\")[[2]] <- names\n",
    "    new_col <- as.data.frame(new_col)\n",
    "    x <- data.frame(x[1:index-1],new_col,x[(index+1):ncol(x)])\n",
    "    return(x)\n",
    "}\n",
    "\n",
    "cast_into_double <- function(x){\n",
    "    for (i in 2:length(x)){\n",
    "        x[,i] <- as.numeric(x[,i])\n",
    "    }\n",
    "    return(x)\n",
    "}"
   ]
  },
  {
   "cell_type": "code",
   "execution_count": 34,
   "metadata": {
    "vscode": {
     "languageId": "r"
    }
   },
   "outputs": [
    {
     "data": {
      "text/html": [
       "<table class=\"dataframe\">\n",
       "<caption>A data.frame: 6 × 11</caption>\n",
       "<thead>\n",
       "\t<tr><th></th><th scope=col>opinion_seas_vacc_effective</th><th scope=col>opinion_seas_risk</th><th scope=col>opinion_seas_sick_from_vacc</th><th scope=col>age_group</th><th scope=col>education</th><th scope=col>Black</th><th scope=col>Hispanic</th><th scope=col>Other.or.Multiple</th><th scope=col>White</th><th scope=col>Female</th><th scope=col>Male</th></tr>\n",
       "\t<tr><th></th><th scope=col>&lt;dbl&gt;</th><th scope=col>&lt;dbl&gt;</th><th scope=col>&lt;dbl&gt;</th><th scope=col>&lt;dbl&gt;</th><th scope=col>&lt;dbl&gt;</th><th scope=col>&lt;dbl&gt;</th><th scope=col>&lt;dbl&gt;</th><th scope=col>&lt;dbl&gt;</th><th scope=col>&lt;dbl&gt;</th><th scope=col>&lt;dbl&gt;</th><th scope=col>&lt;dbl&gt;</th></tr>\n",
       "</thead>\n",
       "<tbody>\n",
       "\t<tr><th scope=row>1</th><td>0.25</td><td>0.00</td><td>0.25</td><td>0.75</td><td>0.25</td><td>0</td><td>0</td><td>0</td><td>1</td><td>1</td><td>0</td></tr>\n",
       "\t<tr><th scope=row>2</th><td>0.75</td><td>0.25</td><td>0.75</td><td>0.25</td><td>0.50</td><td>0</td><td>0</td><td>0</td><td>1</td><td>0</td><td>1</td></tr>\n",
       "\t<tr><th scope=row>3</th><td>0.75</td><td>0.00</td><td>0.25</td><td>0.00</td><td>0.75</td><td>0</td><td>0</td><td>0</td><td>1</td><td>0</td><td>1</td></tr>\n",
       "\t<tr><th scope=row>4</th><td>1.00</td><td>0.75</td><td>0.00</td><td>1.00</td><td>0.50</td><td>0</td><td>0</td><td>0</td><td>1</td><td>1</td><td>0</td></tr>\n",
       "\t<tr><th scope=row>5</th><td>0.50</td><td>0.00</td><td>0.75</td><td>0.50</td><td>1.00</td><td>0</td><td>0</td><td>0</td><td>1</td><td>1</td><td>0</td></tr>\n",
       "\t<tr><th scope=row>6</th><td>1.00</td><td>0.75</td><td>0.75</td><td>1.00</td><td>0.50</td><td>0</td><td>0</td><td>0</td><td>1</td><td>0</td><td>1</td></tr>\n",
       "</tbody>\n",
       "</table>\n"
      ],
      "text/latex": [
       "A data.frame: 6 × 11\n",
       "\\begin{tabular}{r|lllllllllll}\n",
       "  & opinion\\_seas\\_vacc\\_effective & opinion\\_seas\\_risk & opinion\\_seas\\_sick\\_from\\_vacc & age\\_group & education & Black & Hispanic & Other.or.Multiple & White & Female & Male\\\\\n",
       "  & <dbl> & <dbl> & <dbl> & <dbl> & <dbl> & <dbl> & <dbl> & <dbl> & <dbl> & <dbl> & <dbl>\\\\\n",
       "\\hline\n",
       "\t1 & 0.25 & 0.00 & 0.25 & 0.75 & 0.25 & 0 & 0 & 0 & 1 & 1 & 0\\\\\n",
       "\t2 & 0.75 & 0.25 & 0.75 & 0.25 & 0.50 & 0 & 0 & 0 & 1 & 0 & 1\\\\\n",
       "\t3 & 0.75 & 0.00 & 0.25 & 0.00 & 0.75 & 0 & 0 & 0 & 1 & 0 & 1\\\\\n",
       "\t4 & 1.00 & 0.75 & 0.00 & 1.00 & 0.50 & 0 & 0 & 0 & 1 & 1 & 0\\\\\n",
       "\t5 & 0.50 & 0.00 & 0.75 & 0.50 & 1.00 & 0 & 0 & 0 & 1 & 1 & 0\\\\\n",
       "\t6 & 1.00 & 0.75 & 0.75 & 1.00 & 0.50 & 0 & 0 & 0 & 1 & 0 & 1\\\\\n",
       "\\end{tabular}\n"
      ],
      "text/markdown": [
       "\n",
       "A data.frame: 6 × 11\n",
       "\n",
       "| <!--/--> | opinion_seas_vacc_effective &lt;dbl&gt; | opinion_seas_risk &lt;dbl&gt; | opinion_seas_sick_from_vacc &lt;dbl&gt; | age_group &lt;dbl&gt; | education &lt;dbl&gt; | Black &lt;dbl&gt; | Hispanic &lt;dbl&gt; | Other.or.Multiple &lt;dbl&gt; | White &lt;dbl&gt; | Female &lt;dbl&gt; | Male &lt;dbl&gt; |\n",
       "|---|---|---|---|---|---|---|---|---|---|---|---|\n",
       "| 1 | 0.25 | 0.00 | 0.25 | 0.75 | 0.25 | 0 | 0 | 0 | 1 | 1 | 0 |\n",
       "| 2 | 0.75 | 0.25 | 0.75 | 0.25 | 0.50 | 0 | 0 | 0 | 1 | 0 | 1 |\n",
       "| 3 | 0.75 | 0.00 | 0.25 | 0.00 | 0.75 | 0 | 0 | 0 | 1 | 0 | 1 |\n",
       "| 4 | 1.00 | 0.75 | 0.00 | 1.00 | 0.50 | 0 | 0 | 0 | 1 | 1 | 0 |\n",
       "| 5 | 0.50 | 0.00 | 0.75 | 0.50 | 1.00 | 0 | 0 | 0 | 1 | 1 | 0 |\n",
       "| 6 | 1.00 | 0.75 | 0.75 | 1.00 | 0.50 | 0 | 0 | 0 | 1 | 0 | 1 |\n",
       "\n"
      ],
      "text/plain": [
       "  opinion_seas_vacc_effective opinion_seas_risk opinion_seas_sick_from_vacc\n",
       "1 0.25                        0.00              0.25                       \n",
       "2 0.75                        0.25              0.75                       \n",
       "3 0.75                        0.00              0.25                       \n",
       "4 1.00                        0.75              0.00                       \n",
       "5 0.50                        0.00              0.75                       \n",
       "6 1.00                        0.75              0.75                       \n",
       "  age_group education Black Hispanic Other.or.Multiple White Female Male\n",
       "1 0.75      0.25      0     0        0                 1     1      0   \n",
       "2 0.25      0.50      0     0        0                 1     0      1   \n",
       "3 0.00      0.75      0     0        0                 1     0      1   \n",
       "4 1.00      0.50      0     0        0                 1     1      0   \n",
       "5 0.50      1.00      0     0        0                 1     1      0   \n",
       "6 1.00      0.50      0     0        0                 1     0      1   "
      ]
     },
     "metadata": {},
     "output_type": "display_data"
    },
    {
     "data": {
      "text/html": [
       "<style>\n",
       ".list-inline {list-style: none; margin:0; padding: 0}\n",
       ".list-inline>li {display: inline-block}\n",
       ".list-inline>li:not(:last-child)::after {content: \"\\00b7\"; padding: 0 .5ex}\n",
       "</style>\n",
       "<ol class=list-inline><li>26707</li><li>46</li></ol>\n"
      ],
      "text/latex": [
       "\\begin{enumerate*}\n",
       "\\item 26707\n",
       "\\item 46\n",
       "\\end{enumerate*}\n"
      ],
      "text/markdown": [
       "1. 26707\n",
       "2. 46\n",
       "\n",
       "\n"
      ],
      "text/plain": [
       "[1] 26707    46"
      ]
     },
     "metadata": {},
     "output_type": "display_data"
    }
   ],
   "source": [
    "training_set_features <- read.csv(\"sample_data/training_set_features.csv\", stringsAsFactors  = T)\n",
    "test_set_features <- read.csv(\"sample_data/test_set_features.csv\", stringsAsFactors  = T)\n",
    "data_sorting <- function(x){\n",
    "    # for feature 2 -> 22\n",
    "    x <- cleanData(x)\n",
    "    # for feature 23\n",
    "    levels(x[,23]) <- c(1, 2, 3, 4, 5)\n",
    "\n",
    "    # for feature 24\n",
    "    levels(x[,24]) <- c(0, 1, 2, 4, 3)\n",
    "\n",
    "    # for feature 25\n",
    "    x <- one_hot_encoding(x, 25)\n",
    "\n",
    "    # for feature 26 -> number 29\n",
    "    x <- one_hot_encoding(x, 29)\n",
    "\n",
    "    # for feature 27 -> number 31 !!! it need to be changed, it is not a good way to sort this data.\n",
    "    levels(x[,31]) <- c(0, 2, 1, 3) \n",
    "\n",
    "    # for feature 28 -> number 32\n",
    "    levels(x[,32])[1] <- 'marital_status_not_specified'\n",
    "    x <- one_hot_encoding(x, 32)\n",
    "\n",
    "    # for feature 29 -> number 35\n",
    "    levels(x[,35])[1] <- 'rental_not_specified'\n",
    "    x <- one_hot_encoding(x, 35)\n",
    "\n",
    "    #for features 30 -> number 38\n",
    "    levels(x[,38])[1] <- 'employment_not_specified'\n",
    "    x <- one_hot_encoding(x, 38)\n",
    "    \n",
    "    # for feature 31 -> 42, we judged its contribution was negligeable against its cost of implementation\n",
    "    x <- subset(x, select = -42)\n",
    "\n",
    "    # for feature 32 -> 42 (since we dropped last column\n",
    "    x <- one_hot_encoding(x, 42)\n",
    "\n",
    "    # for feature 33 -> 45\n",
    "    x <- transform_na(x, 45)\n",
    "\n",
    "    # for feature 34 -> 46\n",
    "    x <- transform_na(x, 46)\n",
    "\n",
    "    # for feature 35 -> 47, we judged its contribution was negligeable against its cost of implementation\n",
    "    x <- subset(x, select = -47)\n",
    "\n",
    "    # for feature 36 -> 47, we judged its contribution was negligeable against its cost of implementation\n",
    "    x <- subset(x, select = -47)\n",
    "\n",
    "\n",
    "\n",
    "    x <- cast_into_double(x)\n",
    "    name <- names(x)[-1]\n",
    "    temp <- apply(x[2:length(x)], 2 , norm)\n",
    "    attr(temp, \"dimnames\")[[2]] <- name\n",
    "    x <- data.frame(x[1],as.data.frame(temp))\n",
    "    return (x)\n",
    "}\n",
    "\n",
    "training_set_features <- data_sorting(training_set_features)\n",
    "test_set_features <- data_sorting(test_set_features)\n",
    "\n",
    "head(training_set_features[20:30])\n",
    "dim(training_set_features)"
   ]
  },
  {
   "cell_type": "code",
   "execution_count": 35,
   "metadata": {
    "vscode": {
     "languageId": "r"
    }
   },
   "outputs": [],
   "source": [
    "# par(mfrow=c(1,3))\n",
    "\n",
    "# # data_to_plot <- table(training_set_features[\"h1n1_concern\"])\n",
    "# # data_to_plot <- table(t(training_set_features[\"h1n1_knowledge\"]))\n",
    "\n",
    "# names<-names(training_set_features)\n",
    "# for(i in 2:length(names)){\n",
    "#     barplot(table(training_set_features[names[i]]), col=\"blue\", main=names[i],beside=T) \n",
    "# }"
   ]
  },
  {
   "cell_type": "code",
   "execution_count": 36,
   "metadata": {
    "vscode": {
     "languageId": "r"
    }
   },
   "outputs": [],
   "source": [
    "# # head(training_set_labels)\n",
    "# # plot(training_set_labels$h1n1_vaccine, training_set_labels$vaccine_vaccine)\n",
    "\n",
    "# training_set_features[1] <- training_set_labels[2]\n",
    "# plot(training_set_features[1:3]) #Why is the plot so strange ?? \n",
    "# X1 <- as.matrix(training_set_features[1])\n",
    "# X2 <- as.matrix(training_set_features[2])\n",
    "# X3 <- as.matrix(training_set_features[3])\n",
    "# regression <- lm( X1~ X2 + X3)\n",
    "\n",
    "# summary(regression)"
   ]
  },
  {
   "cell_type": "markdown",
   "metadata": {
    "id": "5iQ6kpO6kyu5"
   },
   "source": [
    "# Data preprocessing <a class=\"anchor\" id=\"Data_Preprocessing\"></a>\n",
    "\n",
    "## Missing Value Imputation<a class=\"anchor\" id=\"Missing_Value_Imputation\"></a>\n",
    "\n",
    "## Feature Engineering<a class=\"anchor\" id=\"Feature_Engineering\"></a>\n",
    "\n",
    "## Feature Selection<a class=\"anchor\" id=\"Feature_Selection\"></a>\n",
    "\n"
   ]
  },
  {
   "cell_type": "markdown",
   "metadata": {
    "id": "MrH_wChrkyu6"
   },
   "source": [
    "# Model selection <a class=\"anchor\" id=\"Model_Selection\"></a>\n"
   ]
  },
  {
   "cell_type": "markdown",
   "metadata": {},
   "source": [
    "\n",
    "## Model 1 <a class=\"anchor\" id=\"Model_1_Linear_Model\"></a>\n"
   ]
  },
  {
   "cell_type": "code",
   "execution_count": 37,
   "metadata": {
    "vscode": {
     "languageId": "r"
    }
   },
   "outputs": [
    {
     "data": {
      "text/html": [
       "0.350801994736891"
      ],
      "text/latex": [
       "0.350801994736891"
      ],
      "text/markdown": [
       "0.350801994736891"
      ],
      "text/plain": [
       "[1] 0.350802"
      ]
     },
     "metadata": {},
     "output_type": "display_data"
    },
    {
     "data": {
      "text/html": [
       "0.40963010445879"
      ],
      "text/latex": [
       "0.40963010445879"
      ],
      "text/markdown": [
       "0.40963010445879"
      ],
      "text/plain": [
       "[1] 0.4096301"
      ]
     },
     "metadata": {},
     "output_type": "display_data"
    },
    {
     "data": {
      "text/html": [
       "<table class=\"dataframe\">\n",
       "<caption>A data.frame: 6 × 3</caption>\n",
       "<thead>\n",
       "\t<tr><th></th><th scope=col>respondent_id</th><th scope=col>X1</th><th scope=col>X2</th></tr>\n",
       "\t<tr><th></th><th scope=col>&lt;int&gt;</th><th scope=col>&lt;dbl&gt;</th><th scope=col>&lt;dbl&gt;</th></tr>\n",
       "</thead>\n",
       "<tbody>\n",
       "\t<tr><th scope=row>1</th><td>26707</td><td>0.06282598</td><td>0.2397931</td></tr>\n",
       "\t<tr><th scope=row>2</th><td>26708</td><td>0.01169483</td><td>0.0100000</td></tr>\n",
       "\t<tr><th scope=row>3</th><td>26709</td><td>0.38061953</td><td>0.6088012</td></tr>\n",
       "\t<tr><th scope=row>4</th><td>26710</td><td>0.50194488</td><td>0.8584078</td></tr>\n",
       "\t<tr><th scope=row>5</th><td>26711</td><td>0.25134780</td><td>0.4908154</td></tr>\n",
       "\t<tr><th scope=row>6</th><td>26712</td><td>0.42346578</td><td>0.9004768</td></tr>\n",
       "</tbody>\n",
       "</table>\n"
      ],
      "text/latex": [
       "A data.frame: 6 × 3\n",
       "\\begin{tabular}{r|lll}\n",
       "  & respondent\\_id & X1 & X2\\\\\n",
       "  & <int> & <dbl> & <dbl>\\\\\n",
       "\\hline\n",
       "\t1 & 26707 & 0.06282598 & 0.2397931\\\\\n",
       "\t2 & 26708 & 0.01169483 & 0.0100000\\\\\n",
       "\t3 & 26709 & 0.38061953 & 0.6088012\\\\\n",
       "\t4 & 26710 & 0.50194488 & 0.8584078\\\\\n",
       "\t5 & 26711 & 0.25134780 & 0.4908154\\\\\n",
       "\t6 & 26712 & 0.42346578 & 0.9004768\\\\\n",
       "\\end{tabular}\n"
      ],
      "text/markdown": [
       "\n",
       "A data.frame: 6 × 3\n",
       "\n",
       "| <!--/--> | respondent_id &lt;int&gt; | X1 &lt;dbl&gt; | X2 &lt;dbl&gt; |\n",
       "|---|---|---|---|\n",
       "| 1 | 26707 | 0.06282598 | 0.2397931 |\n",
       "| 2 | 26708 | 0.01169483 | 0.0100000 |\n",
       "| 3 | 26709 | 0.38061953 | 0.6088012 |\n",
       "| 4 | 26710 | 0.50194488 | 0.8584078 |\n",
       "| 5 | 26711 | 0.25134780 | 0.4908154 |\n",
       "| 6 | 26712 | 0.42346578 | 0.9004768 |\n",
       "\n"
      ],
      "text/plain": [
       "  respondent_id X1         X2       \n",
       "1 26707         0.06282598 0.2397931\n",
       "2 26708         0.01169483 0.0100000\n",
       "3 26709         0.38061953 0.6088012\n",
       "4 26710         0.50194488 0.8584078\n",
       "5 26711         0.25134780 0.4908154\n",
       "6 26712         0.42346578 0.9004768"
      ]
     },
     "metadata": {},
     "output_type": "display_data"
    }
   ],
   "source": [
    "temp <- training_set_features[-c(28, 30, 33, 37, 41, 44)] # i just looked at which one made the computation impossible in a greedy manner.\n",
    "\n",
    "\n",
    "n <- length(temp)-1 #length(training_set_features[2:t]) # number of features\n",
    "p <- n+1\n",
    "N <- length(training_set_features[,1]) # number of samples\n",
    "N2 <- length(test_set_features[,1])\n",
    "Y <- as.matrix(training_set_labels[2:3])\n",
    "X <- as.matrix(cbind(array(1,c(N,1)),temp[2:p]))\n",
    "\n",
    "beta_hat <- array(0, c(p,2))\n",
    "sigma_hat_w <- numeric(2)\n",
    "Y_hat <- array(0, c(N,2))\n",
    "\n",
    "temp_2  <- test_set_features[-c(28, 30, 33, 37, 41, 44)]\n",
    "X_final <-  as.matrix(cbind(array(1,c(N2,1)),temp_2[2:p]))\n",
    "Y_final <- array(0, c(N2,2))\n",
    "\n",
    "\n",
    "for (i in 1:2){\n",
    "    beta_hat[,i] <- solve((t(X)%*%X))%*%t(X)%*%Y[,i] #doesn't work, we need to identify the features that are highly correlated and keep only one. \n",
    "    Y_hat[,i] <- X %*% beta_hat[,i]\n",
    "    Y_final[,i] <- X_final %*% beta_hat[,i]\n",
    "    e <- Y[,i] - Y_hat[,i]\n",
    "    sigma_hat_w[i] <- sqrt((t(e)%*%e)/(N-p))\n",
    "}\n",
    "sigma_hat_w[1]\n",
    "sigma_hat_w[2]\n",
    "\n",
    "Y_final<-ifelse(Y_final<=0,0.01,Y_final)\n",
    "Y_final<-ifelse(Y_final>=1,0.99,Y_final)\n",
    "submission <- data.frame(submission_format[1],Y_final)\n",
    "\n",
    "head(submission)\n",
    "write.csv(submission,\"sample_data/answers.csv\", row.names = FALSE, quote=FALSE)"
   ]
  },
  {
   "cell_type": "markdown",
   "metadata": {},
   "source": [
    "## Model 2 <a class=\"anchor\" id=\"Model_2_Decision_Tree\"></a>"
   ]
  },
  {
   "cell_type": "code",
   "execution_count": 38,
   "metadata": {
    "vscode": {
     "languageId": "r"
    }
   },
   "outputs": [
    {
     "data": {
      "text/html": [
       "<table class=\"dataframe\">\n",
       "<caption>A data.frame: 6 × 46</caption>\n",
       "<thead>\n",
       "\t<tr><th></th><th scope=col>h1n1_concern</th><th scope=col>h1n1_knowledge</th><th scope=col>behavioral_antiviral_meds</th><th scope=col>behavioral_avoidance</th><th scope=col>behavioral_face_mask</th><th scope=col>behavioral_wash_hands</th><th scope=col>behavioral_large_gatherings</th><th scope=col>behavioral_outside_home</th><th scope=col>behavioral_touch_face</th><th scope=col>doctor_recc_h1n1</th><th scope=col>⋯</th><th scope=col>employment_not_specified</th><th scope=col>Employed</th><th scope=col>Not.in.Labor.Force</th><th scope=col>Unemployed</th><th scope=col>MSA..Not.Principle..City</th><th scope=col>MSA..Principle.City</th><th scope=col>Non.MSA</th><th scope=col>household_adults</th><th scope=col>household_children</th><th scope=col>h1n1_vaccine</th></tr>\n",
       "\t<tr><th></th><th scope=col>&lt;dbl&gt;</th><th scope=col>&lt;dbl&gt;</th><th scope=col>&lt;dbl&gt;</th><th scope=col>&lt;dbl&gt;</th><th scope=col>&lt;dbl&gt;</th><th scope=col>&lt;dbl&gt;</th><th scope=col>&lt;dbl&gt;</th><th scope=col>&lt;dbl&gt;</th><th scope=col>&lt;dbl&gt;</th><th scope=col>&lt;dbl&gt;</th><th scope=col>⋯</th><th scope=col>&lt;dbl&gt;</th><th scope=col>&lt;dbl&gt;</th><th scope=col>&lt;dbl&gt;</th><th scope=col>&lt;dbl&gt;</th><th scope=col>&lt;dbl&gt;</th><th scope=col>&lt;dbl&gt;</th><th scope=col>&lt;dbl&gt;</th><th scope=col>&lt;dbl&gt;</th><th scope=col>&lt;dbl&gt;</th><th scope=col>&lt;int&gt;</th></tr>\n",
       "</thead>\n",
       "<tbody>\n",
       "\t<tr><th scope=row>1</th><td>0.3333333</td><td>0.0</td><td>0</td><td>0</td><td>0</td><td>0</td><td>0</td><td>1</td><td>1</td><td>0</td><td>⋯</td><td>0</td><td>0</td><td>1</td><td>0</td><td>0</td><td>0</td><td>1</td><td>0.0000000</td><td>0</td><td>0</td></tr>\n",
       "\t<tr><th scope=row>2</th><td>1.0000000</td><td>1.0</td><td>0</td><td>1</td><td>0</td><td>1</td><td>0</td><td>1</td><td>1</td><td>0</td><td>⋯</td><td>0</td><td>1</td><td>0</td><td>0</td><td>1</td><td>0</td><td>0</td><td>0.0000000</td><td>0</td><td>0</td></tr>\n",
       "\t<tr><th scope=row>3</th><td>0.3333333</td><td>0.5</td><td>0</td><td>1</td><td>0</td><td>0</td><td>0</td><td>0</td><td>0</td><td>0</td><td>⋯</td><td>0</td><td>1</td><td>0</td><td>0</td><td>1</td><td>0</td><td>0</td><td>0.6666667</td><td>0</td><td>0</td></tr>\n",
       "\t<tr><th scope=row>4</th><td>0.3333333</td><td>0.5</td><td>0</td><td>1</td><td>0</td><td>1</td><td>1</td><td>0</td><td>0</td><td>0</td><td>⋯</td><td>0</td><td>0</td><td>1</td><td>0</td><td>0</td><td>1</td><td>0</td><td>0.0000000</td><td>0</td><td>0</td></tr>\n",
       "\t<tr><th scope=row>5</th><td>0.6666667</td><td>0.5</td><td>0</td><td>1</td><td>0</td><td>1</td><td>1</td><td>0</td><td>1</td><td>0</td><td>⋯</td><td>0</td><td>1</td><td>0</td><td>0</td><td>1</td><td>0</td><td>0</td><td>0.3333333</td><td>0</td><td>0</td></tr>\n",
       "\t<tr><th scope=row>6</th><td>1.0000000</td><td>0.5</td><td>0</td><td>1</td><td>0</td><td>1</td><td>0</td><td>0</td><td>1</td><td>0</td><td>⋯</td><td>0</td><td>1</td><td>0</td><td>0</td><td>0</td><td>1</td><td>0</td><td>0.6666667</td><td>1</td><td>0</td></tr>\n",
       "</tbody>\n",
       "</table>\n"
      ],
      "text/latex": [
       "A data.frame: 6 × 46\n",
       "\\begin{tabular}{r|lllllllllllllllllllll}\n",
       "  & h1n1\\_concern & h1n1\\_knowledge & behavioral\\_antiviral\\_meds & behavioral\\_avoidance & behavioral\\_face\\_mask & behavioral\\_wash\\_hands & behavioral\\_large\\_gatherings & behavioral\\_outside\\_home & behavioral\\_touch\\_face & doctor\\_recc\\_h1n1 & ⋯ & employment\\_not\\_specified & Employed & Not.in.Labor.Force & Unemployed & MSA..Not.Principle..City & MSA..Principle.City & Non.MSA & household\\_adults & household\\_children & h1n1\\_vaccine\\\\\n",
       "  & <dbl> & <dbl> & <dbl> & <dbl> & <dbl> & <dbl> & <dbl> & <dbl> & <dbl> & <dbl> & ⋯ & <dbl> & <dbl> & <dbl> & <dbl> & <dbl> & <dbl> & <dbl> & <dbl> & <dbl> & <int>\\\\\n",
       "\\hline\n",
       "\t1 & 0.3333333 & 0.0 & 0 & 0 & 0 & 0 & 0 & 1 & 1 & 0 & ⋯ & 0 & 0 & 1 & 0 & 0 & 0 & 1 & 0.0000000 & 0 & 0\\\\\n",
       "\t2 & 1.0000000 & 1.0 & 0 & 1 & 0 & 1 & 0 & 1 & 1 & 0 & ⋯ & 0 & 1 & 0 & 0 & 1 & 0 & 0 & 0.0000000 & 0 & 0\\\\\n",
       "\t3 & 0.3333333 & 0.5 & 0 & 1 & 0 & 0 & 0 & 0 & 0 & 0 & ⋯ & 0 & 1 & 0 & 0 & 1 & 0 & 0 & 0.6666667 & 0 & 0\\\\\n",
       "\t4 & 0.3333333 & 0.5 & 0 & 1 & 0 & 1 & 1 & 0 & 0 & 0 & ⋯ & 0 & 0 & 1 & 0 & 0 & 1 & 0 & 0.0000000 & 0 & 0\\\\\n",
       "\t5 & 0.6666667 & 0.5 & 0 & 1 & 0 & 1 & 1 & 0 & 1 & 0 & ⋯ & 0 & 1 & 0 & 0 & 1 & 0 & 0 & 0.3333333 & 0 & 0\\\\\n",
       "\t6 & 1.0000000 & 0.5 & 0 & 1 & 0 & 1 & 0 & 0 & 1 & 0 & ⋯ & 0 & 1 & 0 & 0 & 0 & 1 & 0 & 0.6666667 & 1 & 0\\\\\n",
       "\\end{tabular}\n"
      ],
      "text/markdown": [
       "\n",
       "A data.frame: 6 × 46\n",
       "\n",
       "| <!--/--> | h1n1_concern &lt;dbl&gt; | h1n1_knowledge &lt;dbl&gt; | behavioral_antiviral_meds &lt;dbl&gt; | behavioral_avoidance &lt;dbl&gt; | behavioral_face_mask &lt;dbl&gt; | behavioral_wash_hands &lt;dbl&gt; | behavioral_large_gatherings &lt;dbl&gt; | behavioral_outside_home &lt;dbl&gt; | behavioral_touch_face &lt;dbl&gt; | doctor_recc_h1n1 &lt;dbl&gt; | ⋯ ⋯ | employment_not_specified &lt;dbl&gt; | Employed &lt;dbl&gt; | Not.in.Labor.Force &lt;dbl&gt; | Unemployed &lt;dbl&gt; | MSA..Not.Principle..City &lt;dbl&gt; | MSA..Principle.City &lt;dbl&gt; | Non.MSA &lt;dbl&gt; | household_adults &lt;dbl&gt; | household_children &lt;dbl&gt; | h1n1_vaccine &lt;int&gt; |\n",
       "|---|---|---|---|---|---|---|---|---|---|---|---|---|---|---|---|---|---|---|---|---|---|\n",
       "| 1 | 0.3333333 | 0.0 | 0 | 0 | 0 | 0 | 0 | 1 | 1 | 0 | ⋯ | 0 | 0 | 1 | 0 | 0 | 0 | 1 | 0.0000000 | 0 | 0 |\n",
       "| 2 | 1.0000000 | 1.0 | 0 | 1 | 0 | 1 | 0 | 1 | 1 | 0 | ⋯ | 0 | 1 | 0 | 0 | 1 | 0 | 0 | 0.0000000 | 0 | 0 |\n",
       "| 3 | 0.3333333 | 0.5 | 0 | 1 | 0 | 0 | 0 | 0 | 0 | 0 | ⋯ | 0 | 1 | 0 | 0 | 1 | 0 | 0 | 0.6666667 | 0 | 0 |\n",
       "| 4 | 0.3333333 | 0.5 | 0 | 1 | 0 | 1 | 1 | 0 | 0 | 0 | ⋯ | 0 | 0 | 1 | 0 | 0 | 1 | 0 | 0.0000000 | 0 | 0 |\n",
       "| 5 | 0.6666667 | 0.5 | 0 | 1 | 0 | 1 | 1 | 0 | 1 | 0 | ⋯ | 0 | 1 | 0 | 0 | 1 | 0 | 0 | 0.3333333 | 0 | 0 |\n",
       "| 6 | 1.0000000 | 0.5 | 0 | 1 | 0 | 1 | 0 | 0 | 1 | 0 | ⋯ | 0 | 1 | 0 | 0 | 0 | 1 | 0 | 0.6666667 | 1 | 0 |\n",
       "\n"
      ],
      "text/plain": [
       "  h1n1_concern h1n1_knowledge behavioral_antiviral_meds behavioral_avoidance\n",
       "1 0.3333333    0.0            0                         0                   \n",
       "2 1.0000000    1.0            0                         1                   \n",
       "3 0.3333333    0.5            0                         1                   \n",
       "4 0.3333333    0.5            0                         1                   \n",
       "5 0.6666667    0.5            0                         1                   \n",
       "6 1.0000000    0.5            0                         1                   \n",
       "  behavioral_face_mask behavioral_wash_hands behavioral_large_gatherings\n",
       "1 0                    0                     0                          \n",
       "2 0                    1                     0                          \n",
       "3 0                    0                     0                          \n",
       "4 0                    1                     1                          \n",
       "5 0                    1                     1                          \n",
       "6 0                    1                     0                          \n",
       "  behavioral_outside_home behavioral_touch_face doctor_recc_h1n1 ⋯\n",
       "1 1                       1                     0                ⋯\n",
       "2 1                       1                     0                ⋯\n",
       "3 0                       0                     0                ⋯\n",
       "4 0                       0                     0                ⋯\n",
       "5 0                       1                     0                ⋯\n",
       "6 0                       1                     0                ⋯\n",
       "  employment_not_specified Employed Not.in.Labor.Force Unemployed\n",
       "1 0                        0        1                  0         \n",
       "2 0                        1        0                  0         \n",
       "3 0                        1        0                  0         \n",
       "4 0                        0        1                  0         \n",
       "5 0                        1        0                  0         \n",
       "6 0                        1        0                  0         \n",
       "  MSA..Not.Principle..City MSA..Principle.City Non.MSA household_adults\n",
       "1 0                        0                   1       0.0000000       \n",
       "2 1                        0                   0       0.0000000       \n",
       "3 1                        0                   0       0.6666667       \n",
       "4 0                        1                   0       0.0000000       \n",
       "5 1                        0                   0       0.3333333       \n",
       "6 0                        1                   0       0.6666667       \n",
       "  household_children h1n1_vaccine\n",
       "1 0                  0           \n",
       "2 0                  0           \n",
       "3 0                  0           \n",
       "4 0                  0           \n",
       "5 0                  0           \n",
       "6 1                  0           "
      ]
     },
     "metadata": {},
     "output_type": "display_data"
    }
   ],
   "source": [
    "spam <- data.frame(training_set_features[2:length(training_set_features)], training_set_labels[2]) \n",
    "head(spam)"
   ]
  },
  {
   "cell_type": "code",
   "execution_count": 39,
   "metadata": {
    "scrolled": true,
    "vscode": {
     "languageId": "r"
    }
   },
   "outputs": [
    {
     "data": {
      "text/html": [
       "'h1n1_vaccine'"
      ],
      "text/latex": [
       "'h1n1\\_vaccine'"
      ],
      "text/markdown": [
       "'h1n1_vaccine'"
      ],
      "text/plain": [
       "[1] \"h1n1_vaccine\""
      ]
     },
     "metadata": {},
     "output_type": "display_data"
    },
    {
     "data": {
      "text/html": [
       "'seasonal_vaccine'"
      ],
      "text/latex": [
       "'seasonal\\_vaccine'"
      ],
      "text/markdown": [
       "'seasonal_vaccine'"
      ],
      "text/plain": [
       "[1] \"seasonal_vaccine\""
      ]
     },
     "metadata": {},
     "output_type": "display_data"
    },
    {
     "data": {
      "text/html": [
       "<table class=\"dataframe\">\n",
       "<caption>A data.frame: 6 × 3</caption>\n",
       "<thead>\n",
       "\t<tr><th></th><th scope=col>respondent_id</th><th scope=col>h1n1_vaccine</th><th scope=col>seasonal_vaccine</th></tr>\n",
       "\t<tr><th></th><th scope=col>&lt;int&gt;</th><th scope=col>&lt;dbl&gt;</th><th scope=col>&lt;dbl&gt;</th></tr>\n",
       "</thead>\n",
       "<tbody>\n",
       "\t<tr><th scope=row>1</th><td>26707</td><td>0.1304593</td><td>0.2355578</td></tr>\n",
       "\t<tr><th scope=row>2</th><td>26708</td><td>0.1304593</td><td>0.2355578</td></tr>\n",
       "\t<tr><th scope=row>3</th><td>26709</td><td>0.1304593</td><td>0.7907054</td></tr>\n",
       "\t<tr><th scope=row>4</th><td>26710</td><td>0.3323171</td><td>0.6912955</td></tr>\n",
       "\t<tr><th scope=row>5</th><td>26711</td><td>0.1304593</td><td>0.2925170</td></tr>\n",
       "\t<tr><th scope=row>6</th><td>26712</td><td>0.1304593</td><td>0.7907054</td></tr>\n",
       "</tbody>\n",
       "</table>\n"
      ],
      "text/latex": [
       "A data.frame: 6 × 3\n",
       "\\begin{tabular}{r|lll}\n",
       "  & respondent\\_id & h1n1\\_vaccine & seasonal\\_vaccine\\\\\n",
       "  & <int> & <dbl> & <dbl>\\\\\n",
       "\\hline\n",
       "\t1 & 26707 & 0.1304593 & 0.2355578\\\\\n",
       "\t2 & 26708 & 0.1304593 & 0.2355578\\\\\n",
       "\t3 & 26709 & 0.1304593 & 0.7907054\\\\\n",
       "\t4 & 26710 & 0.3323171 & 0.6912955\\\\\n",
       "\t5 & 26711 & 0.1304593 & 0.2925170\\\\\n",
       "\t6 & 26712 & 0.1304593 & 0.7907054\\\\\n",
       "\\end{tabular}\n"
      ],
      "text/markdown": [
       "\n",
       "A data.frame: 6 × 3\n",
       "\n",
       "| <!--/--> | respondent_id &lt;int&gt; | h1n1_vaccine &lt;dbl&gt; | seasonal_vaccine &lt;dbl&gt; |\n",
       "|---|---|---|---|\n",
       "| 1 | 26707 | 0.1304593 | 0.2355578 |\n",
       "| 2 | 26708 | 0.1304593 | 0.2355578 |\n",
       "| 3 | 26709 | 0.1304593 | 0.7907054 |\n",
       "| 4 | 26710 | 0.3323171 | 0.6912955 |\n",
       "| 5 | 26711 | 0.1304593 | 0.2925170 |\n",
       "| 6 | 26712 | 0.1304593 | 0.7907054 |\n",
       "\n"
      ],
      "text/plain": [
       "  respondent_id h1n1_vaccine seasonal_vaccine\n",
       "1 26707         0.1304593    0.2355578       \n",
       "2 26708         0.1304593    0.2355578       \n",
       "3 26709         0.1304593    0.7907054       \n",
       "4 26710         0.3323171    0.6912955       \n",
       "5 26711         0.1304593    0.2925170       \n",
       "6 26712         0.1304593    0.7907054       "
      ]
     },
     "metadata": {},
     "output_type": "display_data"
    }
   ],
   "source": [
    "library(rpart)\n",
    "spam <- data.frame(training_set_features[2:length(training_set_features)], training_set_labels[2])\n",
    "spam_idx <- sample(1:nrow(spam))\n",
    "half_split <- floor(nrow(spam)/2)\n",
    "target_variable <- ncol(spam)\n",
    "type <- names(spam)[length(spam)]\n",
    "type\n",
    "\n",
    "train_data <- spam[spam_idx[1:half_split],]\n",
    "test_data <- spam[spam_idx[(half_split+1):nrow(spam)],]\n",
    "\n",
    "model <- rpart(form=h1n1_vaccine ~ ., method=\"class\", data=train_data)\n",
    "\n",
    "Y_pred <- predict(model,test_set_features)\n",
    "submission_format[2] <- Y_pred[,2]\n",
    "\n",
    "spam <- data.frame(training_set_features[2:length(training_set_features)], training_set_labels[3])\n",
    "spam_idx <- sample(1:nrow(spam))\n",
    "half_split <- floor(nrow(spam)/2)\n",
    "target_variable <- ncol(spam)\n",
    "type <- names(spam)[length(spam)]\n",
    "type\n",
    "\n",
    "train_data <- spam[spam_idx[1:half_split],]\n",
    "test_data <- spam[spam_idx[(half_split+1):nrow(spam)],]\n",
    "\n",
    "model <- rpart(form=seasonal_vaccine ~ ., method=\"class\", data=train_data)\n",
    "Y_pred <- predict(model,test_set_features)\n",
    "submission_format[3] <- Y_pred[,2]\n",
    "head(submission_format)\n",
    "\n",
    "write.csv(submission_format,\"sample_data/answers.csv\", row.names = FALSE, quote=FALSE)\n"
   ]
  },
  {
   "cell_type": "markdown",
   "metadata": {},
   "source": [
    "## Model 2.bis <a class=\"anchor\" id=\"Model_2_1_Boosted_Decision_Tree\"></a>"
   ]
  },
  {
   "cell_type": "code",
   "execution_count": 40,
   "metadata": {
    "vscode": {
     "languageId": "r"
    }
   },
   "outputs": [],
   "source": [
    "training_set_labels <- read.csv(\"sample_data/training_set_labels.csv\", stringsAsFactors  = T)\n",
    "spam_bis <- data.frame(training_set_features[2:length(training_set_features)], training_set_labels[3])\n",
    "# spam_bis$h1n1_vaccine\n"
   ]
  },
  {
   "cell_type": "code",
   "execution_count": 57,
   "metadata": {
    "vscode": {
     "languageId": "r"
    }
   },
   "outputs": [
    {
     "name": "stdout",
     "output_type": "stream",
     "text": [
      "[1] \"[INFO] - Training set size: 13353 - Testing set size 13354\"\n"
     ]
    },
    {
     "name": "stderr",
     "output_type": "stream",
     "text": [
      "Warning message in Y_pred_boosting + alpha_vec[j] * predict(tree_model, test_data):\n",
      "“longer object length is not a multiple of shorter object length”\n"
     ]
    },
    {
     "name": "stdout",
     "output_type": "stream",
     "text": [
      "[1] \"[INFO] - Training set size: 13353 - Testing set size 13354\"\n",
      "[1] \"[INFO] - Training set size: 13353 - Testing set size 13354\"\n",
      "[1] \"[INFO] - Training set size: 13353 - Testing set size 13354\"\n",
      "[1] \"[INFO] - Training set size: 13353 - Testing set size 13354\"\n",
      "[1] \"[INFO] - Training set size: 13353 - Testing set size 13354\"\n",
      "[1] \"[INFO] - Training set size: 13353 - Testing set size 13354\"\n",
      "[1] \"[INFO] - Training set size: 13353 - Testing set size 13354\"\n",
      "[1] \"[INFO] - Training set size: 13353 - Testing set size 13354\"\n",
      "[1] \"[INFO] - Training set size: 13353 - Testing set size 13354\"\n",
      "[1] \"[INFO] - Training set size: 13353 - Testing set size 13354\"\n",
      "[1] \"[INFO] - Training set size: 13353 - Testing set size 13354\"\n",
      "[1] \"[INFO] - Training set size: 13353 - Testing set size 13354\"\n",
      "[1] \"[INFO] - Training set size: 13353 - Testing set size 13354\"\n",
      "[1] \"[INFO] - Training set size: 13353 - Testing set size 13354\"\n",
      "[1] \"[INFO] - Misclassification rate - Single tree: 0.204882432230043\"\n",
      "[1] \"[INFO] - Misclassification rate - Boosted tree: 0.211996405571364\"\n"
     ]
    }
   ],
   "source": [
    "training_set_labels <- read.csv(\"sample_data/training_set_labels.csv\", stringsAsFactors  = T)\n",
    "\n",
    "training_set_features <- read.csv(\"sample_data/training_set_features.csv\", stringsAsFactors  = T)\n",
    "test_set_features <- read.csv(\"sample_data/test_set_features.csv\", stringsAsFactors  = T)\n",
    "# training_set_features <- data_sorting(training_set_features)\n",
    "training_set_features <- cleanData(training_set_features)\n",
    "training_set_features <- transform_na(training_set_features, 33)\n",
    "training_set_features <- transform_na(training_set_features, 34)\n",
    "test_set_features <- cleanData(test_set_features)\n",
    "test_set_features <- transform_na(test_set_features, 33)\n",
    "test_set_features <- transform_na(test_set_features, 34)\n",
    "# training_set_features <- subset(training_set_features, select = -35)\n",
    "# training_set_features <- subset(training_set_features, select = -35)\n",
    "\n",
    "spam_bis <- data.frame(training_set_features[2:length(training_set_features)], training_set_labels[2])\n",
    "library(tree)\n",
    "# library(rpart)\n",
    "\n",
    "\n",
    "\n",
    "# Parameters of the algorithm\n",
    "n_trees <- 15\n",
    "N <- nrow(spam_bis)\n",
    "\n",
    "\n",
    "alpha_vec <- array(NA,n_trees)\n",
    "misclassification_vec <- array(NA,n_trees)\n",
    "\n",
    "\n",
    "# Rescaling target variable\n",
    "# data(spam_bis)\n",
    "spam_bis$h1n1_vaccine <- ifelse(spam_bis$h1n1_vaccine == 1,-1,1) # Data in {-1,+1}\n",
    "# spam_bis$h1n1_vaccine\n",
    "target_variable <- ncol(spam_bis)\n",
    "\n",
    "\n",
    "# 50/50 data split\n",
    "spam_idx <- sample(1:N)\n",
    "half_split <- floor(N/2)\n",
    "train_data <- spam_bis[spam_idx[1:half_split],]\n",
    "test_data <- spam_bis[spam_idx[(half_split+1):nrow(spam_bis)],]\n",
    "\n",
    "\n",
    "# Prediction - Single tree\n",
    "tree_model <-tree(h1n1_vaccine ~ ., train_data,\n",
    "                  control=tree.control(half_split,mincut=20))\n",
    "\n",
    "# tree_model <-rpart(h1n1_vaccine ~ ., train_data,\n",
    "#                   control=rpart.control(half_split,mincut=10))\n",
    "\n",
    "Y_pred_tree <- sign(predict(tree_model,test_data))\n",
    "\n",
    "# Boosting\n",
    "Y_pred_boosting <- rep(0,length(test_data))\n",
    "w <- array(1/half_split,half_split)\n",
    "# set.seed(555)\n",
    "\n",
    "# For each boosting iteration\n",
    "for(j in 1:n_trees){\n",
    "    \n",
    "    #1. Sample from the training set\n",
    "    selected_samples <- sample(1:half_split,1,replace=TRUE,prob=w)\n",
    "    print(paste(\"[INFO] - Training set size:\",dim(train_data)[1],\"- Testing set size\",dim(test_data)[1]))\n",
    "    \n",
    "    #2. Fit a model on the training set and evaluate it on the training set\n",
    "     tree_model <-tree(h1n1_vaccine ~ ., train_data[selected_samples,],\n",
    "                  control=tree.control(half_split,mincut=20))\n",
    "#     tree_model <-rpart(h1n1_vaccine ~ ., train_data[selected_samples,],\n",
    "#                   control=rpart.control(half_split,mincut=10))\n",
    "    Y_pred_train <- sign(predict(tree_model,train_data))\n",
    "    #3. Compute misclassification on training set\n",
    "    misclassification_vec[j] <- sum(w*as.double(train_data$h1n1_vaccine != sign(Y_pred_train)))/sum(w)\n",
    "#     cat(\"Checking the missclassification value : \",misclassification_vec[j], \" At the run : \", j, \"\\n\")\n",
    "    \n",
    "    #4. Computation of alpha and updating of resampling weight\n",
    "    alpha_vec[j] <- log((1-misclassification_vec[j])/misclassification_vec[j])  \n",
    "    w <- w * exp(alpha_vec[j]*as.integer(train_data$h1n1_vaccine != sign(Y_pred_train)))\n",
    "#     cat(\"Checking if there is an NA in w : \", mean(w), \" At the run : \", j, \"\\n\")\n",
    "    \n",
    "    \n",
    "    #5. Normalize the weights in order to represent a true distribution\n",
    "    \n",
    "    w <- w/sum(w)\n",
    "\n",
    "    \n",
    "    #6. Compute the predictions on the testing set and weight them by alpha\n",
    "    Y_pred_boosting<-Y_pred_boosting+alpha_vec[j]*predict(tree_model,test_data)\n",
    "\n",
    "\n",
    "}\n",
    "\n",
    "# Misclassification error comparation\n",
    "misclassification_error_base <- sum(as.numeric(test_data$h1n1_vaccine != sign(Y_pred_tree)))/length(Y_pred_tree)\n",
    "misclassification_error_boosting <- sum(as.numeric(test_data$h1n1_vaccine != sign(Y_pred_boosting)))/length(Y_pred_boosting)\n",
    "\n",
    "print(paste(\"[INFO] - Misclassification rate - Single tree:\",misclassification_error_base))\n",
    "print(paste(\"[INFO] - Misclassification rate - Boosted tree:\",misclassification_error_boosting))\n"
   ]
  },
  {
   "cell_type": "markdown",
   "metadata": {},
   "source": [
    "\n",
    "## Model 3 <a class=\"anchor\" id=\"Model_3_Random_Forest\"></a>\n"
   ]
  },
  {
   "cell_type": "code",
   "execution_count": 42,
   "metadata": {
    "vscode": {
     "languageId": "r"
    }
   },
   "outputs": [
    {
     "name": "stderr",
     "output_type": "stream",
     "text": [
      "Installing package into ‘/home/seb/R/x86_64-pc-linux-gnu-library/4.2’\n",
      "(as ‘lib’ is unspecified)\n",
      "\n"
     ]
    }
   ],
   "source": [
    "install.packages(\"randomForest\")"
   ]
  },
  {
   "cell_type": "code",
   "execution_count": 45,
   "metadata": {
    "vscode": {
     "languageId": "r"
    }
   },
   "outputs": [
    {
     "data": {
      "image/png": "[encoded data removed]",
      "text/plain": [
       "Plot with title “Number of trees influence”"
      ]
     },
     "metadata": {
      "image/png": {
       "height": 600,
       "width": 1200
      }
     },
     "output_type": "display_data"
    }
   ],
   "source": [
    "library(\"randomForest\")\n",
    "spam <- data.frame(training_set_features[2:length(training_set_features)], training_set_labels[3]) \n",
    "n_trees <- 10\n",
    "accuracy_vec <- array(0,n_trees)\n",
    "\n",
    "spam_idx <- sample(1:nrow(spam))\n",
    "half_split <- floor(nrow(spam)/2)\n",
    "target_variable <- ncol(spam)\n",
    "\n",
    "for (i in 1:n_trees){ #print(i)\n",
    "    #3.1 Take the first half of the dataset as a training data set\n",
    "    train_data <- spam[spam_idx[1:half_split],]\n",
    "\n",
    "    #3.2 Take the second half of the dataset as a hold out or test data set\n",
    "    test_data <- spam[spam_idx[(half_split+1):nrow(spam)],]\n",
    "    \n",
    "    model <- randomForest(x=train_data[,-c(target_variable)],\n",
    "                          y=as.factor(train_data[,c(target_variable)]),\n",
    "                          xtest=test_data[,-c(target_variable)],\n",
    "                          ytest=as.factor(test_data[,c(target_variable)]),\n",
    "                          ntree=i*10)\n",
    "    \n",
    "    accuracy_vec[i] = (model$test$confusion[1,1]+model$test$confusion[2,2])/sum(model$test$confusion)\n",
    "    }\n",
    "plot(accuracy_vec,main = \"Number of trees influence\",xlab = \"Nbr of trees\",ylab = \"Classification rate\")"
   ]
  },
  {
   "cell_type": "code",
   "execution_count": null,
   "metadata": {
    "vscode": {
     "languageId": "r"
    }
   },
   "outputs": [],
   "source": [
    " ?numeric()"
   ]
  },
  {
   "cell_type": "code",
   "execution_count": null,
   "metadata": {
    "vscode": {
     "languageId": "r"
    }
   },
   "outputs": [
    {
     "name": "stderr",
     "output_type": "stream",
     "text": [
      "Installing package into ‘/home/seb/R/x86_64-pc-linux-gnu-library/4.2’\n",
      "(as ‘lib’ is unspecified)\n",
      "\n"
     ]
    }
   ],
   "source": [
    "install.packages(\"randomForest\")"
   ]
  },
  {
   "cell_type": "code",
   "execution_count": 59,
   "metadata": {
    "vscode": {
     "languageId": "r"
    }
   },
   "outputs": [
    {
     "data": {
      "text/html": [
       "<table class=\"dataframe\">\n",
       "<caption>A data.frame: 6 × 36</caption>\n",
       "<thead>\n",
       "\t<tr><th></th><th scope=col>h1n1_concern</th><th scope=col>h1n1_knowledge</th><th scope=col>behavioral_antiviral_meds</th><th scope=col>behavioral_avoidance</th><th scope=col>behavioral_face_mask</th><th scope=col>behavioral_wash_hands</th><th scope=col>behavioral_large_gatherings</th><th scope=col>behavioral_outside_home</th><th scope=col>behavioral_touch_face</th><th scope=col>doctor_recc_h1n1</th><th scope=col>⋯</th><th scope=col>marital_status</th><th scope=col>rent_or_own</th><th scope=col>employment_status</th><th scope=col>hhs_geo_region</th><th scope=col>census_msa</th><th scope=col>household_adults</th><th scope=col>household_children</th><th scope=col>employment_industry</th><th scope=col>employment_occupation</th><th scope=col>h1n1_vaccine</th></tr>\n",
       "\t<tr><th></th><th scope=col>&lt;dbl&gt;</th><th scope=col>&lt;dbl&gt;</th><th scope=col>&lt;dbl&gt;</th><th scope=col>&lt;dbl&gt;</th><th scope=col>&lt;dbl&gt;</th><th scope=col>&lt;dbl&gt;</th><th scope=col>&lt;dbl&gt;</th><th scope=col>&lt;dbl&gt;</th><th scope=col>&lt;dbl&gt;</th><th scope=col>&lt;dbl&gt;</th><th scope=col>⋯</th><th scope=col>&lt;fct&gt;</th><th scope=col>&lt;fct&gt;</th><th scope=col>&lt;fct&gt;</th><th scope=col>&lt;fct&gt;</th><th scope=col>&lt;fct&gt;</th><th scope=col>&lt;dbl&gt;</th><th scope=col>&lt;dbl&gt;</th><th scope=col>&lt;fct&gt;</th><th scope=col>&lt;fct&gt;</th><th scope=col>&lt;int&gt;</th></tr>\n",
       "</thead>\n",
       "<tbody>\n",
       "\t<tr><th scope=row>1</th><td>1</td><td>0</td><td>0</td><td>0</td><td>0</td><td>0</td><td>0</td><td>1</td><td>1</td><td>0</td><td>⋯</td><td>Not Married</td><td>Own </td><td>Not in Labor Force</td><td>oxchjgsf</td><td>Non-MSA                 </td><td>0</td><td>0</td><td>        </td><td>        </td><td>0</td></tr>\n",
       "\t<tr><th scope=row>2</th><td>3</td><td>2</td><td>0</td><td>1</td><td>0</td><td>1</td><td>0</td><td>1</td><td>1</td><td>0</td><td>⋯</td><td>Not Married</td><td>Rent</td><td>Employed          </td><td>bhuqouqj</td><td>MSA, Not Principle  City</td><td>0</td><td>0</td><td>pxcmvdjn</td><td>xgwztkwe</td><td>0</td></tr>\n",
       "\t<tr><th scope=row>3</th><td>1</td><td>1</td><td>0</td><td>1</td><td>0</td><td>0</td><td>0</td><td>0</td><td>0</td><td>0</td><td>⋯</td><td>Not Married</td><td>Own </td><td>Employed          </td><td>qufhixun</td><td>MSA, Not Principle  City</td><td>2</td><td>0</td><td>rucpziij</td><td>xtkaffoo</td><td>0</td></tr>\n",
       "\t<tr><th scope=row>4</th><td>1</td><td>1</td><td>0</td><td>1</td><td>0</td><td>1</td><td>1</td><td>0</td><td>0</td><td>0</td><td>⋯</td><td>Not Married</td><td>Rent</td><td>Not in Labor Force</td><td>lrircsnp</td><td>MSA, Principle City     </td><td>0</td><td>0</td><td>        </td><td>        </td><td>0</td></tr>\n",
       "\t<tr><th scope=row>5</th><td>2</td><td>1</td><td>0</td><td>1</td><td>0</td><td>1</td><td>1</td><td>0</td><td>1</td><td>0</td><td>⋯</td><td>Married    </td><td>Own </td><td>Employed          </td><td>qufhixun</td><td>MSA, Not Principle  City</td><td>1</td><td>0</td><td>wxleyezf</td><td>emcorrxb</td><td>0</td></tr>\n",
       "\t<tr><th scope=row>6</th><td>3</td><td>1</td><td>0</td><td>1</td><td>0</td><td>1</td><td>0</td><td>0</td><td>1</td><td>0</td><td>⋯</td><td>Married    </td><td>Own </td><td>Employed          </td><td>atmpeygn</td><td>MSA, Principle City     </td><td>2</td><td>3</td><td>saaquncn</td><td>vlluhbov</td><td>0</td></tr>\n",
       "</tbody>\n",
       "</table>\n"
      ],
      "text/latex": [
       "A data.frame: 6 × 36\n",
       "\\begin{tabular}{r|lllllllllllllllllllll}\n",
       "  & h1n1\\_concern & h1n1\\_knowledge & behavioral\\_antiviral\\_meds & behavioral\\_avoidance & behavioral\\_face\\_mask & behavioral\\_wash\\_hands & behavioral\\_large\\_gatherings & behavioral\\_outside\\_home & behavioral\\_touch\\_face & doctor\\_recc\\_h1n1 & ⋯ & marital\\_status & rent\\_or\\_own & employment\\_status & hhs\\_geo\\_region & census\\_msa & household\\_adults & household\\_children & employment\\_industry & employment\\_occupation & h1n1\\_vaccine\\\\\n",
       "  & <dbl> & <dbl> & <dbl> & <dbl> & <dbl> & <dbl> & <dbl> & <dbl> & <dbl> & <dbl> & ⋯ & <fct> & <fct> & <fct> & <fct> & <fct> & <dbl> & <dbl> & <fct> & <fct> & <int>\\\\\n",
       "\\hline\n",
       "\t1 & 1 & 0 & 0 & 0 & 0 & 0 & 0 & 1 & 1 & 0 & ⋯ & Not Married & Own  & Not in Labor Force & oxchjgsf & Non-MSA                  & 0 & 0 &          &          & 0\\\\\n",
       "\t2 & 3 & 2 & 0 & 1 & 0 & 1 & 0 & 1 & 1 & 0 & ⋯ & Not Married & Rent & Employed           & bhuqouqj & MSA, Not Principle  City & 0 & 0 & pxcmvdjn & xgwztkwe & 0\\\\\n",
       "\t3 & 1 & 1 & 0 & 1 & 0 & 0 & 0 & 0 & 0 & 0 & ⋯ & Not Married & Own  & Employed           & qufhixun & MSA, Not Principle  City & 2 & 0 & rucpziij & xtkaffoo & 0\\\\\n",
       "\t4 & 1 & 1 & 0 & 1 & 0 & 1 & 1 & 0 & 0 & 0 & ⋯ & Not Married & Rent & Not in Labor Force & lrircsnp & MSA, Principle City      & 0 & 0 &          &          & 0\\\\\n",
       "\t5 & 2 & 1 & 0 & 1 & 0 & 1 & 1 & 0 & 1 & 0 & ⋯ & Married     & Own  & Employed           & qufhixun & MSA, Not Principle  City & 1 & 0 & wxleyezf & emcorrxb & 0\\\\\n",
       "\t6 & 3 & 1 & 0 & 1 & 0 & 1 & 0 & 0 & 1 & 0 & ⋯ & Married     & Own  & Employed           & atmpeygn & MSA, Principle City      & 2 & 3 & saaquncn & vlluhbov & 0\\\\\n",
       "\\end{tabular}\n"
      ],
      "text/markdown": [
       "\n",
       "A data.frame: 6 × 36\n",
       "\n",
       "| <!--/--> | h1n1_concern &lt;dbl&gt; | h1n1_knowledge &lt;dbl&gt; | behavioral_antiviral_meds &lt;dbl&gt; | behavioral_avoidance &lt;dbl&gt; | behavioral_face_mask &lt;dbl&gt; | behavioral_wash_hands &lt;dbl&gt; | behavioral_large_gatherings &lt;dbl&gt; | behavioral_outside_home &lt;dbl&gt; | behavioral_touch_face &lt;dbl&gt; | doctor_recc_h1n1 &lt;dbl&gt; | ⋯ ⋯ | marital_status &lt;fct&gt; | rent_or_own &lt;fct&gt; | employment_status &lt;fct&gt; | hhs_geo_region &lt;fct&gt; | census_msa &lt;fct&gt; | household_adults &lt;dbl&gt; | household_children &lt;dbl&gt; | employment_industry &lt;fct&gt; | employment_occupation &lt;fct&gt; | h1n1_vaccine &lt;int&gt; |\n",
       "|---|---|---|---|---|---|---|---|---|---|---|---|---|---|---|---|---|---|---|---|---|---|\n",
       "| 1 | 1 | 0 | 0 | 0 | 0 | 0 | 0 | 1 | 1 | 0 | ⋯ | Not Married | Own  | Not in Labor Force | oxchjgsf | Non-MSA                  | 0 | 0 | <!----> | <!----> | 0 |\n",
       "| 2 | 3 | 2 | 0 | 1 | 0 | 1 | 0 | 1 | 1 | 0 | ⋯ | Not Married | Rent | Employed           | bhuqouqj | MSA, Not Principle  City | 0 | 0 | pxcmvdjn | xgwztkwe | 0 |\n",
       "| 3 | 1 | 1 | 0 | 1 | 0 | 0 | 0 | 0 | 0 | 0 | ⋯ | Not Married | Own  | Employed           | qufhixun | MSA, Not Principle  City | 2 | 0 | rucpziij | xtkaffoo | 0 |\n",
       "| 4 | 1 | 1 | 0 | 1 | 0 | 1 | 1 | 0 | 0 | 0 | ⋯ | Not Married | Rent | Not in Labor Force | lrircsnp | MSA, Principle City      | 0 | 0 | <!----> | <!----> | 0 |\n",
       "| 5 | 2 | 1 | 0 | 1 | 0 | 1 | 1 | 0 | 1 | 0 | ⋯ | Married     | Own  | Employed           | qufhixun | MSA, Not Principle  City | 1 | 0 | wxleyezf | emcorrxb | 0 |\n",
       "| 6 | 3 | 1 | 0 | 1 | 0 | 1 | 0 | 0 | 1 | 0 | ⋯ | Married     | Own  | Employed           | atmpeygn | MSA, Principle City      | 2 | 3 | saaquncn | vlluhbov | 0 |\n",
       "\n"
      ],
      "text/plain": [
       "  h1n1_concern h1n1_knowledge behavioral_antiviral_meds behavioral_avoidance\n",
       "1 1            0              0                         0                   \n",
       "2 3            2              0                         1                   \n",
       "3 1            1              0                         1                   \n",
       "4 1            1              0                         1                   \n",
       "5 2            1              0                         1                   \n",
       "6 3            1              0                         1                   \n",
       "  behavioral_face_mask behavioral_wash_hands behavioral_large_gatherings\n",
       "1 0                    0                     0                          \n",
       "2 0                    1                     0                          \n",
       "3 0                    0                     0                          \n",
       "4 0                    1                     1                          \n",
       "5 0                    1                     1                          \n",
       "6 0                    1                     0                          \n",
       "  behavioral_outside_home behavioral_touch_face doctor_recc_h1n1 ⋯\n",
       "1 1                       1                     0                ⋯\n",
       "2 1                       1                     0                ⋯\n",
       "3 0                       0                     0                ⋯\n",
       "4 0                       0                     0                ⋯\n",
       "5 0                       1                     0                ⋯\n",
       "6 0                       1                     0                ⋯\n",
       "  marital_status rent_or_own employment_status  hhs_geo_region\n",
       "1 Not Married    Own         Not in Labor Force oxchjgsf      \n",
       "2 Not Married    Rent        Employed           bhuqouqj      \n",
       "3 Not Married    Own         Employed           qufhixun      \n",
       "4 Not Married    Rent        Not in Labor Force lrircsnp      \n",
       "5 Married        Own         Employed           qufhixun      \n",
       "6 Married        Own         Employed           atmpeygn      \n",
       "  census_msa               household_adults household_children\n",
       "1 Non-MSA                  0                0                 \n",
       "2 MSA, Not Principle  City 0                0                 \n",
       "3 MSA, Not Principle  City 2                0                 \n",
       "4 MSA, Principle City      0                0                 \n",
       "5 MSA, Not Principle  City 1                0                 \n",
       "6 MSA, Principle City      2                3                 \n",
       "  employment_industry employment_occupation h1n1_vaccine\n",
       "1                                           0           \n",
       "2 pxcmvdjn            xgwztkwe              0           \n",
       "3 rucpziij            xtkaffoo              0           \n",
       "4                                           0           \n",
       "5 wxleyezf            emcorrxb              0           \n",
       "6 saaquncn            vlluhbov              0           "
      ]
     },
     "metadata": {},
     "output_type": "display_data"
    },
    {
     "data": {
      "text/html": [
       "<table class=\"dataframe\">\n",
       "<caption>A data.frame: 6 × 36</caption>\n",
       "<thead>\n",
       "\t<tr><th></th><th scope=col>respondent_id</th><th scope=col>h1n1_concern</th><th scope=col>h1n1_knowledge</th><th scope=col>behavioral_antiviral_meds</th><th scope=col>behavioral_avoidance</th><th scope=col>behavioral_face_mask</th><th scope=col>behavioral_wash_hands</th><th scope=col>behavioral_large_gatherings</th><th scope=col>behavioral_outside_home</th><th scope=col>behavioral_touch_face</th><th scope=col>⋯</th><th scope=col>income_poverty</th><th scope=col>marital_status</th><th scope=col>rent_or_own</th><th scope=col>employment_status</th><th scope=col>hhs_geo_region</th><th scope=col>census_msa</th><th scope=col>household_adults</th><th scope=col>household_children</th><th scope=col>employment_industry</th><th scope=col>employment_occupation</th></tr>\n",
       "\t<tr><th></th><th scope=col>&lt;int&gt;</th><th scope=col>&lt;dbl&gt;</th><th scope=col>&lt;dbl&gt;</th><th scope=col>&lt;dbl&gt;</th><th scope=col>&lt;dbl&gt;</th><th scope=col>&lt;dbl&gt;</th><th scope=col>&lt;dbl&gt;</th><th scope=col>&lt;dbl&gt;</th><th scope=col>&lt;dbl&gt;</th><th scope=col>&lt;dbl&gt;</th><th scope=col>⋯</th><th scope=col>&lt;fct&gt;</th><th scope=col>&lt;fct&gt;</th><th scope=col>&lt;fct&gt;</th><th scope=col>&lt;fct&gt;</th><th scope=col>&lt;fct&gt;</th><th scope=col>&lt;fct&gt;</th><th scope=col>&lt;dbl&gt;</th><th scope=col>&lt;dbl&gt;</th><th scope=col>&lt;fct&gt;</th><th scope=col>&lt;fct&gt;</th></tr>\n",
       "</thead>\n",
       "<tbody>\n",
       "\t<tr><th scope=row>1</th><td>26707</td><td>2</td><td>2</td><td>0</td><td>1</td><td>0</td><td>1</td><td>1</td><td>0</td><td>1</td><td>⋯</td><td><span style=white-space:pre-wrap>&gt; $75,000                </span></td><td>Not Married</td><td>Rent</td><td><span style=white-space:pre-wrap>Employed          </span></td><td>mlyzmhmf</td><td><span style=white-space:pre-wrap>MSA, Not Principle  City</span></td><td>1</td><td>0</td><td>atmlpfrs</td><td>hfxkjkmi</td></tr>\n",
       "\t<tr><th scope=row>2</th><td>26708</td><td>1</td><td>1</td><td>0</td><td>0</td><td>0</td><td>0</td><td>0</td><td>0</td><td>0</td><td>⋯</td><td>Below Poverty            </td><td>Not Married</td><td>Rent</td><td>Employed          </td><td>bhuqouqj</td><td>Non-MSA                 </td><td>3</td><td>0</td><td>atmlpfrs</td><td>xqwwgdyp</td></tr>\n",
       "\t<tr><th scope=row>3</th><td>26709</td><td>2</td><td>2</td><td>0</td><td>0</td><td>1</td><td>1</td><td>1</td><td>1</td><td>1</td><td>⋯</td><td><span style=white-space:pre-wrap>&gt; $75,000                </span></td><td><span style=white-space:pre-wrap>Married    </span></td><td>Own </td><td><span style=white-space:pre-wrap>Employed          </span></td><td>lrircsnp</td><td><span style=white-space:pre-wrap>Non-MSA                 </span></td><td>1</td><td>0</td><td>nduyfdeo</td><td>pvmttkik</td></tr>\n",
       "\t<tr><th scope=row>4</th><td>26710</td><td>1</td><td>1</td><td>0</td><td>0</td><td>0</td><td>0</td><td>0</td><td>0</td><td>0</td><td>⋯</td><td>&lt;= $75,000, Above Poverty</td><td><span style=white-space:pre-wrap>Married    </span></td><td>Own </td><td>Not in Labor Force</td><td>lrircsnp</td><td><span style=white-space:pre-wrap>MSA, Not Principle  City</span></td><td>1</td><td>0</td><td><span style=white-space:pre-wrap>        </span></td><td><span style=white-space:pre-wrap>        </span></td></tr>\n",
       "\t<tr><th scope=row>5</th><td>26711</td><td>3</td><td>1</td><td>1</td><td>1</td><td>0</td><td>1</td><td>1</td><td>1</td><td>1</td><td>⋯</td><td>&lt;= $75,000, Above Poverty</td><td>Not Married</td><td>Own </td><td><span style=white-space:pre-wrap>Employed          </span></td><td>lzgpxyit</td><td><span style=white-space:pre-wrap>Non-MSA                 </span></td><td>0</td><td>1</td><td>fcxhlnwr</td><td>mxkfnird</td></tr>\n",
       "\t<tr><th scope=row>6</th><td>26712</td><td>2</td><td>2</td><td>0</td><td>1</td><td>0</td><td>1</td><td>1</td><td>0</td><td>1</td><td>⋯</td><td><span style=white-space:pre-wrap>&gt; $75,000                </span></td><td>Not Married</td><td>Own </td><td><span style=white-space:pre-wrap>Employed          </span></td><td>mlyzmhmf</td><td><span style=white-space:pre-wrap>MSA, Principle City     </span></td><td>0</td><td>2</td><td>fcxhlnwr</td><td>cmhcxjea</td></tr>\n",
       "</tbody>\n",
       "</table>\n"
      ],
      "text/latex": [
       "A data.frame: 6 × 36\n",
       "\\begin{tabular}{r|lllllllllllllllllllll}\n",
       "  & respondent\\_id & h1n1\\_concern & h1n1\\_knowledge & behavioral\\_antiviral\\_meds & behavioral\\_avoidance & behavioral\\_face\\_mask & behavioral\\_wash\\_hands & behavioral\\_large\\_gatherings & behavioral\\_outside\\_home & behavioral\\_touch\\_face & ⋯ & income\\_poverty & marital\\_status & rent\\_or\\_own & employment\\_status & hhs\\_geo\\_region & census\\_msa & household\\_adults & household\\_children & employment\\_industry & employment\\_occupation\\\\\n",
       "  & <int> & <dbl> & <dbl> & <dbl> & <dbl> & <dbl> & <dbl> & <dbl> & <dbl> & <dbl> & ⋯ & <fct> & <fct> & <fct> & <fct> & <fct> & <fct> & <dbl> & <dbl> & <fct> & <fct>\\\\\n",
       "\\hline\n",
       "\t1 & 26707 & 2 & 2 & 0 & 1 & 0 & 1 & 1 & 0 & 1 & ⋯ & > \\$75,000                 & Not Married & Rent & Employed           & mlyzmhmf & MSA, Not Principle  City & 1 & 0 & atmlpfrs & hfxkjkmi\\\\\n",
       "\t2 & 26708 & 1 & 1 & 0 & 0 & 0 & 0 & 0 & 0 & 0 & ⋯ & Below Poverty             & Not Married & Rent & Employed           & bhuqouqj & Non-MSA                  & 3 & 0 & atmlpfrs & xqwwgdyp\\\\\n",
       "\t3 & 26709 & 2 & 2 & 0 & 0 & 1 & 1 & 1 & 1 & 1 & ⋯ & > \\$75,000                 & Married     & Own  & Employed           & lrircsnp & Non-MSA                  & 1 & 0 & nduyfdeo & pvmttkik\\\\\n",
       "\t4 & 26710 & 1 & 1 & 0 & 0 & 0 & 0 & 0 & 0 & 0 & ⋯ & <= \\$75,000, Above Poverty & Married     & Own  & Not in Labor Force & lrircsnp & MSA, Not Principle  City & 1 & 0 &          &         \\\\\n",
       "\t5 & 26711 & 3 & 1 & 1 & 1 & 0 & 1 & 1 & 1 & 1 & ⋯ & <= \\$75,000, Above Poverty & Not Married & Own  & Employed           & lzgpxyit & Non-MSA                  & 0 & 1 & fcxhlnwr & mxkfnird\\\\\n",
       "\t6 & 26712 & 2 & 2 & 0 & 1 & 0 & 1 & 1 & 0 & 1 & ⋯ & > \\$75,000                 & Not Married & Own  & Employed           & mlyzmhmf & MSA, Principle City      & 0 & 2 & fcxhlnwr & cmhcxjea\\\\\n",
       "\\end{tabular}\n"
      ],
      "text/markdown": [
       "\n",
       "A data.frame: 6 × 36\n",
       "\n",
       "| <!--/--> | respondent_id &lt;int&gt; | h1n1_concern &lt;dbl&gt; | h1n1_knowledge &lt;dbl&gt; | behavioral_antiviral_meds &lt;dbl&gt; | behavioral_avoidance &lt;dbl&gt; | behavioral_face_mask &lt;dbl&gt; | behavioral_wash_hands &lt;dbl&gt; | behavioral_large_gatherings &lt;dbl&gt; | behavioral_outside_home &lt;dbl&gt; | behavioral_touch_face &lt;dbl&gt; | ⋯ ⋯ | income_poverty &lt;fct&gt; | marital_status &lt;fct&gt; | rent_or_own &lt;fct&gt; | employment_status &lt;fct&gt; | hhs_geo_region &lt;fct&gt; | census_msa &lt;fct&gt; | household_adults &lt;dbl&gt; | household_children &lt;dbl&gt; | employment_industry &lt;fct&gt; | employment_occupation &lt;fct&gt; |\n",
       "|---|---|---|---|---|---|---|---|---|---|---|---|---|---|---|---|---|---|---|---|---|---|\n",
       "| 1 | 26707 | 2 | 2 | 0 | 1 | 0 | 1 | 1 | 0 | 1 | ⋯ | &gt; $75,000                 | Not Married | Rent | Employed           | mlyzmhmf | MSA, Not Principle  City | 1 | 0 | atmlpfrs | hfxkjkmi |\n",
       "| 2 | 26708 | 1 | 1 | 0 | 0 | 0 | 0 | 0 | 0 | 0 | ⋯ | Below Poverty             | Not Married | Rent | Employed           | bhuqouqj | Non-MSA                  | 3 | 0 | atmlpfrs | xqwwgdyp |\n",
       "| 3 | 26709 | 2 | 2 | 0 | 0 | 1 | 1 | 1 | 1 | 1 | ⋯ | &gt; $75,000                 | Married     | Own  | Employed           | lrircsnp | Non-MSA                  | 1 | 0 | nduyfdeo | pvmttkik |\n",
       "| 4 | 26710 | 1 | 1 | 0 | 0 | 0 | 0 | 0 | 0 | 0 | ⋯ | &lt;= $75,000, Above Poverty | Married     | Own  | Not in Labor Force | lrircsnp | MSA, Not Principle  City | 1 | 0 | <!----> | <!----> |\n",
       "| 5 | 26711 | 3 | 1 | 1 | 1 | 0 | 1 | 1 | 1 | 1 | ⋯ | &lt;= $75,000, Above Poverty | Not Married | Own  | Employed           | lzgpxyit | Non-MSA                  | 0 | 1 | fcxhlnwr | mxkfnird |\n",
       "| 6 | 26712 | 2 | 2 | 0 | 1 | 0 | 1 | 1 | 0 | 1 | ⋯ | &gt; $75,000                 | Not Married | Own  | Employed           | mlyzmhmf | MSA, Principle City      | 0 | 2 | fcxhlnwr | cmhcxjea |\n",
       "\n"
      ],
      "text/plain": [
       "  respondent_id h1n1_concern h1n1_knowledge behavioral_antiviral_meds\n",
       "1 26707         2            2              0                        \n",
       "2 26708         1            1              0                        \n",
       "3 26709         2            2              0                        \n",
       "4 26710         1            1              0                        \n",
       "5 26711         3            1              1                        \n",
       "6 26712         2            2              0                        \n",
       "  behavioral_avoidance behavioral_face_mask behavioral_wash_hands\n",
       "1 1                    0                    1                    \n",
       "2 0                    0                    0                    \n",
       "3 0                    1                    1                    \n",
       "4 0                    0                    0                    \n",
       "5 1                    0                    1                    \n",
       "6 1                    0                    1                    \n",
       "  behavioral_large_gatherings behavioral_outside_home behavioral_touch_face ⋯\n",
       "1 1                           0                       1                     ⋯\n",
       "2 0                           0                       0                     ⋯\n",
       "3 1                           1                       1                     ⋯\n",
       "4 0                           0                       0                     ⋯\n",
       "5 1                           1                       1                     ⋯\n",
       "6 1                           0                       1                     ⋯\n",
       "  income_poverty            marital_status rent_or_own employment_status \n",
       "1 > $75,000                 Not Married    Rent        Employed          \n",
       "2 Below Poverty             Not Married    Rent        Employed          \n",
       "3 > $75,000                 Married        Own         Employed          \n",
       "4 <= $75,000, Above Poverty Married        Own         Not in Labor Force\n",
       "5 <= $75,000, Above Poverty Not Married    Own         Employed          \n",
       "6 > $75,000                 Not Married    Own         Employed          \n",
       "  hhs_geo_region census_msa               household_adults household_children\n",
       "1 mlyzmhmf       MSA, Not Principle  City 1                0                 \n",
       "2 bhuqouqj       Non-MSA                  3                0                 \n",
       "3 lrircsnp       Non-MSA                  1                0                 \n",
       "4 lrircsnp       MSA, Not Principle  City 1                0                 \n",
       "5 lzgpxyit       Non-MSA                  0                1                 \n",
       "6 mlyzmhmf       MSA, Principle City      0                2                 \n",
       "  employment_industry employment_occupation\n",
       "1 atmlpfrs            hfxkjkmi             \n",
       "2 atmlpfrs            xqwwgdyp             \n",
       "3 nduyfdeo            pvmttkik             \n",
       "4                                          \n",
       "5 fcxhlnwr            mxkfnird             \n",
       "6 fcxhlnwr            cmhcxjea             "
      ]
     },
     "metadata": {},
     "output_type": "display_data"
    }
   ],
   "source": [
    "library(\"randomForest\")\n",
    "spam <- data.frame(training_set_features[2:length(training_set_features)], training_set_labels[2]) \n",
    "head(spam)\n",
    "head(test_set_features)\n",
    "# head(spam)\n",
    "n_trees <- 100 # 600 = 0.8385 precision\n",
    "threshold <- 0.5\n",
    "\n",
    "\n",
    "accuracy_vec <- array(0,n_trees)\n",
    "\n",
    "spam_idx <- sample(1:nrow(spam))\n",
    "half_split <- floor(nrow(spam)/2)\n",
    "target_variable <- ncol(spam)\n",
    "\n",
    "train_data <- spam[spam_idx[1:half_split],]\n",
    "\n",
    "test_data <- spam[spam_idx[(half_split+1):nrow(spam)],]\n",
    "    \n",
    "model <- randomForest(x=train_data[,-c(target_variable)],\n",
    "                          y=as.factor(train_data[,c(target_variable)]),\n",
    "                          xtest=test_data[,-c(target_variable)],\n",
    "                          ytest=as.factor(test_data[,c(target_variable)]),\n",
    "                          ntree=n_trees, \n",
    "                          keep.forest=TRUE)\n",
    "\n",
    "Y_pred <- data.frame(predict(model,test_set_features[2:length(test_set_features)]))\n",
    "submission <- data.frame(submission_format[1], Y_pred)\n",
    "\n",
    "\n",
    "\n",
    "spam <- data.frame(training_set_features[2:length(training_set_features)], training_set_labels[3]) \n",
    "n_trees <- 90 # 800 = 0.772 precision\n",
    "accuracy_vec <- array(0, n_trees)\n",
    "\n",
    "spam_idx <- sample(1:nrow(spam))\n",
    "half_split <- floor(nrow(spam)/2)\n",
    "target_variable <- ncol(spam)\n",
    "\n",
    "train_data <- spam[spam_idx[1:half_split],]\n",
    "\n",
    "test_data <- spam[spam_idx[(half_split+1):nrow(spam)],]\n",
    "    \n",
    "model <- randomForest(x=train_data[,-c(target_variable)],\n",
    "                          y=as.factor(train_data[,c(target_variable)]),\n",
    "                          xtest=test_data[,-c(target_variable)],\n",
    "                          ytest=as.factor(test_data[,c(target_variable)]),\n",
    "                          ntree=n_trees, \n",
    "                          keep.forest=TRUE)\n",
    "\n",
    "Y_pred <- data.frame(predict(model, test_set_features[2:length(test_set_features)]))\n",
    "submission <- data.frame(submission, Y_pred)\n",
    "x <- submission\n",
    "levels(x[,2]) <- c(\"0.0\", \"1.0\")\n",
    "levels(x[,3]) <- c(\"0.0\", \"1.0\")\n",
    "write.csv(x,\"sample_data/answers.csv\", row.names = FALSE, quote=FALSE)"
   ]
  },
  {
   "cell_type": "markdown",
   "metadata": {},
   "source": [
    "\n",
    "#### Example of simple equation\n",
    "\\begin{equation}\n",
    "e = mc^2\n",
    "\\end{equation}\n",
    "\n",
    "#### Example of matrix equation - Cross product formula:\n",
    "\n",
    "\\begin{equation*}\n",
    "\\mathbf{V}_1 \\times \\mathbf{V}_2 =  \n",
    "\\begin{vmatrix}\n",
    "\\mathbf{i} & \\mathbf{j} & \\mathbf{k} \\\\\n",
    "\\frac{\\partial X}{\\partial u} &  \\frac{\\partial Y}{\\partial u} & 0 \\\\\n",
    "\\frac{\\partial X}{\\partial v} &  \\frac{\\partial Y}{\\partial v} & 0\n",
    "\\end{vmatrix}\n",
    "\\end{equation*}\n",
    "\n",
    "#### Example of multiline equation - The Lorenz Equations:\n",
    "\n",
    "\\begin{align}\n",
    "\\dot{x} & = \\sigma(y-x) \\\\\n",
    "\\dot{y} & = \\rho x - y - xz \\\\\n",
    "\\dot{z} & = -\\beta z + xy\n",
    "\\end{align}\n",
    "\n",
    "#### Example of Markdown Table:\n",
    "\n",
    "| This | is   |\n",
    "|------|------|\n",
    "|   a  | table|\n"
   ]
  },
  {
   "cell_type": "markdown",
   "metadata": {
    "id": "9j5b3jTIkyu7"
   },
   "source": [
    "# Alternative models\n",
    "\n",
    "\n",
    "\n"
   ]
  },
  {
   "cell_type": "markdown",
   "metadata": {
    "id": "sz3LmTKkkyu8"
   },
   "source": [
    "# Conclusions"
   ]
  }
 ],
 "metadata": {
  "colab": {
   "collapsed_sections": [],
   "name": "Program.ipynb",
   "provenance": []
  },
  "kernelspec": {
   "display_name": "R",
   "language": "R",
   "name": "ir"
  },
  "language_info": {
   "codemirror_mode": "r",
   "file_extension": ".r",
   "mimetype": "text/x-r-source",
   "name": "R",
   "pygments_lexer": "r",
   "version": "4.2.0"
  }
 },
 "nbformat": 4,
 "nbformat_minor": 1
}
