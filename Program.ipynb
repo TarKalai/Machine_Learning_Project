{
 "cells": [
  {
   "cell_type": "markdown",
   "metadata": {
    "id": "A7iUf-ffkyup"
   },
   "source": [
    "# INFO-F-422 -  Statistical Foundations of Machine Learning \n",
    "\n",
    "### De Vos Sebastien - __[Sebastien.De.Vos@ulb.be](mailto:sebastien.de.vos@ulb.be) - Student ID 459907__\n",
    "### Kalai Tarik - __[Tarik.Kalai@ulb.be](mailto:Tarik.Kalai@ulb.be) - Student ID 459631__\n",
    "### Rubas Diego - __[Diego.Rubas@ulb.be](mailto:diego.rubas@ulb.be) - Student ID 459733__\n",
    "\n",
    "### Video presentation: www.youtube.com/abcd1234\n",
    "\n",
    "## Flu Shot Learning: Predict H1N1 and Seasonal Flu Vaccines\n"
   ]
  },
  {
   "cell_type": "markdown",
   "metadata": {},
   "source": [
    "# Table of Contents\n",
    "\n",
    "* [Introduction](#Introduction)\n",
    "* [Exploratory Data Analysis](#Exploratory_Data_Analysis)\n",
    "    * [Data Loading](#Data_Loading)\n",
    "    * [Data Dimension](#Data_Dimension)\n",
    "    * [Data Preview](#Data_Preview)\n",
    "* [Data Preprocessing](#Data_Preprocessing)\n",
    "    * [Missing Value Imputation](#Missing_Value_Imputation)\n",
    "    * [Feature Engineering](#Feature_Engineering)\n",
    "    * [Feature Selection](#Feature_Selection)\n",
    "* [Model Selection](#Model_Selection)\n",
    "    * [Model 1: Linear Model](#Model_1_Linear_Model)\n",
    "    * [Model 2: Decision Tree](#Model_2_Decision_Tree)\n",
    "        [Model 2.1: Bossted Decision Tree](#Model_2_1_Boosted_Decision_Tree)\n",
    "    * [Model 3: Random Forest](#Model_3_Random_Forest)"
   ]
  },
  {
   "cell_type": "markdown",
   "metadata": {
    "id": "BknMGYOJkyu0"
   },
   "source": [
    "# Introduction <a class=\"anchor\" id=\"Introduction\"></a>\n",
    "\n",
    "4 different models will be used to predic if either a person received the h1n1 vaccine or/and the seasonnal flu vaccine.\n",
    "The four different models are: \n",
    "\n",
    "  * Linear Regression Model. \n",
    "  * Decision Tree Model.\n",
    "    * Boosted version.\n",
    "  * Random Forest.\n",
    "  * Neural Network.\n"
   ]
  },
  {
   "cell_type": "markdown",
   "metadata": {},
   "source": [
    "### Seed for the project"
   ]
  },
  {
   "cell_type": "code",
   "execution_count": 91,
   "metadata": {
    "vscode": {
     "languageId": "r"
    }
   },
   "outputs": [],
   "source": [
    "set.seed(12345)"
   ]
  },
  {
   "cell_type": "markdown",
   "metadata": {
    "id": "6gsGzIq1kyu2"
   },
   "source": [
    "# Exploratory Data Anaylsis <a class=\"anchor\" id=\"Exploratory_Data_Analysis\"></a>"
   ]
  },
  {
   "cell_type": "markdown",
   "metadata": {
    "id": "nQ2WjfsUkyu3"
   },
   "source": [
    "In this section we will be viewing and understanding the data. "
   ]
  },
  {
   "cell_type": "markdown",
   "metadata": {
    "id": "6KMnF3pisasz"
   },
   "source": [
    "## Data loading <a class=\"anchor\" id=\"Data_Loading\"></a>"
   ]
  },
  {
   "cell_type": "code",
   "execution_count": 2,
   "metadata": {
    "id": "EbjGzSlXsVQQ",
    "vscode": {
     "languageId": "r"
    }
   },
   "outputs": [],
   "source": [
    "training_set_features <- read.csv(\"sample_data/training_set_features.csv\", stringsAsFactors  = T)\n",
    "training_set_labels <- read.csv(\"sample_data/training_set_labels.csv\", stringsAsFactors  = T)\n",
    "test_set_features <- read.csv(\"sample_data/test_set_features.csv\", stringsAsFactors  = T)\n",
    "submission_format <- read.csv(\"sample_data/submission_format.csv\", stringsAsFactors  = T)\n"
   ]
  },
  {
   "cell_type": "markdown",
   "metadata": {
    "id": "Vgh9rPpcsITS"
   },
   "source": [
    "## Dimensions of the data samples. <a class=\"anchor\" id=\"Data_Dimension\"></a>\n",
    "\n",
    "We realised that the *training_set_labels* is the known prediction that will be used to train our models with the *training_set_features*.\n",
    "What will have to be uploaded on the DrivenData website is the prediction of the *test_set_features* which has to correspond to the format of *submission_format*. "
   ]
  },
  {
   "cell_type": "code",
   "execution_count": 3,
   "metadata": {
    "colab": {
     "base_uri": "https://localhost:8080/"
    },
    "id": "iJC79QYWnku5",
    "outputId": "d8bd1909-6c12-4098-801e-3bcf01a8332a",
    "vscode": {
     "languageId": "r"
    }
   },
   "outputs": [
    {
     "name": "stdout",
     "output_type": "stream",
     "text": [
      "dimension of training_set_features :  26707 36 \n",
      "dimension of training_set_labels:  26707 3 \n",
      "dimension of test_set_features:  26708 36 \n",
      "dimension of submission_format :  26708 3 \n"
     ]
    }
   ],
   "source": [
    "cat(\"dimension of training_set_features : \", dim(training_set_features), \"\\n\")\n",
    "cat(\"dimension of training_set_labels: \", dim(training_set_labels), \"\\n\")\n",
    "cat(\"dimension of test_set_features: \",  dim(test_set_features), \"\\n\")\n",
    "cat(\"dimension of submission_format : \", dim(submission_format), \"\\n\")"
   ]
  },
  {
   "cell_type": "markdown",
   "metadata": {
    "id": "DSUJ01Ltv3ct"
   },
   "source": [
    "## Data Preview <a class=\"anchor\" id=\"Data_Preview\"></a>"
   ]
  },
  {
   "cell_type": "code",
   "execution_count": 4,
   "metadata": {
    "vscode": {
     "languageId": "r"
    }
   },
   "outputs": [
    {
     "data": {
      "text/html": [
       "<table class=\"dataframe\">\n",
       "<caption>A data.frame: 6 × 36</caption>\n",
       "<thead>\n",
       "\t<tr><th></th><th scope=col>respondent_id</th><th scope=col>h1n1_concern</th><th scope=col>h1n1_knowledge</th><th scope=col>behavioral_antiviral_meds</th><th scope=col>behavioral_avoidance</th><th scope=col>behavioral_face_mask</th><th scope=col>behavioral_wash_hands</th><th scope=col>behavioral_large_gatherings</th><th scope=col>behavioral_outside_home</th><th scope=col>behavioral_touch_face</th><th scope=col>⋯</th><th scope=col>income_poverty</th><th scope=col>marital_status</th><th scope=col>rent_or_own</th><th scope=col>employment_status</th><th scope=col>hhs_geo_region</th><th scope=col>census_msa</th><th scope=col>household_adults</th><th scope=col>household_children</th><th scope=col>employment_industry</th><th scope=col>employment_occupation</th></tr>\n",
       "\t<tr><th></th><th scope=col>&lt;int&gt;</th><th scope=col>&lt;int&gt;</th><th scope=col>&lt;int&gt;</th><th scope=col>&lt;int&gt;</th><th scope=col>&lt;int&gt;</th><th scope=col>&lt;int&gt;</th><th scope=col>&lt;int&gt;</th><th scope=col>&lt;int&gt;</th><th scope=col>&lt;int&gt;</th><th scope=col>&lt;int&gt;</th><th scope=col>⋯</th><th scope=col>&lt;fct&gt;</th><th scope=col>&lt;fct&gt;</th><th scope=col>&lt;fct&gt;</th><th scope=col>&lt;fct&gt;</th><th scope=col>&lt;fct&gt;</th><th scope=col>&lt;fct&gt;</th><th scope=col>&lt;int&gt;</th><th scope=col>&lt;int&gt;</th><th scope=col>&lt;fct&gt;</th><th scope=col>&lt;fct&gt;</th></tr>\n",
       "</thead>\n",
       "<tbody>\n",
       "\t<tr><th scope=row>1</th><td>0</td><td>1</td><td>0</td><td>0</td><td>0</td><td>0</td><td>0</td><td>0</td><td>1</td><td>1</td><td>⋯</td><td>Below Poverty            </td><td>Not Married</td><td>Own </td><td>Not in Labor Force</td><td>oxchjgsf</td><td>Non-MSA                 </td><td>0</td><td>0</td><td>        </td><td>        </td></tr>\n",
       "\t<tr><th scope=row>2</th><td>1</td><td>3</td><td>2</td><td>0</td><td>1</td><td>0</td><td>1</td><td>0</td><td>1</td><td>1</td><td>⋯</td><td>Below Poverty            </td><td>Not Married</td><td>Rent</td><td>Employed          </td><td>bhuqouqj</td><td>MSA, Not Principle  City</td><td>0</td><td>0</td><td>pxcmvdjn</td><td>xgwztkwe</td></tr>\n",
       "\t<tr><th scope=row>3</th><td>2</td><td>1</td><td>1</td><td>0</td><td>1</td><td>0</td><td>0</td><td>0</td><td>0</td><td>0</td><td>⋯</td><td>&lt;= $75,000, Above Poverty</td><td>Not Married</td><td>Own </td><td><span style=white-space:pre-wrap>Employed          </span></td><td>qufhixun</td><td><span style=white-space:pre-wrap>MSA, Not Principle  City</span></td><td>2</td><td>0</td><td>rucpziij</td><td>xtkaffoo</td></tr>\n",
       "\t<tr><th scope=row>4</th><td>3</td><td>1</td><td>1</td><td>0</td><td>1</td><td>0</td><td>1</td><td>1</td><td>0</td><td>0</td><td>⋯</td><td>Below Poverty            </td><td>Not Married</td><td>Rent</td><td>Not in Labor Force</td><td>lrircsnp</td><td>MSA, Principle City     </td><td>0</td><td>0</td><td>        </td><td>        </td></tr>\n",
       "\t<tr><th scope=row>5</th><td>4</td><td>2</td><td>1</td><td>0</td><td>1</td><td>0</td><td>1</td><td>1</td><td>0</td><td>1</td><td>⋯</td><td>&lt;= $75,000, Above Poverty</td><td><span style=white-space:pre-wrap>Married    </span></td><td>Own </td><td><span style=white-space:pre-wrap>Employed          </span></td><td>qufhixun</td><td><span style=white-space:pre-wrap>MSA, Not Principle  City</span></td><td>1</td><td>0</td><td>wxleyezf</td><td>emcorrxb</td></tr>\n",
       "\t<tr><th scope=row>6</th><td>5</td><td>3</td><td>1</td><td>0</td><td>1</td><td>0</td><td>1</td><td>0</td><td>0</td><td>1</td><td>⋯</td><td>&lt;= $75,000, Above Poverty</td><td><span style=white-space:pre-wrap>Married    </span></td><td>Own </td><td><span style=white-space:pre-wrap>Employed          </span></td><td>atmpeygn</td><td><span style=white-space:pre-wrap>MSA, Principle City     </span></td><td>2</td><td>3</td><td>saaquncn</td><td>vlluhbov</td></tr>\n",
       "</tbody>\n",
       "</table>\n"
      ],
      "text/latex": [
       "A data.frame: 6 × 36\n",
       "\\begin{tabular}{r|lllllllllllllllllllll}\n",
       "  & respondent\\_id & h1n1\\_concern & h1n1\\_knowledge & behavioral\\_antiviral\\_meds & behavioral\\_avoidance & behavioral\\_face\\_mask & behavioral\\_wash\\_hands & behavioral\\_large\\_gatherings & behavioral\\_outside\\_home & behavioral\\_touch\\_face & ⋯ & income\\_poverty & marital\\_status & rent\\_or\\_own & employment\\_status & hhs\\_geo\\_region & census\\_msa & household\\_adults & household\\_children & employment\\_industry & employment\\_occupation\\\\\n",
       "  & <int> & <int> & <int> & <int> & <int> & <int> & <int> & <int> & <int> & <int> & ⋯ & <fct> & <fct> & <fct> & <fct> & <fct> & <fct> & <int> & <int> & <fct> & <fct>\\\\\n",
       "\\hline\n",
       "\t1 & 0 & 1 & 0 & 0 & 0 & 0 & 0 & 0 & 1 & 1 & ⋯ & Below Poverty             & Not Married & Own  & Not in Labor Force & oxchjgsf & Non-MSA                  & 0 & 0 &          &         \\\\\n",
       "\t2 & 1 & 3 & 2 & 0 & 1 & 0 & 1 & 0 & 1 & 1 & ⋯ & Below Poverty             & Not Married & Rent & Employed           & bhuqouqj & MSA, Not Principle  City & 0 & 0 & pxcmvdjn & xgwztkwe\\\\\n",
       "\t3 & 2 & 1 & 1 & 0 & 1 & 0 & 0 & 0 & 0 & 0 & ⋯ & <= \\$75,000, Above Poverty & Not Married & Own  & Employed           & qufhixun & MSA, Not Principle  City & 2 & 0 & rucpziij & xtkaffoo\\\\\n",
       "\t4 & 3 & 1 & 1 & 0 & 1 & 0 & 1 & 1 & 0 & 0 & ⋯ & Below Poverty             & Not Married & Rent & Not in Labor Force & lrircsnp & MSA, Principle City      & 0 & 0 &          &         \\\\\n",
       "\t5 & 4 & 2 & 1 & 0 & 1 & 0 & 1 & 1 & 0 & 1 & ⋯ & <= \\$75,000, Above Poverty & Married     & Own  & Employed           & qufhixun & MSA, Not Principle  City & 1 & 0 & wxleyezf & emcorrxb\\\\\n",
       "\t6 & 5 & 3 & 1 & 0 & 1 & 0 & 1 & 0 & 0 & 1 & ⋯ & <= \\$75,000, Above Poverty & Married     & Own  & Employed           & atmpeygn & MSA, Principle City      & 2 & 3 & saaquncn & vlluhbov\\\\\n",
       "\\end{tabular}\n"
      ],
      "text/markdown": [
       "\n",
       "A data.frame: 6 × 36\n",
       "\n",
       "| <!--/--> | respondent_id &lt;int&gt; | h1n1_concern &lt;int&gt; | h1n1_knowledge &lt;int&gt; | behavioral_antiviral_meds &lt;int&gt; | behavioral_avoidance &lt;int&gt; | behavioral_face_mask &lt;int&gt; | behavioral_wash_hands &lt;int&gt; | behavioral_large_gatherings &lt;int&gt; | behavioral_outside_home &lt;int&gt; | behavioral_touch_face &lt;int&gt; | ⋯ ⋯ | income_poverty &lt;fct&gt; | marital_status &lt;fct&gt; | rent_or_own &lt;fct&gt; | employment_status &lt;fct&gt; | hhs_geo_region &lt;fct&gt; | census_msa &lt;fct&gt; | household_adults &lt;int&gt; | household_children &lt;int&gt; | employment_industry &lt;fct&gt; | employment_occupation &lt;fct&gt; |\n",
       "|---|---|---|---|---|---|---|---|---|---|---|---|---|---|---|---|---|---|---|---|---|---|\n",
       "| 1 | 0 | 1 | 0 | 0 | 0 | 0 | 0 | 0 | 1 | 1 | ⋯ | Below Poverty             | Not Married | Own  | Not in Labor Force | oxchjgsf | Non-MSA                  | 0 | 0 | <!----> | <!----> |\n",
       "| 2 | 1 | 3 | 2 | 0 | 1 | 0 | 1 | 0 | 1 | 1 | ⋯ | Below Poverty             | Not Married | Rent | Employed           | bhuqouqj | MSA, Not Principle  City | 0 | 0 | pxcmvdjn | xgwztkwe |\n",
       "| 3 | 2 | 1 | 1 | 0 | 1 | 0 | 0 | 0 | 0 | 0 | ⋯ | &lt;= $75,000, Above Poverty | Not Married | Own  | Employed           | qufhixun | MSA, Not Principle  City | 2 | 0 | rucpziij | xtkaffoo |\n",
       "| 4 | 3 | 1 | 1 | 0 | 1 | 0 | 1 | 1 | 0 | 0 | ⋯ | Below Poverty             | Not Married | Rent | Not in Labor Force | lrircsnp | MSA, Principle City      | 0 | 0 | <!----> | <!----> |\n",
       "| 5 | 4 | 2 | 1 | 0 | 1 | 0 | 1 | 1 | 0 | 1 | ⋯ | &lt;= $75,000, Above Poverty | Married     | Own  | Employed           | qufhixun | MSA, Not Principle  City | 1 | 0 | wxleyezf | emcorrxb |\n",
       "| 6 | 5 | 3 | 1 | 0 | 1 | 0 | 1 | 0 | 0 | 1 | ⋯ | &lt;= $75,000, Above Poverty | Married     | Own  | Employed           | atmpeygn | MSA, Principle City      | 2 | 3 | saaquncn | vlluhbov |\n",
       "\n"
      ],
      "text/plain": [
       "  respondent_id h1n1_concern h1n1_knowledge behavioral_antiviral_meds\n",
       "1 0             1            0              0                        \n",
       "2 1             3            2              0                        \n",
       "3 2             1            1              0                        \n",
       "4 3             1            1              0                        \n",
       "5 4             2            1              0                        \n",
       "6 5             3            1              0                        \n",
       "  behavioral_avoidance behavioral_face_mask behavioral_wash_hands\n",
       "1 0                    0                    0                    \n",
       "2 1                    0                    1                    \n",
       "3 1                    0                    0                    \n",
       "4 1                    0                    1                    \n",
       "5 1                    0                    1                    \n",
       "6 1                    0                    1                    \n",
       "  behavioral_large_gatherings behavioral_outside_home behavioral_touch_face ⋯\n",
       "1 0                           1                       1                     ⋯\n",
       "2 0                           1                       1                     ⋯\n",
       "3 0                           0                       0                     ⋯\n",
       "4 1                           0                       0                     ⋯\n",
       "5 1                           0                       1                     ⋯\n",
       "6 0                           0                       1                     ⋯\n",
       "  income_poverty            marital_status rent_or_own employment_status \n",
       "1 Below Poverty             Not Married    Own         Not in Labor Force\n",
       "2 Below Poverty             Not Married    Rent        Employed          \n",
       "3 <= $75,000, Above Poverty Not Married    Own         Employed          \n",
       "4 Below Poverty             Not Married    Rent        Not in Labor Force\n",
       "5 <= $75,000, Above Poverty Married        Own         Employed          \n",
       "6 <= $75,000, Above Poverty Married        Own         Employed          \n",
       "  hhs_geo_region census_msa               household_adults household_children\n",
       "1 oxchjgsf       Non-MSA                  0                0                 \n",
       "2 bhuqouqj       MSA, Not Principle  City 0                0                 \n",
       "3 qufhixun       MSA, Not Principle  City 2                0                 \n",
       "4 lrircsnp       MSA, Principle City      0                0                 \n",
       "5 qufhixun       MSA, Not Principle  City 1                0                 \n",
       "6 atmpeygn       MSA, Principle City      2                3                 \n",
       "  employment_industry employment_occupation\n",
       "1                                          \n",
       "2 pxcmvdjn            xgwztkwe             \n",
       "3 rucpziij            xtkaffoo             \n",
       "4                                          \n",
       "5 wxleyezf            emcorrxb             \n",
       "6 saaquncn            vlluhbov             "
      ]
     },
     "metadata": {},
     "output_type": "display_data"
    },
    {
     "data": {
      "text/html": [
       "<table class=\"dataframe\">\n",
       "<caption>A data.frame: 6 × 3</caption>\n",
       "<thead>\n",
       "\t<tr><th></th><th scope=col>respondent_id</th><th scope=col>h1n1_vaccine</th><th scope=col>seasonal_vaccine</th></tr>\n",
       "\t<tr><th></th><th scope=col>&lt;int&gt;</th><th scope=col>&lt;int&gt;</th><th scope=col>&lt;int&gt;</th></tr>\n",
       "</thead>\n",
       "<tbody>\n",
       "\t<tr><th scope=row>1</th><td>0</td><td>0</td><td>0</td></tr>\n",
       "\t<tr><th scope=row>2</th><td>1</td><td>0</td><td>1</td></tr>\n",
       "\t<tr><th scope=row>3</th><td>2</td><td>0</td><td>0</td></tr>\n",
       "\t<tr><th scope=row>4</th><td>3</td><td>0</td><td>1</td></tr>\n",
       "\t<tr><th scope=row>5</th><td>4</td><td>0</td><td>0</td></tr>\n",
       "\t<tr><th scope=row>6</th><td>5</td><td>0</td><td>0</td></tr>\n",
       "</tbody>\n",
       "</table>\n"
      ],
      "text/latex": [
       "A data.frame: 6 × 3\n",
       "\\begin{tabular}{r|lll}\n",
       "  & respondent\\_id & h1n1\\_vaccine & seasonal\\_vaccine\\\\\n",
       "  & <int> & <int> & <int>\\\\\n",
       "\\hline\n",
       "\t1 & 0 & 0 & 0\\\\\n",
       "\t2 & 1 & 0 & 1\\\\\n",
       "\t3 & 2 & 0 & 0\\\\\n",
       "\t4 & 3 & 0 & 1\\\\\n",
       "\t5 & 4 & 0 & 0\\\\\n",
       "\t6 & 5 & 0 & 0\\\\\n",
       "\\end{tabular}\n"
      ],
      "text/markdown": [
       "\n",
       "A data.frame: 6 × 3\n",
       "\n",
       "| <!--/--> | respondent_id &lt;int&gt; | h1n1_vaccine &lt;int&gt; | seasonal_vaccine &lt;int&gt; |\n",
       "|---|---|---|---|\n",
       "| 1 | 0 | 0 | 0 |\n",
       "| 2 | 1 | 0 | 1 |\n",
       "| 3 | 2 | 0 | 0 |\n",
       "| 4 | 3 | 0 | 1 |\n",
       "| 5 | 4 | 0 | 0 |\n",
       "| 6 | 5 | 0 | 0 |\n",
       "\n"
      ],
      "text/plain": [
       "  respondent_id h1n1_vaccine seasonal_vaccine\n",
       "1 0             0            0               \n",
       "2 1             0            1               \n",
       "3 2             0            0               \n",
       "4 3             0            1               \n",
       "5 4             0            0               \n",
       "6 5             0            0               "
      ]
     },
     "metadata": {},
     "output_type": "display_data"
    }
   ],
   "source": [
    "head(training_set_features)\n",
    "head(training_set_labels)"
   ]
  },
  {
   "cell_type": "markdown",
   "metadata": {},
   "source": [
    "# Data preprocessing <a class=\"anchor\" id=\"Data_Preprocessing\"></a>\n",
    "\n",
    "In this part, all the different methods to pre-process the data are listed : \n",
    "\n",
    "* cleanData: clean the first 22 binary features, as they are integers if there are missing datas (\"NA\") then they will be replaced by the mean value while considering the standard deviation.  \n",
    "* transform_na: compute the mean and standard deviation and replace the \"NA\" by \n",
    "\\begin{equation*}\n",
    "x(NA) = \\bar{x} + \\sigma(x)/2\n",
    "\\end{equation*}\n",
    "\n",
    "* norm: Compute the norm for a given feature to normalize its values. \n",
    "* one_hot_encoding: Way to deal with the categorical features in order to make them usable for some models (Linear Regression modeling for example.)\n",
    "* cast_into_double: cast a given feature into double in order to respect the format of the submission format. "
   ]
  },
  {
   "cell_type": "code",
   "execution_count": 5,
   "metadata": {
    "id": "uKeHb6pcnOlW",
    "vscode": {
     "languageId": "r"
    }
   },
   "outputs": [],
   "source": [
    "cleanData <- function(x) {\n",
    "    for (i in 2:22) {\n",
    "        x <- transform_na(x, i)\n",
    "    }\n",
    "    return(x)\n",
    "}\n",
    "\n",
    "transform_na <- function(x, index){\n",
    "    if (length(which(is.na(x[,index]))) > 0){ #Check if there is any NA in the column\n",
    "            mean_ts <- mean(x[,index], na.rm = T) #compute old_mean\n",
    "            sd_ts <- sqrt(var(x[,index], na.rm = T)) #compute old_sd\n",
    "            x[is.na(x[,index]), index] <- round(mean_ts + sd_ts/2) #modify the data\n",
    "        }\n",
    "    return(x)\n",
    "}\n",
    "\n",
    "norm<-function(x){\n",
    "    return( (x-min(x)) / (max(x)-min(x)) )\n",
    "}\n",
    "\n",
    "one_hot_encoding <- function(x, index) {\n",
    "    names <- levels(x[,index]) # get the names of all the possible different values\n",
    "    new_col <- model.matrix(~0+x[,index]) # transforms the column in a matrix with a '1' in the correct column and '0' otherwise\n",
    "    attr(new_col, \"dimnames\")[[2]] <- names\n",
    "    new_col <- as.data.frame(new_col)\n",
    "    x <- data.frame(x[1:index-1],new_col,x[(index+1):ncol(x)])\n",
    "    return(x)\n",
    "}\n",
    "\n",
    "cast_into_double <- function(x){\n",
    "    for (i in 2:length(x)){\n",
    "        x[,i] <- as.numeric(x[,i])\n",
    "    }\n",
    "    return(x)\n",
    "}"
   ]
  },
  {
   "cell_type": "markdown",
   "metadata": {},
   "source": [
    "\n",
    "## Data Processing for each feature<a class=\"anchor\" id=\"Data_Processing_For_Each_Feature\"></a>\n",
    "\n",
    "The data was handled as follows: \n",
    "\n",
    "* feature 1: This feature is used as id and does not need any cleaning. \n",
    "* feature 2 -> 22, 33, 34: These features are integers,the only subtlety was that \"NA\" values needed to be replaced. \n",
    "* features 23, 24, 27 : As there was ordering in this data, integer encoding was applied to it.\n",
    "* features 25, 26, 28, 29, 30, 32 : For these categorical features, one hot encoding was applied.\n",
    "* features 31, 35, 36: These features were considered useless (too many missing values). \n",
    "\n",
    "The data sorting function is general so it can be applied to the *test_set_features*. "
   ]
  },
  {
   "cell_type": "code",
   "execution_count": 82,
   "metadata": {
    "vscode": {
     "languageId": "r"
    }
   },
   "outputs": [
    {
     "name": "stdout",
     "output_type": "stream",
     "text": [
      "Preview of the training_set_feature: \n"
     ]
    },
    {
     "data": {
      "text/html": [
       "<table class=\"dataframe\">\n",
       "<caption>A data.frame: 6 × 6</caption>\n",
       "<thead>\n",
       "\t<tr><th></th><th scope=col>Unemployed</th><th scope=col>MSA..Not.Principle..City</th><th scope=col>MSA..Principle.City</th><th scope=col>Non.MSA</th><th scope=col>household_adults</th><th scope=col>household_children</th></tr>\n",
       "\t<tr><th></th><th scope=col>&lt;dbl&gt;</th><th scope=col>&lt;dbl&gt;</th><th scope=col>&lt;dbl&gt;</th><th scope=col>&lt;dbl&gt;</th><th scope=col>&lt;dbl&gt;</th><th scope=col>&lt;dbl&gt;</th></tr>\n",
       "</thead>\n",
       "<tbody>\n",
       "\t<tr><th scope=row>1</th><td>0</td><td>0</td><td>0</td><td>1</td><td>0.0000000</td><td>0</td></tr>\n",
       "\t<tr><th scope=row>2</th><td>0</td><td>1</td><td>0</td><td>0</td><td>0.0000000</td><td>0</td></tr>\n",
       "\t<tr><th scope=row>3</th><td>0</td><td>1</td><td>0</td><td>0</td><td>0.6666667</td><td>0</td></tr>\n",
       "\t<tr><th scope=row>4</th><td>0</td><td>0</td><td>1</td><td>0</td><td>0.0000000</td><td>0</td></tr>\n",
       "\t<tr><th scope=row>5</th><td>0</td><td>1</td><td>0</td><td>0</td><td>0.3333333</td><td>0</td></tr>\n",
       "\t<tr><th scope=row>6</th><td>0</td><td>0</td><td>1</td><td>0</td><td>0.6666667</td><td>1</td></tr>\n",
       "</tbody>\n",
       "</table>\n"
      ],
      "text/latex": [
       "A data.frame: 6 × 6\n",
       "\\begin{tabular}{r|llllll}\n",
       "  & Unemployed & MSA..Not.Principle..City & MSA..Principle.City & Non.MSA & household\\_adults & household\\_children\\\\\n",
       "  & <dbl> & <dbl> & <dbl> & <dbl> & <dbl> & <dbl>\\\\\n",
       "\\hline\n",
       "\t1 & 0 & 0 & 0 & 1 & 0.0000000 & 0\\\\\n",
       "\t2 & 0 & 1 & 0 & 0 & 0.0000000 & 0\\\\\n",
       "\t3 & 0 & 1 & 0 & 0 & 0.6666667 & 0\\\\\n",
       "\t4 & 0 & 0 & 1 & 0 & 0.0000000 & 0\\\\\n",
       "\t5 & 0 & 1 & 0 & 0 & 0.3333333 & 0\\\\\n",
       "\t6 & 0 & 0 & 1 & 0 & 0.6666667 & 1\\\\\n",
       "\\end{tabular}\n"
      ],
      "text/markdown": [
       "\n",
       "A data.frame: 6 × 6\n",
       "\n",
       "| <!--/--> | Unemployed &lt;dbl&gt; | MSA..Not.Principle..City &lt;dbl&gt; | MSA..Principle.City &lt;dbl&gt; | Non.MSA &lt;dbl&gt; | household_adults &lt;dbl&gt; | household_children &lt;dbl&gt; |\n",
       "|---|---|---|---|---|---|---|\n",
       "| 1 | 0 | 0 | 0 | 1 | 0.0000000 | 0 |\n",
       "| 2 | 0 | 1 | 0 | 0 | 0.0000000 | 0 |\n",
       "| 3 | 0 | 1 | 0 | 0 | 0.6666667 | 0 |\n",
       "| 4 | 0 | 0 | 1 | 0 | 0.0000000 | 0 |\n",
       "| 5 | 0 | 1 | 0 | 0 | 0.3333333 | 0 |\n",
       "| 6 | 0 | 0 | 1 | 0 | 0.6666667 | 1 |\n",
       "\n"
      ],
      "text/plain": [
       "  Unemployed MSA..Not.Principle..City MSA..Principle.City Non.MSA\n",
       "1 0          0                        0                   1      \n",
       "2 0          1                        0                   0      \n",
       "3 0          1                        0                   0      \n",
       "4 0          0                        1                   0      \n",
       "5 0          1                        0                   0      \n",
       "6 0          0                        1                   0      \n",
       "  household_adults household_children\n",
       "1 0.0000000        0                 \n",
       "2 0.0000000        0                 \n",
       "3 0.6666667        0                 \n",
       "4 0.0000000        0                 \n",
       "5 0.3333333        0                 \n",
       "6 0.6666667        1                 "
      ]
     },
     "metadata": {},
     "output_type": "display_data"
    },
    {
     "name": "stdout",
     "output_type": "stream",
     "text": [
      "Dimension of training_set_feature: \n"
     ]
    },
    {
     "data": {
      "text/html": [
       "<style>\n",
       ".list-inline {list-style: none; margin:0; padding: 0}\n",
       ".list-inline>li {display: inline-block}\n",
       ".list-inline>li:not(:last-child)::after {content: \"\\00b7\"; padding: 0 .5ex}\n",
       "</style>\n",
       "<ol class=list-inline><li>26707</li><li>46</li></ol>\n"
      ],
      "text/latex": [
       "\\begin{enumerate*}\n",
       "\\item 26707\n",
       "\\item 46\n",
       "\\end{enumerate*}\n"
      ],
      "text/markdown": [
       "1. 26707\n",
       "2. 46\n",
       "\n",
       "\n"
      ],
      "text/plain": [
       "[1] 26707    46"
      ]
     },
     "metadata": {},
     "output_type": "display_data"
    }
   ],
   "source": [
    "\n",
    "data_sorting <- function(x){\n",
    "\n",
    "    # for feature 2 -> 22\n",
    "    x <- cleanData(x)\n",
    "\n",
    "    # for feature 23\n",
    "    levels(x[,23]) <- c(1, 2, 3, 4, 5)\n",
    "\n",
    "    # for feature 24\n",
    "    levels(x[,24]) <- c(0, 1, 2, 4, 3)\n",
    "\n",
    "    # for feature 25\n",
    "    x <- one_hot_encoding(x, 25)\n",
    "\n",
    "    # for feature 26 -> number 29\n",
    "    x <- one_hot_encoding(x, 29)\n",
    "\n",
    "    # for feature 27 -> number 31 !!! it need to be changed, it is not a good way to sort this data.\n",
    "    levels(x[,31]) <- c(0, 2, 1, 3) \n",
    "\n",
    "    # for feature 28 -> number 32\n",
    "    levels(x[,32])[1] <- 'marital_status_not_specified'\n",
    "    x <- one_hot_encoding(x, 32)\n",
    "\n",
    "    # for feature 29 -> number 35\n",
    "    levels(x[,35])[1] <- 'rental_not_specified'\n",
    "    x <- one_hot_encoding(x, 35)\n",
    "\n",
    "    #for features 30 -> number 38\n",
    "    levels(x[,38])[1] <- 'employment_not_specified'\n",
    "    x <- one_hot_encoding(x, 38)\n",
    "    \n",
    "    # for feature 31 -> 42, we judged its contribution was negligeable against its cost of implementation\n",
    "    x <- subset(x, select = -42)\n",
    "\n",
    "    # for feature 32 -> 42 (since we dropped last column\n",
    "    x <- one_hot_encoding(x, 42)\n",
    "\n",
    "    # for feature 33 -> 45\n",
    "    x <- transform_na(x, 45)\n",
    "\n",
    "    # for feature 34 -> 46\n",
    "    x <- transform_na(x, 46)\n",
    "\n",
    "    # for feature 35 -> 47, we judged its contribution was negligeable against its cost of implementation\n",
    "    x <- subset(x, select = -47)\n",
    "\n",
    "    # for feature 36 -> 47, we judged its contribution was negligeable against its cost of implementation\n",
    "    x <- subset(x, select = -47)\n",
    "\n",
    "    x <- cast_into_double(x)\n",
    "    name <- names(x)[-1]\n",
    "    temp <- apply(x[2:length(x)], 2 , norm)\n",
    "    attr(temp, \"dimnames\")[[2]] <- name\n",
    "    x <- data.frame(x[1],as.data.frame(temp))\n",
    "    return (x)\n",
    "}\n",
    "\n",
    "training_sf <- data_sorting(training_set_features)\n",
    "test_sf <- data_sorting(test_set_features)\n",
    "\n",
    "cat(\"Preview of the training_set_feature: \\n\")\n",
    "head(training_sf[41:46])\n",
    "cat(\"Dimension of training_set_feature: \\n\")\n",
    "dim(training_sf)"
   ]
  },
  {
   "cell_type": "markdown",
   "metadata": {},
   "source": [
    "\n",
    "## Feature Engineering<a class=\"anchor\" id=\"Feature_Engineering\"></a>\n",
    "\n",
    "TODO\n"
   ]
  },
  {
   "cell_type": "markdown",
   "metadata": {},
   "source": [
    "\n",
    "## Feature Selection<a class=\"anchor\" id=\"Feature_Selection\"></a>\n",
    "\n",
    "TODO"
   ]
  },
  {
   "cell_type": "markdown",
   "metadata": {
    "id": "MrH_wChrkyu6"
   },
   "source": [
    "# Model selection <a class=\"anchor\" id=\"Model_Selection\"></a>\n"
   ]
  },
  {
   "cell_type": "markdown",
   "metadata": {},
   "source": [
    "\n",
    "## Model 1 : Linear Regression <a class=\"anchor\" id=\"Model_1_Linear_Model\"></a>\n",
    "\n",
    "For the first model we decided to go with a linear regreassion. \n",
    "Thus there has been a selection on the features, some feature where to correlated (notably, all the one which were \"one hot encoded\"), and thus have been removed. This corresponds to the features : \n",
    "\n",
    "* 27 -> race = Other.or.Multiple \n",
    "* 30 -> sexe = male\n",
    "* 33 -> marital status = not specified\n",
    "* 35 -> rent or own = rental_not_specified\n",
    "* 38 -> employement  = employment_not_specified\n",
    "* 44 -> census_msa = Non.MSA\n",
    "\n",
    "The training_set_features cleaned has been put into a matrix appended with a first column of only ones. This colmumns will corresponds to the beta_0 coefficient.\n",
    "We have then computed the beta_hat, so the estimation of the the coefficient for each feature. The prediction could then be made and a confusion matrix has been build.\n",
    "With the same bata_hat, prediction for the test_set_features has been made and uploaded on the drivenData web site the values for the "
   ]
  },
  {
   "cell_type": "code",
   "execution_count": 323,
   "metadata": {
    "vscode": {
     "languageId": "r"
    }
   },
   "outputs": [],
   "source": [
    "temp <- training_sf[-c(27, 30, 32, 35, 38, 44)] # i just looked at which one made the computation impossible in a greedy manner.\n",
    "\n",
    "n <- length(temp)-1 # number of features\n",
    "p <- n+1\n",
    "N <- length(temp[,1]) # number of samples\n",
    "N2 <- length(test_sf[,1])\n",
    "Y <- as.matrix(training_set_labels[2:3])\n",
    "Y_bar <- apply(Y, 2, mean)\n",
    "X <- as.matrix(cbind(array(1,c(N,1)),temp[2:p]))\n",
    "\n",
    "beta_hat <- array(0, c(p,2))\n",
    "sigma_hat_w <- numeric(2)\n",
    "Y_hat <- array(0, c(N,2))\n",
    "\n",
    "\n",
    "temp_2  <- test_sf[-c(27, 30, 32, 35, 38, 44)]\n",
    "p <- length(temp_2)\n",
    "X_final <-  as.matrix(cbind(array(1,c(N2,1)),temp_2[2:p]))\n",
    "Y_final <- array(0, c(N2,2))\n",
    "\n",
    "my_tables <- list(table(Y_hat[,1], Y[,1]), table(Y_hat[,2], Y[,2]))\n",
    "threshold <- 0.5\n",
    "\n",
    "for (i in 1:2){\n",
    "    beta_hat[,i] <- solve((t(X)%*%X))%*%t(X)%*%Y[,i] #doesn't work, we need to identify the features that are highly correlated and keep only one. \n",
    "    Y_hat[,i] <- X %*% beta_hat[,i]\n",
    "    Y_final[,i] <- X_final %*% beta_hat[,i]\n",
    "    e <- Y[,i] - Y_hat[,i]\n",
    "    sigma_hat_w[i] <- sqrt((t(e)%*%e)/(N-p))\n",
    "    Y_hat[,i] <- ifelse(Y_hat[,i] > threshold,1,0) \n",
    "    my_tables[[i]] <- table(Y_hat[,i], Y[,i])\n",
    "}"
   ]
  },
  {
   "cell_type": "code",
   "execution_count": 324,
   "metadata": {
    "vscode": {
     "languageId": "r"
    }
   },
   "outputs": [
    {
     "name": "stdout",
     "output_type": "stream",
     "text": [
      "[1] \"confusion matrix for h1n1_vaccine : \"\n"
     ]
    },
    {
     "data": {
      "text/plain": [
       "   \n",
       "        0     1\n",
       "  0 19951  3412\n",
       "  1  1082  2262"
      ]
     },
     "metadata": {},
     "output_type": "display_data"
    },
    {
     "name": "stdout",
     "output_type": "stream",
     "text": [
      "[1] \"misclassification rate for the h1n1_vaccine :  0.16827049088254\"\n",
      "\n",
      "[1] \"confusion matrix for seasonal_vaccine : \"\n"
     ]
    },
    {
     "data": {
      "text/plain": [
       "   \n",
       "        0     1\n",
       "  0 11355  3342\n",
       "  1  2917  9093"
      ]
     },
     "metadata": {},
     "output_type": "display_data"
    },
    {
     "name": "stdout",
     "output_type": "stream",
     "text": [
      "[1] \"misclassification rate for the seasona_vaccine :  0.23435803347437\"\n"
     ]
    }
   ],
   "source": [
    "print(paste(\"confusion matrix for h1n1_vaccine : \"))\n",
    "my_tables[[1]]\n",
    "#sigma_hat_w[1]\n",
    "confusion_matrix <- my_tables[[1]]\n",
    "accuracy = (confusion_matrix[1,1]+confusion_matrix[2,2])/sum(confusion_matrix)\n",
    "misclassification_rate = 1 - accuracy\n",
    "print(paste(\"misclassification rate for the h1n1_vaccine : \", misclassification_rate))\n",
    "cat(\"\\n\")\n",
    "\n",
    "print(paste(\"confusion matrix for seasonal_vaccine : \"))\n",
    "my_tables[[2]]\n",
    "#sigma_hat_w[2]\n",
    "confusion_matrix <- my_tables[[2]]\n",
    "accuracy = (confusion_matrix[1,1]+confusion_matrix[2,2])/sum(confusion_matrix)\n",
    "misclassification_rate = 1 - accuracy\n",
    "print(paste(\"misclassification rate for the seasona_vaccine : \", misclassification_rate))"
   ]
  },
  {
   "cell_type": "code",
   "execution_count": 325,
   "metadata": {
    "vscode": {
     "languageId": "r"
    }
   },
   "outputs": [
    {
     "name": "stdout",
     "output_type": "stream",
     "text": [
      "\n",
      "[1] \"prediction for the test_set_features :\"\n"
     ]
    },
    {
     "data": {
      "text/html": [
       "<table class=\"dataframe\">\n",
       "<caption>A data.frame: 6 × 3</caption>\n",
       "<thead>\n",
       "\t<tr><th></th><th scope=col>respondent_id</th><th scope=col>h1n1_vaccine</th><th scope=col>seasonal_vaccine</th></tr>\n",
       "\t<tr><th></th><th scope=col>&lt;int&gt;</th><th scope=col>&lt;dbl&gt;</th><th scope=col>&lt;dbl&gt;</th></tr>\n",
       "</thead>\n",
       "<tbody>\n",
       "\t<tr><th scope=row>1</th><td>26707</td><td>0.06282598</td><td>0.2397931</td></tr>\n",
       "\t<tr><th scope=row>2</th><td>26708</td><td>0.01169483</td><td>0.0100000</td></tr>\n",
       "\t<tr><th scope=row>3</th><td>26709</td><td>0.38061953</td><td>0.6088012</td></tr>\n",
       "\t<tr><th scope=row>4</th><td>26710</td><td>0.50194488</td><td>0.8584078</td></tr>\n",
       "\t<tr><th scope=row>5</th><td>26711</td><td>0.25134780</td><td>0.4908154</td></tr>\n",
       "\t<tr><th scope=row>6</th><td>26712</td><td>0.42346578</td><td>0.9004768</td></tr>\n",
       "</tbody>\n",
       "</table>\n"
      ],
      "text/latex": [
       "A data.frame: 6 × 3\n",
       "\\begin{tabular}{r|lll}\n",
       "  & respondent\\_id & h1n1\\_vaccine & seasonal\\_vaccine\\\\\n",
       "  & <int> & <dbl> & <dbl>\\\\\n",
       "\\hline\n",
       "\t1 & 26707 & 0.06282598 & 0.2397931\\\\\n",
       "\t2 & 26708 & 0.01169483 & 0.0100000\\\\\n",
       "\t3 & 26709 & 0.38061953 & 0.6088012\\\\\n",
       "\t4 & 26710 & 0.50194488 & 0.8584078\\\\\n",
       "\t5 & 26711 & 0.25134780 & 0.4908154\\\\\n",
       "\t6 & 26712 & 0.42346578 & 0.9004768\\\\\n",
       "\\end{tabular}\n"
      ],
      "text/markdown": [
       "\n",
       "A data.frame: 6 × 3\n",
       "\n",
       "| <!--/--> | respondent_id &lt;int&gt; | h1n1_vaccine &lt;dbl&gt; | seasonal_vaccine &lt;dbl&gt; |\n",
       "|---|---|---|---|\n",
       "| 1 | 26707 | 0.06282598 | 0.2397931 |\n",
       "| 2 | 26708 | 0.01169483 | 0.0100000 |\n",
       "| 3 | 26709 | 0.38061953 | 0.6088012 |\n",
       "| 4 | 26710 | 0.50194488 | 0.8584078 |\n",
       "| 5 | 26711 | 0.25134780 | 0.4908154 |\n",
       "| 6 | 26712 | 0.42346578 | 0.9004768 |\n",
       "\n"
      ],
      "text/plain": [
       "  respondent_id h1n1_vaccine seasonal_vaccine\n",
       "1 26707         0.06282598   0.2397931       \n",
       "2 26708         0.01169483   0.0100000       \n",
       "3 26709         0.38061953   0.6088012       \n",
       "4 26710         0.50194488   0.8584078       \n",
       "5 26711         0.25134780   0.4908154       \n",
       "6 26712         0.42346578   0.9004768       "
      ]
     },
     "metadata": {},
     "output_type": "display_data"
    }
   ],
   "source": [
    "\n",
    "Y_final<-ifelse(Y_final<=0,0.01,Y_final)\n",
    "Y_final<-ifelse(Y_final>=1,0.99,Y_final)\n",
    "\n",
    "submission <- data.frame(submission_format[1],Y_final)\n",
    "colnames(submission)[2:3] <- c(names(submission_format[2:3]))\n",
    "cat(\"\\n\")\n",
    "print(paste(\"prediction for the test_set_features :\"))\n",
    "head(submission)\n",
    "write.csv(submission, \"sample_data/answers.csv\", row.names = FALSE, quote=FALSE)\n"
   ]
  },
  {
   "cell_type": "markdown",
   "metadata": {},
   "source": [
    "### F - test\n",
    "\n",
    "- **Hypothesis**: $\\beta_i=0$ for i > 1\n",
    "- **Test statistic**: $\\frac{SS_{mod}}{SS_{res}/(N-2)} \\sim F_{1,N-2} $"
   ]
  },
  {
   "cell_type": "code",
   "execution_count": 326,
   "metadata": {
    "vscode": {
     "languageId": "r"
    }
   },
   "outputs": [
    {
     "name": "stdout",
     "output_type": "stream",
     "text": [
      "[1] \"F-test result: F.value=  18591.1248010748\"\n",
      "[1] \"Pr[F >= F.value]=  0\"\n"
     ]
    },
    {
     "data": {
      "image/png": "[encoded data removed]",
      "text/plain": [
       "Plot with title “Probability distribution of the F-test statistic”"
      ]
     },
     "metadata": {
      "image/png": {
       "height": 420,
       "width": 420
      }
     },
     "output_type": "display_data"
    }
   ],
   "source": [
    "SS_mod <- sum((Y_hat[,1]-Y_bar[1])^2)\n",
    "SS_res <- sum((Y[,1]-Y_hat[,1])^2)\n",
    "F_stat <- SS_mod / (SS_res/(N-2))\n",
    "F_prob <- (1-pf(F_stat,df1=1,df2=N-2))\n",
    "I <- seq(0,5,0.05)\n",
    "plot(I,df(I,df1=1,df2=N-2),xlab=\"Statistic value\",ylab=\"Probability\",main=\"Probability distribution of the F-test statistic\")\n",
    "abline(v=F_stat,col=\"red\")\n",
    "print(paste(\"F-test result: F.value= \",F_stat))\n",
    "print(paste(\"Pr[F >= F.value]= \", F_prob))"
   ]
  },
  {
   "cell_type": "code",
   "execution_count": 327,
   "metadata": {
    "vscode": {
     "languageId": "r"
    }
   },
   "outputs": [
    {
     "name": "stdout",
     "output_type": "stream",
     "text": [
      "[1] \"F-test result: F.value=  18591.1248010748\"\n",
      "[1] \"Pr[F >= F.value]=  0\"\n"
     ]
    }
   ],
   "source": [
    "print(paste(\"F-test result: F.value= \",F_stat))\n",
    "print(paste(\"Pr[F >= F.value]= \", F_prob))"
   ]
  },
  {
   "cell_type": "markdown",
   "metadata": {},
   "source": [
    "## Model 2 <a class=\"anchor\" id=\"Model_2_Decision_Tree\"></a>"
   ]
  },
  {
   "cell_type": "code",
   "execution_count": 38,
   "metadata": {
    "vscode": {
     "languageId": "r"
    }
   },
   "outputs": [
    {
     "data": {
      "text/html": [
       "<table class=\"dataframe\">\n",
       "<caption>A data.frame: 6 × 46</caption>\n",
       "<thead>\n",
       "\t<tr><th></th><th scope=col>h1n1_concern</th><th scope=col>h1n1_knowledge</th><th scope=col>behavioral_antiviral_meds</th><th scope=col>behavioral_avoidance</th><th scope=col>behavioral_face_mask</th><th scope=col>behavioral_wash_hands</th><th scope=col>behavioral_large_gatherings</th><th scope=col>behavioral_outside_home</th><th scope=col>behavioral_touch_face</th><th scope=col>doctor_recc_h1n1</th><th scope=col>⋯</th><th scope=col>employment_not_specified</th><th scope=col>Employed</th><th scope=col>Not.in.Labor.Force</th><th scope=col>Unemployed</th><th scope=col>MSA..Not.Principle..City</th><th scope=col>MSA..Principle.City</th><th scope=col>Non.MSA</th><th scope=col>household_adults</th><th scope=col>household_children</th><th scope=col>h1n1_vaccine</th></tr>\n",
       "\t<tr><th></th><th scope=col>&lt;dbl&gt;</th><th scope=col>&lt;dbl&gt;</th><th scope=col>&lt;dbl&gt;</th><th scope=col>&lt;dbl&gt;</th><th scope=col>&lt;dbl&gt;</th><th scope=col>&lt;dbl&gt;</th><th scope=col>&lt;dbl&gt;</th><th scope=col>&lt;dbl&gt;</th><th scope=col>&lt;dbl&gt;</th><th scope=col>&lt;dbl&gt;</th><th scope=col>⋯</th><th scope=col>&lt;dbl&gt;</th><th scope=col>&lt;dbl&gt;</th><th scope=col>&lt;dbl&gt;</th><th scope=col>&lt;dbl&gt;</th><th scope=col>&lt;dbl&gt;</th><th scope=col>&lt;dbl&gt;</th><th scope=col>&lt;dbl&gt;</th><th scope=col>&lt;dbl&gt;</th><th scope=col>&lt;dbl&gt;</th><th scope=col>&lt;int&gt;</th></tr>\n",
       "</thead>\n",
       "<tbody>\n",
       "\t<tr><th scope=row>1</th><td>0.3333333</td><td>0.0</td><td>0</td><td>0</td><td>0</td><td>0</td><td>0</td><td>1</td><td>1</td><td>0</td><td>⋯</td><td>0</td><td>0</td><td>1</td><td>0</td><td>0</td><td>0</td><td>1</td><td>0.0000000</td><td>0</td><td>0</td></tr>\n",
       "\t<tr><th scope=row>2</th><td>1.0000000</td><td>1.0</td><td>0</td><td>1</td><td>0</td><td>1</td><td>0</td><td>1</td><td>1</td><td>0</td><td>⋯</td><td>0</td><td>1</td><td>0</td><td>0</td><td>1</td><td>0</td><td>0</td><td>0.0000000</td><td>0</td><td>0</td></tr>\n",
       "\t<tr><th scope=row>3</th><td>0.3333333</td><td>0.5</td><td>0</td><td>1</td><td>0</td><td>0</td><td>0</td><td>0</td><td>0</td><td>0</td><td>⋯</td><td>0</td><td>1</td><td>0</td><td>0</td><td>1</td><td>0</td><td>0</td><td>0.6666667</td><td>0</td><td>0</td></tr>\n",
       "\t<tr><th scope=row>4</th><td>0.3333333</td><td>0.5</td><td>0</td><td>1</td><td>0</td><td>1</td><td>1</td><td>0</td><td>0</td><td>0</td><td>⋯</td><td>0</td><td>0</td><td>1</td><td>0</td><td>0</td><td>1</td><td>0</td><td>0.0000000</td><td>0</td><td>0</td></tr>\n",
       "\t<tr><th scope=row>5</th><td>0.6666667</td><td>0.5</td><td>0</td><td>1</td><td>0</td><td>1</td><td>1</td><td>0</td><td>1</td><td>0</td><td>⋯</td><td>0</td><td>1</td><td>0</td><td>0</td><td>1</td><td>0</td><td>0</td><td>0.3333333</td><td>0</td><td>0</td></tr>\n",
       "\t<tr><th scope=row>6</th><td>1.0000000</td><td>0.5</td><td>0</td><td>1</td><td>0</td><td>1</td><td>0</td><td>0</td><td>1</td><td>0</td><td>⋯</td><td>0</td><td>1</td><td>0</td><td>0</td><td>0</td><td>1</td><td>0</td><td>0.6666667</td><td>1</td><td>0</td></tr>\n",
       "</tbody>\n",
       "</table>\n"
      ],
      "text/latex": [
       "A data.frame: 6 × 46\n",
       "\\begin{tabular}{r|lllllllllllllllllllll}\n",
       "  & h1n1\\_concern & h1n1\\_knowledge & behavioral\\_antiviral\\_meds & behavioral\\_avoidance & behavioral\\_face\\_mask & behavioral\\_wash\\_hands & behavioral\\_large\\_gatherings & behavioral\\_outside\\_home & behavioral\\_touch\\_face & doctor\\_recc\\_h1n1 & ⋯ & employment\\_not\\_specified & Employed & Not.in.Labor.Force & Unemployed & MSA..Not.Principle..City & MSA..Principle.City & Non.MSA & household\\_adults & household\\_children & h1n1\\_vaccine\\\\\n",
       "  & <dbl> & <dbl> & <dbl> & <dbl> & <dbl> & <dbl> & <dbl> & <dbl> & <dbl> & <dbl> & ⋯ & <dbl> & <dbl> & <dbl> & <dbl> & <dbl> & <dbl> & <dbl> & <dbl> & <dbl> & <int>\\\\\n",
       "\\hline\n",
       "\t1 & 0.3333333 & 0.0 & 0 & 0 & 0 & 0 & 0 & 1 & 1 & 0 & ⋯ & 0 & 0 & 1 & 0 & 0 & 0 & 1 & 0.0000000 & 0 & 0\\\\\n",
       "\t2 & 1.0000000 & 1.0 & 0 & 1 & 0 & 1 & 0 & 1 & 1 & 0 & ⋯ & 0 & 1 & 0 & 0 & 1 & 0 & 0 & 0.0000000 & 0 & 0\\\\\n",
       "\t3 & 0.3333333 & 0.5 & 0 & 1 & 0 & 0 & 0 & 0 & 0 & 0 & ⋯ & 0 & 1 & 0 & 0 & 1 & 0 & 0 & 0.6666667 & 0 & 0\\\\\n",
       "\t4 & 0.3333333 & 0.5 & 0 & 1 & 0 & 1 & 1 & 0 & 0 & 0 & ⋯ & 0 & 0 & 1 & 0 & 0 & 1 & 0 & 0.0000000 & 0 & 0\\\\\n",
       "\t5 & 0.6666667 & 0.5 & 0 & 1 & 0 & 1 & 1 & 0 & 1 & 0 & ⋯ & 0 & 1 & 0 & 0 & 1 & 0 & 0 & 0.3333333 & 0 & 0\\\\\n",
       "\t6 & 1.0000000 & 0.5 & 0 & 1 & 0 & 1 & 0 & 0 & 1 & 0 & ⋯ & 0 & 1 & 0 & 0 & 0 & 1 & 0 & 0.6666667 & 1 & 0\\\\\n",
       "\\end{tabular}\n"
      ],
      "text/markdown": [
       "\n",
       "A data.frame: 6 × 46\n",
       "\n",
       "| <!--/--> | h1n1_concern &lt;dbl&gt; | h1n1_knowledge &lt;dbl&gt; | behavioral_antiviral_meds &lt;dbl&gt; | behavioral_avoidance &lt;dbl&gt; | behavioral_face_mask &lt;dbl&gt; | behavioral_wash_hands &lt;dbl&gt; | behavioral_large_gatherings &lt;dbl&gt; | behavioral_outside_home &lt;dbl&gt; | behavioral_touch_face &lt;dbl&gt; | doctor_recc_h1n1 &lt;dbl&gt; | ⋯ ⋯ | employment_not_specified &lt;dbl&gt; | Employed &lt;dbl&gt; | Not.in.Labor.Force &lt;dbl&gt; | Unemployed &lt;dbl&gt; | MSA..Not.Principle..City &lt;dbl&gt; | MSA..Principle.City &lt;dbl&gt; | Non.MSA &lt;dbl&gt; | household_adults &lt;dbl&gt; | household_children &lt;dbl&gt; | h1n1_vaccine &lt;int&gt; |\n",
       "|---|---|---|---|---|---|---|---|---|---|---|---|---|---|---|---|---|---|---|---|---|---|\n",
       "| 1 | 0.3333333 | 0.0 | 0 | 0 | 0 | 0 | 0 | 1 | 1 | 0 | ⋯ | 0 | 0 | 1 | 0 | 0 | 0 | 1 | 0.0000000 | 0 | 0 |\n",
       "| 2 | 1.0000000 | 1.0 | 0 | 1 | 0 | 1 | 0 | 1 | 1 | 0 | ⋯ | 0 | 1 | 0 | 0 | 1 | 0 | 0 | 0.0000000 | 0 | 0 |\n",
       "| 3 | 0.3333333 | 0.5 | 0 | 1 | 0 | 0 | 0 | 0 | 0 | 0 | ⋯ | 0 | 1 | 0 | 0 | 1 | 0 | 0 | 0.6666667 | 0 | 0 |\n",
       "| 4 | 0.3333333 | 0.5 | 0 | 1 | 0 | 1 | 1 | 0 | 0 | 0 | ⋯ | 0 | 0 | 1 | 0 | 0 | 1 | 0 | 0.0000000 | 0 | 0 |\n",
       "| 5 | 0.6666667 | 0.5 | 0 | 1 | 0 | 1 | 1 | 0 | 1 | 0 | ⋯ | 0 | 1 | 0 | 0 | 1 | 0 | 0 | 0.3333333 | 0 | 0 |\n",
       "| 6 | 1.0000000 | 0.5 | 0 | 1 | 0 | 1 | 0 | 0 | 1 | 0 | ⋯ | 0 | 1 | 0 | 0 | 0 | 1 | 0 | 0.6666667 | 1 | 0 |\n",
       "\n"
      ],
      "text/plain": [
       "  h1n1_concern h1n1_knowledge behavioral_antiviral_meds behavioral_avoidance\n",
       "1 0.3333333    0.0            0                         0                   \n",
       "2 1.0000000    1.0            0                         1                   \n",
       "3 0.3333333    0.5            0                         1                   \n",
       "4 0.3333333    0.5            0                         1                   \n",
       "5 0.6666667    0.5            0                         1                   \n",
       "6 1.0000000    0.5            0                         1                   \n",
       "  behavioral_face_mask behavioral_wash_hands behavioral_large_gatherings\n",
       "1 0                    0                     0                          \n",
       "2 0                    1                     0                          \n",
       "3 0                    0                     0                          \n",
       "4 0                    1                     1                          \n",
       "5 0                    1                     1                          \n",
       "6 0                    1                     0                          \n",
       "  behavioral_outside_home behavioral_touch_face doctor_recc_h1n1 ⋯\n",
       "1 1                       1                     0                ⋯\n",
       "2 1                       1                     0                ⋯\n",
       "3 0                       0                     0                ⋯\n",
       "4 0                       0                     0                ⋯\n",
       "5 0                       1                     0                ⋯\n",
       "6 0                       1                     0                ⋯\n",
       "  employment_not_specified Employed Not.in.Labor.Force Unemployed\n",
       "1 0                        0        1                  0         \n",
       "2 0                        1        0                  0         \n",
       "3 0                        1        0                  0         \n",
       "4 0                        0        1                  0         \n",
       "5 0                        1        0                  0         \n",
       "6 0                        1        0                  0         \n",
       "  MSA..Not.Principle..City MSA..Principle.City Non.MSA household_adults\n",
       "1 0                        0                   1       0.0000000       \n",
       "2 1                        0                   0       0.0000000       \n",
       "3 1                        0                   0       0.6666667       \n",
       "4 0                        1                   0       0.0000000       \n",
       "5 1                        0                   0       0.3333333       \n",
       "6 0                        1                   0       0.6666667       \n",
       "  household_children h1n1_vaccine\n",
       "1 0                  0           \n",
       "2 0                  0           \n",
       "3 0                  0           \n",
       "4 0                  0           \n",
       "5 0                  0           \n",
       "6 1                  0           "
      ]
     },
     "metadata": {},
     "output_type": "display_data"
    }
   ],
   "source": [
    "spam <- data.frame(training_set_features[2:length(training_set_features)], training_set_labels[2]) \n",
    "head(spam)"
   ]
  },
  {
   "cell_type": "code",
   "execution_count": 83,
   "metadata": {
    "scrolled": true,
    "vscode": {
     "languageId": "r"
    }
   },
   "outputs": [
    {
     "data": {
      "text/html": [
       "'h1n1_vaccine'"
      ],
      "text/latex": [
       "'h1n1\\_vaccine'"
      ],
      "text/markdown": [
       "'h1n1_vaccine'"
      ],
      "text/plain": [
       "[1] \"h1n1_vaccine\""
      ]
     },
     "metadata": {},
     "output_type": "display_data"
    },
    {
     "data": {
      "text/html": [
       "'seasonal_vaccine'"
      ],
      "text/latex": [
       "'seasonal\\_vaccine'"
      ],
      "text/markdown": [
       "'seasonal_vaccine'"
      ],
      "text/plain": [
       "[1] \"seasonal_vaccine\""
      ]
     },
     "metadata": {},
     "output_type": "display_data"
    },
    {
     "data": {
      "text/html": [
       "<table class=\"dataframe\">\n",
       "<caption>A data.frame: 6 × 3</caption>\n",
       "<thead>\n",
       "\t<tr><th></th><th scope=col>respondent_id</th><th scope=col>h1n1_vaccine</th><th scope=col>seasonal_vaccine</th></tr>\n",
       "\t<tr><th></th><th scope=col>&lt;int&gt;</th><th scope=col>&lt;dbl&gt;</th><th scope=col>&lt;dbl&gt;</th></tr>\n",
       "</thead>\n",
       "<tbody>\n",
       "\t<tr><th scope=row>1</th><td>26707</td><td>0.08798949</td><td>0.6514851</td></tr>\n",
       "\t<tr><th scope=row>2</th><td>26708</td><td>0.08798949</td><td>0.2313280</td></tr>\n",
       "\t<tr><th scope=row>3</th><td>26709</td><td>0.21521226</td><td>0.7085137</td></tr>\n",
       "\t<tr><th scope=row>4</th><td>26710</td><td>0.32855681</td><td>0.7539150</td></tr>\n",
       "\t<tr><th scope=row>5</th><td>26711</td><td>0.08798949</td><td>0.2313280</td></tr>\n",
       "\t<tr><th scope=row>6</th><td>26712</td><td>0.33554817</td><td>0.6514851</td></tr>\n",
       "</tbody>\n",
       "</table>\n"
      ],
      "text/latex": [
       "A data.frame: 6 × 3\n",
       "\\begin{tabular}{r|lll}\n",
       "  & respondent\\_id & h1n1\\_vaccine & seasonal\\_vaccine\\\\\n",
       "  & <int> & <dbl> & <dbl>\\\\\n",
       "\\hline\n",
       "\t1 & 26707 & 0.08798949 & 0.6514851\\\\\n",
       "\t2 & 26708 & 0.08798949 & 0.2313280\\\\\n",
       "\t3 & 26709 & 0.21521226 & 0.7085137\\\\\n",
       "\t4 & 26710 & 0.32855681 & 0.7539150\\\\\n",
       "\t5 & 26711 & 0.08798949 & 0.2313280\\\\\n",
       "\t6 & 26712 & 0.33554817 & 0.6514851\\\\\n",
       "\\end{tabular}\n"
      ],
      "text/markdown": [
       "\n",
       "A data.frame: 6 × 3\n",
       "\n",
       "| <!--/--> | respondent_id &lt;int&gt; | h1n1_vaccine &lt;dbl&gt; | seasonal_vaccine &lt;dbl&gt; |\n",
       "|---|---|---|---|\n",
       "| 1 | 26707 | 0.08798949 | 0.6514851 |\n",
       "| 2 | 26708 | 0.08798949 | 0.2313280 |\n",
       "| 3 | 26709 | 0.21521226 | 0.7085137 |\n",
       "| 4 | 26710 | 0.32855681 | 0.7539150 |\n",
       "| 5 | 26711 | 0.08798949 | 0.2313280 |\n",
       "| 6 | 26712 | 0.33554817 | 0.6514851 |\n",
       "\n"
      ],
      "text/plain": [
       "  respondent_id h1n1_vaccine seasonal_vaccine\n",
       "1 26707         0.08798949   0.6514851       \n",
       "2 26708         0.08798949   0.2313280       \n",
       "3 26709         0.21521226   0.7085137       \n",
       "4 26710         0.32855681   0.7539150       \n",
       "5 26711         0.08798949   0.2313280       \n",
       "6 26712         0.33554817   0.6514851       "
      ]
     },
     "metadata": {},
     "output_type": "display_data"
    }
   ],
   "source": [
    "library(rpart)\n",
    "spam <- data.frame(training_set_features[2:length(training_set_features)], training_set_labels[2])\n",
    "spam_idx <- sample(1:nrow(spam))\n",
    "half_split <- floor(nrow(spam)/2)\n",
    "target_variable <- ncol(spam)\n",
    "type <- names(spam)[length(spam)]\n",
    "type\n",
    "\n",
    "train_data <- spam[spam_idx[1:half_split],]\n",
    "test_data <- spam[spam_idx[(half_split+1):nrow(spam)],]\n",
    "\n",
    "model <- rpart(form=h1n1_vaccine ~ ., method=\"class\", data=train_data)\n",
    "\n",
    "Y_pred <- predict(model,test_set_features)\n",
    "submission_format[2] <- Y_pred[,2]\n",
    "\n",
    "spam <- data.frame(training_set_features[2:length(training_set_features)], training_set_labels[3])\n",
    "spam_idx <- sample(1:nrow(spam))\n",
    "half_split <- floor(nrow(spam)/2)\n",
    "target_variable <- ncol(spam)\n",
    "type <- names(spam)[length(spam)]\n",
    "type\n",
    "\n",
    "train_data <- spam[spam_idx[1:half_split],]\n",
    "test_data <- spam[spam_idx[(half_split+1):nrow(spam)],]\n",
    "\n",
    "model <- rpart(form=seasonal_vaccine ~ ., method=\"class\", data=train_data)\n",
    "Y_pred <- predict(model,test_set_features)\n",
    "submission_format[3] <- Y_pred[,2]\n",
    "head(submission_format)\n",
    "\n",
    "write.csv(submission_format,\"sample_data/answers.csv\", row.names = FALSE, quote=FALSE)\n"
   ]
  },
  {
   "cell_type": "code",
   "execution_count": 84,
   "metadata": {
    "vscode": {
     "languageId": "r"
    }
   },
   "outputs": [
    {
     "name": "stdout",
     "output_type": "stream",
     "text": [
      "\n",
      "Classification tree:\n",
      "rpart(formula = seasonal_vaccine ~ ., data = train_data, method = \"class\")\n",
      "\n",
      "Variables actually used in tree construction:\n",
      "[1] age_group                   doctor_recc_seasonal       \n",
      "[3] employment_occupation       opinion_seas_risk          \n",
      "[5] opinion_seas_vacc_effective\n",
      "\n",
      "Root node error: 6187/13353 = 0.46334\n",
      "\n",
      "n= 13353 \n",
      "\n",
      "        CP nsplit rel error  xerror      xstd\n",
      "1 0.320026      0   1.00000 1.00000 0.0093134\n",
      "2 0.071763      1   0.67997 0.69743 0.0087349\n",
      "3 0.012688      2   0.60821 0.61742 0.0084407\n",
      "4 0.010829      5   0.55811 0.56861 0.0082275\n",
      "5 0.010000      7   0.53645 0.56312 0.0082017\n",
      "Call:\n",
      "rpart(formula = seasonal_vaccine ~ ., data = train_data, method = \"class\")\n",
      "  n= 13353 \n",
      "\n",
      "          CP nsplit rel error    xerror        xstd\n",
      "1 0.32002586      0 1.0000000 1.0000000 0.009313414\n",
      "2 0.07176337      1 0.6799741 0.6974301 0.008734882\n",
      "3 0.01268789      2 0.6082108 0.6174236 0.008440670\n",
      "4 0.01082916      5 0.5581057 0.5686116 0.008227456\n",
      "5 0.01000000      7 0.5364474 0.5631162 0.008201742\n",
      "\n",
      "Variable importance\n",
      "opinion_seas_vacc_effective        doctor_recc_seasonal \n",
      "                         31                          21 \n",
      "           doctor_recc_h1n1 opinion_h1n1_vacc_effective \n",
      "                         10                           9 \n",
      "          opinion_seas_risk                   age_group \n",
      "                          7                           5 \n",
      "      employment_occupation           opinion_h1n1_risk \n",
      "                          3                           2 \n",
      "        employment_industry           employment_status \n",
      "                          2                           2 \n",
      "               h1n1_concern          household_children \n",
      "                          2                           1 \n",
      "      chronic_med_condition            household_adults \n",
      "                          1                           1 \n",
      "\n",
      "Node number 1: 13353 observations,    complexity param=0.3200259\n",
      "  predicted class=0  expected loss=0.4633416  P(node) =1\n",
      "    class counts:  7166  6187\n",
      "   probabilities: 0.537 0.463 \n",
      "  left son=2 (8283 obs) right son=3 (5070 obs)\n",
      "  Primary splits:\n",
      "      opinion_seas_vacc_effective < 4.5 to the left,  improve=884.7577, (225 missing)\n",
      "      doctor_recc_seasonal        < 0.5 to the left,  improve=873.3456, (1067 missing)\n",
      "      opinion_seas_risk           < 2.5 to the left,  improve=872.7016, (249 missing)\n",
      "      age_group                   splits as  LLLRR,   improve=442.5459, (0 missing)\n",
      "      doctor_recc_h1n1            < 0.5 to the left,  improve=258.7439, (1067 missing)\n",
      "  Surrogate splits:\n",
      "      opinion_h1n1_vacc_effective < 4.5 to the left,  agree=0.729, adj=0.290, (68 split)\n",
      "      opinion_seas_risk           < 3.5 to the left,  agree=0.667, adj=0.129, (10 split)\n",
      "      opinion_h1n1_risk           < 3.5 to the left,  agree=0.635, adj=0.046, (1 split)\n",
      "      h1n1_concern                < 2.5 to the left,  agree=0.634, adj=0.042, (144 split)\n",
      "      age_group                   splits as  LLLLR,   agree=0.621, adj=0.008, (2 split)\n",
      "\n",
      "Node number 2: 8283 observations,    complexity param=0.07176337\n",
      "  predicted class=0  expected loss=0.3213811  P(node) =0.62031\n",
      "    class counts:  5621  2662\n",
      "   probabilities: 0.679 0.321 \n",
      "  left son=4 (6333 obs) right son=5 (1950 obs)\n",
      "  Primary splits:\n",
      "      doctor_recc_seasonal        < 0.5 to the left,  improve=429.1374, (667 missing)\n",
      "      opinion_seas_risk           < 2.5 to the left,  improve=332.0379, (183 missing)\n",
      "      age_group                   splits as  LLLLR,   improve=167.8792, (0 missing)\n",
      "      opinion_seas_vacc_effective < 2.5 to the left,  improve=130.7253, (175 missing)\n",
      "      doctor_recc_h1n1            < 0.5 to the left,  improve=119.2277, (667 missing)\n",
      "  Surrogate splits:\n",
      "      doctor_recc_h1n1    < 0.5 to the left,  agree=0.858, adj=0.447, (0 split)\n",
      "      employment_industry splits as  LLLLLLLLLLLLLLRLLLLLLL, agree=0.744, adj=0.001, (667 split)\n",
      "\n",
      "Node number 3: 5070 observations,    complexity param=0.01268789\n",
      "  predicted class=1  expected loss=0.3047337  P(node) =0.37969\n",
      "    class counts:  1545  3525\n",
      "   probabilities: 0.305 0.695 \n",
      "  left son=6 (2819 obs) right son=7 (2251 obs)\n",
      "  Primary splits:\n",
      "      doctor_recc_seasonal  < 0.5 to the left,  improve=170.07160, (400 missing)\n",
      "      opinion_seas_risk     < 2.5 to the left,  improve=142.17460, (66 missing)\n",
      "      age_group             splits as  LLLRR, improve=139.75410, (0 missing)\n",
      "      health_insurance      < 0.5 to the left,  improve= 60.69811, (2278 missing)\n",
      "      employment_occupation splits as  RRLRRRRRRRLRRLLRLLLLLLRR, improve= 57.74042, (0 missing)\n",
      "  Surrogate splits:\n",
      "      doctor_recc_h1n1      < 0.5 to the left,  agree=0.775, adj=0.505, (0 split)\n",
      "      chronic_med_condition < 0.5 to the left,  agree=0.597, adj=0.111, (369 split)\n",
      "      age_group             splits as  LLLLR,   agree=0.581, adj=0.076, (31 split)\n",
      "      opinion_seas_risk     < 2.5 to the left,  agree=0.568, adj=0.047, (0 split)\n",
      "      employment_status     splits as  LLRL,    agree=0.559, adj=0.027, (0 split)\n",
      "\n",
      "Node number 4: 6333 observations\n",
      "  predicted class=0  expected loss=0.231328  P(node) =0.4742754\n",
      "    class counts:  4868  1465\n",
      "   probabilities: 0.769 0.231 \n",
      "\n",
      "Node number 5: 1950 observations,    complexity param=0.01082916\n",
      "  predicted class=1  expected loss=0.3861538  P(node) =0.1460346\n",
      "    class counts:   753  1197\n",
      "   probabilities: 0.386 0.614 \n",
      "  left son=10 (1056 obs) right son=11 (894 obs)\n",
      "  Primary splits:\n",
      "      opinion_seas_risk           < 2.5 to the left,  improve=66.64266, (33 missing)\n",
      "      opinion_seas_vacc_effective < 2.5 to the left,  improve=62.34749, (30 missing)\n",
      "      age_group                   splits as  LLLLR, improve=39.03279, (0 missing)\n",
      "      employment_industry         splits as  RRLLLRRLLLRRLLLLLLRRLL, improve=23.92603, (0 missing)\n",
      "      opinion_h1n1_risk           < 1.5 to the left,  improve=23.61960, (23 missing)\n",
      "  Surrogate splits:\n",
      "      opinion_h1n1_risk           < 2.5 to the left,  agree=0.737, adj=0.425, (12 split)\n",
      "      opinion_h1n1_sick_from_vacc < 3.5 to the left,  agree=0.617, adj=0.163, (0 split)\n",
      "      h1n1_concern                < 1.5 to the left,  agree=0.615, adj=0.158, (21 split)\n",
      "      opinion_seas_sick_from_vacc < 2.5 to the left,  agree=0.601, adj=0.128, (0 split)\n",
      "      behavioral_large_gatherings < 0.5 to the left,  agree=0.563, adj=0.044, (0 split)\n",
      "\n",
      "Node number 6: 2819 observations,    complexity param=0.01268789\n",
      "  predicted class=1  expected loss=0.4253281  P(node) =0.2111136\n",
      "    class counts:  1199  1620\n",
      "   probabilities: 0.425 0.575 \n",
      "  left son=12 (1433 obs) right son=13 (1386 obs)\n",
      "  Primary splits:\n",
      "      age_group         splits as  LLLRR,   improve=97.68455, (0 missing)\n",
      "      opinion_seas_risk < 2.5 to the left,  improve=95.45482, (47 missing)\n",
      "      race              splits as  LLLR,    improve=50.83208, (0 missing)\n",
      "      health_insurance  < 0.5 to the left,  improve=43.50538, (1331 missing)\n",
      "      rent_or_own       splits as  LRL,     improve=43.26221, (0 missing)\n",
      "  Surrogate splits:\n",
      "      household_children    < 0.5 to the right, agree=0.702, adj=0.394, (0 split)\n",
      "      employment_status     splits as  LLRL, agree=0.698, adj=0.385, (0 split)\n",
      "      employment_industry   splits as  RLLLLLLLRLLLRLLLLLRLLL, agree=0.652, adj=0.291, (0 split)\n",
      "      employment_occupation splits as  RLLLLLLLLLLLRLLLLLLLLLLL, agree=0.648, adj=0.284, (0 split)\n",
      "      household_adults      < 0.5 to the right, agree=0.601, adj=0.189, (0 split)\n",
      "\n",
      "Node number 7: 2251 observations\n",
      "  predicted class=1  expected loss=0.1537095  P(node) =0.1685763\n",
      "    class counts:   346  1905\n",
      "   probabilities: 0.154 0.846 \n",
      "\n",
      "Node number 10: 1056 observations,    complexity param=0.01082916\n",
      "  predicted class=0  expected loss=0.4952652  P(node) =0.07908335\n",
      "    class counts:   533   523\n",
      "   probabilities: 0.505 0.495 \n",
      "  left son=20 (736 obs) right son=21 (320 obs)\n",
      "  Primary splits:\n",
      "      age_group                   splits as  LLLLR, improve=36.17602, (0 missing)\n",
      "      opinion_seas_vacc_effective < 2.5 to the left,  improve=31.24047, (15 missing)\n",
      "      doctor_recc_h1n1            < 0.5 to the right, improve=17.84233, (0 missing)\n",
      "      employment_occupation       splits as  RLLRRRLLLRLRLRLLLLLRLLLL, improve=15.19705, (0 missing)\n",
      "      employment_industry         splits as  RRLLLRRLLLRRLLLLLLRLLL, improve=14.36579, (0 missing)\n",
      "  Surrogate splits:\n",
      "      employment_status splits as  LLRL, agree=0.762, adj=0.216, (0 split)\n",
      "\n",
      "Node number 11: 894 observations\n",
      "  predicted class=1  expected loss=0.246085  P(node) =0.06695125\n",
      "    class counts:   220   674\n",
      "   probabilities: 0.246 0.754 \n",
      "\n",
      "Node number 12: 1433 observations,    complexity param=0.01268789\n",
      "  predicted class=0  expected loss=0.4452198  P(node) =0.1073167\n",
      "    class counts:   795   638\n",
      "   probabilities: 0.555 0.445 \n",
      "  left son=24 (928 obs) right son=25 (505 obs)\n",
      "  Primary splits:\n",
      "      employment_occupation splits as  LLLRRRRRRRLRRLLLLLLLLLRR, improve=66.35476, (0 missing)\n",
      "      opinion_seas_risk     < 2.5 to the left,  improve=64.85729, (31 missing)\n",
      "      employment_industry   splits as  LRRLLRRLLRRLRLRLLLRRLL, improve=58.13698, (0 missing)\n",
      "      health_worker         < 0.5 to the left,  improve=29.75423, (50 missing)\n",
      "      race                  splits as  LLLR, improve=25.26621, (0 missing)\n",
      "  Surrogate splits:\n",
      "      employment_industry splits as  LRLLLRRRLRLLLLRLLLLRLL, agree=0.837, adj=0.537, (0 split)\n",
      "      employment_status   splits as  LRLL, agree=0.712, adj=0.182, (0 split)\n",
      "      education           splits as  LLLRL, agree=0.694, adj=0.131, (0 split)\n",
      "      health_worker       < 0.5 to the left,  agree=0.669, adj=0.061, (0 split)\n",
      "      income_poverty      splits as  LLRL, agree=0.659, adj=0.032, (0 split)\n",
      "\n",
      "Node number 13: 1386 observations\n",
      "  predicted class=1  expected loss=0.2914863  P(node) =0.1037969\n",
      "    class counts:   404   982\n",
      "   probabilities: 0.291 0.709 \n",
      "\n",
      "Node number 20: 736 observations\n",
      "  predicted class=0  expected loss=0.4089674  P(node) =0.0551187\n",
      "    class counts:   435   301\n",
      "   probabilities: 0.591 0.409 \n",
      "\n",
      "Node number 21: 320 observations\n",
      "  predicted class=1  expected loss=0.30625  P(node) =0.02396465\n",
      "    class counts:    98   222\n",
      "   probabilities: 0.306 0.694 \n",
      "\n",
      "Node number 24: 928 observations\n",
      "  predicted class=0  expected loss=0.3329741  P(node) =0.06949749\n",
      "    class counts:   619   309\n",
      "   probabilities: 0.667 0.333 \n",
      "\n",
      "Node number 25: 505 observations\n",
      "  predicted class=1  expected loss=0.3485149  P(node) =0.03781922\n",
      "    class counts:   176   329\n",
      "   probabilities: 0.349 0.651 \n",
      "\n"
     ]
    },
    {
     "data": {
      "image/png": "[encoded data removed]",
      "text/plain": [
       "plot without title"
      ]
     },
     "metadata": {
      "image/png": {
       "height": 420,
       "width": 420
      }
     },
     "output_type": "display_data"
    }
   ],
   "source": [
    "printcp(model) # display the results\n",
    "plotcp(model) # visualize cross-validation results\n",
    "summary(model) # detailed summary of splits"
   ]
  },
  {
   "cell_type": "markdown",
   "metadata": {},
   "source": [
    "## Model 2.bis <a class=\"anchor\" id=\"Model_2_1_Boosted_Decision_Tree\"></a>"
   ]
  },
  {
   "cell_type": "code",
   "execution_count": 87,
   "metadata": {
    "vscode": {
     "languageId": "r"
    }
   },
   "outputs": [
    {
     "name": "stderr",
     "output_type": "stream",
     "text": [
      "Installing package into ‘/home/seb/R/x86_64-pc-linux-gnu-library/4.1’\n",
      "(as ‘lib’ is unspecified)\n",
      "\n"
     ]
    }
   ],
   "source": [
    "install.packages(\"tree\")"
   ]
  },
  {
   "cell_type": "code",
   "execution_count": 40,
   "metadata": {
    "vscode": {
     "languageId": "r"
    }
   },
   "outputs": [],
   "source": [
    "training_set_labels <- read.csv(\"sample_data/training_set_labels.csv\", stringsAsFactors  = T)\n",
    "spam_bis <- data.frame(training_set_features[2:length(training_set_features)], training_set_labels[3])\n",
    "# spam_bis$h1n1_vaccine\n"
   ]
  },
  {
   "cell_type": "code",
   "execution_count": 93,
   "metadata": {
    "vscode": {
     "languageId": "r"
    }
   },
   "outputs": [
    {
     "name": "stdout",
     "output_type": "stream",
     "text": [
      "[1] \"[INFO] - Training set size: 13353 - Testing set size 13354\"\n"
     ]
    },
    {
     "name": "stderr",
     "output_type": "stream",
     "text": [
      "Warning message in Y_pred_boosting + alpha_vec[j] * predict(tree_model, test_data):\n",
      "“longer object length is not a multiple of shorter object length”\n"
     ]
    },
    {
     "name": "stdout",
     "output_type": "stream",
     "text": [
      "[1] \"[INFO] - Training set size: 13353 - Testing set size 13354\"\n",
      "[1] \"[INFO] - Training set size: 13353 - Testing set size 13354\"\n",
      "[1] \"[INFO] - Training set size: 13353 - Testing set size 13354\"\n",
      "[1] \"[INFO] - Training set size: 13353 - Testing set size 13354\"\n",
      "[1] \"[INFO] - Training set size: 13353 - Testing set size 13354\"\n",
      "[1] \"[INFO] - Training set size: 13353 - Testing set size 13354\"\n",
      "[1] \"[INFO] - Training set size: 13353 - Testing set size 13354\"\n",
      "[1] \"[INFO] - Training set size: 13353 - Testing set size 13354\"\n",
      "[1] \"[INFO] - Training set size: 13353 - Testing set size 13354\"\n",
      "[1] \"[INFO] - Training set size: 13353 - Testing set size 13354\"\n",
      "[1] \"[INFO] - Training set size: 13353 - Testing set size 13354\"\n",
      "[1] \"[INFO] - Training set size: 13353 - Testing set size 13354\"\n",
      "[1] \"[INFO] - Training set size: 13353 - Testing set size 13354\"\n",
      "[1] \"[INFO] - Training set size: 13353 - Testing set size 13354\"\n",
      "[1] \"[INFO] - Misclassification rate - Single tree: 0.273850531675902\"\n",
      "[1] \"[INFO] - Misclassification rate - Boosted tree: 0.461060356447506\"\n"
     ]
    }
   ],
   "source": [
    "training_set_labels <- read.csv(\"sample_data/training_set_labels.csv\", stringsAsFactors  = T)\n",
    "\n",
    "training_set_features <- read.csv(\"sample_data/training_set_features.csv\", stringsAsFactors  = T)\n",
    "test_set_features <- read.csv(\"sample_data/test_set_features.csv\", stringsAsFactors  = T)\n",
    "# training_set_features <- data_sorting(training_set_features)\n",
    "training_set_features <- cleanData(training_set_features)\n",
    "training_set_features <- transform_na(training_set_features, 33)\n",
    "training_set_features <- transform_na(training_set_features, 34)\n",
    "test_set_features <- cleanData(test_set_features)\n",
    "test_set_features <- transform_na(test_set_features, 33)\n",
    "test_set_features <- transform_na(test_set_features, 34)\n",
    "# training_set_features <- subset(training_set_features, select = -35)\n",
    "# training_set_features <- subset(training_set_features, select = -35)\n",
    "\n",
    "spam_bis <- data.frame(training_set_features[2:length(training_set_features)], training_set_labels[3])\n",
    "library(tree)\n",
    "# library(rpart)\n",
    "\n",
    "\n",
    "\n",
    "# Parameters of the algorithm\n",
    "n_trees <- 15\n",
    "N <- nrow(spam_bis)\n",
    "\n",
    "\n",
    "alpha_vec <- array(NA,n_trees)\n",
    "misclassification_vec <- array(NA,n_trees)\n",
    "\n",
    "\n",
    "# Rescaling target variable\n",
    "# data(spam_bis)\n",
    "spam_bis$seasonal_vaccine <- ifelse(spam_bis$seasonal_vaccine == 1,-1,1) # Data in {-1,+1}\n",
    "# spam_bis$h1n1_vaccine\n",
    "target_variable <- ncol(spam_bis)\n",
    "\n",
    "\n",
    "# 50/50 data split\n",
    "spam_idx <- sample(1:N)\n",
    "half_split <- floor(N/2)\n",
    "train_data <- spam_bis[spam_idx[1:half_split],]\n",
    "test_data <- spam_bis[spam_idx[(half_split+1):nrow(spam_bis)],]\n",
    "\n",
    "\n",
    "# Prediction - Single tree\n",
    "tree_model <-tree(seasonal_vaccine ~ ., train_data,\n",
    "                  control=tree.control(half_split,mincut=20))\n",
    "\n",
    "# tree_model <-rpart(h1n1_vaccine ~ ., train_data,\n",
    "#                   control=rpart.control(half_split,mincut=10))\n",
    "\n",
    "Y_pred_tree <- sign(predict(tree_model,test_data))\n",
    "\n",
    "# Boosting\n",
    "Y_pred_boosting <- rep(0,length(test_data))\n",
    "w <- array(1/half_split,half_split)\n",
    "# set.seed(555)\n",
    "\n",
    "# For each boosting iteration\n",
    "for(j in 1:n_trees){\n",
    "    \n",
    "    #1. Sample from the training set\n",
    "    selected_samples <- sample(1:half_split,1,replace=TRUE,prob=w)\n",
    "    print(paste(\"[INFO] - Training set size:\",dim(train_data)[1],\"- Testing set size\",dim(test_data)[1]))\n",
    "    \n",
    "    #2. Fit a model on the training set and evaluate it on the training set\n",
    "     tree_model <-tree(seasonal_vaccine ~ ., train_data[selected_samples,],\n",
    "                  control=tree.control(half_split,mincut=20))\n",
    "#     tree_model <-rpart(h1n1_vaccine ~ ., train_data[selected_samples,],\n",
    "#                   control=rpart.control(half_split,mincut=10))\n",
    "    Y_pred_train <- sign(predict(tree_model,train_data))\n",
    "    #3. Compute misclassification on training set\n",
    "    misclassification_vec[j] <- sum(w*as.double(train_data$seasonal_vaccine != sign(Y_pred_train)))/sum(w)\n",
    "#     cat(\"Checking the missclassification value : \",misclassification_vec[j], \" At the run : \", j, \"\\n\")\n",
    "    \n",
    "    #4. Computation of alpha and updating of resampling weight\n",
    "    alpha_vec[j] <- log((1-misclassification_vec[j])/misclassification_vec[j])  \n",
    "    w <- w * exp(alpha_vec[j]*as.integer(train_data$seasonal_vaccine != sign(Y_pred_train)))\n",
    "#     cat(\"Checking if there is an NA in w : \", mean(w), \" At the run : \", j, \"\\n\")\n",
    "    \n",
    "    \n",
    "    #5. Normalize the weights in order to represent a true distribution\n",
    "    \n",
    "    w <- w/sum(w)\n",
    "\n",
    "    \n",
    "    #6. Compute the predictions on the testing set and weight them by alpha\n",
    "    Y_pred_boosting<-Y_pred_boosting+alpha_vec[j]*predict(tree_model,test_data)\n",
    "\n",
    "\n",
    "}\n",
    "\n",
    "# Misclassification error comparation\n",
    "misclassification_error_base <- sum(as.numeric(test_data$seasonal_vaccine != sign(Y_pred_tree)))/length(Y_pred_tree)\n",
    "misclassification_error_boosting <- sum(as.numeric(test_data$seasonal_vaccine != sign(Y_pred_boosting)))/length(Y_pred_boosting)\n",
    "\n",
    "print(paste(\"[INFO] - Misclassification rate - Single tree:\",misclassification_error_base))\n",
    "print(paste(\"[INFO] - Misclassification rate - Boosted tree:\",misclassification_error_boosting))\n"
   ]
  },
  {
   "cell_type": "markdown",
   "metadata": {},
   "source": [
    "\n",
    "## Model 3 <a class=\"anchor\" id=\"Model_3_Random_Forest\"></a>\n"
   ]
  },
  {
   "cell_type": "code",
   "execution_count": 42,
   "metadata": {
    "vscode": {
     "languageId": "r"
    }
   },
   "outputs": [
    {
     "name": "stderr",
     "output_type": "stream",
     "text": [
      "Installing package into ‘/home/seb/R/x86_64-pc-linux-gnu-library/4.2’\n",
      "(as ‘lib’ is unspecified)\n",
      "\n"
     ]
    }
   ],
   "source": [
    "install.packages(\"randomForest\")"
   ]
  },
  {
   "cell_type": "code",
   "execution_count": 45,
   "metadata": {
    "vscode": {
     "languageId": "r"
    }
   },
   "outputs": [
    {
     "data": {
      "image/png": "[encoded data removed]",
      "text/plain": [
       "Plot with title “Number of trees influence”"
      ]
     },
     "metadata": {
      "image/png": {
       "height": 600,
       "width": 1200
      }
     },
     "output_type": "display_data"
    }
   ],
   "source": [
    "library(\"randomForest\")\n",
    "spam <- data.frame(training_set_features[2:length(training_set_features)], training_set_labels[3]) \n",
    "n_trees <- 10\n",
    "accuracy_vec <- array(0,n_trees)\n",
    "\n",
    "spam_idx <- sample(1:nrow(spam))\n",
    "half_split <- floor(nrow(spam)/2)\n",
    "target_variable <- ncol(spam)\n",
    "\n",
    "for (i in 1:n_trees){ #print(i)\n",
    "    #3.1 Take the first half of the dataset as a training data set\n",
    "    train_data <- spam[spam_idx[1:half_split],]\n",
    "\n",
    "    #3.2 Take the second half of the dataset as a hold out or test data set\n",
    "    test_data <- spam[spam_idx[(half_split+1):nrow(spam)],]\n",
    "    \n",
    "    model <- randomForest(x=train_data[,-c(target_variable)],\n",
    "                          y=as.factor(train_data[,c(target_variable)]),\n",
    "                          xtest=test_data[,-c(target_variable)],\n",
    "                          ytest=as.factor(test_data[,c(target_variable)]),\n",
    "                          ntree=i*10)\n",
    "    \n",
    "    accuracy_vec[i] = (model$test$confusion[1,1]+model$test$confusion[2,2])/sum(model$test$confusion)\n",
    "    }\n",
    "plot(accuracy_vec,main = \"Number of trees influence\",xlab = \"Nbr of trees\",ylab = \"Classification rate\")"
   ]
  },
  {
   "cell_type": "code",
   "execution_count": null,
   "metadata": {
    "vscode": {
     "languageId": "r"
    }
   },
   "outputs": [],
   "source": [
    " ?numeric()"
   ]
  },
  {
   "cell_type": "code",
   "execution_count": null,
   "metadata": {
    "vscode": {
     "languageId": "r"
    }
   },
   "outputs": [
    {
     "name": "stderr",
     "output_type": "stream",
     "text": [
      "Installing package into ‘/home/seb/R/x86_64-pc-linux-gnu-library/4.2’\n",
      "(as ‘lib’ is unspecified)\n",
      "\n"
     ]
    }
   ],
   "source": [
    "install.packages(\"randomForest\")"
   ]
  },
  {
   "cell_type": "code",
   "execution_count": 59,
   "metadata": {
    "vscode": {
     "languageId": "r"
    }
   },
   "outputs": [
    {
     "data": {
      "text/html": [
       "<table class=\"dataframe\">\n",
       "<caption>A data.frame: 6 × 36</caption>\n",
       "<thead>\n",
       "\t<tr><th></th><th scope=col>h1n1_concern</th><th scope=col>h1n1_knowledge</th><th scope=col>behavioral_antiviral_meds</th><th scope=col>behavioral_avoidance</th><th scope=col>behavioral_face_mask</th><th scope=col>behavioral_wash_hands</th><th scope=col>behavioral_large_gatherings</th><th scope=col>behavioral_outside_home</th><th scope=col>behavioral_touch_face</th><th scope=col>doctor_recc_h1n1</th><th scope=col>⋯</th><th scope=col>marital_status</th><th scope=col>rent_or_own</th><th scope=col>employment_status</th><th scope=col>hhs_geo_region</th><th scope=col>census_msa</th><th scope=col>household_adults</th><th scope=col>household_children</th><th scope=col>employment_industry</th><th scope=col>employment_occupation</th><th scope=col>h1n1_vaccine</th></tr>\n",
       "\t<tr><th></th><th scope=col>&lt;dbl&gt;</th><th scope=col>&lt;dbl&gt;</th><th scope=col>&lt;dbl&gt;</th><th scope=col>&lt;dbl&gt;</th><th scope=col>&lt;dbl&gt;</th><th scope=col>&lt;dbl&gt;</th><th scope=col>&lt;dbl&gt;</th><th scope=col>&lt;dbl&gt;</th><th scope=col>&lt;dbl&gt;</th><th scope=col>&lt;dbl&gt;</th><th scope=col>⋯</th><th scope=col>&lt;fct&gt;</th><th scope=col>&lt;fct&gt;</th><th scope=col>&lt;fct&gt;</th><th scope=col>&lt;fct&gt;</th><th scope=col>&lt;fct&gt;</th><th scope=col>&lt;dbl&gt;</th><th scope=col>&lt;dbl&gt;</th><th scope=col>&lt;fct&gt;</th><th scope=col>&lt;fct&gt;</th><th scope=col>&lt;int&gt;</th></tr>\n",
       "</thead>\n",
       "<tbody>\n",
       "\t<tr><th scope=row>1</th><td>1</td><td>0</td><td>0</td><td>0</td><td>0</td><td>0</td><td>0</td><td>1</td><td>1</td><td>0</td><td>⋯</td><td>Not Married</td><td>Own </td><td>Not in Labor Force</td><td>oxchjgsf</td><td>Non-MSA                 </td><td>0</td><td>0</td><td>        </td><td>        </td><td>0</td></tr>\n",
       "\t<tr><th scope=row>2</th><td>3</td><td>2</td><td>0</td><td>1</td><td>0</td><td>1</td><td>0</td><td>1</td><td>1</td><td>0</td><td>⋯</td><td>Not Married</td><td>Rent</td><td>Employed          </td><td>bhuqouqj</td><td>MSA, Not Principle  City</td><td>0</td><td>0</td><td>pxcmvdjn</td><td>xgwztkwe</td><td>0</td></tr>\n",
       "\t<tr><th scope=row>3</th><td>1</td><td>1</td><td>0</td><td>1</td><td>0</td><td>0</td><td>0</td><td>0</td><td>0</td><td>0</td><td>⋯</td><td>Not Married</td><td>Own </td><td>Employed          </td><td>qufhixun</td><td>MSA, Not Principle  City</td><td>2</td><td>0</td><td>rucpziij</td><td>xtkaffoo</td><td>0</td></tr>\n",
       "\t<tr><th scope=row>4</th><td>1</td><td>1</td><td>0</td><td>1</td><td>0</td><td>1</td><td>1</td><td>0</td><td>0</td><td>0</td><td>⋯</td><td>Not Married</td><td>Rent</td><td>Not in Labor Force</td><td>lrircsnp</td><td>MSA, Principle City     </td><td>0</td><td>0</td><td>        </td><td>        </td><td>0</td></tr>\n",
       "\t<tr><th scope=row>5</th><td>2</td><td>1</td><td>0</td><td>1</td><td>0</td><td>1</td><td>1</td><td>0</td><td>1</td><td>0</td><td>⋯</td><td>Married    </td><td>Own </td><td>Employed          </td><td>qufhixun</td><td>MSA, Not Principle  City</td><td>1</td><td>0</td><td>wxleyezf</td><td>emcorrxb</td><td>0</td></tr>\n",
       "\t<tr><th scope=row>6</th><td>3</td><td>1</td><td>0</td><td>1</td><td>0</td><td>1</td><td>0</td><td>0</td><td>1</td><td>0</td><td>⋯</td><td>Married    </td><td>Own </td><td>Employed          </td><td>atmpeygn</td><td>MSA, Principle City     </td><td>2</td><td>3</td><td>saaquncn</td><td>vlluhbov</td><td>0</td></tr>\n",
       "</tbody>\n",
       "</table>\n"
      ],
      "text/latex": [
       "A data.frame: 6 × 36\n",
       "\\begin{tabular}{r|lllllllllllllllllllll}\n",
       "  & h1n1\\_concern & h1n1\\_knowledge & behavioral\\_antiviral\\_meds & behavioral\\_avoidance & behavioral\\_face\\_mask & behavioral\\_wash\\_hands & behavioral\\_large\\_gatherings & behavioral\\_outside\\_home & behavioral\\_touch\\_face & doctor\\_recc\\_h1n1 & ⋯ & marital\\_status & rent\\_or\\_own & employment\\_status & hhs\\_geo\\_region & census\\_msa & household\\_adults & household\\_children & employment\\_industry & employment\\_occupation & h1n1\\_vaccine\\\\\n",
       "  & <dbl> & <dbl> & <dbl> & <dbl> & <dbl> & <dbl> & <dbl> & <dbl> & <dbl> & <dbl> & ⋯ & <fct> & <fct> & <fct> & <fct> & <fct> & <dbl> & <dbl> & <fct> & <fct> & <int>\\\\\n",
       "\\hline\n",
       "\t1 & 1 & 0 & 0 & 0 & 0 & 0 & 0 & 1 & 1 & 0 & ⋯ & Not Married & Own  & Not in Labor Force & oxchjgsf & Non-MSA                  & 0 & 0 &          &          & 0\\\\\n",
       "\t2 & 3 & 2 & 0 & 1 & 0 & 1 & 0 & 1 & 1 & 0 & ⋯ & Not Married & Rent & Employed           & bhuqouqj & MSA, Not Principle  City & 0 & 0 & pxcmvdjn & xgwztkwe & 0\\\\\n",
       "\t3 & 1 & 1 & 0 & 1 & 0 & 0 & 0 & 0 & 0 & 0 & ⋯ & Not Married & Own  & Employed           & qufhixun & MSA, Not Principle  City & 2 & 0 & rucpziij & xtkaffoo & 0\\\\\n",
       "\t4 & 1 & 1 & 0 & 1 & 0 & 1 & 1 & 0 & 0 & 0 & ⋯ & Not Married & Rent & Not in Labor Force & lrircsnp & MSA, Principle City      & 0 & 0 &          &          & 0\\\\\n",
       "\t5 & 2 & 1 & 0 & 1 & 0 & 1 & 1 & 0 & 1 & 0 & ⋯ & Married     & Own  & Employed           & qufhixun & MSA, Not Principle  City & 1 & 0 & wxleyezf & emcorrxb & 0\\\\\n",
       "\t6 & 3 & 1 & 0 & 1 & 0 & 1 & 0 & 0 & 1 & 0 & ⋯ & Married     & Own  & Employed           & atmpeygn & MSA, Principle City      & 2 & 3 & saaquncn & vlluhbov & 0\\\\\n",
       "\\end{tabular}\n"
      ],
      "text/markdown": [
       "\n",
       "A data.frame: 6 × 36\n",
       "\n",
       "| <!--/--> | h1n1_concern &lt;dbl&gt; | h1n1_knowledge &lt;dbl&gt; | behavioral_antiviral_meds &lt;dbl&gt; | behavioral_avoidance &lt;dbl&gt; | behavioral_face_mask &lt;dbl&gt; | behavioral_wash_hands &lt;dbl&gt; | behavioral_large_gatherings &lt;dbl&gt; | behavioral_outside_home &lt;dbl&gt; | behavioral_touch_face &lt;dbl&gt; | doctor_recc_h1n1 &lt;dbl&gt; | ⋯ ⋯ | marital_status &lt;fct&gt; | rent_or_own &lt;fct&gt; | employment_status &lt;fct&gt; | hhs_geo_region &lt;fct&gt; | census_msa &lt;fct&gt; | household_adults &lt;dbl&gt; | household_children &lt;dbl&gt; | employment_industry &lt;fct&gt; | employment_occupation &lt;fct&gt; | h1n1_vaccine &lt;int&gt; |\n",
       "|---|---|---|---|---|---|---|---|---|---|---|---|---|---|---|---|---|---|---|---|---|---|\n",
       "| 1 | 1 | 0 | 0 | 0 | 0 | 0 | 0 | 1 | 1 | 0 | ⋯ | Not Married | Own  | Not in Labor Force | oxchjgsf | Non-MSA                  | 0 | 0 | <!----> | <!----> | 0 |\n",
       "| 2 | 3 | 2 | 0 | 1 | 0 | 1 | 0 | 1 | 1 | 0 | ⋯ | Not Married | Rent | Employed           | bhuqouqj | MSA, Not Principle  City | 0 | 0 | pxcmvdjn | xgwztkwe | 0 |\n",
       "| 3 | 1 | 1 | 0 | 1 | 0 | 0 | 0 | 0 | 0 | 0 | ⋯ | Not Married | Own  | Employed           | qufhixun | MSA, Not Principle  City | 2 | 0 | rucpziij | xtkaffoo | 0 |\n",
       "| 4 | 1 | 1 | 0 | 1 | 0 | 1 | 1 | 0 | 0 | 0 | ⋯ | Not Married | Rent | Not in Labor Force | lrircsnp | MSA, Principle City      | 0 | 0 | <!----> | <!----> | 0 |\n",
       "| 5 | 2 | 1 | 0 | 1 | 0 | 1 | 1 | 0 | 1 | 0 | ⋯ | Married     | Own  | Employed           | qufhixun | MSA, Not Principle  City | 1 | 0 | wxleyezf | emcorrxb | 0 |\n",
       "| 6 | 3 | 1 | 0 | 1 | 0 | 1 | 0 | 0 | 1 | 0 | ⋯ | Married     | Own  | Employed           | atmpeygn | MSA, Principle City      | 2 | 3 | saaquncn | vlluhbov | 0 |\n",
       "\n"
      ],
      "text/plain": [
       "  h1n1_concern h1n1_knowledge behavioral_antiviral_meds behavioral_avoidance\n",
       "1 1            0              0                         0                   \n",
       "2 3            2              0                         1                   \n",
       "3 1            1              0                         1                   \n",
       "4 1            1              0                         1                   \n",
       "5 2            1              0                         1                   \n",
       "6 3            1              0                         1                   \n",
       "  behavioral_face_mask behavioral_wash_hands behavioral_large_gatherings\n",
       "1 0                    0                     0                          \n",
       "2 0                    1                     0                          \n",
       "3 0                    0                     0                          \n",
       "4 0                    1                     1                          \n",
       "5 0                    1                     1                          \n",
       "6 0                    1                     0                          \n",
       "  behavioral_outside_home behavioral_touch_face doctor_recc_h1n1 ⋯\n",
       "1 1                       1                     0                ⋯\n",
       "2 1                       1                     0                ⋯\n",
       "3 0                       0                     0                ⋯\n",
       "4 0                       0                     0                ⋯\n",
       "5 0                       1                     0                ⋯\n",
       "6 0                       1                     0                ⋯\n",
       "  marital_status rent_or_own employment_status  hhs_geo_region\n",
       "1 Not Married    Own         Not in Labor Force oxchjgsf      \n",
       "2 Not Married    Rent        Employed           bhuqouqj      \n",
       "3 Not Married    Own         Employed           qufhixun      \n",
       "4 Not Married    Rent        Not in Labor Force lrircsnp      \n",
       "5 Married        Own         Employed           qufhixun      \n",
       "6 Married        Own         Employed           atmpeygn      \n",
       "  census_msa               household_adults household_children\n",
       "1 Non-MSA                  0                0                 \n",
       "2 MSA, Not Principle  City 0                0                 \n",
       "3 MSA, Not Principle  City 2                0                 \n",
       "4 MSA, Principle City      0                0                 \n",
       "5 MSA, Not Principle  City 1                0                 \n",
       "6 MSA, Principle City      2                3                 \n",
       "  employment_industry employment_occupation h1n1_vaccine\n",
       "1                                           0           \n",
       "2 pxcmvdjn            xgwztkwe              0           \n",
       "3 rucpziij            xtkaffoo              0           \n",
       "4                                           0           \n",
       "5 wxleyezf            emcorrxb              0           \n",
       "6 saaquncn            vlluhbov              0           "
      ]
     },
     "metadata": {},
     "output_type": "display_data"
    },
    {
     "data": {
      "text/html": [
       "<table class=\"dataframe\">\n",
       "<caption>A data.frame: 6 × 36</caption>\n",
       "<thead>\n",
       "\t<tr><th></th><th scope=col>respondent_id</th><th scope=col>h1n1_concern</th><th scope=col>h1n1_knowledge</th><th scope=col>behavioral_antiviral_meds</th><th scope=col>behavioral_avoidance</th><th scope=col>behavioral_face_mask</th><th scope=col>behavioral_wash_hands</th><th scope=col>behavioral_large_gatherings</th><th scope=col>behavioral_outside_home</th><th scope=col>behavioral_touch_face</th><th scope=col>⋯</th><th scope=col>income_poverty</th><th scope=col>marital_status</th><th scope=col>rent_or_own</th><th scope=col>employment_status</th><th scope=col>hhs_geo_region</th><th scope=col>census_msa</th><th scope=col>household_adults</th><th scope=col>household_children</th><th scope=col>employment_industry</th><th scope=col>employment_occupation</th></tr>\n",
       "\t<tr><th></th><th scope=col>&lt;int&gt;</th><th scope=col>&lt;dbl&gt;</th><th scope=col>&lt;dbl&gt;</th><th scope=col>&lt;dbl&gt;</th><th scope=col>&lt;dbl&gt;</th><th scope=col>&lt;dbl&gt;</th><th scope=col>&lt;dbl&gt;</th><th scope=col>&lt;dbl&gt;</th><th scope=col>&lt;dbl&gt;</th><th scope=col>&lt;dbl&gt;</th><th scope=col>⋯</th><th scope=col>&lt;fct&gt;</th><th scope=col>&lt;fct&gt;</th><th scope=col>&lt;fct&gt;</th><th scope=col>&lt;fct&gt;</th><th scope=col>&lt;fct&gt;</th><th scope=col>&lt;fct&gt;</th><th scope=col>&lt;dbl&gt;</th><th scope=col>&lt;dbl&gt;</th><th scope=col>&lt;fct&gt;</th><th scope=col>&lt;fct&gt;</th></tr>\n",
       "</thead>\n",
       "<tbody>\n",
       "\t<tr><th scope=row>1</th><td>26707</td><td>2</td><td>2</td><td>0</td><td>1</td><td>0</td><td>1</td><td>1</td><td>0</td><td>1</td><td>⋯</td><td><span style=white-space:pre-wrap>&gt; $75,000                </span></td><td>Not Married</td><td>Rent</td><td><span style=white-space:pre-wrap>Employed          </span></td><td>mlyzmhmf</td><td><span style=white-space:pre-wrap>MSA, Not Principle  City</span></td><td>1</td><td>0</td><td>atmlpfrs</td><td>hfxkjkmi</td></tr>\n",
       "\t<tr><th scope=row>2</th><td>26708</td><td>1</td><td>1</td><td>0</td><td>0</td><td>0</td><td>0</td><td>0</td><td>0</td><td>0</td><td>⋯</td><td>Below Poverty            </td><td>Not Married</td><td>Rent</td><td>Employed          </td><td>bhuqouqj</td><td>Non-MSA                 </td><td>3</td><td>0</td><td>atmlpfrs</td><td>xqwwgdyp</td></tr>\n",
       "\t<tr><th scope=row>3</th><td>26709</td><td>2</td><td>2</td><td>0</td><td>0</td><td>1</td><td>1</td><td>1</td><td>1</td><td>1</td><td>⋯</td><td><span style=white-space:pre-wrap>&gt; $75,000                </span></td><td><span style=white-space:pre-wrap>Married    </span></td><td>Own </td><td><span style=white-space:pre-wrap>Employed          </span></td><td>lrircsnp</td><td><span style=white-space:pre-wrap>Non-MSA                 </span></td><td>1</td><td>0</td><td>nduyfdeo</td><td>pvmttkik</td></tr>\n",
       "\t<tr><th scope=row>4</th><td>26710</td><td>1</td><td>1</td><td>0</td><td>0</td><td>0</td><td>0</td><td>0</td><td>0</td><td>0</td><td>⋯</td><td>&lt;= $75,000, Above Poverty</td><td><span style=white-space:pre-wrap>Married    </span></td><td>Own </td><td>Not in Labor Force</td><td>lrircsnp</td><td><span style=white-space:pre-wrap>MSA, Not Principle  City</span></td><td>1</td><td>0</td><td><span style=white-space:pre-wrap>        </span></td><td><span style=white-space:pre-wrap>        </span></td></tr>\n",
       "\t<tr><th scope=row>5</th><td>26711</td><td>3</td><td>1</td><td>1</td><td>1</td><td>0</td><td>1</td><td>1</td><td>1</td><td>1</td><td>⋯</td><td>&lt;= $75,000, Above Poverty</td><td>Not Married</td><td>Own </td><td><span style=white-space:pre-wrap>Employed          </span></td><td>lzgpxyit</td><td><span style=white-space:pre-wrap>Non-MSA                 </span></td><td>0</td><td>1</td><td>fcxhlnwr</td><td>mxkfnird</td></tr>\n",
       "\t<tr><th scope=row>6</th><td>26712</td><td>2</td><td>2</td><td>0</td><td>1</td><td>0</td><td>1</td><td>1</td><td>0</td><td>1</td><td>⋯</td><td><span style=white-space:pre-wrap>&gt; $75,000                </span></td><td>Not Married</td><td>Own </td><td><span style=white-space:pre-wrap>Employed          </span></td><td>mlyzmhmf</td><td><span style=white-space:pre-wrap>MSA, Principle City     </span></td><td>0</td><td>2</td><td>fcxhlnwr</td><td>cmhcxjea</td></tr>\n",
       "</tbody>\n",
       "</table>\n"
      ],
      "text/latex": [
       "A data.frame: 6 × 36\n",
       "\\begin{tabular}{r|lllllllllllllllllllll}\n",
       "  & respondent\\_id & h1n1\\_concern & h1n1\\_knowledge & behavioral\\_antiviral\\_meds & behavioral\\_avoidance & behavioral\\_face\\_mask & behavioral\\_wash\\_hands & behavioral\\_large\\_gatherings & behavioral\\_outside\\_home & behavioral\\_touch\\_face & ⋯ & income\\_poverty & marital\\_status & rent\\_or\\_own & employment\\_status & hhs\\_geo\\_region & census\\_msa & household\\_adults & household\\_children & employment\\_industry & employment\\_occupation\\\\\n",
       "  & <int> & <dbl> & <dbl> & <dbl> & <dbl> & <dbl> & <dbl> & <dbl> & <dbl> & <dbl> & ⋯ & <fct> & <fct> & <fct> & <fct> & <fct> & <fct> & <dbl> & <dbl> & <fct> & <fct>\\\\\n",
       "\\hline\n",
       "\t1 & 26707 & 2 & 2 & 0 & 1 & 0 & 1 & 1 & 0 & 1 & ⋯ & > \\$75,000                 & Not Married & Rent & Employed           & mlyzmhmf & MSA, Not Principle  City & 1 & 0 & atmlpfrs & hfxkjkmi\\\\\n",
       "\t2 & 26708 & 1 & 1 & 0 & 0 & 0 & 0 & 0 & 0 & 0 & ⋯ & Below Poverty             & Not Married & Rent & Employed           & bhuqouqj & Non-MSA                  & 3 & 0 & atmlpfrs & xqwwgdyp\\\\\n",
       "\t3 & 26709 & 2 & 2 & 0 & 0 & 1 & 1 & 1 & 1 & 1 & ⋯ & > \\$75,000                 & Married     & Own  & Employed           & lrircsnp & Non-MSA                  & 1 & 0 & nduyfdeo & pvmttkik\\\\\n",
       "\t4 & 26710 & 1 & 1 & 0 & 0 & 0 & 0 & 0 & 0 & 0 & ⋯ & <= \\$75,000, Above Poverty & Married     & Own  & Not in Labor Force & lrircsnp & MSA, Not Principle  City & 1 & 0 &          &         \\\\\n",
       "\t5 & 26711 & 3 & 1 & 1 & 1 & 0 & 1 & 1 & 1 & 1 & ⋯ & <= \\$75,000, Above Poverty & Not Married & Own  & Employed           & lzgpxyit & Non-MSA                  & 0 & 1 & fcxhlnwr & mxkfnird\\\\\n",
       "\t6 & 26712 & 2 & 2 & 0 & 1 & 0 & 1 & 1 & 0 & 1 & ⋯ & > \\$75,000                 & Not Married & Own  & Employed           & mlyzmhmf & MSA, Principle City      & 0 & 2 & fcxhlnwr & cmhcxjea\\\\\n",
       "\\end{tabular}\n"
      ],
      "text/markdown": [
       "\n",
       "A data.frame: 6 × 36\n",
       "\n",
       "| <!--/--> | respondent_id &lt;int&gt; | h1n1_concern &lt;dbl&gt; | h1n1_knowledge &lt;dbl&gt; | behavioral_antiviral_meds &lt;dbl&gt; | behavioral_avoidance &lt;dbl&gt; | behavioral_face_mask &lt;dbl&gt; | behavioral_wash_hands &lt;dbl&gt; | behavioral_large_gatherings &lt;dbl&gt; | behavioral_outside_home &lt;dbl&gt; | behavioral_touch_face &lt;dbl&gt; | ⋯ ⋯ | income_poverty &lt;fct&gt; | marital_status &lt;fct&gt; | rent_or_own &lt;fct&gt; | employment_status &lt;fct&gt; | hhs_geo_region &lt;fct&gt; | census_msa &lt;fct&gt; | household_adults &lt;dbl&gt; | household_children &lt;dbl&gt; | employment_industry &lt;fct&gt; | employment_occupation &lt;fct&gt; |\n",
       "|---|---|---|---|---|---|---|---|---|---|---|---|---|---|---|---|---|---|---|---|---|---|\n",
       "| 1 | 26707 | 2 | 2 | 0 | 1 | 0 | 1 | 1 | 0 | 1 | ⋯ | &gt; $75,000                 | Not Married | Rent | Employed           | mlyzmhmf | MSA, Not Principle  City | 1 | 0 | atmlpfrs | hfxkjkmi |\n",
       "| 2 | 26708 | 1 | 1 | 0 | 0 | 0 | 0 | 0 | 0 | 0 | ⋯ | Below Poverty             | Not Married | Rent | Employed           | bhuqouqj | Non-MSA                  | 3 | 0 | atmlpfrs | xqwwgdyp |\n",
       "| 3 | 26709 | 2 | 2 | 0 | 0 | 1 | 1 | 1 | 1 | 1 | ⋯ | &gt; $75,000                 | Married     | Own  | Employed           | lrircsnp | Non-MSA                  | 1 | 0 | nduyfdeo | pvmttkik |\n",
       "| 4 | 26710 | 1 | 1 | 0 | 0 | 0 | 0 | 0 | 0 | 0 | ⋯ | &lt;= $75,000, Above Poverty | Married     | Own  | Not in Labor Force | lrircsnp | MSA, Not Principle  City | 1 | 0 | <!----> | <!----> |\n",
       "| 5 | 26711 | 3 | 1 | 1 | 1 | 0 | 1 | 1 | 1 | 1 | ⋯ | &lt;= $75,000, Above Poverty | Not Married | Own  | Employed           | lzgpxyit | Non-MSA                  | 0 | 1 | fcxhlnwr | mxkfnird |\n",
       "| 6 | 26712 | 2 | 2 | 0 | 1 | 0 | 1 | 1 | 0 | 1 | ⋯ | &gt; $75,000                 | Not Married | Own  | Employed           | mlyzmhmf | MSA, Principle City      | 0 | 2 | fcxhlnwr | cmhcxjea |\n",
       "\n"
      ],
      "text/plain": [
       "  respondent_id h1n1_concern h1n1_knowledge behavioral_antiviral_meds\n",
       "1 26707         2            2              0                        \n",
       "2 26708         1            1              0                        \n",
       "3 26709         2            2              0                        \n",
       "4 26710         1            1              0                        \n",
       "5 26711         3            1              1                        \n",
       "6 26712         2            2              0                        \n",
       "  behavioral_avoidance behavioral_face_mask behavioral_wash_hands\n",
       "1 1                    0                    1                    \n",
       "2 0                    0                    0                    \n",
       "3 0                    1                    1                    \n",
       "4 0                    0                    0                    \n",
       "5 1                    0                    1                    \n",
       "6 1                    0                    1                    \n",
       "  behavioral_large_gatherings behavioral_outside_home behavioral_touch_face ⋯\n",
       "1 1                           0                       1                     ⋯\n",
       "2 0                           0                       0                     ⋯\n",
       "3 1                           1                       1                     ⋯\n",
       "4 0                           0                       0                     ⋯\n",
       "5 1                           1                       1                     ⋯\n",
       "6 1                           0                       1                     ⋯\n",
       "  income_poverty            marital_status rent_or_own employment_status \n",
       "1 > $75,000                 Not Married    Rent        Employed          \n",
       "2 Below Poverty             Not Married    Rent        Employed          \n",
       "3 > $75,000                 Married        Own         Employed          \n",
       "4 <= $75,000, Above Poverty Married        Own         Not in Labor Force\n",
       "5 <= $75,000, Above Poverty Not Married    Own         Employed          \n",
       "6 > $75,000                 Not Married    Own         Employed          \n",
       "  hhs_geo_region census_msa               household_adults household_children\n",
       "1 mlyzmhmf       MSA, Not Principle  City 1                0                 \n",
       "2 bhuqouqj       Non-MSA                  3                0                 \n",
       "3 lrircsnp       Non-MSA                  1                0                 \n",
       "4 lrircsnp       MSA, Not Principle  City 1                0                 \n",
       "5 lzgpxyit       Non-MSA                  0                1                 \n",
       "6 mlyzmhmf       MSA, Principle City      0                2                 \n",
       "  employment_industry employment_occupation\n",
       "1 atmlpfrs            hfxkjkmi             \n",
       "2 atmlpfrs            xqwwgdyp             \n",
       "3 nduyfdeo            pvmttkik             \n",
       "4                                          \n",
       "5 fcxhlnwr            mxkfnird             \n",
       "6 fcxhlnwr            cmhcxjea             "
      ]
     },
     "metadata": {},
     "output_type": "display_data"
    }
   ],
   "source": [
    "library(\"randomForest\")\n",
    "spam <- data.frame(training_set_features[2:length(training_set_features)], training_set_labels[2]) \n",
    "head(spam)\n",
    "head(test_set_features)\n",
    "# head(spam)\n",
    "n_trees <- 100 # 600 = 0.8385 precision\n",
    "threshold <- 0.5\n",
    "\n",
    "\n",
    "accuracy_vec <- array(0,n_trees)\n",
    "\n",
    "spam_idx <- sample(1:nrow(spam))\n",
    "half_split <- floor(nrow(spam)/2)\n",
    "target_variable <- ncol(spam)\n",
    "\n",
    "train_data <- spam[spam_idx[1:half_split],]\n",
    "\n",
    "test_data <- spam[spam_idx[(half_split+1):nrow(spam)],]\n",
    "    \n",
    "model <- randomForest(x=train_data[,-c(target_variable)],\n",
    "                          y=as.factor(train_data[,c(target_variable)]),\n",
    "                          xtest=test_data[,-c(target_variable)],\n",
    "                          ytest=as.factor(test_data[,c(target_variable)]),\n",
    "                          ntree=n_trees, \n",
    "                          keep.forest=TRUE)\n",
    "\n",
    "Y_pred <- data.frame(predict(model,test_set_features[2:length(test_set_features)]))\n",
    "submission <- data.frame(submission_format[1], Y_pred)\n",
    "\n",
    "\n",
    "\n",
    "spam <- data.frame(training_set_features[2:length(training_set_features)], training_set_labels[3]) \n",
    "n_trees <- 90 # 800 = 0.772 precision\n",
    "accuracy_vec <- array(0, n_trees)\n",
    "\n",
    "spam_idx <- sample(1:nrow(spam))\n",
    "half_split <- floor(nrow(spam)/2)\n",
    "target_variable <- ncol(spam)\n",
    "\n",
    "train_data <- spam[spam_idx[1:half_split],]\n",
    "\n",
    "test_data <- spam[spam_idx[(half_split+1):nrow(spam)],]\n",
    "    \n",
    "model <- randomForest(x=train_data[,-c(target_variable)],\n",
    "                          y=as.factor(train_data[,c(target_variable)]),\n",
    "                          xtest=test_data[,-c(target_variable)],\n",
    "                          ytest=as.factor(test_data[,c(target_variable)]),\n",
    "                          ntree=n_trees, \n",
    "                          keep.forest=TRUE)\n",
    "\n",
    "Y_pred <- data.frame(predict(model, test_set_features[2:length(test_set_features)]))\n",
    "submission <- data.frame(submission, Y_pred)\n",
    "x <- submission\n",
    "levels(x[,2]) <- c(\"0.0\", \"1.0\")\n",
    "levels(x[,3]) <- c(\"0.0\", \"1.0\")\n",
    "write.csv(x,\"sample_data/answers.csv\", row.names = FALSE, quote=FALSE)"
   ]
  },
  {
   "cell_type": "markdown",
   "metadata": {},
   "source": [
    "\n",
    "#### Example of simple equation\n",
    "\\begin{equation}\n",
    "e = mc^2\n",
    "\\end{equation}\n",
    "\n",
    "#### Example of matrix equation - Cross product formula:\n",
    "\n",
    "\\begin{equation*}\n",
    "\\mathbf{V}_1 \\times \\mathbf{V}_2 =  \n",
    "\\begin{vmatrix}\n",
    "\\mathbf{i} & \\mathbf{j} & \\mathbf{k} \\\\\n",
    "\\frac{\\partial X}{\\partial u} &  \\frac{\\partial Y}{\\partial u} & 0 \\\\\n",
    "\\frac{\\partial X}{\\partial v} &  \\frac{\\partial Y}{\\partial v} & 0\n",
    "\\end{vmatrix}\n",
    "\\end{equation*}\n",
    "\n",
    "#### Example of multiline equation - The Lorenz Equations:\n",
    "\n",
    "\\begin{align}\n",
    "\\dot{x} & = \\sigma(y-x) \\\\\n",
    "\\dot{y} & = \\rho x - y - xz \\\\\n",
    "\\dot{z} & = -\\beta z + xy\n",
    "\\end{align}\n",
    "\n",
    "#### Example of Markdown Table:\n",
    "\n",
    "| This | is   |\n",
    "|------|------|\n",
    "|   a  | table|\n"
   ]
  },
  {
   "cell_type": "markdown",
   "metadata": {
    "id": "9j5b3jTIkyu7"
   },
   "source": [
    "# Alternative models\n",
    "\n",
    "\n",
    "\n"
   ]
  },
  {
   "cell_type": "markdown",
   "metadata": {
    "id": "sz3LmTKkkyu8"
   },
   "source": [
    "# Conclusions"
   ]
  }
 ],
 "metadata": {
  "colab": {
   "collapsed_sections": [],
   "name": "Program.ipynb",
   "provenance": []
  },
  "kernelspec": {
   "display_name": "R",
   "language": "R",
   "name": "ir"
  },
  "language_info": {
   "codemirror_mode": "r",
   "file_extension": ".r",
   "mimetype": "text/x-r-source",
   "name": "R",
   "pygments_lexer": "r",
   "version": "4.1.2"
  }
 },
 "nbformat": 4,
 "nbformat_minor": 1
}
