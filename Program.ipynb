{
 "cells": [
  {
   "cell_type": "markdown",
   "metadata": {
    "id": "A7iUf-ffkyup"
   },
   "source": [
    "# INFO-F-422 -  Statistical Foundations of Machine Learning \n",
    "\n",
    "### De Vos Sebastien - __[Sebastien.De.Vos@ulb.be](mailto:student1@ulb.ac.be) - Student ID 459907__\n",
    "### Kalai Tarik - __[Tarik.Kalai@ulb.be](mailto:student2@ulb.ac.be) - Student ID 459631__\n",
    "### Rubas Diego - __[Diego.Rubas@ulb.be](mailto:student3@ulb.ac.be) - Student ID 459733__\n",
    "\n",
    "### Video presentation: www.youtube.com/abcd1234\n",
    "\n",
    "## Project Title\n"
   ]
  },
  {
   "cell_type": "markdown",
   "metadata": {
    "id": "BknMGYOJkyu0"
   },
   "source": [
    "# Introduction\n"
   ]
  },
  {
   "cell_type": "markdown",
   "metadata": {
    "id": "6gsGzIq1kyu2"
   },
   "source": [
    "# Exploratory Data Anaylsis"
   ]
  },
  {
   "cell_type": "markdown",
   "metadata": {
    "id": "nQ2WjfsUkyu3"
   },
   "source": [
    "In this section we will be viewing and understanding the data that we have."
   ]
  },
  {
   "cell_type": "markdown",
   "metadata": {
    "id": "L_AfUCaNsZJW"
   },
   "source": []
  },
  {
   "cell_type": "markdown",
   "metadata": {
    "id": "6KMnF3pisasz"
   },
   "source": [
    "### Data loading"
   ]
  },
  {
   "cell_type": "code",
   "execution_count": 62,
   "metadata": {
    "id": "EbjGzSlXsVQQ",
    "vscode": {
     "languageId": "r"
    }
   },
   "outputs": [
    {
     "data": {
      "text/html": [
       "<table class=\"dataframe\">\n",
       "<caption>A data.frame: 6 × 3</caption>\n",
       "<thead>\n",
       "\t<tr><th></th><th scope=col>respondent_id</th><th scope=col>h1n1_vaccine</th><th scope=col>seasonal_vaccine</th></tr>\n",
       "\t<tr><th></th><th scope=col>&lt;int&gt;</th><th scope=col>&lt;dbl&gt;</th><th scope=col>&lt;dbl&gt;</th></tr>\n",
       "</thead>\n",
       "<tbody>\n",
       "\t<tr><th scope=row>1</th><td>26707</td><td>0.5</td><td>0.7</td></tr>\n",
       "\t<tr><th scope=row>2</th><td>26708</td><td>0.5</td><td>0.7</td></tr>\n",
       "\t<tr><th scope=row>3</th><td>26709</td><td>0.5</td><td>0.7</td></tr>\n",
       "\t<tr><th scope=row>4</th><td>26710</td><td>0.5</td><td>0.7</td></tr>\n",
       "\t<tr><th scope=row>5</th><td>26711</td><td>0.5</td><td>0.7</td></tr>\n",
       "\t<tr><th scope=row>6</th><td>26712</td><td>0.5</td><td>0.7</td></tr>\n",
       "</tbody>\n",
       "</table>\n"
      ],
      "text/latex": [
       "A data.frame: 6 × 3\n",
       "\\begin{tabular}{r|lll}\n",
       "  & respondent\\_id & h1n1\\_vaccine & seasonal\\_vaccine\\\\\n",
       "  & <int> & <dbl> & <dbl>\\\\\n",
       "\\hline\n",
       "\t1 & 26707 & 0.5 & 0.7\\\\\n",
       "\t2 & 26708 & 0.5 & 0.7\\\\\n",
       "\t3 & 26709 & 0.5 & 0.7\\\\\n",
       "\t4 & 26710 & 0.5 & 0.7\\\\\n",
       "\t5 & 26711 & 0.5 & 0.7\\\\\n",
       "\t6 & 26712 & 0.5 & 0.7\\\\\n",
       "\\end{tabular}\n"
      ],
      "text/markdown": [
       "\n",
       "A data.frame: 6 × 3\n",
       "\n",
       "| <!--/--> | respondent_id &lt;int&gt; | h1n1_vaccine &lt;dbl&gt; | seasonal_vaccine &lt;dbl&gt; |\n",
       "|---|---|---|---|\n",
       "| 1 | 26707 | 0.5 | 0.7 |\n",
       "| 2 | 26708 | 0.5 | 0.7 |\n",
       "| 3 | 26709 | 0.5 | 0.7 |\n",
       "| 4 | 26710 | 0.5 | 0.7 |\n",
       "| 5 | 26711 | 0.5 | 0.7 |\n",
       "| 6 | 26712 | 0.5 | 0.7 |\n",
       "\n"
      ],
      "text/plain": [
       "  respondent_id h1n1_vaccine seasonal_vaccine\n",
       "1 26707         0.5          0.7             \n",
       "2 26708         0.5          0.7             \n",
       "3 26709         0.5          0.7             \n",
       "4 26710         0.5          0.7             \n",
       "5 26711         0.5          0.7             \n",
       "6 26712         0.5          0.7             "
      ]
     },
     "metadata": {},
     "output_type": "display_data"
    }
   ],
   "source": [
    "training_set_features <- read.csv(\"sample_data/training_set_features.csv\", stringsAsFactors  = T)\n",
    "training_set_labels <- read.csv(\"sample_data/training_set_labels.csv\", stringsAsFactors  = T)\n",
    "test_set_features <- read.csv(\"sample_data/test_set_features.csv\", stringsAsFactors  = T)\n",
    "submission_format <- read.csv(\"sample_data/submission_format.csv\", stringsAsFactors  = T)\n",
    "write.csv(submission_format,\"sample_data/answers.csv\", row.names = FALSE, quote=FALSE)\n",
    "\n",
    "head(submission_format)"
   ]
  },
  {
   "cell_type": "markdown",
   "metadata": {
    "id": "Vgh9rPpcsITS"
   },
   "source": [
    "### Dimensions of the data samples. "
   ]
  },
  {
   "cell_type": "code",
   "execution_count": 63,
   "metadata": {
    "colab": {
     "base_uri": "https://localhost:8080/"
    },
    "id": "iJC79QYWnku5",
    "outputId": "d8bd1909-6c12-4098-801e-3bcf01a8332a",
    "vscode": {
     "languageId": "r"
    }
   },
   "outputs": [
    {
     "name": "stdout",
     "output_type": "stream",
     "text": [
      "dimension of test_set_features:  26708 36 \n",
      "dimension of training_set_labels:  26707 3 \n",
      "dimension of training_set_features :  26707 36 \n"
     ]
    }
   ],
   "source": [
    "cat(\"dimension of test_set_features: \",  dim(test_set_features), \"\\n\")# This will be the input to the model (after it had been trained), the answer the model\n",
    "#will be providing will then be sent to DrivenData. \n",
    "\n",
    "cat(\"dimension of training_set_labels: \", dim(training_set_labels), \"\\n\") # Answers to training_set_features. \n",
    "\n",
    "cat(\"dimension of training_set_features : \", dim(training_set_features), \"\\n\") # Corresponding to a sample of data: will be used for training set and test set. \n",
    "#The result will then be \"validated\" with a comparison with training_set_labels"
   ]
  },
  {
   "cell_type": "markdown",
   "metadata": {
    "id": "DSUJ01Ltv3ct"
   },
   "source": [
    "### Data preview"
   ]
  },
  {
   "cell_type": "code",
   "execution_count": 64,
   "metadata": {
    "id": "uKeHb6pcnOlW",
    "vscode": {
     "languageId": "r"
    }
   },
   "outputs": [],
   "source": [
    "# To generalise the function, we need to take into account the empty answers and not only NA. \n",
    "cleanData <- function(x) {\n",
    "    res <- list()\n",
    "    for (i in 2:22) {\n",
    "        x <- transform_na(x, i)\n",
    "    }\n",
    "    return(x) #return\n",
    "}\n",
    "\n",
    "transform_na <- function(x, index){\n",
    "    if (length(which(is.na(x[,index]))) > 0) { #Check if there is any NA in the column\n",
    "            mean_ts <- mean(x[,index], na.rm = T) #compute old_mean\n",
    "            sd_ts <- sqrt(var(x[,index], na.rm = T)) #compute old_sd\n",
    "            feature_name <- names(x[index]) #remember the name of the feature we are dealing with\n",
    "            x[is.na(x[,index]), index] <- round(mean_ts + sd_ts/2) #modify the data\n",
    "        }\n",
    "    return(x)\n",
    "}\n",
    "\n",
    "norm<-function(x){\n",
    "    return( (x-min(x)) / (max(x)-min(x)) )\n",
    "}\n",
    "\n",
    "one_hot_encoding <- function(x, index) {\n",
    "    names <- levels(x[,index]) # get the names of all the possible different values\n",
    "    new_col <- model.matrix(~0+x[,index]) # transforms the column in a matrix with a '1' in the correct column and '0' otherwise\n",
    "    attr(new_col, \"dimnames\")[[2]] <- names\n",
    "    new_col <- as.data.frame(new_col)\n",
    "    x <- data.frame(x[1:index-1],new_col,x[(index+1):ncol(x)])\n",
    "    return(x)\n",
    "}\n",
    "\n",
    "cast_into_double <- function(x){\n",
    "    for (i in 2:length(x)){\n",
    "        x[,i] <- as.double(x[,i])\n",
    "    }\n",
    "    return(x)\n",
    "}"
   ]
  },
  {
   "cell_type": "code",
   "execution_count": 65,
   "metadata": {
    "vscode": {
     "languageId": "r"
    }
   },
   "outputs": [
    {
     "data": {
      "text/html": [
       "<table class=\"dataframe\">\n",
       "<caption>A data.frame: 6 × 46</caption>\n",
       "<thead>\n",
       "\t<tr><th></th><th scope=col>respondent_id</th><th scope=col>h1n1_concern</th><th scope=col>h1n1_knowledge</th><th scope=col>behavioral_antiviral_meds</th><th scope=col>behavioral_avoidance</th><th scope=col>behavioral_face_mask</th><th scope=col>behavioral_wash_hands</th><th scope=col>behavioral_large_gatherings</th><th scope=col>behavioral_outside_home</th><th scope=col>behavioral_touch_face</th><th scope=col>⋯</th><th scope=col>Rent</th><th scope=col>employment_not_specified</th><th scope=col>Employed</th><th scope=col>Not.in.Labor.Force</th><th scope=col>Unemployed</th><th scope=col>MSA..Not.Principle..City</th><th scope=col>MSA..Principle.City</th><th scope=col>Non.MSA</th><th scope=col>household_adults</th><th scope=col>household_children</th></tr>\n",
       "\t<tr><th></th><th scope=col>&lt;int&gt;</th><th scope=col>&lt;dbl&gt;</th><th scope=col>&lt;dbl&gt;</th><th scope=col>&lt;dbl&gt;</th><th scope=col>&lt;dbl&gt;</th><th scope=col>&lt;dbl&gt;</th><th scope=col>&lt;dbl&gt;</th><th scope=col>&lt;dbl&gt;</th><th scope=col>&lt;dbl&gt;</th><th scope=col>&lt;dbl&gt;</th><th scope=col>⋯</th><th scope=col>&lt;dbl&gt;</th><th scope=col>&lt;dbl&gt;</th><th scope=col>&lt;dbl&gt;</th><th scope=col>&lt;dbl&gt;</th><th scope=col>&lt;dbl&gt;</th><th scope=col>&lt;dbl&gt;</th><th scope=col>&lt;dbl&gt;</th><th scope=col>&lt;dbl&gt;</th><th scope=col>&lt;dbl&gt;</th><th scope=col>&lt;dbl&gt;</th></tr>\n",
       "</thead>\n",
       "<tbody>\n",
       "\t<tr><th scope=row>1</th><td>0</td><td>0.3333333</td><td>0.0</td><td>0</td><td>0</td><td>0</td><td>0</td><td>0</td><td>1</td><td>1</td><td>⋯</td><td>0</td><td>0</td><td>0</td><td>1</td><td>0</td><td>0</td><td>0</td><td>1</td><td>0.0000000</td><td>0</td></tr>\n",
       "\t<tr><th scope=row>2</th><td>1</td><td>1.0000000</td><td>1.0</td><td>0</td><td>1</td><td>0</td><td>1</td><td>0</td><td>1</td><td>1</td><td>⋯</td><td>1</td><td>0</td><td>1</td><td>0</td><td>0</td><td>1</td><td>0</td><td>0</td><td>0.0000000</td><td>0</td></tr>\n",
       "\t<tr><th scope=row>3</th><td>2</td><td>0.3333333</td><td>0.5</td><td>0</td><td>1</td><td>0</td><td>0</td><td>0</td><td>0</td><td>0</td><td>⋯</td><td>0</td><td>0</td><td>1</td><td>0</td><td>0</td><td>1</td><td>0</td><td>0</td><td>0.6666667</td><td>0</td></tr>\n",
       "\t<tr><th scope=row>4</th><td>3</td><td>0.3333333</td><td>0.5</td><td>0</td><td>1</td><td>0</td><td>1</td><td>1</td><td>0</td><td>0</td><td>⋯</td><td>1</td><td>0</td><td>0</td><td>1</td><td>0</td><td>0</td><td>1</td><td>0</td><td>0.0000000</td><td>0</td></tr>\n",
       "\t<tr><th scope=row>5</th><td>4</td><td>0.6666667</td><td>0.5</td><td>0</td><td>1</td><td>0</td><td>1</td><td>1</td><td>0</td><td>1</td><td>⋯</td><td>0</td><td>0</td><td>1</td><td>0</td><td>0</td><td>1</td><td>0</td><td>0</td><td>0.3333333</td><td>0</td></tr>\n",
       "\t<tr><th scope=row>6</th><td>5</td><td>1.0000000</td><td>0.5</td><td>0</td><td>1</td><td>0</td><td>1</td><td>0</td><td>0</td><td>1</td><td>⋯</td><td>0</td><td>0</td><td>1</td><td>0</td><td>0</td><td>0</td><td>1</td><td>0</td><td>0.6666667</td><td>1</td></tr>\n",
       "</tbody>\n",
       "</table>\n"
      ],
      "text/latex": [
       "A data.frame: 6 × 46\n",
       "\\begin{tabular}{r|lllllllllllllllllllll}\n",
       "  & respondent\\_id & h1n1\\_concern & h1n1\\_knowledge & behavioral\\_antiviral\\_meds & behavioral\\_avoidance & behavioral\\_face\\_mask & behavioral\\_wash\\_hands & behavioral\\_large\\_gatherings & behavioral\\_outside\\_home & behavioral\\_touch\\_face & ⋯ & Rent & employment\\_not\\_specified & Employed & Not.in.Labor.Force & Unemployed & MSA..Not.Principle..City & MSA..Principle.City & Non.MSA & household\\_adults & household\\_children\\\\\n",
       "  & <int> & <dbl> & <dbl> & <dbl> & <dbl> & <dbl> & <dbl> & <dbl> & <dbl> & <dbl> & ⋯ & <dbl> & <dbl> & <dbl> & <dbl> & <dbl> & <dbl> & <dbl> & <dbl> & <dbl> & <dbl>\\\\\n",
       "\\hline\n",
       "\t1 & 0 & 0.3333333 & 0.0 & 0 & 0 & 0 & 0 & 0 & 1 & 1 & ⋯ & 0 & 0 & 0 & 1 & 0 & 0 & 0 & 1 & 0.0000000 & 0\\\\\n",
       "\t2 & 1 & 1.0000000 & 1.0 & 0 & 1 & 0 & 1 & 0 & 1 & 1 & ⋯ & 1 & 0 & 1 & 0 & 0 & 1 & 0 & 0 & 0.0000000 & 0\\\\\n",
       "\t3 & 2 & 0.3333333 & 0.5 & 0 & 1 & 0 & 0 & 0 & 0 & 0 & ⋯ & 0 & 0 & 1 & 0 & 0 & 1 & 0 & 0 & 0.6666667 & 0\\\\\n",
       "\t4 & 3 & 0.3333333 & 0.5 & 0 & 1 & 0 & 1 & 1 & 0 & 0 & ⋯ & 1 & 0 & 0 & 1 & 0 & 0 & 1 & 0 & 0.0000000 & 0\\\\\n",
       "\t5 & 4 & 0.6666667 & 0.5 & 0 & 1 & 0 & 1 & 1 & 0 & 1 & ⋯ & 0 & 0 & 1 & 0 & 0 & 1 & 0 & 0 & 0.3333333 & 0\\\\\n",
       "\t6 & 5 & 1.0000000 & 0.5 & 0 & 1 & 0 & 1 & 0 & 0 & 1 & ⋯ & 0 & 0 & 1 & 0 & 0 & 0 & 1 & 0 & 0.6666667 & 1\\\\\n",
       "\\end{tabular}\n"
      ],
      "text/markdown": [
       "\n",
       "A data.frame: 6 × 46\n",
       "\n",
       "| <!--/--> | respondent_id &lt;int&gt; | h1n1_concern &lt;dbl&gt; | h1n1_knowledge &lt;dbl&gt; | behavioral_antiviral_meds &lt;dbl&gt; | behavioral_avoidance &lt;dbl&gt; | behavioral_face_mask &lt;dbl&gt; | behavioral_wash_hands &lt;dbl&gt; | behavioral_large_gatherings &lt;dbl&gt; | behavioral_outside_home &lt;dbl&gt; | behavioral_touch_face &lt;dbl&gt; | ⋯ ⋯ | Rent &lt;dbl&gt; | employment_not_specified &lt;dbl&gt; | Employed &lt;dbl&gt; | Not.in.Labor.Force &lt;dbl&gt; | Unemployed &lt;dbl&gt; | MSA..Not.Principle..City &lt;dbl&gt; | MSA..Principle.City &lt;dbl&gt; | Non.MSA &lt;dbl&gt; | household_adults &lt;dbl&gt; | household_children &lt;dbl&gt; |\n",
       "|---|---|---|---|---|---|---|---|---|---|---|---|---|---|---|---|---|---|---|---|---|---|\n",
       "| 1 | 0 | 0.3333333 | 0.0 | 0 | 0 | 0 | 0 | 0 | 1 | 1 | ⋯ | 0 | 0 | 0 | 1 | 0 | 0 | 0 | 1 | 0.0000000 | 0 |\n",
       "| 2 | 1 | 1.0000000 | 1.0 | 0 | 1 | 0 | 1 | 0 | 1 | 1 | ⋯ | 1 | 0 | 1 | 0 | 0 | 1 | 0 | 0 | 0.0000000 | 0 |\n",
       "| 3 | 2 | 0.3333333 | 0.5 | 0 | 1 | 0 | 0 | 0 | 0 | 0 | ⋯ | 0 | 0 | 1 | 0 | 0 | 1 | 0 | 0 | 0.6666667 | 0 |\n",
       "| 4 | 3 | 0.3333333 | 0.5 | 0 | 1 | 0 | 1 | 1 | 0 | 0 | ⋯ | 1 | 0 | 0 | 1 | 0 | 0 | 1 | 0 | 0.0000000 | 0 |\n",
       "| 5 | 4 | 0.6666667 | 0.5 | 0 | 1 | 0 | 1 | 1 | 0 | 1 | ⋯ | 0 | 0 | 1 | 0 | 0 | 1 | 0 | 0 | 0.3333333 | 0 |\n",
       "| 6 | 5 | 1.0000000 | 0.5 | 0 | 1 | 0 | 1 | 0 | 0 | 1 | ⋯ | 0 | 0 | 1 | 0 | 0 | 0 | 1 | 0 | 0.6666667 | 1 |\n",
       "\n"
      ],
      "text/plain": [
       "  respondent_id h1n1_concern h1n1_knowledge behavioral_antiviral_meds\n",
       "1 0             0.3333333    0.0            0                        \n",
       "2 1             1.0000000    1.0            0                        \n",
       "3 2             0.3333333    0.5            0                        \n",
       "4 3             0.3333333    0.5            0                        \n",
       "5 4             0.6666667    0.5            0                        \n",
       "6 5             1.0000000    0.5            0                        \n",
       "  behavioral_avoidance behavioral_face_mask behavioral_wash_hands\n",
       "1 0                    0                    0                    \n",
       "2 1                    0                    1                    \n",
       "3 1                    0                    0                    \n",
       "4 1                    0                    1                    \n",
       "5 1                    0                    1                    \n",
       "6 1                    0                    1                    \n",
       "  behavioral_large_gatherings behavioral_outside_home behavioral_touch_face ⋯\n",
       "1 0                           1                       1                     ⋯\n",
       "2 0                           1                       1                     ⋯\n",
       "3 0                           0                       0                     ⋯\n",
       "4 1                           0                       0                     ⋯\n",
       "5 1                           0                       1                     ⋯\n",
       "6 0                           0                       1                     ⋯\n",
       "  Rent employment_not_specified Employed Not.in.Labor.Force Unemployed\n",
       "1 0    0                        0        1                  0         \n",
       "2 1    0                        1        0                  0         \n",
       "3 0    0                        1        0                  0         \n",
       "4 1    0                        0        1                  0         \n",
       "5 0    0                        1        0                  0         \n",
       "6 0    0                        1        0                  0         \n",
       "  MSA..Not.Principle..City MSA..Principle.City Non.MSA household_adults\n",
       "1 0                        0                   1       0.0000000       \n",
       "2 1                        0                   0       0.0000000       \n",
       "3 1                        0                   0       0.6666667       \n",
       "4 0                        1                   0       0.0000000       \n",
       "5 1                        0                   0       0.3333333       \n",
       "6 0                        1                   0       0.6666667       \n",
       "  household_children\n",
       "1 0                 \n",
       "2 0                 \n",
       "3 0                 \n",
       "4 0                 \n",
       "5 0                 \n",
       "6 1                 "
      ]
     },
     "metadata": {},
     "output_type": "display_data"
    },
    {
     "data": {
      "text/html": [
       "<style>\n",
       ".list-inline {list-style: none; margin:0; padding: 0}\n",
       ".list-inline>li {display: inline-block}\n",
       ".list-inline>li:not(:last-child)::after {content: \"\\00b7\"; padding: 0 .5ex}\n",
       "</style>\n",
       "<ol class=list-inline><li>26707</li><li>46</li></ol>\n"
      ],
      "text/latex": [
       "\\begin{enumerate*}\n",
       "\\item 26707\n",
       "\\item 46\n",
       "\\end{enumerate*}\n"
      ],
      "text/markdown": [
       "1. 26707\n",
       "2. 46\n",
       "\n",
       "\n"
      ],
      "text/plain": [
       "[1] 26707    46"
      ]
     },
     "metadata": {},
     "output_type": "display_data"
    }
   ],
   "source": [
    "data_sorting <- function(x){\n",
    "    # for feature 2 -> 22\n",
    "    x <- cleanData(x)\n",
    "    # for feature 23\n",
    "    levels(x[,23]) <- c(1, 2, 3, 4, 5)\n",
    "\n",
    "    # for feature 24\n",
    "    levels(x[,24]) <- c(0, 1, 2, 4, 3)\n",
    "\n",
    "    # for feature 25\n",
    "    x <- one_hot_encoding(x, 25)\n",
    "\n",
    "    # for feature 26 -> number 29\n",
    "    x <- one_hot_encoding(x, 29)\n",
    "\n",
    "    # for feature 27 -> number 31 !!! it need to be changed, it is not a good way to sort this data.\n",
    "    levels(x[,31]) <- c(0, 2, 1, 3) \n",
    "\n",
    "    # for feature 28 -> number 32\n",
    "    levels(x[,32])[1] <- 'marital_status_not_specified'\n",
    "    x <- one_hot_encoding(x, 32)\n",
    "\n",
    "    # for feature 29 -> number 35\n",
    "    levels(x[,35])[1] <- 'rental_not_specified'\n",
    "    x <- one_hot_encoding(x, 35)\n",
    "\n",
    "    #for features 30 -> number 38\n",
    "    levels(x[,38])[1] <- 'employment_not_specified'\n",
    "    x <- one_hot_encoding(x, 38)\n",
    "    \n",
    "    # for feature 31 -> 42, we judged its contribution was negligeable against its cost of implementation\n",
    "    x <- subset(x, select = -42)\n",
    "\n",
    "    # for feature 32 -> 42 (since we dropped last column\n",
    "    x <- one_hot_encoding(x, 42)\n",
    "\n",
    "    # for feature 33 -> 45\n",
    "    x <- transform_na(x, 45)\n",
    "\n",
    "    # for feature 34 -> 46\n",
    "    x <- transform_na(x, 46)\n",
    "\n",
    "    # for feature 35 -> 47, we judged its contribution was negligeable against its cost of implementation\n",
    "    x <- subset(x, select = -47)\n",
    "\n",
    "    # for feature 36 -> 47, we judged its contribution was negligeable against its cost of implementation\n",
    "    x <- subset(x, select = -47)\n",
    "\n",
    "\n",
    "\n",
    "    x <- cast_into_double(x)\n",
    "    name <- names(x)[-1]\n",
    "    temp <- apply(x[2:length(x)], 2 , norm)\n",
    "    attr(temp, \"dimnames\")[[2]] <- name\n",
    "    x <- data.frame(x[1],as.data.frame(temp))\n",
    "    return (x)\n",
    "}\n",
    "\n",
    "training_set_features <- data_sorting(training_set_features)\n",
    "test_set_features <- data_sorting(test_set_features)\n",
    "\n",
    "\n",
    "head(training_set_features[1:46])\n",
    "dim(training_set_features)"
   ]
  },
  {
   "cell_type": "code",
   "execution_count": 66,
   "metadata": {
    "vscode": {
     "languageId": "r"
    }
   },
   "outputs": [],
   "source": [
    "# par(mfrow=c(1,3))\n",
    "\n",
    "# # data_to_plot <- table(training_set_features[\"h1n1_concern\"])\n",
    "# # data_to_plot <- table(t(training_set_features[\"h1n1_knowledge\"]))\n",
    "\n",
    "# names<-names(training_set_features)\n",
    "# for(i in 2:length(names)){\n",
    "#     barplot(table(training_set_features[names[i]]), col=\"blue\", main=names[i],beside=T) \n",
    "# }"
   ]
  },
  {
   "cell_type": "code",
   "execution_count": 67,
   "metadata": {
    "vscode": {
     "languageId": "r"
    }
   },
   "outputs": [],
   "source": [
    "# # head(training_set_labels)\n",
    "# # plot(training_set_labels$h1n1_vaccine, training_set_labels$seasonal_vaccine)\n",
    "\n",
    "# training_set_features[1] <- training_set_labels[2]\n",
    "# plot(training_set_features[1:3]) #Why is the plot so strange ?? \n",
    "# X1 <- as.matrix(training_set_features[1])\n",
    "# X2 <- as.matrix(training_set_features[2])\n",
    "# X3 <- as.matrix(training_set_features[3])\n",
    "# regression <- lm( X1~ X2 + X3)\n",
    "\n",
    "# summary(regression)"
   ]
  },
  {
   "cell_type": "markdown",
   "metadata": {
    "id": "5iQ6kpO6kyu5"
   },
   "source": [
    "# Data preprocessing\n",
    "\n",
    "## Missing value imputation\n",
    "\n",
    "## Feature engineering\n",
    "\n",
    "## Feature selection\n",
    "\n"
   ]
  },
  {
   "cell_type": "markdown",
   "metadata": {
    "id": "MrH_wChrkyu6"
   },
   "source": [
    "# Model selection\n"
   ]
  },
  {
   "cell_type": "markdown",
   "metadata": {},
   "source": [
    "\n",
    "## Model 1\n"
   ]
  },
  {
   "cell_type": "markdown",
   "metadata": {},
   "source": [
    "## Model 2"
   ]
  },
  {
   "cell_type": "code",
   "execution_count": 68,
   "metadata": {
    "vscode": {
     "languageId": "r"
    }
   },
   "outputs": [
    {
     "data": {
      "text/html": [
       "<table class=\"dataframe\">\n",
       "<caption>A data.frame: 6 × 46</caption>\n",
       "<thead>\n",
       "\t<tr><th></th><th scope=col>h1n1_concern</th><th scope=col>h1n1_knowledge</th><th scope=col>behavioral_antiviral_meds</th><th scope=col>behavioral_avoidance</th><th scope=col>behavioral_face_mask</th><th scope=col>behavioral_wash_hands</th><th scope=col>behavioral_large_gatherings</th><th scope=col>behavioral_outside_home</th><th scope=col>behavioral_touch_face</th><th scope=col>doctor_recc_h1n1</th><th scope=col>⋯</th><th scope=col>employment_not_specified</th><th scope=col>Employed</th><th scope=col>Not.in.Labor.Force</th><th scope=col>Unemployed</th><th scope=col>MSA..Not.Principle..City</th><th scope=col>MSA..Principle.City</th><th scope=col>Non.MSA</th><th scope=col>household_adults</th><th scope=col>household_children</th><th scope=col>h1n1_vaccine</th></tr>\n",
       "\t<tr><th></th><th scope=col>&lt;dbl&gt;</th><th scope=col>&lt;dbl&gt;</th><th scope=col>&lt;dbl&gt;</th><th scope=col>&lt;dbl&gt;</th><th scope=col>&lt;dbl&gt;</th><th scope=col>&lt;dbl&gt;</th><th scope=col>&lt;dbl&gt;</th><th scope=col>&lt;dbl&gt;</th><th scope=col>&lt;dbl&gt;</th><th scope=col>&lt;dbl&gt;</th><th scope=col>⋯</th><th scope=col>&lt;dbl&gt;</th><th scope=col>&lt;dbl&gt;</th><th scope=col>&lt;dbl&gt;</th><th scope=col>&lt;dbl&gt;</th><th scope=col>&lt;dbl&gt;</th><th scope=col>&lt;dbl&gt;</th><th scope=col>&lt;dbl&gt;</th><th scope=col>&lt;dbl&gt;</th><th scope=col>&lt;dbl&gt;</th><th scope=col>&lt;int&gt;</th></tr>\n",
       "</thead>\n",
       "<tbody>\n",
       "\t<tr><th scope=row>1</th><td>0.3333333</td><td>0.0</td><td>0</td><td>0</td><td>0</td><td>0</td><td>0</td><td>1</td><td>1</td><td>0</td><td>⋯</td><td>0</td><td>0</td><td>1</td><td>0</td><td>0</td><td>0</td><td>1</td><td>0.0000000</td><td>0</td><td>0</td></tr>\n",
       "\t<tr><th scope=row>2</th><td>1.0000000</td><td>1.0</td><td>0</td><td>1</td><td>0</td><td>1</td><td>0</td><td>1</td><td>1</td><td>0</td><td>⋯</td><td>0</td><td>1</td><td>0</td><td>0</td><td>1</td><td>0</td><td>0</td><td>0.0000000</td><td>0</td><td>0</td></tr>\n",
       "\t<tr><th scope=row>3</th><td>0.3333333</td><td>0.5</td><td>0</td><td>1</td><td>0</td><td>0</td><td>0</td><td>0</td><td>0</td><td>0</td><td>⋯</td><td>0</td><td>1</td><td>0</td><td>0</td><td>1</td><td>0</td><td>0</td><td>0.6666667</td><td>0</td><td>0</td></tr>\n",
       "\t<tr><th scope=row>4</th><td>0.3333333</td><td>0.5</td><td>0</td><td>1</td><td>0</td><td>1</td><td>1</td><td>0</td><td>0</td><td>0</td><td>⋯</td><td>0</td><td>0</td><td>1</td><td>0</td><td>0</td><td>1</td><td>0</td><td>0.0000000</td><td>0</td><td>0</td></tr>\n",
       "\t<tr><th scope=row>5</th><td>0.6666667</td><td>0.5</td><td>0</td><td>1</td><td>0</td><td>1</td><td>1</td><td>0</td><td>1</td><td>0</td><td>⋯</td><td>0</td><td>1</td><td>0</td><td>0</td><td>1</td><td>0</td><td>0</td><td>0.3333333</td><td>0</td><td>0</td></tr>\n",
       "\t<tr><th scope=row>6</th><td>1.0000000</td><td>0.5</td><td>0</td><td>1</td><td>0</td><td>1</td><td>0</td><td>0</td><td>1</td><td>0</td><td>⋯</td><td>0</td><td>1</td><td>0</td><td>0</td><td>0</td><td>1</td><td>0</td><td>0.6666667</td><td>1</td><td>0</td></tr>\n",
       "</tbody>\n",
       "</table>\n"
      ],
      "text/latex": [
       "A data.frame: 6 × 46\n",
       "\\begin{tabular}{r|lllllllllllllllllllll}\n",
       "  & h1n1\\_concern & h1n1\\_knowledge & behavioral\\_antiviral\\_meds & behavioral\\_avoidance & behavioral\\_face\\_mask & behavioral\\_wash\\_hands & behavioral\\_large\\_gatherings & behavioral\\_outside\\_home & behavioral\\_touch\\_face & doctor\\_recc\\_h1n1 & ⋯ & employment\\_not\\_specified & Employed & Not.in.Labor.Force & Unemployed & MSA..Not.Principle..City & MSA..Principle.City & Non.MSA & household\\_adults & household\\_children & h1n1\\_vaccine\\\\\n",
       "  & <dbl> & <dbl> & <dbl> & <dbl> & <dbl> & <dbl> & <dbl> & <dbl> & <dbl> & <dbl> & ⋯ & <dbl> & <dbl> & <dbl> & <dbl> & <dbl> & <dbl> & <dbl> & <dbl> & <dbl> & <int>\\\\\n",
       "\\hline\n",
       "\t1 & 0.3333333 & 0.0 & 0 & 0 & 0 & 0 & 0 & 1 & 1 & 0 & ⋯ & 0 & 0 & 1 & 0 & 0 & 0 & 1 & 0.0000000 & 0 & 0\\\\\n",
       "\t2 & 1.0000000 & 1.0 & 0 & 1 & 0 & 1 & 0 & 1 & 1 & 0 & ⋯ & 0 & 1 & 0 & 0 & 1 & 0 & 0 & 0.0000000 & 0 & 0\\\\\n",
       "\t3 & 0.3333333 & 0.5 & 0 & 1 & 0 & 0 & 0 & 0 & 0 & 0 & ⋯ & 0 & 1 & 0 & 0 & 1 & 0 & 0 & 0.6666667 & 0 & 0\\\\\n",
       "\t4 & 0.3333333 & 0.5 & 0 & 1 & 0 & 1 & 1 & 0 & 0 & 0 & ⋯ & 0 & 0 & 1 & 0 & 0 & 1 & 0 & 0.0000000 & 0 & 0\\\\\n",
       "\t5 & 0.6666667 & 0.5 & 0 & 1 & 0 & 1 & 1 & 0 & 1 & 0 & ⋯ & 0 & 1 & 0 & 0 & 1 & 0 & 0 & 0.3333333 & 0 & 0\\\\\n",
       "\t6 & 1.0000000 & 0.5 & 0 & 1 & 0 & 1 & 0 & 0 & 1 & 0 & ⋯ & 0 & 1 & 0 & 0 & 0 & 1 & 0 & 0.6666667 & 1 & 0\\\\\n",
       "\\end{tabular}\n"
      ],
      "text/markdown": [
       "\n",
       "A data.frame: 6 × 46\n",
       "\n",
       "| <!--/--> | h1n1_concern &lt;dbl&gt; | h1n1_knowledge &lt;dbl&gt; | behavioral_antiviral_meds &lt;dbl&gt; | behavioral_avoidance &lt;dbl&gt; | behavioral_face_mask &lt;dbl&gt; | behavioral_wash_hands &lt;dbl&gt; | behavioral_large_gatherings &lt;dbl&gt; | behavioral_outside_home &lt;dbl&gt; | behavioral_touch_face &lt;dbl&gt; | doctor_recc_h1n1 &lt;dbl&gt; | ⋯ ⋯ | employment_not_specified &lt;dbl&gt; | Employed &lt;dbl&gt; | Not.in.Labor.Force &lt;dbl&gt; | Unemployed &lt;dbl&gt; | MSA..Not.Principle..City &lt;dbl&gt; | MSA..Principle.City &lt;dbl&gt; | Non.MSA &lt;dbl&gt; | household_adults &lt;dbl&gt; | household_children &lt;dbl&gt; | h1n1_vaccine &lt;int&gt; |\n",
       "|---|---|---|---|---|---|---|---|---|---|---|---|---|---|---|---|---|---|---|---|---|---|\n",
       "| 1 | 0.3333333 | 0.0 | 0 | 0 | 0 | 0 | 0 | 1 | 1 | 0 | ⋯ | 0 | 0 | 1 | 0 | 0 | 0 | 1 | 0.0000000 | 0 | 0 |\n",
       "| 2 | 1.0000000 | 1.0 | 0 | 1 | 0 | 1 | 0 | 1 | 1 | 0 | ⋯ | 0 | 1 | 0 | 0 | 1 | 0 | 0 | 0.0000000 | 0 | 0 |\n",
       "| 3 | 0.3333333 | 0.5 | 0 | 1 | 0 | 0 | 0 | 0 | 0 | 0 | ⋯ | 0 | 1 | 0 | 0 | 1 | 0 | 0 | 0.6666667 | 0 | 0 |\n",
       "| 4 | 0.3333333 | 0.5 | 0 | 1 | 0 | 1 | 1 | 0 | 0 | 0 | ⋯ | 0 | 0 | 1 | 0 | 0 | 1 | 0 | 0.0000000 | 0 | 0 |\n",
       "| 5 | 0.6666667 | 0.5 | 0 | 1 | 0 | 1 | 1 | 0 | 1 | 0 | ⋯ | 0 | 1 | 0 | 0 | 1 | 0 | 0 | 0.3333333 | 0 | 0 |\n",
       "| 6 | 1.0000000 | 0.5 | 0 | 1 | 0 | 1 | 0 | 0 | 1 | 0 | ⋯ | 0 | 1 | 0 | 0 | 0 | 1 | 0 | 0.6666667 | 1 | 0 |\n",
       "\n"
      ],
      "text/plain": [
       "  h1n1_concern h1n1_knowledge behavioral_antiviral_meds behavioral_avoidance\n",
       "1 0.3333333    0.0            0                         0                   \n",
       "2 1.0000000    1.0            0                         1                   \n",
       "3 0.3333333    0.5            0                         1                   \n",
       "4 0.3333333    0.5            0                         1                   \n",
       "5 0.6666667    0.5            0                         1                   \n",
       "6 1.0000000    0.5            0                         1                   \n",
       "  behavioral_face_mask behavioral_wash_hands behavioral_large_gatherings\n",
       "1 0                    0                     0                          \n",
       "2 0                    1                     0                          \n",
       "3 0                    0                     0                          \n",
       "4 0                    1                     1                          \n",
       "5 0                    1                     1                          \n",
       "6 0                    1                     0                          \n",
       "  behavioral_outside_home behavioral_touch_face doctor_recc_h1n1 ⋯\n",
       "1 1                       1                     0                ⋯\n",
       "2 1                       1                     0                ⋯\n",
       "3 0                       0                     0                ⋯\n",
       "4 0                       0                     0                ⋯\n",
       "5 0                       1                     0                ⋯\n",
       "6 0                       1                     0                ⋯\n",
       "  employment_not_specified Employed Not.in.Labor.Force Unemployed\n",
       "1 0                        0        1                  0         \n",
       "2 0                        1        0                  0         \n",
       "3 0                        1        0                  0         \n",
       "4 0                        0        1                  0         \n",
       "5 0                        1        0                  0         \n",
       "6 0                        1        0                  0         \n",
       "  MSA..Not.Principle..City MSA..Principle.City Non.MSA household_adults\n",
       "1 0                        0                   1       0.0000000       \n",
       "2 1                        0                   0       0.0000000       \n",
       "3 1                        0                   0       0.6666667       \n",
       "4 0                        1                   0       0.0000000       \n",
       "5 1                        0                   0       0.3333333       \n",
       "6 0                        1                   0       0.6666667       \n",
       "  household_children h1n1_vaccine\n",
       "1 0                  0           \n",
       "2 0                  0           \n",
       "3 0                  0           \n",
       "4 0                  0           \n",
       "5 0                  0           \n",
       "6 1                  0           "
      ]
     },
     "metadata": {},
     "output_type": "display_data"
    }
   ],
   "source": [
    "spam <- data.frame(training_set_features[2:length(training_set_features)], training_set_labels[2]) \n",
    "head(spam)"
   ]
  },
  {
   "cell_type": "code",
   "execution_count": 69,
   "metadata": {
    "vscode": {
     "languageId": "r"
    }
   },
   "outputs": [
    {
     "data": {
      "text/html": [
       "'h1n1_vaccine'"
      ],
      "text/latex": [
       "'h1n1\\_vaccine'"
      ],
      "text/markdown": [
       "'h1n1_vaccine'"
      ],
      "text/plain": [
       "[1] \"h1n1_vaccine\""
      ]
     },
     "metadata": {},
     "output_type": "display_data"
    },
    {
     "data": {
      "text/html": [
       "'seasonal_vaccine'"
      ],
      "text/latex": [
       "'seasonal\\_vaccine'"
      ],
      "text/markdown": [
       "'seasonal_vaccine'"
      ],
      "text/plain": [
       "[1] \"seasonal_vaccine\""
      ]
     },
     "metadata": {},
     "output_type": "display_data"
    },
    {
     "data": {
      "text/html": [
       "<table class=\"dataframe\">\n",
       "<caption>A data.frame: 6 × 3</caption>\n",
       "<thead>\n",
       "\t<tr><th></th><th scope=col>respondent_id</th><th scope=col>h1n1_vaccine</th><th scope=col>seasonal_vaccine</th></tr>\n",
       "\t<tr><th></th><th scope=col>&lt;int&gt;</th><th scope=col>&lt;dbl&gt;</th><th scope=col>&lt;dbl&gt;</th></tr>\n",
       "</thead>\n",
       "<tbody>\n",
       "\t<tr><th scope=row>1</th><td>26707</td><td>0.1319720</td><td>0.3832200</td></tr>\n",
       "\t<tr><th scope=row>2</th><td>26708</td><td>0.1319720</td><td>0.2210132</td></tr>\n",
       "\t<tr><th scope=row>3</th><td>26709</td><td>0.1319720</td><td>0.7826235</td></tr>\n",
       "\t<tr><th scope=row>4</th><td>26710</td><td>0.4119874</td><td>0.7826235</td></tr>\n",
       "\t<tr><th scope=row>5</th><td>26711</td><td>0.1319720</td><td>0.7424893</td></tr>\n",
       "\t<tr><th scope=row>6</th><td>26712</td><td>0.1319720</td><td>0.7424893</td></tr>\n",
       "</tbody>\n",
       "</table>\n"
      ],
      "text/latex": [
       "A data.frame: 6 × 3\n",
       "\\begin{tabular}{r|lll}\n",
       "  & respondent\\_id & h1n1\\_vaccine & seasonal\\_vaccine\\\\\n",
       "  & <int> & <dbl> & <dbl>\\\\\n",
       "\\hline\n",
       "\t1 & 26707 & 0.1319720 & 0.3832200\\\\\n",
       "\t2 & 26708 & 0.1319720 & 0.2210132\\\\\n",
       "\t3 & 26709 & 0.1319720 & 0.7826235\\\\\n",
       "\t4 & 26710 & 0.4119874 & 0.7826235\\\\\n",
       "\t5 & 26711 & 0.1319720 & 0.7424893\\\\\n",
       "\t6 & 26712 & 0.1319720 & 0.7424893\\\\\n",
       "\\end{tabular}\n"
      ],
      "text/markdown": [
       "\n",
       "A data.frame: 6 × 3\n",
       "\n",
       "| <!--/--> | respondent_id &lt;int&gt; | h1n1_vaccine &lt;dbl&gt; | seasonal_vaccine &lt;dbl&gt; |\n",
       "|---|---|---|---|\n",
       "| 1 | 26707 | 0.1319720 | 0.3832200 |\n",
       "| 2 | 26708 | 0.1319720 | 0.2210132 |\n",
       "| 3 | 26709 | 0.1319720 | 0.7826235 |\n",
       "| 4 | 26710 | 0.4119874 | 0.7826235 |\n",
       "| 5 | 26711 | 0.1319720 | 0.7424893 |\n",
       "| 6 | 26712 | 0.1319720 | 0.7424893 |\n",
       "\n"
      ],
      "text/plain": [
       "  respondent_id h1n1_vaccine seasonal_vaccine\n",
       "1 26707         0.1319720    0.3832200       \n",
       "2 26708         0.1319720    0.2210132       \n",
       "3 26709         0.1319720    0.7826235       \n",
       "4 26710         0.4119874    0.7826235       \n",
       "5 26711         0.1319720    0.7424893       \n",
       "6 26712         0.1319720    0.7424893       "
      ]
     },
     "metadata": {},
     "output_type": "display_data"
    }
   ],
   "source": [
    "library(rpart)\n",
    "spam <- data.frame(training_set_features[2:length(training_set_features)], training_set_labels[2])\n",
    "spam_idx <- sample(1:nrow(spam))\n",
    "half_split <- floor(nrow(spam)/2)\n",
    "target_variable <- ncol(spam)\n",
    "type <- names(spam)[length(spam)]\n",
    "type\n",
    "\n",
    "train_data <- spam[spam_idx[1:half_split],]\n",
    "test_data <- spam[spam_idx[(half_split+1):nrow(spam)],]\n",
    "\n",
    "model <- rpart(form=h1n1_vaccine ~ ., method=\"class\", data=train_data)\n",
    "\n",
    "Y_pred <- predict(model,test_set_features)\n",
    "submission_format[2] <- Y_pred[,2]\n",
    "\n",
    "spam <- data.frame(training_set_features[2:length(training_set_features)], training_set_labels[3])\n",
    "spam_idx <- sample(1:nrow(spam))\n",
    "half_split <- floor(nrow(spam)/2)\n",
    "target_variable <- ncol(spam)\n",
    "type <- names(spam)[length(spam)]\n",
    "type\n",
    "\n",
    "train_data <- spam[spam_idx[1:half_split],]\n",
    "test_data <- spam[spam_idx[(half_split+1):nrow(spam)],]\n",
    "\n",
    "model <- rpart(form=seasonal_vaccine ~ ., method=\"class\", data=train_data)\n",
    "Y_pred <- predict(model,test_set_features)\n",
    "submission_format[3] <- Y_pred[,2]\n",
    "head(submission_format)\n",
    "\n",
    "write.csv(submission_format,\"sample_data/answers.csv\", row.names = FALSE, quote=FALSE)\n"
   ]
  },
  {
   "cell_type": "code",
   "execution_count": 70,
   "metadata": {
    "vscode": {
     "languageId": "r"
    }
   },
   "outputs": [
    {
     "name": "stdout",
     "output_type": "stream",
     "text": [
      "\n",
      "Classification tree:\n",
      "rpart(formula = seasonal_vaccine ~ ., data = train_data, method = \"class\")\n",
      "\n",
      "Variables actually used in tree construction:\n",
      "[1] age_group                   doctor_recc_seasonal       \n",
      "[3] health_worker               opinion_seas_risk          \n",
      "[5] opinion_seas_vacc_effective\n",
      "\n",
      "Root node error: 6200/13353 = 0.46432\n",
      "\n",
      "n= 13353 \n",
      "\n",
      "        CP nsplit rel error  xerror      xstd\n",
      "1 0.319194      0   1.00000 1.00000 0.0092952\n",
      "2 0.032419      1   0.68081 0.68452 0.0086784\n",
      "3 0.011129      3   0.61597 0.62097 0.0084427\n",
      "4 0.010000      6   0.57548 0.59419 0.0083305\n",
      "Call:\n",
      "rpart(formula = seasonal_vaccine ~ ., data = train_data, method = \"class\")\n",
      "  n= 13353 \n",
      "\n",
      "          CP nsplit rel error    xerror        xstd\n",
      "1 0.31919355      0 1.0000000 1.0000000 0.009295202\n",
      "2 0.03241935      1 0.6808065 0.6845161 0.008678445\n",
      "3 0.01112903      3 0.6159677 0.6209677 0.008442666\n",
      "4 0.01000000      6 0.5754839 0.5941935 0.008330469\n",
      "\n",
      "Variable importance\n",
      "          opinion_seas_risk opinion_seas_vacc_effective \n",
      "                         29                          17 \n",
      "          opinion_h1n1_risk                   age_group \n",
      "                         13                           8 \n",
      "opinion_h1n1_sick_from_vacc                h1n1_concern \n",
      "                          5                           4 \n",
      "opinion_seas_sick_from_vacc          household_children \n",
      "                          4                           4 \n",
      "         Not.in.Labor.Force                    Employed \n",
      "                          3                           3 \n",
      "       doctor_recc_seasonal opinion_h1n1_vacc_effective \n",
      "                          2                           2 \n",
      "              health_worker            household_adults \n",
      "                          2                           1 \n",
      "           doctor_recc_h1n1              income_poverty \n",
      "                          1                           1 \n",
      "\n",
      "Node number 1: 13353 observations,    complexity param=0.3191935\n",
      "  predicted class=0  expected loss=0.4643151  P(node) =1\n",
      "    class counts:  7153  6200\n",
      "   probabilities: 0.536 0.464 \n",
      "  left son=2 (7534 obs) right son=3 (5819 obs)\n",
      "  Primary splits:\n",
      "      opinion_seas_risk           < 0.375     to the left,  improve=873.0360, (0 missing)\n",
      "      opinion_seas_vacc_effective < 0.875     to the left,  improve=856.2353, (0 missing)\n",
      "      doctor_recc_seasonal        < 0.5       to the left,  improve=628.1331, (0 missing)\n",
      "      age_group                   < 0.625     to the left,  improve=435.5035, (0 missing)\n",
      "      opinion_h1n1_risk           < 0.625     to the left,  improve=272.5474, (0 missing)\n",
      "  Surrogate splits:\n",
      "      opinion_h1n1_risk           < 0.375     to the left,  agree=0.760, adj=0.449, (0 split)\n",
      "      opinion_seas_vacc_effective < 0.875     to the left,  agree=0.668, adj=0.238, (0 split)\n",
      "      opinion_h1n1_sick_from_vacc < 0.375     to the left,  agree=0.636, adj=0.164, (0 split)\n",
      "      h1n1_concern                < 0.8333333 to the left,  agree=0.624, adj=0.138, (0 split)\n",
      "      opinion_seas_sick_from_vacc < 0.375     to the left,  agree=0.623, adj=0.135, (0 split)\n",
      "\n",
      "Node number 2: 7534 observations,    complexity param=0.03241935\n",
      "  predicted class=0  expected loss=0.3054154  P(node) =0.5642178\n",
      "    class counts:  5233  2301\n",
      "   probabilities: 0.695 0.305 \n",
      "  left son=4 (5606 obs) right son=5 (1928 obs)\n",
      "  Primary splits:\n",
      "      opinion_seas_vacc_effective < 0.875     to the left,  improve=312.11150, (0 missing)\n",
      "      doctor_recc_seasonal        < 0.5       to the left,  improve=276.41110, (0 missing)\n",
      "      age_group                   < 0.875     to the left,  improve=258.00980, (0 missing)\n",
      "      Not.in.Labor.Force          < 0.5       to the left,  improve= 93.13502, (0 missing)\n",
      "      opinion_seas_risk           < 0.125     to the left,  improve= 86.56222, (0 missing)\n",
      "  Surrogate splits:\n",
      "      opinion_h1n1_vacc_effective < 0.875     to the left,  agree=0.785, adj=0.161, (0 split)\n",
      "\n",
      "Node number 3: 5819 observations,    complexity param=0.01112903\n",
      "  predicted class=1  expected loss=0.3299536  P(node) =0.4357822\n",
      "    class counts:  1920  3899\n",
      "   probabilities: 0.330 0.670 \n",
      "  left son=6 (2884 obs) right son=7 (2935 obs)\n",
      "  Primary splits:\n",
      "      age_group                   < 0.625     to the left,  improve=150.10370, (0 missing)\n",
      "      opinion_seas_vacc_effective < 0.875     to the left,  improve=142.49080, (0 missing)\n",
      "      doctor_recc_seasonal        < 0.5       to the left,  improve=119.91600, (0 missing)\n",
      "      Own                         < 0.5       to the left,  improve= 99.49719, (0 missing)\n",
      "      opinion_seas_sick_from_vacc < 0.125     to the right, improve= 94.12861, (0 missing)\n",
      "  Surrogate splits:\n",
      "      household_children < 0.1666667 to the right, agree=0.744, adj=0.483, (0 split)\n",
      "      Not.in.Labor.Force < 0.5       to the left,  agree=0.697, adj=0.388, (0 split)\n",
      "      Employed           < 0.5       to the right, agree=0.662, adj=0.318, (0 split)\n",
      "      income_poverty     < 0.5       to the right, agree=0.591, adj=0.175, (0 split)\n",
      "      household_adults   < 0.1666667 to the right, agree=0.587, adj=0.167, (0 split)\n",
      "\n",
      "Node number 4: 5606 observations\n",
      "  predicted class=0  expected loss=0.2210132  P(node) =0.4198307\n",
      "    class counts:  4367  1239\n",
      "   probabilities: 0.779 0.221 \n",
      "\n",
      "Node number 5: 1928 observations,    complexity param=0.03241935\n",
      "  predicted class=1  expected loss=0.4491701  P(node) =0.144387\n",
      "    class counts:   866  1062\n",
      "   probabilities: 0.449 0.551 \n",
      "  left son=10 (882 obs) right son=11 (1046 obs)\n",
      "  Primary splits:\n",
      "      age_group            < 0.625     to the left,  improve=91.34260, (0 missing)\n",
      "      doctor_recc_seasonal < 0.5       to the left,  improve=77.97710, (0 missing)\n",
      "      Not.in.Labor.Force   < 0.5       to the left,  improve=31.01714, (0 missing)\n",
      "      opinion_seas_risk    < 0.125     to the left,  improve=24.12148, (0 missing)\n",
      "      household_children   < 0.1666667 to the right, improve=19.42653, (0 missing)\n",
      "  Surrogate splits:\n",
      "      Not.in.Labor.Force < 0.5       to the left,  agree=0.732, adj=0.414, (0 split)\n",
      "      household_children < 0.1666667 to the right, agree=0.727, adj=0.404, (0 split)\n",
      "      Employed           < 0.5       to the right, agree=0.691, adj=0.324, (0 split)\n",
      "      Own                < 0.5       to the left,  agree=0.606, adj=0.138, (0 split)\n",
      "      household_adults   < 0.5       to the right, agree=0.603, adj=0.133, (0 split)\n",
      "\n",
      "Node number 6: 2884 observations,    complexity param=0.01112903\n",
      "  predicted class=1  expected loss=0.4445215  P(node) =0.2159814\n",
      "    class counts:  1282  1602\n",
      "   probabilities: 0.445 0.555 \n",
      "  left son=12 (1654 obs) right son=13 (1230 obs)\n",
      "  Primary splits:\n",
      "      doctor_recc_seasonal        < 0.5       to the left,  improve=73.27375, (0 missing)\n",
      "      education                   < 0.625     to the left,  improve=72.22850, (0 missing)\n",
      "      h1n1_knowledge              < 0.75      to the left,  improve=69.63155, (0 missing)\n",
      "      opinion_seas_vacc_effective < 0.875     to the left,  improve=68.68254, (0 missing)\n",
      "      health_worker               < 0.5       to the left,  improve=59.05959, (0 missing)\n",
      "  Surrogate splits:\n",
      "      doctor_recc_h1n1      < 0.5       to the left,  agree=0.787, adj=0.501, (0 split)\n",
      "      chronic_med_condition < 0.5       to the left,  agree=0.596, adj=0.054, (0 split)\n",
      "      health_worker         < 0.5       to the left,  agree=0.584, adj=0.024, (0 split)\n",
      "      behavioral_face_mask  < 0.5       to the left,  agree=0.583, adj=0.022, (0 split)\n",
      "      child_under_6_months  < 0.5       to the left,  agree=0.581, adj=0.019, (0 split)\n",
      "\n",
      "Node number 7: 2935 observations\n",
      "  predicted class=1  expected loss=0.2173765  P(node) =0.2198008\n",
      "    class counts:   638  2297\n",
      "   probabilities: 0.217 0.783 \n",
      "\n",
      "Node number 10: 882 observations\n",
      "  predicted class=0  expected loss=0.38322  P(node) =0.06605257\n",
      "    class counts:   544   338\n",
      "   probabilities: 0.617 0.383 \n",
      "\n",
      "Node number 11: 1046 observations\n",
      "  predicted class=1  expected loss=0.3078394  P(node) =0.07833446\n",
      "    class counts:   322   724\n",
      "   probabilities: 0.308 0.692 \n",
      "\n",
      "Node number 12: 1654 observations,    complexity param=0.01112903\n",
      "  predicted class=0  expected loss=0.458283  P(node) =0.1238673\n",
      "    class counts:   896   758\n",
      "   probabilities: 0.542 0.458 \n",
      "  left son=24 (1421 obs) right son=25 (233 obs)\n",
      "  Primary splits:\n",
      "      health_worker               < 0.5       to the left,  improve=43.81217, (0 missing)\n",
      "      education                   < 0.625     to the left,  improve=42.48139, (0 missing)\n",
      "      h1n1_knowledge              < 0.75      to the left,  improve=41.44394, (0 missing)\n",
      "      Own                         < 0.5       to the left,  improve=37.80474, (0 missing)\n",
      "      opinion_seas_vacc_effective < 0.875     to the left,  improve=31.86968, (0 missing)\n",
      "\n",
      "Node number 13: 1230 observations\n",
      "  predicted class=1  expected loss=0.3138211  P(node) =0.09211413\n",
      "    class counts:   386   844\n",
      "   probabilities: 0.314 0.686 \n",
      "\n",
      "Node number 24: 1421 observations\n",
      "  predicted class=0  expected loss=0.4116819  P(node) =0.106418\n",
      "    class counts:   836   585\n",
      "   probabilities: 0.588 0.412 \n",
      "\n",
      "Node number 25: 233 observations\n",
      "  predicted class=1  expected loss=0.2575107  P(node) =0.01744926\n",
      "    class counts:    60   173\n",
      "   probabilities: 0.258 0.742 \n",
      "\n"
     ]
    },
    {
     "data": {
      "image/png": "[encoded data removed]",
      "text/plain": [
       "plot without title"
      ]
     },
     "metadata": {
      "image/png": {
       "height": 420,
       "width": 420
      }
     },
     "output_type": "display_data"
    }
   ],
   "source": [
    "printcp(model) # display the results\n",
    "plotcp(model) # visualize cross-validation results\n",
    "summary(model) # detailed summary of splits"
   ]
  },
  {
   "cell_type": "code",
   "execution_count": 71,
   "metadata": {
    "vscode": {
     "languageId": "r"
    }
   },
   "outputs": [
    {
     "data": {
      "image/png": "[encoded data removed]",
      "text/plain": [
       "Plot with title “Classification Tree - Rpart”"
      ]
     },
     "metadata": {
      "image/png": {
       "height": 420,
       "width": 420
      }
     },
     "output_type": "display_data"
    }
   ],
   "source": [
    "# plot tree\n",
    "plot(model, uniform=TRUE,\n",
    "   main=\"Classification Tree - Rpart\")\n",
    "text(model, use.n=TRUE, all=TRUE, cex=.8)"
   ]
  },
  {
   "cell_type": "code",
   "execution_count": 72,
   "metadata": {
    "vscode": {
     "languageId": "r"
    }
   },
   "outputs": [
    {
     "data": {
      "text/html": [
       "<table class=\"dataframe\">\n",
       "<caption>A data.frame: 20 × 1</caption>\n",
       "<thead>\n",
       "\t<tr><th></th><th scope=col>model.variable.importance</th></tr>\n",
       "\t<tr><th></th><th scope=col>&lt;dbl&gt;</th></tr>\n",
       "</thead>\n",
       "<tbody>\n",
       "\t<tr><th scope=row>opinion_seas_risk</th><td>873.036050</td></tr>\n",
       "\t<tr><th scope=row>opinion_seas_vacc_effective</th><td>520.205811</td></tr>\n",
       "\t<tr><th scope=row>opinion_h1n1_risk</th><td>391.883513</td></tr>\n",
       "\t<tr><th scope=row>age_group</th><td>241.446297</td></tr>\n",
       "\t<tr><th scope=row>opinion_h1n1_sick_from_vacc</th><td>143.580598</td></tr>\n",
       "\t<tr><th scope=row>h1n1_concern</th><td>120.625706</td></tr>\n",
       "\t<tr><th scope=row>opinion_seas_sick_from_vacc</th><td>117.475035</td></tr>\n",
       "\t<tr><th scope=row>household_children</th><td>109.317938</td></tr>\n",
       "\t<tr><th scope=row>Not.in.Labor.Force</th><td> 96.093207</td></tr>\n",
       "\t<tr><th scope=row>Employed</th><td> 77.346176</td></tr>\n",
       "\t<tr><th scope=row>doctor_recc_seasonal</th><td> 73.273751</td></tr>\n",
       "\t<tr><th scope=row>opinion_h1n1_vacc_effective</th><td> 50.183897</td></tr>\n",
       "\t<tr><th scope=row>health_worker</th><td> 45.539767</td></tr>\n",
       "\t<tr><th scope=row>household_adults</th><td> 37.203554</td></tr>\n",
       "\t<tr><th scope=row>doctor_recc_h1n1</th><td> 36.696448</td></tr>\n",
       "\t<tr><th scope=row>income_poverty</th><td> 26.283761</td></tr>\n",
       "\t<tr><th scope=row>Own</th><td> 12.634691</td></tr>\n",
       "\t<tr><th scope=row>chronic_med_condition</th><td>  3.931762</td></tr>\n",
       "\t<tr><th scope=row>behavioral_face_mask</th><td>  1.608448</td></tr>\n",
       "\t<tr><th scope=row>child_under_6_months</th><td>  1.370160</td></tr>\n",
       "</tbody>\n",
       "</table>\n"
      ],
      "text/latex": [
       "A data.frame: 20 × 1\n",
       "\\begin{tabular}{r|l}\n",
       "  & model.variable.importance\\\\\n",
       "  & <dbl>\\\\\n",
       "\\hline\n",
       "\topinion\\_seas\\_risk & 873.036050\\\\\n",
       "\topinion\\_seas\\_vacc\\_effective & 520.205811\\\\\n",
       "\topinion\\_h1n1\\_risk & 391.883513\\\\\n",
       "\tage\\_group & 241.446297\\\\\n",
       "\topinion\\_h1n1\\_sick\\_from\\_vacc & 143.580598\\\\\n",
       "\th1n1\\_concern & 120.625706\\\\\n",
       "\topinion\\_seas\\_sick\\_from\\_vacc & 117.475035\\\\\n",
       "\thousehold\\_children & 109.317938\\\\\n",
       "\tNot.in.Labor.Force &  96.093207\\\\\n",
       "\tEmployed &  77.346176\\\\\n",
       "\tdoctor\\_recc\\_seasonal &  73.273751\\\\\n",
       "\topinion\\_h1n1\\_vacc\\_effective &  50.183897\\\\\n",
       "\thealth\\_worker &  45.539767\\\\\n",
       "\thousehold\\_adults &  37.203554\\\\\n",
       "\tdoctor\\_recc\\_h1n1 &  36.696448\\\\\n",
       "\tincome\\_poverty &  26.283761\\\\\n",
       "\tOwn &  12.634691\\\\\n",
       "\tchronic\\_med\\_condition &   3.931762\\\\\n",
       "\tbehavioral\\_face\\_mask &   1.608448\\\\\n",
       "\tchild\\_under\\_6\\_months &   1.370160\\\\\n",
       "\\end{tabular}\n"
      ],
      "text/markdown": [
       "\n",
       "A data.frame: 20 × 1\n",
       "\n",
       "| <!--/--> | model.variable.importance &lt;dbl&gt; |\n",
       "|---|---|\n",
       "| opinion_seas_risk | 873.036050 |\n",
       "| opinion_seas_vacc_effective | 520.205811 |\n",
       "| opinion_h1n1_risk | 391.883513 |\n",
       "| age_group | 241.446297 |\n",
       "| opinion_h1n1_sick_from_vacc | 143.580598 |\n",
       "| h1n1_concern | 120.625706 |\n",
       "| opinion_seas_sick_from_vacc | 117.475035 |\n",
       "| household_children | 109.317938 |\n",
       "| Not.in.Labor.Force |  96.093207 |\n",
       "| Employed |  77.346176 |\n",
       "| doctor_recc_seasonal |  73.273751 |\n",
       "| opinion_h1n1_vacc_effective |  50.183897 |\n",
       "| health_worker |  45.539767 |\n",
       "| household_adults |  37.203554 |\n",
       "| doctor_recc_h1n1 |  36.696448 |\n",
       "| income_poverty |  26.283761 |\n",
       "| Own |  12.634691 |\n",
       "| chronic_med_condition |   3.931762 |\n",
       "| behavioral_face_mask |   1.608448 |\n",
       "| child_under_6_months |   1.370160 |\n",
       "\n"
      ],
      "text/plain": [
       "                            model.variable.importance\n",
       "opinion_seas_risk           873.036050               \n",
       "opinion_seas_vacc_effective 520.205811               \n",
       "opinion_h1n1_risk           391.883513               \n",
       "age_group                   241.446297               \n",
       "opinion_h1n1_sick_from_vacc 143.580598               \n",
       "h1n1_concern                120.625706               \n",
       "opinion_seas_sick_from_vacc 117.475035               \n",
       "household_children          109.317938               \n",
       "Not.in.Labor.Force           96.093207               \n",
       "Employed                     77.346176               \n",
       "doctor_recc_seasonal         73.273751               \n",
       "opinion_h1n1_vacc_effective  50.183897               \n",
       "health_worker                45.539767               \n",
       "household_adults             37.203554               \n",
       "doctor_recc_h1n1             36.696448               \n",
       "income_poverty               26.283761               \n",
       "Own                          12.634691               \n",
       "chronic_med_condition         3.931762               \n",
       "behavioral_face_mask          1.608448               \n",
       "child_under_6_months          1.370160               "
      ]
     },
     "metadata": {},
     "output_type": "display_data"
    }
   ],
   "source": [
    "data.frame(model$variable.importance)"
   ]
  },
  {
   "cell_type": "markdown",
   "metadata": {},
   "source": [
    "\n",
    "## Model 3\n"
   ]
  },
  {
   "cell_type": "code",
   "execution_count": 75,
   "metadata": {
    "vscode": {
     "languageId": "r"
    }
   },
   "outputs": [
    {
     "name": "stderr",
     "output_type": "stream",
     "text": [
      "Installing package into ‘/home/seb/R/x86_64-pc-linux-gnu-library/4.1’\n",
      "(as ‘lib’ is unspecified)\n",
      "\n",
      "randomForest 4.7-1\n",
      "\n",
      "Type rfNews() to see new features/changes/bug fixes.\n",
      "\n"
     ]
    },
    {
     "data": {
      "image/png": "[encoded data removed]",
      "text/plain": [
       "Plot with title “Number of trees influence”"
      ]
     },
     "metadata": {
      "image/png": {
       "height": 420,
       "width": 420
      }
     },
     "output_type": "display_data"
    }
   ],
   "source": [
    "library(\"randomForest\")\n",
    "n_trees <- 20\n",
    "accuracy_vec <- array(0,n_trees)\n",
    "\n",
    "spam_idx <- sample(1:nrow(spam))\n",
    "half_split <- floor(nrow(spam)/2)\n",
    "target_variable <- ncol(spam)\n",
    "\n",
    "for (i in 1:n_trees){ #print(i)\n",
    "    #3.1 Take the first half of the dataset as a training data set\n",
    "    train_data <- spam[spam_idx[1:half_split],]\n",
    "\n",
    "    #3.2 Take the second half of the dataset as a hold out or test data set\n",
    "    test_data <- spam[spam_idx[(half_split+1):nrow(spam)],]\n",
    "    \n",
    "    model <- randomForest(x=train_data[,-c(target_variable)],\n",
    "                          y=as.factor(train_data[,c(target_variable)]),\n",
    "                          xtest=test_data[,-c(target_variable)],\n",
    "                          ytest=as.factor(test_data[,c(target_variable)]),\n",
    "                          ntree=i)\n",
    "    \n",
    "    accuracy_vec[i] = (model$test$confusion[1,1]+model$test$confusion[2,2])/sum(model$test$confusion)\n",
    "    }\n",
    "\n",
    "plot(accuracy_vec,main = \"Number of trees influence\",xlab = \"Nbr of trees\",ylab = \"Classification rate\")"
   ]
  },
  {
   "cell_type": "markdown",
   "metadata": {},
   "source": [
    "\n",
    "#### Example of simple equation\n",
    "\\begin{equation}\n",
    "e = mc^2\n",
    "\\end{equation}\n",
    "\n",
    "#### Example of matrix equation - Cross product formula:\n",
    "\n",
    "\\begin{equation*}\n",
    "\\mathbf{V}_1 \\times \\mathbf{V}_2 =  \n",
    "\\begin{vmatrix}\n",
    "\\mathbf{i} & \\mathbf{j} & \\mathbf{k} \\\\\n",
    "\\frac{\\partial X}{\\partial u} &  \\frac{\\partial Y}{\\partial u} & 0 \\\\\n",
    "\\frac{\\partial X}{\\partial v} &  \\frac{\\partial Y}{\\partial v} & 0\n",
    "\\end{vmatrix}\n",
    "\\end{equation*}\n",
    "\n",
    "#### Example of multiline equation - The Lorenz Equations:\n",
    "\n",
    "\\begin{align}\n",
    "\\dot{x} & = \\sigma(y-x) \\\\\n",
    "\\dot{y} & = \\rho x - y - xz \\\\\n",
    "\\dot{z} & = -\\beta z + xy\n",
    "\\end{align}\n",
    "\n",
    "#### Example of Markdown Table:\n",
    "\n",
    "| This | is   |\n",
    "|------|------|\n",
    "|   a  | table|\n"
   ]
  },
  {
   "cell_type": "markdown",
   "metadata": {
    "id": "9j5b3jTIkyu7"
   },
   "source": [
    "# Alternative models\n",
    "\n",
    "\n",
    "\n"
   ]
  },
  {
   "cell_type": "markdown",
   "metadata": {
    "id": "sz3LmTKkkyu8"
   },
   "source": [
    "# Conclusions"
   ]
  }
 ],
 "metadata": {
  "colab": {
   "collapsed_sections": [],
   "name": "Program.ipynb",
   "provenance": []
  },
  "kernelspec": {
   "display_name": "R",
   "language": "R",
   "name": "ir"
  },
  "language_info": {
   "codemirror_mode": "r",
   "file_extension": ".r",
   "mimetype": "text/x-r-source",
   "name": "R",
   "pygments_lexer": "r",
   "version": "4.1.2"
  }
 },
 "nbformat": 4,
 "nbformat_minor": 1
}
